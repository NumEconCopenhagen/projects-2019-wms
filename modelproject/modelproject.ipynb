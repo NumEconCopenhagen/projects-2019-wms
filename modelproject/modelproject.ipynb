{
 "cells": [
  {
   "cell_type": "markdown",
   "metadata": {},
   "source": [
    "**From the instructions**\n",
    "\n",
    "Vision: Programming is more than writing code. The ultimate goal of the projects in this course\n",
    "is that you learn to formulate a programming problem of your own choice, and find your own way\n",
    "to solve it, and present the results. The bullets below are minimum requirements, but otherwise it is\n",
    "very much up to you, what you will like to do with your project. I hope to see some creative ideas!\n",
    "\n",
    "• Objectives: In your model analysis project, you should show that you can:\n",
    "1. Apply model analysis methods (e.g. scipy.optimize, scipy.linalg, sympy)\n",
    "2. Structure a code project\n",
    "3. Document code\n",
    "4. Present results in text form and in figures\n",
    "\n",
    "• Content: In your model analysis project, you should at a minimum:\n",
    "1. Describe an algorithm on how to solve a simple economic model (most likely taken from a textbook)\n",
    "2. Solve (and perhaps simulate) a simple economic model\n",
    "3. Visualize results across e.g. parametrizations\n",
    "4. Analyze one or more extensions of the baseline model\n",
    "\n",
    "• Structure: Your data analysis project should consist of:\n",
    "1. A README.md with a short introduction to your project\n",
    "2. A single self-contained notebook (.ipynb) presenting the analysis\n",
    "3. (Optionally) Fully documented Python files (.py)\n",
    "• Size: Quality before quantity.\n",
    "• Hand-in: On GitHub by uploading it to the folder:\n",
    "github.com/projects-2019-YOURGROUPNAME/modelproject/\n",
    "• Deadline: 10th of May 23.59\n",
    "• Supervision: The exercises class in the weeks starting 29th of April and 6th of May will\n",
    "give you time to work on your model project and receive supervision from the lecturer and the\n",
    "teaching assistants. Also, remember the online forum.\n",
    "• Peer feedback: After handing in, you will be asked to give peer feedback on the projects of\n",
    "two other groups.\n",
    "• Exam: Your model analysis project will be a part of your exam portfolio. You are free to\n",
    "incorporate the peer feedback and other comments before handing in the final version."
   ]
  },
  {
   "cell_type": "markdown",
   "metadata": {},
   "source": [
    "#### Overview of our project\n",
    "\n",
    "**Overall subject**: Auction theory\n",
    "\n",
    "Specifically, we want to numerically solve different of the standard auction models that we can solve analytically - e.g. first-price auctions with symmetric bidders with uniformly distributed valuations. We want to this, so we can check the numerical solution vs. analytical solution.\n",
    "\n",
    "We might also try to investigate if we can solve some of the models, which become very cumbersome analytically - e.g. for non-uniform distribtions.\n",
    "\n",
    "We could start off in the universe off (where we have analytical solutions) - e.g.:\n",
    "\n",
    "1. 1st-price auctions with $N$ symmetric bidders with private valuations from $U[a,b]$\n",
    "1. 2nd-price auctions with $N$ symmetric bidders with private valuations from $U[a,b]$\n",
    "1. kth-price auctions with $N$ symmetric bidders with private valuations from $U[a,b]$\n",
    "\n",
    "Ideally, we should be able to show:\n",
    "\n",
    "1. Bidding strategies for individual bidders for given parameterizations and formats\n",
    "1. Expected revenue for the auctioneer for given parameterizations and formats\n",
    "1. Actual revenue (thus, also bids) for simulations"
   ]
  },
  {
   "cell_type": "markdown",
   "metadata": {},
   "source": [
    "#### Imports"
   ]
  },
  {
   "cell_type": "code",
   "execution_count": 3,
   "metadata": {},
   "outputs": [],
   "source": [
    "#Imports\n",
    "import pandas as pd\n",
    "import numpy as np\n",
    "import random\n",
    "import time\n",
    "from tqdm import tqdm\n",
    "import matplotlib.pyplot as plt\n",
    "import functions\n",
    "\n",
    "%load_ext autoreload\n",
    "%autoreload 2"
   ]
  },
  {
   "cell_type": "markdown",
   "metadata": {},
   "source": [
    "##### Draw relevant parameters"
   ]
  },
  {
   "cell_type": "code",
   "execution_count": 4,
   "metadata": {},
   "outputs": [],
   "source": [
    "n = 10 # Number of bidders in the auction\n",
    "a = 0 # Lowest possible valuation in the auction\n",
    "b = 1 # highest possible valuation in the auction\n",
    "\n",
    "all_valuations = np.random.uniform(a,b, n) # Draw all the bidders valuations from a uniform distribution\n",
    "valuation = all_valuations[1] # Your valuation\n",
    "max_valuation = max(all_valuations) # The highest valuations drawn in the auction\n",
    "sellers_valuation = b # Sellers valuation of the good sold (this is set to the highest possible)"
   ]
  },
  {
   "cell_type": "markdown",
   "metadata": {},
   "source": [
    "##### Formulas used below"
   ]
  },
  {
   "cell_type": "markdown",
   "metadata": {},
   "source": [
    "The valuation of the $k^{th}$ highest value out of N draws from the uniform distribution: \n",
    "\\begin{equation}\n",
    "a + (\\frac{N+1-k}{N+1})(b-a)\n",
    "\\end{equation}"
   ]
  },
  {
   "cell_type": "markdown",
   "metadata": {},
   "source": [
    "### 1st price auction (highest bid wins and pays the highest bid)"
   ]
  },
  {
   "cell_type": "markdown",
   "metadata": {},
   "source": [
    "##### Optimal bidding strategy"
   ]
  },
  {
   "cell_type": "markdown",
   "metadata": {},
   "source": [
    "Optimal to shade your bid. \n",
    "Bid your expectation of the second highest value conditional on winning (Expected highest value below x for N-1 other bidders)\n",
    "\n",
    "\n",
    "\n",
    "\\begin{equation}\n",
    "\\beta^{I^*} = E(Y_1|Y_1 < x) = a + \\frac{N-1}{N}(x - a)\n",
    "\\end{equation}"
   ]
  },
  {
   "cell_type": "code",
   "execution_count": 5,
   "metadata": {},
   "outputs": [
    {
     "data": {
      "text/plain": [
       "0.255"
      ]
     },
     "execution_count": 5,
     "metadata": {},
     "output_type": "execute_result"
    }
   ],
   "source": [
    "optimal_bid = functions.opt_bid_k_price(k = 1, a = a, n = n, valuation = valuation) # you bid you expectation of the second highest bid contitional on winning\n",
    "optimal_bid"
   ]
  },
  {
   "cell_type": "markdown",
   "metadata": {},
   "source": [
    "##### Bidders Payoff"
   ]
  },
  {
   "cell_type": "code",
   "execution_count": null,
   "metadata": {},
   "outputs": [],
   "source": []
  },
  {
   "cell_type": "code",
   "execution_count": 6,
   "metadata": {},
   "outputs": [
    {
     "data": {
      "text/plain": [
       "0"
      ]
     },
     "execution_count": 6,
     "metadata": {},
     "output_type": "execute_result"
    }
   ],
   "source": [
    "payoff = functions.bidders_payoff(optimal_bid = optimal_bid, \n",
    "                        highest_bid = functions.k_highest_bid(k = 1, all_valuations = all_valuations),\n",
    "                        k_highest_bid = functions.k_highest_bid(k = 1, all_valuations = all_valuations))\n",
    "\n",
    "payoff"
   ]
  },
  {
   "cell_type": "markdown",
   "metadata": {},
   "source": [
    "Only if the bidders has the highest valuation and thereby places the highest bid he/she will win the auction and thereby get a positive payoff"
   ]
  },
  {
   "cell_type": "markdown",
   "metadata": {},
   "source": [
    "##### Expected Revenue"
   ]
  },
  {
   "cell_type": "markdown",
   "metadata": {},
   "source": [
    "The expected (ex ante) payoff from the auction depend on the number of bidders and the initial distribution of valuations by the bidders in the auction\n",
    "\\begin{equation}\n",
    "E(R) = a + (\\frac{N-1}{N+1})(b-a)\n",
    "\\end{equation}"
   ]
  },
  {
   "cell_type": "code",
   "execution_count": 7,
   "metadata": {},
   "outputs": [
    {
     "data": {
      "text/plain": [
       "0.818"
      ]
     },
     "execution_count": 7,
     "metadata": {},
     "output_type": "execute_result"
    }
   ],
   "source": [
    "expected_revenue = functions.expected_revenue_uniform(a = a, b = b, n = n)\n",
    "expected_revenue"
   ]
  },
  {
   "cell_type": "markdown",
   "metadata": {},
   "source": [
    "##### Actual Revenue"
   ]
  },
  {
   "cell_type": "markdown",
   "metadata": {},
   "source": [
    "The actual revenue from the auction depend on the actual valuations drawn from the distribution."
   ]
  },
  {
   "cell_type": "code",
   "execution_count": 8,
   "metadata": {},
   "outputs": [
    {
     "data": {
      "text/plain": [
       "0.025"
      ]
     },
     "execution_count": 8,
     "metadata": {},
     "output_type": "execute_result"
    }
   ],
   "source": [
    "actual_revenue = functions.actual_revenue_uniform(sellers_valuation = sellers_valuation, \n",
    "                                                  highest_bid = functions.k_highest_bid(k = 1, all_valuations = all_valuations))\n",
    "actual_revenue"
   ]
  },
  {
   "cell_type": "markdown",
   "metadata": {},
   "source": [
    "We see that the actual revenue is much lower than the expected revenue from this auction"
   ]
  },
  {
   "cell_type": "markdown",
   "metadata": {},
   "source": [
    "### 2nd price auction (highest bid wins and pays the second highest bid)"
   ]
  },
  {
   "cell_type": "markdown",
   "metadata": {},
   "source": [
    "##### Optimal bidding strategy"
   ]
  },
  {
   "cell_type": "markdown",
   "metadata": {},
   "source": [
    "The optimal bidding strategy in a second price auction is to bid your valuation\n",
    "\n",
    "\\begin{equation}\n",
    "\\beta^{II^*} = x\n",
    "\\end{equation}"
   ]
  },
  {
   "cell_type": "code",
   "execution_count": 9,
   "metadata": {},
   "outputs": [
    {
     "data": {
      "text/plain": [
       "0.283"
      ]
     },
     "execution_count": 9,
     "metadata": {},
     "output_type": "execute_result"
    }
   ],
   "source": [
    "optimal_bid = functions.opt_bid_2_price(valuation = valuation)\n",
    "optimal_bid"
   ]
  },
  {
   "cell_type": "markdown",
   "metadata": {},
   "source": [
    "##### Bidders payoff"
   ]
  },
  {
   "cell_type": "code",
   "execution_count": 10,
   "metadata": {},
   "outputs": [
    {
     "data": {
      "text/plain": [
       "0"
      ]
     },
     "execution_count": 10,
     "metadata": {},
     "output_type": "execute_result"
    }
   ],
   "source": [
    "payoff = functions.bidders_payoff(optimal_bid = optimal_bid, \n",
    "                        highest_bid = functions.k_highest_bid(k = 1, all_valuations = all_valuations), \n",
    "                        k_highest_bid = functions.k_highest_bid(k = 2, all_valuations = all_valuations))\n",
    "payoff"
   ]
  },
  {
   "cell_type": "markdown",
   "metadata": {},
   "source": [
    "##### Expected Revenue of the seller"
   ]
  },
  {
   "cell_type": "code",
   "execution_count": 11,
   "metadata": {},
   "outputs": [
    {
     "data": {
      "text/plain": [
       "0.818"
      ]
     },
     "execution_count": 11,
     "metadata": {},
     "output_type": "execute_result"
    }
   ],
   "source": [
    "expected_revenue = functions.expected_revenue_uniform(a = a, b = b, n = n)\n",
    "expected_revenue"
   ]
  },
  {
   "cell_type": "markdown",
   "metadata": {},
   "source": [
    "##### Actual Revenue "
   ]
  },
  {
   "cell_type": "code",
   "execution_count": 12,
   "metadata": {},
   "outputs": [
    {
     "data": {
      "text/plain": [
       "0.025"
      ]
     },
     "execution_count": 12,
     "metadata": {},
     "output_type": "execute_result"
    }
   ],
   "source": [
    "actual_revenue = functions.actual_revenue_uniform(sellers_valuation = sellers_valuation, \n",
    "                                                  highest_bid = functions.k_highest_bid(k = 1, all_valuations = all_valuations))\n",
    "actual_revenue"
   ]
  },
  {
   "cell_type": "markdown",
   "metadata": {},
   "source": [
    "### Extention:  kth-price auction (highest bid wins and pays the kth highest bid)"
   ]
  },
  {
   "cell_type": "markdown",
   "metadata": {},
   "source": [
    "Optimal to shade your bid. \n",
    "Bid your expectation of the k highest value conditional on winning\n",
    "\n",
    "\n",
    "\\begin{equation}\n",
    "\\beta^{I^*} = E(Y_{k-1}|Y_{k-1} < x) = a + \\frac{(N-1)-k+1}{(N-1)+1}(x - a)\n",
    "\\end{equation}"
   ]
  },
  {
   "cell_type": "markdown",
   "metadata": {},
   "source": [
    "##### Optimal bidding strategy"
   ]
  },
  {
   "cell_type": "code",
   "execution_count": 13,
   "metadata": {},
   "outputs": [],
   "source": [
    "k = 5 # define auction format"
   ]
  },
  {
   "cell_type": "code",
   "execution_count": 14,
   "metadata": {},
   "outputs": [
    {
     "data": {
      "text/plain": [
       "0.142"
      ]
     },
     "execution_count": 14,
     "metadata": {},
     "output_type": "execute_result"
    }
   ],
   "source": [
    "optimal_bid = functions.opt_bid_k_price(k = k, a = a, n = n, valuation = valuation)\n",
    "optimal_bid"
   ]
  },
  {
   "cell_type": "markdown",
   "metadata": {},
   "source": [
    "##### Bidders Payoff"
   ]
  },
  {
   "cell_type": "code",
   "execution_count": 15,
   "metadata": {},
   "outputs": [
    {
     "data": {
      "text/plain": [
       "0"
      ]
     },
     "execution_count": 15,
     "metadata": {},
     "output_type": "execute_result"
    }
   ],
   "source": [
    "payoff = functions.bidders_payoff(optimal_bid = optimal_bid, \n",
    "                                  highest_bid = functions.k_highest_bid(k = 1, all_valuations = all_valuations), \n",
    "                                  k_highest_bid = functions.k_highest_bid(k = k, all_valuations = all_valuations))\n",
    "payoff"
   ]
  },
  {
   "cell_type": "markdown",
   "metadata": {},
   "source": [
    "##### Expected Revenue of the seller"
   ]
  },
  {
   "cell_type": "code",
   "execution_count": 16,
   "metadata": {},
   "outputs": [
    {
     "data": {
      "text/plain": [
       "0.818"
      ]
     },
     "execution_count": 16,
     "metadata": {},
     "output_type": "execute_result"
    }
   ],
   "source": [
    "expected_revenue = functions.expected_revenue_uniform(a = a, b = b, n = n)\n",
    "expected_revenue"
   ]
  },
  {
   "cell_type": "markdown",
   "metadata": {},
   "source": [
    "##### Actual revenue"
   ]
  },
  {
   "cell_type": "code",
   "execution_count": 17,
   "metadata": {},
   "outputs": [
    {
     "data": {
      "text/plain": [
       "0.025"
      ]
     },
     "execution_count": 17,
     "metadata": {},
     "output_type": "execute_result"
    }
   ],
   "source": [
    "actual_revenue =functions.actual_revenue_uniform(sellers_valuation = sellers_valuation, \n",
    "                                                   highest_bid = functions.k_highest_bid(k = 1, all_valuations = all_valuations))\n",
    "actual_revenue"
   ]
  },
  {
   "cell_type": "markdown",
   "metadata": {},
   "source": [
    "### Optimal bidding strategy plot"
   ]
  },
  {
   "cell_type": "code",
   "execution_count": 18,
   "metadata": {},
   "outputs": [
    {
     "data": {
      "text/html": [
       "<div>\n",
       "<style scoped>\n",
       "    .dataframe tbody tr th:only-of-type {\n",
       "        vertical-align: middle;\n",
       "    }\n",
       "\n",
       "    .dataframe tbody tr th {\n",
       "        vertical-align: top;\n",
       "    }\n",
       "\n",
       "    .dataframe thead th {\n",
       "        text-align: right;\n",
       "    }\n",
       "</style>\n",
       "<table border=\"1\" class=\"dataframe\">\n",
       "  <thead>\n",
       "    <tr style=\"text-align: right;\">\n",
       "      <th></th>\n",
       "      <th>N bidders</th>\n",
       "      <th>Optimal bid 1st price</th>\n",
       "      <th>Optimal bid 2nd price</th>\n",
       "      <th>Optimal bid 3rd price</th>\n",
       "      <th>Optimal bid 5th price</th>\n",
       "    </tr>\n",
       "  </thead>\n",
       "  <tbody>\n",
       "    <tr>\n",
       "      <th>0</th>\n",
       "      <td>1</td>\n",
       "      <td>-0.283</td>\n",
       "      <td>NaN</td>\n",
       "      <td>NaN</td>\n",
       "      <td>NaN</td>\n",
       "    </tr>\n",
       "    <tr>\n",
       "      <th>1</th>\n",
       "      <td>2</td>\n",
       "      <td>0.000</td>\n",
       "      <td>0.283064</td>\n",
       "      <td>NaN</td>\n",
       "      <td>NaN</td>\n",
       "    </tr>\n",
       "    <tr>\n",
       "      <th>2</th>\n",
       "      <td>3</td>\n",
       "      <td>0.094</td>\n",
       "      <td>0.283064</td>\n",
       "      <td>0.000</td>\n",
       "      <td>NaN</td>\n",
       "    </tr>\n",
       "    <tr>\n",
       "      <th>3</th>\n",
       "      <td>4</td>\n",
       "      <td>0.142</td>\n",
       "      <td>0.283064</td>\n",
       "      <td>0.071</td>\n",
       "      <td>NaN</td>\n",
       "    </tr>\n",
       "    <tr>\n",
       "      <th>4</th>\n",
       "      <td>5</td>\n",
       "      <td>0.170</td>\n",
       "      <td>0.283064</td>\n",
       "      <td>0.113</td>\n",
       "      <td>0.0</td>\n",
       "    </tr>\n",
       "  </tbody>\n",
       "</table>\n",
       "</div>"
      ],
      "text/plain": [
       "   N bidders  Optimal bid 1st price  Optimal bid 2nd price  \\\n",
       "0          1                 -0.283                    NaN   \n",
       "1          2                  0.000               0.283064   \n",
       "2          3                  0.094               0.283064   \n",
       "3          4                  0.142               0.283064   \n",
       "4          5                  0.170               0.283064   \n",
       "\n",
       "   Optimal bid 3rd price  Optimal bid 5th price  \n",
       "0                    NaN                    NaN  \n",
       "1                    NaN                    NaN  \n",
       "2                  0.000                    NaN  \n",
       "3                  0.071                    NaN  \n",
       "4                  0.113                    0.0  "
      ]
     },
     "execution_count": 18,
     "metadata": {},
     "output_type": "execute_result"
    }
   ],
   "source": [
    "number_of_bidders = list(range(1,30)) # Create the first column with the number of bidders (x - axis)\n",
    "df = pd.DataFrame(number_of_bidders)\n",
    "df = df.rename(index=str, columns={0: \"N bidders\"})\n",
    "\n",
    "\n",
    "# Adding one column to see how the optimal bidding stategy in a 1st price auction depend on the number of bidders\n",
    "df['Optimal bid 1st price'] = functions.opt_bid_k_price(k = 2, a = a, n = df['N bidders'], valuation = valuation)\n",
    "\n",
    "# Adding one column to see how the optimal bidding stategy in a 2nd price auction depend on the number of bidders\n",
    "df['Optimal bid 2nd price'] = valuation\n",
    "df['Optimal bid 2nd price'] = np.where(df['N bidders'] > 1, df['Optimal bid 2nd price'], np.nan) # Insert np.nan for bids with less than 2  bidders \n",
    "                                                                                                 #(you must have at least2 bidders in a 2nd price auction)\n",
    "\n",
    "# Adding one column to see how the optimal bidding stategy in a 3rd price auction depend on the number of bidders\n",
    "df['Optimal bid 3rd price'] = functions.opt_bid_k_price(k = 3, a = a, n = df['N bidders'], valuation = valuation)\n",
    "df['Optimal bid 3rd price'] = np.where(df['N bidders'] > 2, df['Optimal bid 3rd price'], np.nan) # Insert np.nan for bids with less than 3 bidders \n",
    "                                                                                                 #(you must have at least3 bidders in a 3rd price auction)\n",
    "\n",
    "# Adding one column to see how the optimal bidding stategy in a 5th price auction depend on the number of bidders\n",
    "df['Optimal bid 5th price'] = functions.opt_bid_k_price(k = 5, a = a, n = df['N bidders'], valuation = valuation)\n",
    "df['Optimal bid 5th price'] = np.where(df['N bidders'] > 4, df['Optimal bid 5th price'], np.nan) # Insert np.nan for bids with less than 5 bidders \n",
    "                                                                                                 #(you must have at least 5 bidders in a 5th price auction)\n",
    "df.head()"
   ]
  },
  {
   "cell_type": "code",
   "execution_count": 19,
   "metadata": {},
   "outputs": [
    {
     "data": {
      "text/plain": [
       "Text(0.5, 1.0, 'Optimal bidding strategy by number of bidders')"
      ]
     },
     "execution_count": 19,
     "metadata": {},
     "output_type": "execute_result"
    },
    {
     "data": {
      "image/png": "[encoded data removed]",
      "text/plain": [
       "<Figure size 432x288 with 1 Axes>"
      ]
     },
     "metadata": {
      "needs_background": "light"
     },
     "output_type": "display_data"
    }
   ],
   "source": [
    "df.plot(x = 'N bidders') # Define what to plot (x - axis)\n",
    "plt.ylabel('Optimal bidding strategy') # Label y axis\n",
    "plt.title('Optimal bidding strategy by number of bidders') # add title to the plot"
   ]
  },
  {
   "cell_type": "markdown",
   "metadata": {},
   "source": [
    "From the plot above, you can see how the optimal bidding strategy depend on the number of bidders for different auction formats. \n",
    "1. Second price auction: does not depend on number of bidders, but only on own valuation \n",
    "1. The other auction formats depend on the number of bidders. Th more bidders participating in the auction the less you shade your bid af the competition gets harder. \n",
    "1. The optimal bidding strategy depend on the auction format. The optimal bidding stategy is always higher in the 3rd price auction than i the 5th price auction. This is because the bidder optimizes the tradeoff of getting the highest payoff and risking not winning the auction.\n"
   ]
  },
  {
   "cell_type": "markdown",
   "metadata": {},
   "source": [
    "### Expected revenue of the seller plot"
   ]
  },
  {
   "cell_type": "markdown",
   "metadata": {},
   "source": [
    "Given the revenue equivalence theorem the expected reveue to the seller does not depend on the auction format. <br>\n",
    "Given this we only need to look at one auction format to determine how expected revenue depend on the number of bidders "
   ]
  },
  {
   "cell_type": "code",
   "execution_count": 20,
   "metadata": {},
   "outputs": [
    {
     "data": {
      "text/html": [
       "<div>\n",
       "<style scoped>\n",
       "    .dataframe tbody tr th:only-of-type {\n",
       "        vertical-align: middle;\n",
       "    }\n",
       "\n",
       "    .dataframe tbody tr th {\n",
       "        vertical-align: top;\n",
       "    }\n",
       "\n",
       "    .dataframe thead th {\n",
       "        text-align: right;\n",
       "    }\n",
       "</style>\n",
       "<table border=\"1\" class=\"dataframe\">\n",
       "  <thead>\n",
       "    <tr style=\"text-align: right;\">\n",
       "      <th></th>\n",
       "      <th>N bidders</th>\n",
       "      <th>Expected revenue of the seller</th>\n",
       "    </tr>\n",
       "  </thead>\n",
       "  <tbody>\n",
       "    <tr>\n",
       "      <th>0</th>\n",
       "      <td>1</td>\n",
       "      <td>0.000</td>\n",
       "    </tr>\n",
       "    <tr>\n",
       "      <th>1</th>\n",
       "      <td>2</td>\n",
       "      <td>0.333</td>\n",
       "    </tr>\n",
       "    <tr>\n",
       "      <th>2</th>\n",
       "      <td>3</td>\n",
       "      <td>0.500</td>\n",
       "    </tr>\n",
       "    <tr>\n",
       "      <th>3</th>\n",
       "      <td>4</td>\n",
       "      <td>0.600</td>\n",
       "    </tr>\n",
       "    <tr>\n",
       "      <th>4</th>\n",
       "      <td>5</td>\n",
       "      <td>0.667</td>\n",
       "    </tr>\n",
       "  </tbody>\n",
       "</table>\n",
       "</div>"
      ],
      "text/plain": [
       "   N bidders  Expected revenue of the seller\n",
       "0          1                           0.000\n",
       "1          2                           0.333\n",
       "2          3                           0.500\n",
       "3          4                           0.600\n",
       "4          5                           0.667"
      ]
     },
     "execution_count": 20,
     "metadata": {},
     "output_type": "execute_result"
    }
   ],
   "source": [
    "number_of_bidders = list(range(1,30)) # Create the first column with the number of bidders (x - axis)\n",
    "df = pd.DataFrame(number_of_bidders)\n",
    "df = df.rename(index=str, columns={0: \"N bidders\"})\n",
    "\n",
    "\n",
    "df['Expected revenue of the seller'] = functions.expected_revenue_uniform(a = a, b = b, n = df['N bidders']) # Include column with the expected revenue to the seller for different N values.\n",
    "df.head()"
   ]
  },
  {
   "cell_type": "code",
   "execution_count": 21,
   "metadata": {},
   "outputs": [
    {
     "data": {
      "text/plain": [
       "Text(0.5, 1.0, 'Expected revenue of the seller by number of bidders')"
      ]
     },
     "execution_count": 21,
     "metadata": {},
     "output_type": "execute_result"
    },
    {
     "data": {
      "image/png": "[encoded data removed]",
      "text/plain": [
       "<Figure size 432x288 with 1 Axes>"
      ]
     },
     "metadata": {
      "needs_background": "light"
     },
     "output_type": "display_data"
    }
   ],
   "source": [
    "df.plot(x = 'N bidders') # Define what to plot (x - axis)\n",
    "plt.ylabel('Expected revenue of the seller') # Label y axis\n",
    "plt.title('Expected revenue of the seller by number of bidders') # add title to the plot"
   ]
  },
  {
   "cell_type": "markdown",
   "metadata": {},
   "source": [
    "From the plot above, you can see how the expected revenue to the seller depend on the number of bidders. \n",
    "1. The expected revenue to the seller increase with the number of bidders. This is the case as: With more bidders in the auction the expected valuations are going to be higher.\n"
   ]
  }
 ],
 "metadata": {
  "kernelspec": {
   "display_name": "Python 3",
   "language": "python",
   "name": "python3"
  },
  "language_info": {
   "codemirror_mode": {
    "name": "ipython",
    "version": 3
   },
   "file_extension": ".py",
   "mimetype": "text/x-python",
   "name": "python",
   "nbconvert_exporter": "python",
   "pygments_lexer": "ipython3",
   "version": "3.7.1"
  },
  "toc-autonumbering": false
 },
 "nbformat": 4,
 "nbformat_minor": 2
}
