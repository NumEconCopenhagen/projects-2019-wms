{
 "cells": [
  {
   "cell_type": "markdown",
   "metadata": {},
   "source": [
    "## Imports"
   ]
  },
  {
   "cell_type": "code",
   "execution_count": null,
   "metadata": {},
   "outputs": [],
   "source": [
    "#Imports\n",
    "import pandas as pd\n",
    "import numpy as np\n",
    "import random\n",
    "import time\n",
    "from tqdm import tqdm\n",
    "import matplotlib.pyplot as plt\n",
    "\n",
    "%load_ext autoreload\n",
    "%autoreload 2"
   ]
  },
  {
   "cell_type": "markdown",
   "metadata": {},
   "source": [
    "**From the instructions**\n",
    "\n",
    "Vision: Programming is more than writing code. The ultimate goal of the projects in this course\n",
    "is that you learn to formulate a programming problem of your own choice, and find your own way\n",
    "to solve it, and present the results. The bullets below are minimum requirements, but otherwise it is\n",
    "very much up to you, what you will like to do with your project. I hope to see some creative ideas!\n",
    "\n",
    "• Objectives: In your model analysis project, you should show that you can:\n",
    "1. Apply model analysis methods (e.g. scipy.optimize, scipy.linalg, sympy)\n",
    "2. Structure a code project\n",
    "3. Document code\n",
    "4. Present results in text form and in figures\n",
    "\n",
    "• Content: In your model analysis project, you should at a minimum:\n",
    "1. Describe an algorithm on how to solve a simple economic model (most likely taken from a textbook)\n",
    "2. Solve (and perhaps simulate) a simple economic model\n",
    "3. Visualize results across e.g. parametrizations\n",
    "4. Analyze one or more extensions of the baseline model\n",
    "\n",
    "• Structure: Your data analysis project should consist of:\n",
    "1. A README.md with a short introduction to your project\n",
    "2. A single self-contained notebook (.ipynb) presenting the analysis\n",
    "3. (Optionally) Fully documented Python files (.py)\n",
    "• Size: Quality before quantity.\n",
    "• Hand-in: On GitHub by uploading it to the folder:\n",
    "github.com/projects-2019-YOURGROUPNAME/modelproject/\n",
    "• Deadline: 10th of May 23.59\n",
    "• Supervision: The exercises class in the weeks starting 29th of April and 6th of May will\n",
    "give you time to work on your model project and receive supervision from the lecturer and the\n",
    "teaching assistants. Also, remember the online forum.\n",
    "• Peer feedback: After handing in, you will be asked to give peer feedback on the projects of\n",
    "two other groups.\n",
    "• Exam: Your model analysis project will be a part of your exam portfolio. You are free to\n",
    "incorporate the peer feedback and other comments before handing in the final version."
   ]
  },
  {
   "cell_type": "markdown",
   "metadata": {},
   "source": [
    "### Overview of our project\n",
    "\n",
    "**Overall subject**: Auction theory\n",
    "\n",
    "Specifically, we want to numerically solve different of the standard auction models that we can solve analytically - e.g. first-price auctions with symmetric bidders with uniformly distributed valuations. We want to this, so we can check the numerical solution vs. analytical solution.\n",
    "\n",
    "We might also try to investigate if we can solve some of the models, which become very cumbersome analytically - e.g. for non-uniform distribtions.\n",
    "\n",
    "We could start off in the universe off (where we have analytical solutions) - e.g.:\n",
    "\n",
    "1. 1st-price auctions with $N$ symmetric bidders with private valuations from $U[a,b]$\n",
    "1. 2nd-price auctions with $N$ symmetric bidders with private valuations from $U[a,b]$\n",
    "1. kth-price auctions with $N$ symmetric bidders with private valuations from $U[a,b]$\n",
    "\n",
    "Ideally, we should be able to show:\n",
    "\n",
    "1. Bidding strategies for individual bidders for given parameterizations and formats\n",
    "1. Expected revenue for the auctioneer for given parameterizations and formats\n",
    "1. Actual revenue (thus, also bids) for simulations"
   ]
  }
 ],
 "metadata": {
  "kernelspec": {
   "display_name": "Python 3",
   "language": "python",
   "name": "python3"
  },
  "language_info": {
   "codemirror_mode": {
    "name": "ipython",
    "version": 3
   },
   "file_extension": ".py",
   "mimetype": "text/x-python",
   "name": "python",
   "nbconvert_exporter": "python",
   "pygments_lexer": "ipython3",
   "version": "3.7.1"
  },
  "toc-autonumbering": false
 },
 "nbformat": 4,
 "nbformat_minor": 2
}
