{
 "cells": [
  {
   "cell_type": "markdown",
   "metadata": {},
   "source": [
    "**From the instructions**\n",
    "\n",
    "Vision: Programming is more than writing code. The ultimate goal of the projects in this course\n",
    "is that you learn to formulate a programming problem of your own choice, and find your own way\n",
    "to solve it, and present the results. The bullets below are minimum requirements, but otherwise it is\n",
    "very much up to you, what you will like to do with your project. I hope to see some creative ideas!\n",
    "\n",
    "• Objectives: In your model analysis project, you should show that you can:\n",
    "1. Apply model analysis methods (e.g. scipy.optimize, scipy.linalg, sympy)\n",
    "2. Structure a code project\n",
    "3. Document code\n",
    "4. Present results in text form and in figures\n",
    "\n",
    "• Content: In your model analysis project, you should at a minimum:\n",
    "1. Describe an algorithm on how to solve a simple economic model (most likely taken from a textbook)\n",
    "2. Solve (and perhaps simulate) a simple economic model\n",
    "3. Visualize results across e.g. parametrizations\n",
    "4. Analyze one or more extensions of the baseline model\n",
    "\n",
    "• Structure: Your data analysis project should consist of:\n",
    "1. A README.md with a short introduction to your project\n",
    "2. A single self-contained notebook (.ipynb) presenting the analysis\n",
    "3. (Optionally) Fully documented Python files (.py)\n",
    "• Size: Quality before quantity.\n",
    "• Hand-in: On GitHub by uploading it to the folder:\n",
    "github.com/projects-2019-YOURGROUPNAME/modelproject/\n",
    "• Deadline: 10th of May 23.59\n",
    "• Supervision: The exercises class in the weeks starting 29th of April and 6th of May will\n",
    "give you time to work on your model project and receive supervision from the lecturer and the\n",
    "teaching assistants. Also, remember the online forum.\n",
    "• Peer feedback: After handing in, you will be asked to give peer feedback on the projects of\n",
    "two other groups.\n",
    "• Exam: Your model analysis project will be a part of your exam portfolio. You are free to\n",
    "incorporate the peer feedback and other comments before handing in the final version."
   ]
  },
  {
   "cell_type": "markdown",
   "metadata": {},
   "source": [
    "#### Imports"
   ]
  },
  {
   "cell_type": "code",
   "execution_count": 4,
   "metadata": {},
   "outputs": [],
   "source": [
    "#Imports\n",
    "import pandas as pd\n",
    "import numpy as np\n",
    "import random\n",
    "import time\n",
    "from tqdm import tqdm\n",
    "import matplotlib.pyplot as plt\n",
    "\n",
    "\n",
    "import sympy as sm\n",
    "import scipy as sp\n",
    "from scipy import linalg\n",
    "from scipy import optimize, arange\n",
    "from scipy import interpolate\n",
    "\n",
    "import functions\n",
    "\n",
    "%load_ext autoreload\n",
    "%autoreload 2"
   ]
  },
  {
   "cell_type": "markdown",
   "metadata": {},
   "source": [
    "# Introduction - Cournot Competition"
   ]
  },
  {
   "cell_type": "markdown",
   "metadata": {},
   "source": [
    "## The general setup"
   ]
  },
  {
   "cell_type": "markdown",
   "metadata": {},
   "source": [
    "$N\\geq2$ firms compete in an industry with a homogenous good, where each firm maximises their own profits by choosing a quantity to produce (the production) taking the production from other firms as given."
   ]
  },
  {
   "cell_type": "markdown",
   "metadata": {},
   "source": [
    "The inverse aggregate market demand for the homogenous good is assumed to be downwards sloping and linear:\n",
    "$$\n",
    "P=\\max\\{a-bQ,0\\}\n",
    "$$\n",
    "Where $P$ is the price for the homogenous good and $a,b>0$ are parameters that reflect the demand of consumers. $Q$ is the industry output, defined as the sum of all $N$ individual firms' production:\n",
    "$$\n",
    "Q=\\sum_{i=1}^N q_i\n",
    "$$\n",
    "\n",
    "It can be helpful for notation purposes to define the sum of all other firms' production from the point of view of firm $i$ as:\n",
    "$$\n",
    "Q_{-i}=Q-q_i\n",
    "$$\n",
    "\n",
    "Firms are not necesarrily homogenous in their costs - rather, firms may have assymmetric marginal costs $c_i>0$ with no capacity constraints. Thus, each firms maximises profit by choosing production level:"
   ]
  },
  {
   "cell_type": "markdown",
   "metadata": {},
   "source": [
    "$$\n",
    "\\max_{q_i}\\pi_i=Pq_i-c_iq_i\\Leftrightarrow \\max_{q_i}\\pi_i=(a-b(Q_{-i}+q_i)-c_iq_i\n",
    "$$\n",
    "s.t.\n",
    "$$\n",
    "q_i\\geq 0\n",
    "$$\n",
    "$$\n",
    "a,b,c_i> 0\n",
    "$$"
   ]
  },
  {
   "cell_type": "markdown",
   "metadata": {},
   "source": [
    "Where firms are $i=1,...,N$"
   ]
  },
  {
   "cell_type": "markdown",
   "metadata": {},
   "source": [
    "This is a classic Industrial Organisation problem, where firms act strategically, taking the actions of other firms into account. \n",
    "\n",
    "Specifically, this means that in order to solve model, we must:\n",
    "- Find the best response function for each individual firm (i.e. what quantity will the firm produce as a function of the other firms' production)\n",
    "- Find the equilibrium, where all firms have no incentive to deviate - i.e. they are best-responding to each other."
   ]
  },
  {
   "cell_type": "markdown",
   "metadata": {},
   "source": [
    "## The simple case - $N=2$"
   ]
  },
  {
   "cell_type": "markdown",
   "metadata": {},
   "source": [
    "In order to build up our general purpose function, we start off with the simple case, where $N=2$, which means that inverse demand is (using supscripts $i$ and $j$):\n",
    "$$\n",
    "P=\\max\\{a-b(q_i+q_j), 0\\}\n",
    "$$\n",
    "\n",
    "And the individual firm's maxmisation problem:"
   ]
  },
  {
   "cell_type": "markdown",
   "metadata": {},
   "source": [
    "$$\n",
    "\\max_{q_i}\\pi_i=(a-b(q_i+q_j)-c_iq_i\n",
    "$$\n",
    "s.t.\n",
    "$$\n",
    "q_i\\geq 0\n",
    "$$\n",
    "$$\n",
    "a,b,c_i> 0\n",
    "$$"
   ]
  },
  {
   "cell_type": "markdown",
   "metadata": {},
   "source": [
    "### Numerical optimization"
   ]
  },
  {
   "cell_type": "markdown",
   "metadata": {},
   "source": [
    "First, we define the relevant inverse demand (also called price) function, cost function and profit functions - these functions are symmetric across firms (only input needs to be changed)"
   ]
  },
  {
   "cell_type": "code",
   "execution_count": 5,
   "metadata": {},
   "outputs": [],
   "source": [
    "def price(q1, q2, a, b): #Overall inverse demand function as a function of all quantities and the relevant parameters\n",
    "    price = a-b*(q1+q2)\n",
    "    return price\n",
    "\n",
    "def cost(q, c): #A cost function for a given firm\n",
    "    cost = q*c\n",
    "    return cost\n",
    "\n",
    "def profit(q1, q2, a, b, c): #Profit for a given firm with production q1 and costs c\n",
    "    profit = price(q1, q2, a, b)*q1-cost(q1, c)\n",
    "    return profit"
   ]
  },
  {
   "cell_type": "code",
   "execution_count": 6,
   "metadata": {},
   "outputs": [],
   "source": [
    "def best_response(q2, c1, a, b): #best response for firm 1 - found by maximising profits taking q2 as given\n",
    "    q1 =  optimize.fminbound(lambda x: -profit(x, q2, a, b, c1), # minimizing minus profits\n",
    "                             0, #lower bound is zero\n",
    "                             a, #upper bound is a (should maybe include a-b*x ?)\n",
    "                             full_output=True,\n",
    "                            disp=True)\n",
    "    return q1[0]\n"
   ]
  },
  {
   "cell_type": "markdown",
   "metadata": {},
   "source": [
    "We now have a given firms best response to any level of production from the other firm, given the firms' own costs - let's see isolated examples for firm 1:"
   ]
  },
  {
   "cell_type": "code",
   "execution_count": 7,
   "metadata": {},
   "outputs": [
    {
     "name": "stdout",
     "output_type": "stream",
     "text": [
      "Firm 1's best response to firm 2's production, 25, is a production of 37.0\n",
      "Firm 1's best response to firm 2's production, 50, is a production of 24.49999999999999\n"
     ]
    }
   ],
   "source": [
    "#Some random parameter choices\n",
    "a = 100\n",
    "b = 1\n",
    "c1 = 1\n",
    "q2 = 25\n",
    "\n",
    "\n",
    "print(\"Firm 1's best response to firm 2's production, \" + str(q2) + \", is a production of \" + str(best_response(q2, c1, a, b)))\n",
    "\n",
    "#Changing firm 2's production to see response from firm 1\n",
    "q2 = 50\n",
    "\n",
    "print(\"Firm 1's best response to firm 2's production, \" + str(q2) + \", is a production of \" + str(best_response(q2, c1, a, b)))"
   ]
  },
  {
   "cell_type": "markdown",
   "metadata": {},
   "source": [
    "We can plot the best response function for some given parameters:\n"
   ]
  },
  {
   "cell_type": "code",
   "execution_count": 8,
   "metadata": {},
   "outputs": [],
   "source": [
    "def best_reponse_plot(a, b, c1):\n",
    "    range_q2 = arange(0, a, 0.01)\n",
    "    range_q1 = [best_response(q2, c1, a, b) for q2 in range_q2]\n",
    "    \n",
    "    plt.plot(range_q1, range_q2)\n",
    "    plt.xlabel(\"best response q1\")\n",
    "    plt.ylabel('q2')\n",
    "    plt.title(\"Firm 1's best response to firm 2\")\n"
   ]
  },
  {
   "cell_type": "code",
   "execution_count": 15,
   "metadata": {},
   "outputs": [
    {
     "data": {
      "image/png": "[encoded data removed]",
      "text/plain": [
       "<Figure size 432x288 with 1 Axes>"
      ]
     },
     "metadata": {
      "needs_background": "light"
     },
     "output_type": "display_data"
    }
   ],
   "source": [
    "a = 100\n",
    "b = 4.5\n",
    "c1 = 1\n",
    "\n",
    "best_reponse_plot(a, b, c1)"
   ]
  },
  {
   "cell_type": "code",
   "execution_count": 10,
   "metadata": {},
   "outputs": [],
   "source": [
    "def analytical_BR(q2, c1, a, b):\n",
    "    BR=max((a-b*q2-c1)/(2*b), 0)\n",
    "    return BR\n"
   ]
  },
  {
   "cell_type": "code",
   "execution_count": 17,
   "metadata": {},
   "outputs": [],
   "source": [
    "def best_reponse_plot_Analytical(a, b, c1):\n",
    "    range_q2 = arange(0, a, 0.01)\n",
    "    range_q1 = [analytical_BR(q2, c1, a, b) for q2 in range_q2]\n",
    "    \n",
    "    plt.plot(range_q1, range_q2)\n",
    "    plt.xlabel(\"best response q1\")\n",
    "    plt.ylabel('q2')\n",
    "    plt.title(\"Firm 1's best response to firm 2 - analytical\")"
   ]
  },
  {
   "cell_type": "code",
   "execution_count": 18,
   "metadata": {},
   "outputs": [
    {
     "data": {
      "image/png": "[encoded data removed]",
      "text/plain": [
       "<Figure size 432x288 with 1 Axes>"
      ]
     },
     "metadata": {
      "needs_background": "light"
     },
     "output_type": "display_data"
    }
   ],
   "source": [
    "best_reponse_plot_Analytical(a, b, c1)"
   ]
  },
  {
   "cell_type": "markdown",
   "metadata": {},
   "source": [
    "Equilibrium production:"
   ]
  },
  {
   "cell_type": "code",
   "execution_count": 20,
   "metadata": {},
   "outputs": [],
   "source": [
    "def help_br(q, c, a, b): #defining a help function that finds where the Best response functions - q are equal to 0 (i.e. fixed points)\n",
    "    return [q[0]-best_response(q[1], c[0], a, b),q[1]-best_response(q[0], c[1], a, b)]\n",
    "\n"
   ]
  },
  {
   "cell_type": "code",
   "execution_count": 26,
   "metadata": {},
   "outputs": [],
   "source": [
    "initial_guess = [0,0]\n",
    "c = [10,4]\n",
    "\n",
    "def production_eq(c, initial_guess, a, b): #Equilibrium function which takes in \n",
    "    Q = optimize.fsolve(lambda q: help_br(q, c, a, b), initial_guess)\n",
    "    return Q"
   ]
  },
  {
   "cell_type": "code",
   "execution_count": 29,
   "metadata": {},
   "outputs": [
    {
     "data": {
      "text/plain": [
       "array([6.22222222, 7.55555556])"
      ]
     },
     "execution_count": 29,
     "metadata": {},
     "output_type": "execute_result"
    }
   ],
   "source": [
    "production_eq(c, initial_guess, a, b)"
   ]
  },
  {
   "cell_type": "markdown",
   "metadata": {},
   "source": [
    "Define a function that outputs summary for given parameters: price, individual q, Q, profits"
   ]
  },
  {
   "cell_type": "code",
   "execution_count": 66,
   "metadata": {},
   "outputs": [],
   "source": [
    "def summary(c, a, b, initial_guess):\n",
    "    q1,q2 = production_eq(c, initial_guess, a, b) #Equilibrium productions   \n",
    "     \n",
    "    output = print('Industry output is ' + str(q1+q2) + ' with firm 1 producing ' + str(q1) + ' units and firm 2 producing ' + str(q2) + ' units.' + \n",
    "                   '\\n The equilibrium price per unit becomes ' + str(price(q1, q2, a, b)) )\n",
    "    return output"
   ]
  },
  {
   "cell_type": "code",
   "execution_count": 67,
   "metadata": {},
   "outputs": [
    {
     "name": "stdout",
     "output_type": "stream",
     "text": [
      "Industry output is 13.77777777777775 with firm 1 producing 6.222222222222209 units and firm 2 producing 7.55555555555554 units.\n",
      " The equilibrium price per unit becomes 38.00000000000013\n"
     ]
    }
   ],
   "source": [
    "summary(c, a, b, initial_guess)"
   ]
  }
 ],
 "metadata": {
  "kernelspec": {
   "display_name": "Python 3",
   "language": "python",
   "name": "python3"
  },
  "language_info": {
   "codemirror_mode": {
    "name": "ipython",
    "version": 3
   },
   "file_extension": ".py",
   "mimetype": "text/x-python",
   "name": "python",
   "nbconvert_exporter": "python",
   "pygments_lexer": "ipython3",
   "version": "3.7.1"
  },
  "toc-autonumbering": false
 },
 "nbformat": 4,
 "nbformat_minor": 2
}
