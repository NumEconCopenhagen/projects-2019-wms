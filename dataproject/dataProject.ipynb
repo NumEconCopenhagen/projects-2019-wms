{
 "cells": [
  {
   "cell_type": "markdown",
   "metadata": {},
   "source": [
    "### Imports"
   ]
  },
  {
   "cell_type": "code",
   "execution_count": 1,
   "metadata": {},
   "outputs": [],
   "source": [
    "import pandas as pd\n",
    "import numpy as np\n",
    "import iexfinance as iex  #pip install iexfinance\n",
    "from iexfinance.stocks import Stock\n",
    "from datetime import datetime\n",
    "\n",
    "import requests\n",
    "import random\n",
    "import time\n",
    "from bs4 import BeautifulSoup\n",
    "import re\n",
    "from tqdm import tqdm\n",
    "import matplotlib.pyplot as plt"
   ]
  },
  {
   "cell_type": "code",
   "execution_count": 2,
   "metadata": {},
   "outputs": [],
   "source": [
    "%load_ext autoreload\n",
    "%autoreload 2"
   ]
  },
  {
   "cell_type": "markdown",
   "metadata": {},
   "source": [
    "## Content overview for workflow: \n",
    "#### Stock data from IEX or some other source? (https://www.quora.com/Using-Python-whats-the-best-way-to-get-stock-data)\n",
    "\n",
    "1. Load in stock data (how much?)\n",
    "    - Find a list/source for tickers, so we know which stocks to fetch -> https://iextrading.com/trading/eligible-symbols/\n",
    "    - Get individual stocks from certain indicies? Or random subset from the ticker list?\n",
    "    - Maybe get different industry indicies?\n",
    "        - We need some form of sector/industry segmentation for the stocks\n",
    "        - We need open, close, industry, sector, market cap ... ?\n",
    "1. Basic summary statistics\n",
    "    - Which stocks, how many in each segment, countries?,\n",
    "    - Calculate returns... \n",
    "    - generate new variables that we need (may only be daily returns)\n",
    "1. Plots for individual stocks\n",
    "    - What does e.g. the price of  Apple, Danske Bank look like over time?\n",
    "1. Interactive plot\n",
    "    - A plot that shows weighted returns for our given subsample\n",
    "    - Slider with time period (start, end)\n",
    "    - Segmentation selection\n"
   ]
  },
  {
   "cell_type": "markdown",
   "metadata": {},
   "source": [
    "### Remember to comment on code :)"
   ]
  },
  {
   "cell_type": "markdown",
   "metadata": {},
   "source": [
    "## Data load-in (Waldemar?)"
   ]
  },
  {
   "cell_type": "markdown",
   "metadata": {},
   "source": [
    "This sections loads in historical daily price data for stocks in the US using the *IEX* python module.\n",
    "\n",
    "The goal is to calculate daily returns (simple and continuously compounded (cc)) for each stock - and visualize this information in the subsequent sections."
   ]
  },
  {
   "cell_type": "code",
   "execution_count": 4,
   "metadata": {},
   "outputs": [
    {
     "data": {
      "text/html": [
       "<div>\n",
       "<style scoped>\n",
       "    .dataframe tbody tr th:only-of-type {\n",
       "        vertical-align: middle;\n",
       "    }\n",
       "\n",
       "    .dataframe tbody tr th {\n",
       "        vertical-align: top;\n",
       "    }\n",
       "\n",
       "    .dataframe thead th {\n",
       "        text-align: right;\n",
       "    }\n",
       "</style>\n",
       "<table border=\"1\" class=\"dataframe\">\n",
       "  <thead>\n",
       "    <tr style=\"text-align: right;\">\n",
       "      <th></th>\n",
       "      <th>date</th>\n",
       "      <th>iexId</th>\n",
       "      <th>isEnabled</th>\n",
       "      <th>name</th>\n",
       "      <th>symbol</th>\n",
       "      <th>type</th>\n",
       "    </tr>\n",
       "  </thead>\n",
       "  <tbody>\n",
       "    <tr>\n",
       "      <th>5991</th>\n",
       "      <td>2019-03-22</td>\n",
       "      <td>15277</td>\n",
       "      <td>True</td>\n",
       "      <td>Pebblebrook Hotel Trust 6.375% Series E Cumula...</td>\n",
       "      <td>PEB-E</td>\n",
       "      <td>ps</td>\n",
       "    </tr>\n",
       "    <tr>\n",
       "      <th>6049</th>\n",
       "      <td>2019-03-22</td>\n",
       "      <td>15202</td>\n",
       "      <td>True</td>\n",
       "      <td>PennyMac Financial Services Inc.</td>\n",
       "      <td>PFSI</td>\n",
       "      <td>cs</td>\n",
       "    </tr>\n",
       "    <tr>\n",
       "      <th>1282</th>\n",
       "      <td>2019-03-22</td>\n",
       "      <td>1138</td>\n",
       "      <td>True</td>\n",
       "      <td>Celanese Corporation</td>\n",
       "      <td>CE</td>\n",
       "      <td>cs</td>\n",
       "    </tr>\n",
       "    <tr>\n",
       "      <th>7795</th>\n",
       "      <td>2019-03-22</td>\n",
       "      <td>10080</td>\n",
       "      <td>True</td>\n",
       "      <td>The Stars Group Inc.</td>\n",
       "      <td>TSG</td>\n",
       "      <td>cs</td>\n",
       "    </tr>\n",
       "    <tr>\n",
       "      <th>846</th>\n",
       "      <td>2019-03-22</td>\n",
       "      <td>14358</td>\n",
       "      <td>True</td>\n",
       "      <td>BioHiTech Global Inc.</td>\n",
       "      <td>BHTG</td>\n",
       "      <td>cs</td>\n",
       "    </tr>\n",
       "  </tbody>\n",
       "</table>\n",
       "</div>"
      ],
      "text/plain": [
       "            date  iexId  isEnabled  \\\n",
       "5991  2019-03-22  15277       True   \n",
       "6049  2019-03-22  15202       True   \n",
       "1282  2019-03-22   1138       True   \n",
       "7795  2019-03-22  10080       True   \n",
       "846   2019-03-22  14358       True   \n",
       "\n",
       "                                                   name symbol type  \n",
       "5991  Pebblebrook Hotel Trust 6.375% Series E Cumula...  PEB-E   ps  \n",
       "6049                   PennyMac Financial Services Inc.   PFSI   cs  \n",
       "1282                               Celanese Corporation     CE   cs  \n",
       "7795                               The Stars Group Inc.    TSG   cs  \n",
       "846                               BioHiTech Global Inc.   BHTG   cs  "
      ]
     },
     "execution_count": 4,
     "metadata": {},
     "output_type": "execute_result"
    }
   ],
   "source": [
    "x=iex.refdata.get_symbols() #list of dicts with ticker symbols, names of all stocks in IEX database\n",
    "\n",
    "df_ticker=pd.DataFrame(x) #To a dataframe\n",
    "df_ticker.sample(5) #view of 5  random stocks"
   ]
  },
  {
   "cell_type": "code",
   "execution_count": 5,
   "metadata": {},
   "outputs": [
    {
     "data": {
      "text/html": [
       "<div>\n",
       "<style scoped>\n",
       "    .dataframe tbody tr th:only-of-type {\n",
       "        vertical-align: middle;\n",
       "    }\n",
       "\n",
       "    .dataframe tbody tr th {\n",
       "        vertical-align: top;\n",
       "    }\n",
       "\n",
       "    .dataframe thead th {\n",
       "        text-align: right;\n",
       "    }\n",
       "</style>\n",
       "<table border=\"1\" class=\"dataframe\">\n",
       "  <thead>\n",
       "    <tr style=\"text-align: right;\">\n",
       "      <th></th>\n",
       "      <th>date</th>\n",
       "      <th>iexId</th>\n",
       "      <th>isEnabled</th>\n",
       "      <th>name</th>\n",
       "      <th>symbol</th>\n",
       "      <th>type</th>\n",
       "    </tr>\n",
       "  </thead>\n",
       "  <tbody>\n",
       "    <tr>\n",
       "      <th>13</th>\n",
       "      <td>2019-03-22</td>\n",
       "      <td>11</td>\n",
       "      <td>True</td>\n",
       "      <td>Apple Inc.</td>\n",
       "      <td>AAPL</td>\n",
       "      <td>cs</td>\n",
       "    </tr>\n",
       "  </tbody>\n",
       "</table>\n",
       "</div>"
      ],
      "text/plain": [
       "          date iexId  isEnabled        name symbol type\n",
       "13  2019-03-22    11       True  Apple Inc.   AAPL   cs"
      ]
     },
     "execution_count": 5,
     "metadata": {},
     "output_type": "execute_result"
    }
   ],
   "source": [
    "df_ticker.loc[df_ticker['name'] == 'Apple Inc.']"
   ]
  },
  {
   "cell_type": "code",
   "execution_count": 6,
   "metadata": {},
   "outputs": [
    {
     "data": {
      "text/plain": [
       "['A', 'AA', 'AAAU', 'AABA', 'AAC']"
      ]
     },
     "execution_count": 6,
     "metadata": {},
     "output_type": "execute_result"
    }
   ],
   "source": [
    "tickers= list(df_ticker['symbol']) # tickers for 100 random stocks #.loc[df_ticker['isEnabled']==True] .sample(100, random_state=10)\n",
    "tickers[0:5]"
   ]
  },
  {
   "cell_type": "code",
   "execution_count": 7,
   "metadata": {},
   "outputs": [],
   "source": [
    "#Initing different containers for the first ticker\n",
    "\n",
    "sector={} #empty dict for sectors for each ticker\n",
    "\n",
    "stock=Stock(tickers[0])\n",
    "sect=stock.get_book()['quote']['sector']\n",
    "sector.update({tickers[0] : sect})\n",
    "\n",
    "df_close=pd.DataFrame(iex.stocks.get_historical_data(tickers[0], start='2015-01-02', end='2019-01-02', output_format='pandas')['close'])\n",
    "df_close=df_close.rename(columns = {'close' : tickers[0]})"
   ]
  },
  {
   "cell_type": "code",
   "execution_count": null,
   "metadata": {},
   "outputs": [
    {
     "name": "stderr",
     "output_type": "stream",
     "text": [
      "  2%|▏         | 135/8721 [03:34<3:46:52,  1.59s/it]"
     ]
    }
   ],
   "source": [
    "remove_stocks=[] #container for stocks that have tickers, but do not have historical data available\n",
    "\n",
    "for i in tqdm(tickers[1:], leave=False): #runtime is ~3-4 hours?\n",
    "    \n",
    "    #Retrieving sector for each ticker\n",
    "    try: \n",
    "        stock=Stock(i) #turning ticker i into iex.Stock object\n",
    "        sect=stock.get_book()['quote']['sector'] #extracting sector from books\n",
    "        sector.update({i : sect}) #appending to dict\n",
    "    except:\n",
    "        remove_stocks.append(i)\n",
    "        \n",
    "        \n",
    "    #Creating df with close prices for each ticker\n",
    "    try: \n",
    "        test=iex.stocks.get_historical_data(i, start='2015-01-02', end='2019-01-02', output_format='pandas')['close'] #returns a series\n",
    "        test_df=pd.DataFrame(test)\n",
    "        test_df=test_df.rename(columns = {'close' : i})\n",
    "        \n",
    "        #Final df with close prices with stock as a col\n",
    "        df_close = pd.merge(df_close, test_df, how='left', left_index=True, right_index=True)\n",
    "    except:\n",
    "        remove_stocks.append(i)\n",
    "\n"
   ]
  },
  {
   "cell_type": "code",
   "execution_count": 8,
   "metadata": {},
   "outputs": [],
   "source": [
    "#Turning SECTOR dict into series then dataframe:\n",
    "x=pd.Series(sector)\n",
    "df_sect=pd.DataFrame(x)\n",
    "df_sect=df_sect.rename(columns={0 : 'sector'}) #renaming col\n",
    "\n",
    "#Merging onto df_ticker\n",
    "df_ticker=pd.merge(df_ticker, df_sect, how='left',  left_on=df_ticker['symbol'], right_index=True)"
   ]
  },
  {
   "cell_type": "code",
   "execution_count": 103,
   "metadata": {},
   "outputs": [
    {
     "data": {
      "text/html": [
       "<div>\n",
       "<style scoped>\n",
       "    .dataframe tbody tr th:only-of-type {\n",
       "        vertical-align: middle;\n",
       "    }\n",
       "\n",
       "    .dataframe tbody tr th {\n",
       "        vertical-align: top;\n",
       "    }\n",
       "\n",
       "    .dataframe thead th {\n",
       "        text-align: right;\n",
       "    }\n",
       "</style>\n",
       "<table border=\"1\" class=\"dataframe\">\n",
       "  <thead>\n",
       "    <tr style=\"text-align: right;\">\n",
       "      <th></th>\n",
       "      <th>date</th>\n",
       "      <th>iexId</th>\n",
       "      <th>isEnabled</th>\n",
       "      <th>name</th>\n",
       "      <th>symbol</th>\n",
       "      <th>type</th>\n",
       "      <th>sector</th>\n",
       "    </tr>\n",
       "  </thead>\n",
       "  <tbody>\n",
       "    <tr>\n",
       "      <th>0</th>\n",
       "      <td>2019-03-18</td>\n",
       "      <td>2</td>\n",
       "      <td>True</td>\n",
       "      <td>Agilent Technologies Inc.</td>\n",
       "      <td>A</td>\n",
       "      <td>cs</td>\n",
       "      <td>Healthcare</td>\n",
       "    </tr>\n",
       "    <tr>\n",
       "      <th>1</th>\n",
       "      <td>2019-03-18</td>\n",
       "      <td>12042</td>\n",
       "      <td>True</td>\n",
       "      <td>Alcoa Corporation</td>\n",
       "      <td>AA</td>\n",
       "      <td>cs</td>\n",
       "      <td>Basic Materials</td>\n",
       "    </tr>\n",
       "    <tr>\n",
       "      <th>2</th>\n",
       "      <td>2019-03-18</td>\n",
       "      <td>14924</td>\n",
       "      <td>True</td>\n",
       "      <td>Perth Mint Physical Gold</td>\n",
       "      <td>AAAU</td>\n",
       "      <td>NaN</td>\n",
       "      <td>NaN</td>\n",
       "    </tr>\n",
       "    <tr>\n",
       "      <th>3</th>\n",
       "      <td>2019-03-18</td>\n",
       "      <td>7653</td>\n",
       "      <td>True</td>\n",
       "      <td>Altaba Inc.</td>\n",
       "      <td>AABA</td>\n",
       "      <td>cs</td>\n",
       "      <td>Financial Services</td>\n",
       "    </tr>\n",
       "    <tr>\n",
       "      <th>4</th>\n",
       "      <td>2019-03-18</td>\n",
       "      <td>9169</td>\n",
       "      <td>True</td>\n",
       "      <td>AAC Holdings Inc.</td>\n",
       "      <td>AAC</td>\n",
       "      <td>cs</td>\n",
       "      <td>Healthcare</td>\n",
       "    </tr>\n",
       "    <tr>\n",
       "      <th>5</th>\n",
       "      <td>2019-03-18</td>\n",
       "      <td>5</td>\n",
       "      <td>True</td>\n",
       "      <td>AdvisorShares Dorsey Wright ADR</td>\n",
       "      <td>AADR</td>\n",
       "      <td>et</td>\n",
       "      <td>NaN</td>\n",
       "    </tr>\n",
       "    <tr>\n",
       "      <th>6</th>\n",
       "      <td>2019-03-18</td>\n",
       "      <td>8148</td>\n",
       "      <td>True</td>\n",
       "      <td>American Airlines Group Inc.</td>\n",
       "      <td>AAL</td>\n",
       "      <td>cs</td>\n",
       "      <td>Industrials</td>\n",
       "    </tr>\n",
       "    <tr>\n",
       "      <th>7</th>\n",
       "      <td>2019-03-18</td>\n",
       "      <td>7760</td>\n",
       "      <td>True</td>\n",
       "      <td>Altisource Asset Management Corp Com</td>\n",
       "      <td>AAMC</td>\n",
       "      <td>cs</td>\n",
       "      <td>Financial Services</td>\n",
       "    </tr>\n",
       "    <tr>\n",
       "      <th>8</th>\n",
       "      <td>2019-03-18</td>\n",
       "      <td>7</td>\n",
       "      <td>True</td>\n",
       "      <td>Atlantic American Corporation</td>\n",
       "      <td>AAME</td>\n",
       "      <td>cs</td>\n",
       "      <td>Financial Services</td>\n",
       "    </tr>\n",
       "    <tr>\n",
       "      <th>9</th>\n",
       "      <td>2019-03-18</td>\n",
       "      <td>8</td>\n",
       "      <td>True</td>\n",
       "      <td>Aaron's Inc.</td>\n",
       "      <td>AAN</td>\n",
       "      <td>cs</td>\n",
       "      <td>Industrials</td>\n",
       "    </tr>\n",
       "    <tr>\n",
       "      <th>10</th>\n",
       "      <td>2019-03-18</td>\n",
       "      <td>7790</td>\n",
       "      <td>True</td>\n",
       "      <td>Applied Optoelectronics Inc.</td>\n",
       "      <td>AAOI</td>\n",
       "      <td>cs</td>\n",
       "      <td>Technology</td>\n",
       "    </tr>\n",
       "    <tr>\n",
       "      <th>11</th>\n",
       "      <td>2019-03-18</td>\n",
       "      <td>9</td>\n",
       "      <td>True</td>\n",
       "      <td>AAON Inc.</td>\n",
       "      <td>AAON</td>\n",
       "      <td>cs</td>\n",
       "      <td>Basic Materials</td>\n",
       "    </tr>\n",
       "    <tr>\n",
       "      <th>12</th>\n",
       "      <td>2019-03-18</td>\n",
       "      <td>10</td>\n",
       "      <td>True</td>\n",
       "      <td>Advance Auto Parts Inc W/I</td>\n",
       "      <td>AAP</td>\n",
       "      <td>cs</td>\n",
       "      <td>Consumer Cyclical</td>\n",
       "    </tr>\n",
       "    <tr>\n",
       "      <th>13</th>\n",
       "      <td>2019-03-18</td>\n",
       "      <td>11</td>\n",
       "      <td>True</td>\n",
       "      <td>Apple Inc.</td>\n",
       "      <td>AAPL</td>\n",
       "      <td>cs</td>\n",
       "      <td>Technology</td>\n",
       "    </tr>\n",
       "    <tr>\n",
       "      <th>14</th>\n",
       "      <td>2019-03-18</td>\n",
       "      <td>12</td>\n",
       "      <td>True</td>\n",
       "      <td>American Assets Trust Inc.</td>\n",
       "      <td>AAT</td>\n",
       "      <td>cs</td>\n",
       "      <td>Real Estate</td>\n",
       "    </tr>\n",
       "    <tr>\n",
       "      <th>15</th>\n",
       "      <td>2019-03-18</td>\n",
       "      <td>13</td>\n",
       "      <td>True</td>\n",
       "      <td>Almaden Minerals Ltd.</td>\n",
       "      <td>AAU</td>\n",
       "      <td>cs</td>\n",
       "      <td>Basic Materials</td>\n",
       "    </tr>\n",
       "    <tr>\n",
       "      <th>16</th>\n",
       "      <td>2019-03-18</td>\n",
       "      <td>15</td>\n",
       "      <td>True</td>\n",
       "      <td>Atlas Air Worldwide Holdings</td>\n",
       "      <td>AAWW</td>\n",
       "      <td>cs</td>\n",
       "      <td>Industrials</td>\n",
       "    </tr>\n",
       "    <tr>\n",
       "      <th>17</th>\n",
       "      <td>2019-03-18</td>\n",
       "      <td>16</td>\n",
       "      <td>True</td>\n",
       "      <td>iShares MSCI All Country Asia ex Japan Index Fund</td>\n",
       "      <td>AAXJ</td>\n",
       "      <td>et</td>\n",
       "      <td>NaN</td>\n",
       "    </tr>\n",
       "    <tr>\n",
       "      <th>18</th>\n",
       "      <td>2019-03-18</td>\n",
       "      <td>6667</td>\n",
       "      <td>True</td>\n",
       "      <td>Axon Enterprise Inc.</td>\n",
       "      <td>AAXN</td>\n",
       "      <td>cs</td>\n",
       "      <td>Industrials</td>\n",
       "    </tr>\n",
       "    <tr>\n",
       "      <th>19</th>\n",
       "      <td>2019-03-18</td>\n",
       "      <td>17</td>\n",
       "      <td>True</td>\n",
       "      <td>AllianceBernstein Holding L.P. Units</td>\n",
       "      <td>AB</td>\n",
       "      <td>cs</td>\n",
       "      <td>Financial Services</td>\n",
       "    </tr>\n",
       "  </tbody>\n",
       "</table>\n",
       "</div>"
      ],
      "text/plain": [
       "          date  iexId  isEnabled  \\\n",
       "0   2019-03-18      2       True   \n",
       "1   2019-03-18  12042       True   \n",
       "2   2019-03-18  14924       True   \n",
       "3   2019-03-18   7653       True   \n",
       "4   2019-03-18   9169       True   \n",
       "5   2019-03-18      5       True   \n",
       "6   2019-03-18   8148       True   \n",
       "7   2019-03-18   7760       True   \n",
       "8   2019-03-18      7       True   \n",
       "9   2019-03-18      8       True   \n",
       "10  2019-03-18   7790       True   \n",
       "11  2019-03-18      9       True   \n",
       "12  2019-03-18     10       True   \n",
       "13  2019-03-18     11       True   \n",
       "14  2019-03-18     12       True   \n",
       "15  2019-03-18     13       True   \n",
       "16  2019-03-18     15       True   \n",
       "17  2019-03-18     16       True   \n",
       "18  2019-03-18   6667       True   \n",
       "19  2019-03-18     17       True   \n",
       "\n",
       "                                                 name symbol type  \\\n",
       "0                           Agilent Technologies Inc.      A   cs   \n",
       "1                                   Alcoa Corporation     AA   cs   \n",
       "2                            Perth Mint Physical Gold   AAAU  NaN   \n",
       "3                                         Altaba Inc.   AABA   cs   \n",
       "4                                   AAC Holdings Inc.    AAC   cs   \n",
       "5                     AdvisorShares Dorsey Wright ADR   AADR   et   \n",
       "6                        American Airlines Group Inc.    AAL   cs   \n",
       "7                Altisource Asset Management Corp Com   AAMC   cs   \n",
       "8                       Atlantic American Corporation   AAME   cs   \n",
       "9                                        Aaron's Inc.    AAN   cs   \n",
       "10                       Applied Optoelectronics Inc.   AAOI   cs   \n",
       "11                                          AAON Inc.   AAON   cs   \n",
       "12                         Advance Auto Parts Inc W/I    AAP   cs   \n",
       "13                                         Apple Inc.   AAPL   cs   \n",
       "14                         American Assets Trust Inc.    AAT   cs   \n",
       "15                              Almaden Minerals Ltd.    AAU   cs   \n",
       "16                       Atlas Air Worldwide Holdings   AAWW   cs   \n",
       "17  iShares MSCI All Country Asia ex Japan Index Fund   AAXJ   et   \n",
       "18                               Axon Enterprise Inc.   AAXN   cs   \n",
       "19               AllianceBernstein Holding L.P. Units     AB   cs   \n",
       "\n",
       "                sector  \n",
       "0           Healthcare  \n",
       "1      Basic Materials  \n",
       "2                  NaN  \n",
       "3   Financial Services  \n",
       "4           Healthcare  \n",
       "5                  NaN  \n",
       "6          Industrials  \n",
       "7   Financial Services  \n",
       "8   Financial Services  \n",
       "9          Industrials  \n",
       "10          Technology  \n",
       "11     Basic Materials  \n",
       "12   Consumer Cyclical  \n",
       "13          Technology  \n",
       "14         Real Estate  \n",
       "15     Basic Materials  \n",
       "16         Industrials  \n",
       "17                 NaN  \n",
       "18         Industrials  \n",
       "19  Financial Services  "
      ]
     },
     "execution_count": 103,
     "metadata": {},
     "output_type": "execute_result"
    }
   ],
   "source": [
    "df_ticker.iloc[:20]"
   ]
  },
  {
   "cell_type": "code",
   "execution_count": 16,
   "metadata": {},
   "outputs": [],
   "source": [
    "#exporting\n",
    "#df_close.to_csv('df_close.csv', sep=';', index=True)\n",
    "#df_ticker.to_csv('df_ticker.csv', sep=';', index=True)"
   ]
  },
  {
   "cell_type": "markdown",
   "metadata": {},
   "source": [
    "## Data manipulation"
   ]
  },
  {
   "cell_type": "code",
   "execution_count": 3,
   "metadata": {},
   "outputs": [],
   "source": [
    "df_close=pd.read_csv('df_close.csv', sep=';', index_col=0)\n",
    "df_ticker=pd.read_csv('df_ticker.csv', sep=';', index_col=0)"
   ]
  },
  {
   "cell_type": "code",
   "execution_count": 4,
   "metadata": {},
   "outputs": [],
   "source": [
    "#Simple returns dataframe\n",
    "df_simple=df_close.copy().pct_change(1)"
   ]
  },
  {
   "cell_type": "code",
   "execution_count": 5,
   "metadata": {},
   "outputs": [
    {
     "data": {
      "text/html": [
       "<div>\n",
       "<style scoped>\n",
       "    .dataframe tbody tr th:only-of-type {\n",
       "        vertical-align: middle;\n",
       "    }\n",
       "\n",
       "    .dataframe tbody tr th {\n",
       "        vertical-align: top;\n",
       "    }\n",
       "\n",
       "    .dataframe thead th {\n",
       "        text-align: right;\n",
       "    }\n",
       "</style>\n",
       "<table border=\"1\" class=\"dataframe\">\n",
       "  <thead>\n",
       "    <tr style=\"text-align: right;\">\n",
       "      <th></th>\n",
       "      <th>A</th>\n",
       "      <th>AA</th>\n",
       "      <th>AAAU</th>\n",
       "      <th>AABA</th>\n",
       "      <th>AAC</th>\n",
       "      <th>AADR</th>\n",
       "      <th>AAL</th>\n",
       "      <th>AAMC</th>\n",
       "      <th>AAME</th>\n",
       "      <th>AAN</th>\n",
       "      <th>...</th>\n",
       "      <th>ZUO</th>\n",
       "      <th>ZVV</th>\n",
       "      <th>ZVVV</th>\n",
       "      <th>ZVZZT</th>\n",
       "      <th>ZWZZT</th>\n",
       "      <th>ZXIET</th>\n",
       "      <th>ZXZZT</th>\n",
       "      <th>ZYME</th>\n",
       "      <th>ZYNE</th>\n",
       "      <th>ZYXI</th>\n",
       "    </tr>\n",
       "    <tr>\n",
       "      <th>date</th>\n",
       "      <th></th>\n",
       "      <th></th>\n",
       "      <th></th>\n",
       "      <th></th>\n",
       "      <th></th>\n",
       "      <th></th>\n",
       "      <th></th>\n",
       "      <th></th>\n",
       "      <th></th>\n",
       "      <th></th>\n",
       "      <th></th>\n",
       "      <th></th>\n",
       "      <th></th>\n",
       "      <th></th>\n",
       "      <th></th>\n",
       "      <th></th>\n",
       "      <th></th>\n",
       "      <th></th>\n",
       "      <th></th>\n",
       "      <th></th>\n",
       "      <th></th>\n",
       "    </tr>\n",
       "  </thead>\n",
       "  <tbody>\n",
       "    <tr>\n",
       "      <th>2018-12-26</th>\n",
       "      <td>0.045795</td>\n",
       "      <td>0.079125</td>\n",
       "      <td>-0.001553</td>\n",
       "      <td>0.039311</td>\n",
       "      <td>0.098684</td>\n",
       "      <td>0.036565</td>\n",
       "      <td>0.086473</td>\n",
       "      <td>0.127273</td>\n",
       "      <td>-0.055745</td>\n",
       "      <td>0.063211</td>\n",
       "      <td>...</td>\n",
       "      <td>0.088631</td>\n",
       "      <td>0.000000</td>\n",
       "      <td>NaN</td>\n",
       "      <td>-0.000997</td>\n",
       "      <td>0.000000</td>\n",
       "      <td>0.0</td>\n",
       "      <td>0.0</td>\n",
       "      <td>0.082130</td>\n",
       "      <td>-0.006803</td>\n",
       "      <td>0.000000</td>\n",
       "    </tr>\n",
       "    <tr>\n",
       "      <th>2018-12-27</th>\n",
       "      <td>0.014343</td>\n",
       "      <td>0.000737</td>\n",
       "      <td>0.006672</td>\n",
       "      <td>0.001209</td>\n",
       "      <td>-0.107784</td>\n",
       "      <td>-0.006026</td>\n",
       "      <td>-0.007742</td>\n",
       "      <td>0.021505</td>\n",
       "      <td>0.057564</td>\n",
       "      <td>-0.010226</td>\n",
       "      <td>...</td>\n",
       "      <td>0.005053</td>\n",
       "      <td>0.000000</td>\n",
       "      <td>NaN</td>\n",
       "      <td>0.000998</td>\n",
       "      <td>0.000000</td>\n",
       "      <td>0.0</td>\n",
       "      <td>0.0</td>\n",
       "      <td>-0.024187</td>\n",
       "      <td>0.010274</td>\n",
       "      <td>-0.022305</td>\n",
       "    </tr>\n",
       "    <tr>\n",
       "      <th>2018-12-28</th>\n",
       "      <td>-0.005368</td>\n",
       "      <td>-0.020619</td>\n",
       "      <td>0.003875</td>\n",
       "      <td>0.006555</td>\n",
       "      <td>-0.053691</td>\n",
       "      <td>0.010076</td>\n",
       "      <td>-0.006553</td>\n",
       "      <td>-0.002368</td>\n",
       "      <td>0.005570</td>\n",
       "      <td>0.010572</td>\n",
       "      <td>...</td>\n",
       "      <td>-0.013966</td>\n",
       "      <td>0.012048</td>\n",
       "      <td>NaN</td>\n",
       "      <td>-0.000997</td>\n",
       "      <td>0.000000</td>\n",
       "      <td>0.0</td>\n",
       "      <td>0.0</td>\n",
       "      <td>0.166667</td>\n",
       "      <td>-0.010169</td>\n",
       "      <td>0.007605</td>\n",
       "    </tr>\n",
       "    <tr>\n",
       "      <th>2018-12-31</th>\n",
       "      <td>0.022741</td>\n",
       "      <td>-0.000752</td>\n",
       "      <td>0.001649</td>\n",
       "      <td>-0.007027</td>\n",
       "      <td>-0.007092</td>\n",
       "      <td>0.002028</td>\n",
       "      <td>0.008796</td>\n",
       "      <td>-0.216829</td>\n",
       "      <td>0.010700</td>\n",
       "      <td>-0.000238</td>\n",
       "      <td>...</td>\n",
       "      <td>0.027762</td>\n",
       "      <td>0.000000</td>\n",
       "      <td>NaN</td>\n",
       "      <td>0.000000</td>\n",
       "      <td>-0.071429</td>\n",
       "      <td>0.0</td>\n",
       "      <td>0.0</td>\n",
       "      <td>0.075458</td>\n",
       "      <td>0.017123</td>\n",
       "      <td>0.109434</td>\n",
       "    </tr>\n",
       "    <tr>\n",
       "      <th>2019-01-02</th>\n",
       "      <td>-0.026238</td>\n",
       "      <td>-0.012792</td>\n",
       "      <td>0.017941</td>\n",
       "      <td>-0.007767</td>\n",
       "      <td>0.164286</td>\n",
       "      <td>0.006489</td>\n",
       "      <td>0.011523</td>\n",
       "      <td>0.010778</td>\n",
       "      <td>0.033753</td>\n",
       "      <td>0.034009</td>\n",
       "      <td>...</td>\n",
       "      <td>0.003308</td>\n",
       "      <td>0.000000</td>\n",
       "      <td>NaN</td>\n",
       "      <td>0.000000</td>\n",
       "      <td>0.000000</td>\n",
       "      <td>0.0</td>\n",
       "      <td>0.0</td>\n",
       "      <td>0.000681</td>\n",
       "      <td>0.252525</td>\n",
       "      <td>-0.017007</td>\n",
       "    </tr>\n",
       "  </tbody>\n",
       "</table>\n",
       "<p>5 rows × 8683 columns</p>\n",
       "</div>"
      ],
      "text/plain": [
       "                   A        AA      AAAU      AABA       AAC      AADR  \\\n",
       "date                                                                     \n",
       "2018-12-26  0.045795  0.079125 -0.001553  0.039311  0.098684  0.036565   \n",
       "2018-12-27  0.014343  0.000737  0.006672  0.001209 -0.107784 -0.006026   \n",
       "2018-12-28 -0.005368 -0.020619  0.003875  0.006555 -0.053691  0.010076   \n",
       "2018-12-31  0.022741 -0.000752  0.001649 -0.007027 -0.007092  0.002028   \n",
       "2019-01-02 -0.026238 -0.012792  0.017941 -0.007767  0.164286  0.006489   \n",
       "\n",
       "                 AAL      AAMC      AAME       AAN    ...          ZUO  \\\n",
       "date                                                  ...                \n",
       "2018-12-26  0.086473  0.127273 -0.055745  0.063211    ...     0.088631   \n",
       "2018-12-27 -0.007742  0.021505  0.057564 -0.010226    ...     0.005053   \n",
       "2018-12-28 -0.006553 -0.002368  0.005570  0.010572    ...    -0.013966   \n",
       "2018-12-31  0.008796 -0.216829  0.010700 -0.000238    ...     0.027762   \n",
       "2019-01-02  0.011523  0.010778  0.033753  0.034009    ...     0.003308   \n",
       "\n",
       "                 ZVV  ZVVV     ZVZZT     ZWZZT  ZXIET  ZXZZT      ZYME  \\\n",
       "date                                                                     \n",
       "2018-12-26  0.000000   NaN -0.000997  0.000000    0.0    0.0  0.082130   \n",
       "2018-12-27  0.000000   NaN  0.000998  0.000000    0.0    0.0 -0.024187   \n",
       "2018-12-28  0.012048   NaN -0.000997  0.000000    0.0    0.0  0.166667   \n",
       "2018-12-31  0.000000   NaN  0.000000 -0.071429    0.0    0.0  0.075458   \n",
       "2019-01-02  0.000000   NaN  0.000000  0.000000    0.0    0.0  0.000681   \n",
       "\n",
       "                ZYNE      ZYXI  \n",
       "date                            \n",
       "2018-12-26 -0.006803  0.000000  \n",
       "2018-12-27  0.010274 -0.022305  \n",
       "2018-12-28 -0.010169  0.007605  \n",
       "2018-12-31  0.017123  0.109434  \n",
       "2019-01-02  0.252525 -0.017007  \n",
       "\n",
       "[5 rows x 8683 columns]"
      ]
     },
     "execution_count": 5,
     "metadata": {},
     "output_type": "execute_result"
    }
   ],
   "source": [
    "df_simple.tail()"
   ]
  },
  {
   "cell_type": "code",
   "execution_count": 6,
   "metadata": {},
   "outputs": [],
   "source": [
    "# cc returns dataframe\n",
    "df_cc=df_simple.copy()\n",
    "df_cc +=1\n",
    "df_cc=df_cc.copy().apply(np.log)"
   ]
  },
  {
   "cell_type": "code",
   "execution_count": 7,
   "metadata": {},
   "outputs": [
    {
     "data": {
      "text/plain": [
       "(1007, 8683)"
      ]
     },
     "execution_count": 7,
     "metadata": {},
     "output_type": "execute_result"
    }
   ],
   "source": [
    "df_cc.shape #days and number of stocks"
   ]
  },
  {
   "cell_type": "markdown",
   "metadata": {},
   "source": [
    "#### Prepare data for plots "
   ]
  },
  {
   "cell_type": "code",
   "execution_count": 8,
   "metadata": {},
   "outputs": [
    {
     "data": {
      "text/html": [
       "<div>\n",
       "<style scoped>\n",
       "    .dataframe tbody tr th:only-of-type {\n",
       "        vertical-align: middle;\n",
       "    }\n",
       "\n",
       "    .dataframe tbody tr th {\n",
       "        vertical-align: top;\n",
       "    }\n",
       "\n",
       "    .dataframe thead th {\n",
       "        text-align: right;\n",
       "    }\n",
       "</style>\n",
       "<table border=\"1\" class=\"dataframe\">\n",
       "  <thead>\n",
       "    <tr style=\"text-align: right;\">\n",
       "      <th></th>\n",
       "      <th>date</th>\n",
       "      <th>return</th>\n",
       "      <th>symbol</th>\n",
       "      <th>name</th>\n",
       "      <th>sector</th>\n",
       "      <th>year</th>\n",
       "    </tr>\n",
       "  </thead>\n",
       "  <tbody>\n",
       "    <tr>\n",
       "      <th>8743776</th>\n",
       "      <td>2019-01-02</td>\n",
       "      <td>100.00</td>\n",
       "      <td>ZXIET</td>\n",
       "      <td>ZXIET Test Incorporated</td>\n",
       "      <td>NaN</td>\n",
       "      <td>2019</td>\n",
       "    </tr>\n",
       "    <tr>\n",
       "      <th>8743777</th>\n",
       "      <td>2019-01-02</td>\n",
       "      <td>42.89</td>\n",
       "      <td>ZXZZT</td>\n",
       "      <td>NASDAQ TEST STOCK</td>\n",
       "      <td>NaN</td>\n",
       "      <td>2019</td>\n",
       "    </tr>\n",
       "    <tr>\n",
       "      <th>8743778</th>\n",
       "      <td>2019-01-02</td>\n",
       "      <td>14.69</td>\n",
       "      <td>ZYME</td>\n",
       "      <td>Zymeworks Inc.</td>\n",
       "      <td>Healthcare</td>\n",
       "      <td>2019</td>\n",
       "    </tr>\n",
       "    <tr>\n",
       "      <th>8743779</th>\n",
       "      <td>2019-01-02</td>\n",
       "      <td>3.72</td>\n",
       "      <td>ZYNE</td>\n",
       "      <td>Zynerba Pharmaceuticals Inc.</td>\n",
       "      <td>Healthcare</td>\n",
       "      <td>2019</td>\n",
       "    </tr>\n",
       "    <tr>\n",
       "      <th>8743780</th>\n",
       "      <td>2019-01-02</td>\n",
       "      <td>2.89</td>\n",
       "      <td>ZYXI</td>\n",
       "      <td>Zynex Inc.</td>\n",
       "      <td>Healthcare</td>\n",
       "      <td>2019</td>\n",
       "    </tr>\n",
       "  </tbody>\n",
       "</table>\n",
       "</div>"
      ],
      "text/plain": [
       "               date  return symbol                          name      sector  \\\n",
       "8743776  2019-01-02  100.00  ZXIET       ZXIET Test Incorporated         NaN   \n",
       "8743777  2019-01-02   42.89  ZXZZT             NASDAQ TEST STOCK         NaN   \n",
       "8743778  2019-01-02   14.69   ZYME                Zymeworks Inc.  Healthcare   \n",
       "8743779  2019-01-02    3.72   ZYNE  Zynerba Pharmaceuticals Inc.  Healthcare   \n",
       "8743780  2019-01-02    2.89   ZYXI                    Zynex Inc.  Healthcare   \n",
       "\n",
       "         year  \n",
       "8743776  2019  \n",
       "8743777  2019  \n",
       "8743778  2019  \n",
       "8743779  2019  \n",
       "8743780  2019  "
      ]
     },
     "execution_count": 8,
     "metadata": {},
     "output_type": "execute_result"
    }
   ],
   "source": [
    "df_close_long = df_close.transpose() # transposing close data data \n",
    "df_close_long = pd.melt(df_close_long.reset_index() ,id_vars='index',var_name='date', value_name='return') # make data long for later use\n",
    "df_close_long = df_close_long.merge(df_ticker[['symbol', 'name','sector']], how = 'left', left_on = 'index', right_on = 'symbol') # merging on sector\n",
    "df_close_long['year'] = df_close_long['date'].astype(str).str[:4] # Create new column with the year\n",
    "df_close_long = df_close_long.drop(columns=['index'])\n",
    "df_close_long.tail()\n"
   ]
  },
  {
   "cell_type": "code",
   "execution_count": 9,
   "metadata": {},
   "outputs": [
    {
     "data": {
      "text/html": [
       "<div>\n",
       "<style scoped>\n",
       "    .dataframe tbody tr th:only-of-type {\n",
       "        vertical-align: middle;\n",
       "    }\n",
       "\n",
       "    .dataframe tbody tr th {\n",
       "        vertical-align: top;\n",
       "    }\n",
       "\n",
       "    .dataframe thead th {\n",
       "        text-align: right;\n",
       "    }\n",
       "</style>\n",
       "<table border=\"1\" class=\"dataframe\">\n",
       "  <thead>\n",
       "    <tr style=\"text-align: right;\">\n",
       "      <th></th>\n",
       "      <th>date</th>\n",
       "      <th>return</th>\n",
       "      <th>symbol</th>\n",
       "      <th>name</th>\n",
       "      <th>sector</th>\n",
       "      <th>year</th>\n",
       "    </tr>\n",
       "  </thead>\n",
       "  <tbody>\n",
       "    <tr>\n",
       "      <th>8743776</th>\n",
       "      <td>2019-01-02</td>\n",
       "      <td>0.000000</td>\n",
       "      <td>ZXIET</td>\n",
       "      <td>ZXIET Test Incorporated</td>\n",
       "      <td>NaN</td>\n",
       "      <td>2019</td>\n",
       "    </tr>\n",
       "    <tr>\n",
       "      <th>8743777</th>\n",
       "      <td>2019-01-02</td>\n",
       "      <td>0.000000</td>\n",
       "      <td>ZXZZT</td>\n",
       "      <td>NASDAQ TEST STOCK</td>\n",
       "      <td>NaN</td>\n",
       "      <td>2019</td>\n",
       "    </tr>\n",
       "    <tr>\n",
       "      <th>8743778</th>\n",
       "      <td>2019-01-02</td>\n",
       "      <td>0.000681</td>\n",
       "      <td>ZYME</td>\n",
       "      <td>Zymeworks Inc.</td>\n",
       "      <td>Healthcare</td>\n",
       "      <td>2019</td>\n",
       "    </tr>\n",
       "    <tr>\n",
       "      <th>8743779</th>\n",
       "      <td>2019-01-02</td>\n",
       "      <td>0.252525</td>\n",
       "      <td>ZYNE</td>\n",
       "      <td>Zynerba Pharmaceuticals Inc.</td>\n",
       "      <td>Healthcare</td>\n",
       "      <td>2019</td>\n",
       "    </tr>\n",
       "    <tr>\n",
       "      <th>8743780</th>\n",
       "      <td>2019-01-02</td>\n",
       "      <td>-0.017007</td>\n",
       "      <td>ZYXI</td>\n",
       "      <td>Zynex Inc.</td>\n",
       "      <td>Healthcare</td>\n",
       "      <td>2019</td>\n",
       "    </tr>\n",
       "  </tbody>\n",
       "</table>\n",
       "</div>"
      ],
      "text/plain": [
       "               date    return symbol                          name  \\\n",
       "8743776  2019-01-02  0.000000  ZXIET       ZXIET Test Incorporated   \n",
       "8743777  2019-01-02  0.000000  ZXZZT             NASDAQ TEST STOCK   \n",
       "8743778  2019-01-02  0.000681   ZYME                Zymeworks Inc.   \n",
       "8743779  2019-01-02  0.252525   ZYNE  Zynerba Pharmaceuticals Inc.   \n",
       "8743780  2019-01-02 -0.017007   ZYXI                    Zynex Inc.   \n",
       "\n",
       "             sector  year  \n",
       "8743776         NaN  2019  \n",
       "8743777         NaN  2019  \n",
       "8743778  Healthcare  2019  \n",
       "8743779  Healthcare  2019  \n",
       "8743780  Healthcare  2019  "
      ]
     },
     "execution_count": 9,
     "metadata": {},
     "output_type": "execute_result"
    }
   ],
   "source": [
    "df_simple_long = df_simple.transpose() # transposing return data \n",
    "df_simple_long = pd.melt(df_simple_long.reset_index() ,id_vars='index',var_name='date', value_name='return') # make data long for later use\n",
    "df_simple_long = df_simple_long.merge(df_ticker[['symbol', 'name','sector']], how = 'left', left_on = 'index', right_on = 'symbol') # merging on sector\n",
    "df_simple_long['year'] = df_simple_long['date'].astype(str).str[:4] # Create new column with the year\n",
    "df_simple_long = df_simple_long.drop(columns=['index'])\n",
    "df_simple_long.tail()"
   ]
  },
  {
   "cell_type": "code",
   "execution_count": 131,
   "metadata": {},
   "outputs": [],
   "source": [
    "# save the data \n",
    "\n",
    "df_simple.to_csv('df_simple.csv', sep=';', index=True)\n",
    "df_close_long.to_csv('df_close_long.csv', sep=';', index=True)\n",
    "df_simple_long.to_csv('df_simple_long.csv', sep=';', index=True)"
   ]
  },
  {
   "cell_type": "markdown",
   "metadata": {},
   "source": [
    "## Summary statistics (Mazzi?)"
   ]
  },
  {
   "cell_type": "markdown",
   "metadata": {},
   "source": [
    "#### Simple daily returns and cc daily returns\n",
    "simple returns: $R_t=\\frac{P_t}{P_{t-1}}-1$\n",
    "\n",
    "cc returns: $r_t=log\\left(\\frac{P_t}{P_{t-1}}\\right)$\n",
    "\n",
    "Whick implies: $r_t=log(1+R_t)$\n",
    "\n",
    "\n",
    "Plot cc vs. simple to illustrate"
   ]
  },
  {
   "cell_type": "code",
   "execution_count": 10,
   "metadata": {},
   "outputs": [
    {
     "name": "stdout",
     "output_type": "stream",
     "text": [
      "8715\n"
     ]
    }
   ],
   "source": [
    "# Number of symbols\n",
    "print(df_ticker['symbol'].count()) # the data contains 8715 symbols"
   ]
  },
  {
   "cell_type": "code",
   "execution_count": 11,
   "metadata": {},
   "outputs": [
    {
     "name": "stdout",
     "output_type": "stream",
     "text": [
      "symbol\n",
      "A       1007\n",
      "AA      1007\n",
      "AAAU    1007\n",
      "AABA    1007\n",
      "AAC     1007\n",
      "Name: symbol, dtype: int64\n"
     ]
    }
   ],
   "source": [
    "# number of observations within each symbol\n",
    "print(df_close_long.groupby('symbol')['symbol'].count()[:5]) # create a frequency table for symbols. We see that there is 1007 observations for each symbol\n"
   ]
  },
  {
   "cell_type": "markdown",
   "metadata": {},
   "source": [
    "## Descriptive plots (Sofie?)"
   ]
  },
  {
   "cell_type": "markdown",
   "metadata": {},
   "source": [
    "#### Number of tickers by sector"
   ]
  },
  {
   "cell_type": "code",
   "execution_count": 14,
   "metadata": {},
   "outputs": [
    {
     "name": "stdout",
     "output_type": "stream",
     "text": [
      "sector\n",
      "cryptocurrency              18\n",
      "Communication Services     100\n",
      "Utilities                  142\n",
      "Consumer Defensive         219\n",
      "Basic Materials            300\n",
      "Energy                     314\n",
      "Real Estate                459\n",
      "Consumer Cyclical          603\n",
      "Technology                 727\n",
      "Industrials                794\n",
      "Healthcare                 887\n",
      "Financial Services        1539\n",
      "Name: symbol, dtype: int64\n"
     ]
    },
    {
     "data": {
      "image/png": "[encoded data removed]",
      "text/plain": [
       "<Figure size 432x288 with 1 Axes>"
      ]
     },
     "metadata": {
      "needs_background": "light"
     },
     "output_type": "display_data"
    }
   ],
   "source": [
    "sector_freq = df_ticker.groupby('sector')['symbol'].count() # create a frequency table\n",
    "sector_freq = sector_freq.sort_values(ascending=True) #sort the series \n",
    "print(sector_freq)\n",
    "sector_freq.plot.barh(color = 'blue') # plotting the data\n",
    "plt.xlabel('# of tickers')\n",
    "plt.ylabel('Sector')\n",
    "plt.title('# of ticks by sector')\n",
    "plt.show()\n",
    "\n"
   ]
  },
  {
   "cell_type": "markdown",
   "metadata": {},
   "source": [
    "#### Average simple return by sector"
   ]
  },
  {
   "cell_type": "code",
   "execution_count": 16,
   "metadata": {},
   "outputs": [
    {
     "name": "stdout",
     "output_type": "stream",
     "text": [
      "sector\n",
      "Industrials                0.000220\n",
      "Communication Services     0.000232\n",
      "Real Estate                0.000239\n",
      "Financial Services         0.000289\n",
      "Utilities                  0.000324\n",
      "Basic Materials            0.000448\n",
      "Consumer Cyclical          0.001047\n",
      "Healthcare                 0.003494\n",
      "Energy                     0.034726\n",
      "Technology                 2.868992\n",
      "Consumer Defensive        15.985646\n",
      "Name: return, dtype: float64\n"
     ]
    },
    {
     "data": {
      "image/png": "[encoded data removed]",
      "text/plain": [
       "<Figure size 432x288 with 1 Axes>"
      ]
     },
     "metadata": {
      "needs_background": "light"
     },
     "output_type": "display_data"
    }
   ],
   "source": [
    "simple_return_sector = df_simple_long.groupby(['sector'])['return'].mean().sort_values(ascending=True)\n",
    "print(simple_return_sector )\n",
    "simple_return_sector.plot.barh( color = 'blue') # plotting the data\n",
    "plt.xlabel('Avg return')\n",
    "plt.ylabel('Sector')\n",
    "plt.title('# Avg return by sector')\n",
    "plt.show()"
   ]
  },
  {
   "cell_type": "markdown",
   "metadata": {},
   "source": [
    "#### Average close return by sector"
   ]
  },
  {
   "cell_type": "code",
   "execution_count": 17,
   "metadata": {},
   "outputs": [
    {
     "name": "stdout",
     "output_type": "stream",
     "text": [
      "sector\n",
      "Industrials                0.000220\n",
      "Communication Services     0.000232\n",
      "Real Estate                0.000239\n",
      "Financial Services         0.000289\n",
      "Utilities                  0.000324\n",
      "Basic Materials            0.000448\n",
      "Consumer Cyclical          0.001047\n",
      "Healthcare                 0.003494\n",
      "Energy                     0.034726\n",
      "Technology                 2.868992\n",
      "Consumer Defensive        15.985646\n",
      "Name: return, dtype: float64\n"
     ]
    },
    {
     "data": {
      "image/png": "[encoded data removed]",
      "text/plain": [
       "<Figure size 432x288 with 1 Axes>"
      ]
     },
     "metadata": {
      "needs_background": "light"
     },
     "output_type": "display_data"
    }
   ],
   "source": [
    "close_sector = df_simple_long.groupby(['sector'])['return'].mean().sort_values(ascending=True)\n",
    "print(close_sector )\n",
    "close_sector .plot.barh( color = 'blue') # plotting the data\n",
    "plt.xlabel('Avg close')\n",
    "plt.ylabel('Sector')\n",
    "plt.title('# Avg Close by Sector')\n",
    "plt.show()"
   ]
  },
  {
   "cell_type": "markdown",
   "metadata": {},
   "source": [
    "#### Apples close in a given period"
   ]
  },
  {
   "cell_type": "code",
   "execution_count": 18,
   "metadata": {},
   "outputs": [],
   "source": [
    "symbol = 'AAPL'\n",
    "start_date = '2018-01-01'\n",
    "end_date = '2019-01-01'"
   ]
  },
  {
   "cell_type": "code",
   "execution_count": 19,
   "metadata": {},
   "outputs": [
    {
     "name": "stderr",
     "output_type": "stream",
     "text": [
      "/anaconda3/lib/python3.7/site-packages/ipykernel_launcher.py:2: SettingWithCopyWarning: \n",
      "A value is trying to be set on a copy of a slice from a DataFrame.\n",
      "Try using .loc[row_indexer,col_indexer] = value instead\n",
      "\n",
      "See the caveats in the documentation: http://pandas.pydata.org/pandas-docs/stable/indexing.html#indexing-view-versus-copy\n",
      "  \n"
     ]
    },
    {
     "data": {
      "text/plain": [
       "<matplotlib.axes._subplots.AxesSubplot at 0x1bfd439b0>"
      ]
     },
     "execution_count": 19,
     "metadata": {},
     "output_type": "execute_result"
    },
    {
     "data": {
      "image/png": "[encoded data removed]",
      "text/plain": [
       "<Figure size 432x288 with 1 Axes>"
      ]
     },
     "metadata": {
      "needs_background": "light"
     },
     "output_type": "display_data"
    }
   ],
   "source": [
    "close_plot = df_close_long.loc[df_close_long['symbol'] == symbol]\n",
    "close_plot['date'] = pd.to_datetime(close_plot['date'], format='%Y-%m-%d') # change variable to date\n",
    "close_plot = close_plot.loc[df_close_long['date'] >= start_date]\n",
    "close_plot = close_plot.loc[close_plot['date'] <= end_date]\n",
    "close_plot.plot('date', 'return', kind = 'line')"
   ]
  },
  {
   "cell_type": "markdown",
   "metadata": {},
   "source": [
    "## Interactive plot (Sofie + Waldemar?)"
   ]
  },
  {
   "cell_type": "markdown",
   "metadata": {},
   "source": [
    "Need some installs: https://github.com/matplotlib/jupyter-matplotlib\n",
    "\n",
    "`pip install ipympl`\n",
    "\n",
    "`# If using JupyterLab`\n",
    "\n",
    "`# Install nodejs: https://nodejs.org/en/download/`\n",
    "\n",
    "`jupyter labextension install @jupyter-widgets/jupyterlab-manager`\n",
    "\n",
    "`jupyter labextension install jupyter-matplotlib`\n"
   ]
  },
  {
   "cell_type": "markdown",
   "metadata": {},
   "source": [
    "#### Content\n",
    "1. Interactive plot with close price (from df_close) with slider for date, dropdown for ticker (multiple stock selection?)\n",
    "1. Interactive plot with returns (either from df_simple or df_cc) with slider for date, dropdown for ticker\n",
    "1. Interactive plot with indicies for sectors (need to create df) with slider for date, dropdown for sector (multiple selection allowed) ? (WALDEMAR)"
   ]
  },
  {
   "cell_type": "code",
   "execution_count": 117,
   "metadata": {},
   "outputs": [
    {
     "data": {
      "application/vnd.jupyter.widget-view+json": {
       "model_id": "4090167a36774ba9bac706efddfb343d",
       "version_major": 2,
       "version_minor": 0
      },
      "text/plain": [
       "FigureCanvasNbAgg()"
      ]
     },
     "metadata": {},
     "output_type": "display_data"
    },
    {
     "data": {
      "text/plain": [
       "[<matplotlib.lines.Line2D at 0x121bf6b00>]"
      ]
     },
     "execution_count": 117,
     "metadata": {},
     "output_type": "execute_result"
    }
   ],
   "source": [
    "import matplotlib.pyplot as plt\n",
    "%matplotlib widget\n",
    "\n",
    "#plt.figure()\n",
    "#x = [1,2,3]\n",
    "#y = [4,5,6]\n",
    "#plt.plot(x,y)\n",
    "\n",
    "\n",
    "plt.plot(df_close.sample(1, axis=1)) #Plotting random stock's closing price"
   ]
  },
  {
   "cell_type": "markdown",
   "metadata": {},
   "source": [
    "### "
   ]
  },
  {
   "cell_type": "code",
   "execution_count": 118,
   "metadata": {},
   "outputs": [],
   "source": [
    "symbol = 'AAPL'\n",
    "start_date = '2018-01-01'\n",
    "end_date = '2018-03-01'\n",
    "dataframe = df_close_long\n",
    "I = (dataframe.date >= start_date) & (dataframe.date <= end_date) & (dataframe.symbol == symbol)\n",
    "df_close_long['date'] = pd.to_datetime(df_close_long['date'], format='%Y-%m-%d') # change variable to date"
   ]
  },
  {
   "cell_type": "code",
   "execution_count": 168,
   "metadata": {},
   "outputs": [],
   "source": [
    "def interactive_plot(dataframe, symbol):\n",
    "    I = (dataframe.date >= start_date) & (dataframe.date <= end_date) & (dataframe.symbol == symbol)\n",
    "    ax=dataframe.loc[I,:].plot(x='date', y='return', style='-o', legend='False')"
   ]
  },
  {
   "cell_type": "code",
   "execution_count": 120,
   "metadata": {},
   "outputs": [],
   "source": [
    "import ipywidgets as widgets"
   ]
  },
  {
   "cell_type": "code",
   "execution_count": 121,
   "metadata": {},
   "outputs": [
    {
     "data": {
      "application/vnd.jupyter.widget-view+json": {
       "model_id": "19b954571847495f914c695f0fbf20e3",
       "version_major": 2,
       "version_minor": 0
      },
      "text/plain": [
       "FigureCanvasNbAgg()"
      ]
     },
     "metadata": {},
     "output_type": "display_data"
    }
   ],
   "source": [
    "widgets.interact(interactive_plot, \n",
    "                 dataframe = widgets.fixed(df_close_long),\n",
    "                 symbol = widgets.Dropdown(description='symbol', options=df_ticker.symbol.unique(), value='AAPL')\n",
    "); "
   ]
  },
  {
   "cell_type": "code",
   "execution_count": 122,
   "metadata": {},
   "outputs": [
    {
     "data": {
      "application/vnd.jupyter.widget-view+json": {
       "model_id": "0ed6e8a3104a4b48b16213d81849620f",
       "version_major": 2,
       "version_minor": 0
      },
      "text/plain": [
       "FigureCanvasNbAgg()"
      ]
     },
     "metadata": {},
     "output_type": "display_data"
    },
    {
     "data": {
      "text/plain": [
       "<matplotlib.axes._subplots.AxesSubplot at 0x14fc3b630>"
      ]
     },
     "execution_count": 122,
     "metadata": {},
     "output_type": "execute_result"
    }
   ],
   "source": [
    "dataframe.loc[I,:].plot('date', 'return', kind = 'line')"
   ]
  },
  {
   "cell_type": "code",
   "execution_count": null,
   "metadata": {},
   "outputs": [],
   "source": []
  }
 ],
 "metadata": {
  "kernelspec": {
   "display_name": "Python 3",
   "language": "python",
   "name": "python3"
  },
  "language_info": {
   "codemirror_mode": {
    "name": "ipython",
    "version": 3
   },
   "file_extension": ".py",
   "mimetype": "text/x-python",
   "name": "python",
   "nbconvert_exporter": "python",
   "pygments_lexer": "ipython3",
   "version": "3.7.1"
  }
 },
 "nbformat": 4,
 "nbformat_minor": 2
}
