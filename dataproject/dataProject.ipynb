{
 "cells": [
  {
   "cell_type": "markdown",
   "metadata": {},
   "source": [
    "### Imports"
   ]
  },
  {
   "cell_type": "code",
   "execution_count": 1,
   "metadata": {},
   "outputs": [],
   "source": [
    "import pandas as pd\n",
    "import numpy as np\n",
    "import iexfinance as iex  #pip install iexfinance\n",
    "from datetime import datetime\n",
    "\n",
    "import requests\n",
    "import random\n",
    "import time\n",
    "from bs4 import BeautifulSoup\n",
    "import re"
   ]
  },
  {
   "cell_type": "code",
   "execution_count": 1,
   "metadata": {},
   "outputs": [
    {
     "name": "stdout",
     "output_type": "stream",
     "text": [
      "The autoreload extension is already loaded. To reload it, use:\n",
      "  %reload_ext autoreload\n"
     ]
    }
   ],
   "source": [
    "%load_ext autoreload\n",
    "%autoreload 2"
   ]
  },
  {
   "cell_type": "markdown",
   "metadata": {},
   "source": [
    "## Content overview for workflow: \n",
    "#### Stock data from IEX or some other source? (https://www.quora.com/Using-Python-whats-the-best-way-to-get-stock-data)\n",
    "\n",
    "1. Load in stock data (how much?)\n",
    "    - Find a list/source for tickers, so we know which stocks to fetch -> https://iextrading.com/trading/eligible-symbols/\n",
    "    - Get individual stocks from certain indicies? Or random subset from the ticker list?\n",
    "    - Maybe get different industry indicies?\n",
    "        - We need some form of sector/industry segmentation for the stocks\n",
    "        - We need open, close, industry, sector, market cap ... ?\n",
    "1. Basic summary statistics\n",
    "    - Which stocks, how many in each segment, countries?,\n",
    "    - Calculate returns... \n",
    "    - generate new variables that we need (may only be daily returns)\n",
    "1. Plots for individual stocks\n",
    "    - What does e.g. the price of  Apple, Danske Bank look like over time?\n",
    "1. Interactive plot\n",
    "    - A plot that shows weighted returns for our given subsample\n",
    "    - Slider with time period (start, end)\n",
    "    - Segmentation selection\n"
   ]
  },
  {
   "cell_type": "markdown",
   "metadata": {},
   "source": [
    "### Remember to comment on code :)"
   ]
  },
  {
   "cell_type": "markdown",
   "metadata": {},
   "source": [
    "## Data load-in (Waldemar?)"
   ]
  },
  {
   "cell_type": "code",
   "execution_count": 5,
   "metadata": {},
   "outputs": [
    {
     "name": "stdout",
     "output_type": "stream",
     "text": [
      "All is well - response OK\n"
     ]
    }
   ],
   "source": [
    "#Retrieving list of ticker symbols and listed firm names from IEX\n",
    "url = \"https://iextrading.com/trading/eligible-symbols/\" #\n",
    "\n",
    "response = requests.get(url) #fetching URL content\n",
    "\n",
    "if response.ok==True: #checking if we have access via requests module\n",
    "    html = response.text #fetching raw HTML as text\n",
    "    soup = BeautifulSoup(html,'lxml') #html parsing into readable soup\n",
    "    print(\"All is well - response OK\")\n",
    "\n",
    "else: #if Access Denied or other error\n",
    "    print(\"Response not OK - check link: \"+str(url))"
   ]
  },
  {
   "cell_type": "markdown",
   "metadata": {},
   "source": [
    "## Summary statistics (Mazzi?)"
   ]
  },
  {
   "cell_type": "code",
   "execution_count": null,
   "metadata": {},
   "outputs": [],
   "source": []
  },
  {
   "cell_type": "markdown",
   "metadata": {},
   "source": [
    "## Descriptive plots (Sofie?)"
   ]
  },
  {
   "cell_type": "code",
   "execution_count": null,
   "metadata": {},
   "outputs": [],
   "source": []
  },
  {
   "cell_type": "markdown",
   "metadata": {},
   "source": [
    "## Interactive plot (Sofie + Waldemar?)"
   ]
  },
  {
   "cell_type": "code",
   "execution_count": null,
   "metadata": {},
   "outputs": [],
   "source": []
  }
 ],
 "metadata": {
  "kernelspec": {
   "display_name": "Python 3",
   "language": "python",
   "name": "python3"
  },
  "language_info": {
   "codemirror_mode": {
    "name": "ipython",
    "version": 3
   },
   "file_extension": ".py",
   "mimetype": "text/x-python",
   "name": "python",
   "nbconvert_exporter": "python",
   "pygments_lexer": "ipython3",
   "version": "3.7.0"
  }
 },
 "nbformat": 4,
 "nbformat_minor": 2
}
