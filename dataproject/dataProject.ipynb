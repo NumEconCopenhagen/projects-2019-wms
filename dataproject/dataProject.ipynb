{
 "cells": [
  {
   "cell_type": "markdown",
   "metadata": {},
   "source": [
    "### Imports"
   ]
  },
  {
   "cell_type": "code",
   "execution_count": 1,
   "metadata": {},
   "outputs": [],
   "source": [
    "import pandas as pd\n",
    "import numpy as np\n",
    "import iexfinance as iex  #pip install iexfinance\n",
    "from iexfinance.stocks import Stock\n",
    "from datetime import datetime\n",
    "\n",
    "import requests\n",
    "import random\n",
    "import time\n",
    "from bs4 import BeautifulSoup\n",
    "import re\n",
    "from tqdm import tqdm"
   ]
  },
  {
   "cell_type": "code",
   "execution_count": 5,
   "metadata": {},
   "outputs": [],
   "source": [
    "%load_ext autoreload\n",
    "%autoreload 2"
   ]
  },
  {
   "cell_type": "markdown",
   "metadata": {},
   "source": [
    "## Content overview for workflow: \n",
    "#### Stock data from IEX or some other source? (https://www.quora.com/Using-Python-whats-the-best-way-to-get-stock-data)\n",
    "\n",
    "1. Load in stock data (how much?)\n",
    "    - Find a list/source for tickers, so we know which stocks to fetch -> https://iextrading.com/trading/eligible-symbols/\n",
    "    - Get individual stocks from certain indicies? Or random subset from the ticker list?\n",
    "    - Maybe get different industry indicies?\n",
    "        - We need some form of sector/industry segmentation for the stocks\n",
    "        - We need open, close, industry, sector, market cap ... ?\n",
    "1. Basic summary statistics\n",
    "    - Which stocks, how many in each segment, countries?,\n",
    "    - Calculate returns... \n",
    "    - generate new variables that we need (may only be daily returns)\n",
    "1. Plots for individual stocks\n",
    "    - What does e.g. the price of  Apple, Danske Bank look like over time?\n",
    "1. Interactive plot\n",
    "    - A plot that shows weighted returns for our given subsample\n",
    "    - Slider with time period (start, end)\n",
    "    - Segmentation selection\n"
   ]
  },
  {
   "cell_type": "markdown",
   "metadata": {},
   "source": [
    "### Remember to comment on code :)"
   ]
  },
  {
   "cell_type": "markdown",
   "metadata": {},
   "source": [
    "## Data load-in (Waldemar?)"
   ]
  },
  {
   "cell_type": "markdown",
   "metadata": {},
   "source": [
    "This sections loads in historical daily price data for stocks in the US using the *IEX* python module.\n",
    "\n",
    "The goal is to calculate daily returns (simple and continuously compounded (cc)) for each stock - and visualize this information in the subsequent sections."
   ]
  },
  {
   "cell_type": "code",
   "execution_count": 3,
   "metadata": {},
   "outputs": [
    {
     "data": {
      "text/html": [
       "<div>\n",
       "<style scoped>\n",
       "    .dataframe tbody tr th:only-of-type {\n",
       "        vertical-align: middle;\n",
       "    }\n",
       "\n",
       "    .dataframe tbody tr th {\n",
       "        vertical-align: top;\n",
       "    }\n",
       "\n",
       "    .dataframe thead th {\n",
       "        text-align: right;\n",
       "    }\n",
       "</style>\n",
       "<table border=\"1\" class=\"dataframe\">\n",
       "  <thead>\n",
       "    <tr style=\"text-align: right;\">\n",
       "      <th></th>\n",
       "      <th>date</th>\n",
       "      <th>iexId</th>\n",
       "      <th>isEnabled</th>\n",
       "      <th>name</th>\n",
       "      <th>symbol</th>\n",
       "      <th>type</th>\n",
       "    </tr>\n",
       "  </thead>\n",
       "  <tbody>\n",
       "    <tr>\n",
       "      <th>3576</th>\n",
       "      <td>2019-03-18</td>\n",
       "      <td>3097</td>\n",
       "      <td>True</td>\n",
       "      <td>Hallmark Financial Services Inc.</td>\n",
       "      <td>HALL</td>\n",
       "      <td>cs</td>\n",
       "    </tr>\n",
       "    <tr>\n",
       "      <th>4222</th>\n",
       "      <td>2019-03-18</td>\n",
       "      <td>8250</td>\n",
       "      <td>True</td>\n",
       "      <td>Intra-Cellular Therapies Inc.</td>\n",
       "      <td>ITCI</td>\n",
       "      <td>cs</td>\n",
       "    </tr>\n",
       "    <tr>\n",
       "      <th>2658</th>\n",
       "      <td>2019-03-18</td>\n",
       "      <td>2349</td>\n",
       "      <td>True</td>\n",
       "      <td>iShares MSCI United Kingdom</td>\n",
       "      <td>EWU</td>\n",
       "      <td>N/A</td>\n",
       "    </tr>\n",
       "    <tr>\n",
       "      <th>2993</th>\n",
       "      <td>2019-03-18</td>\n",
       "      <td>2589</td>\n",
       "      <td>True</td>\n",
       "      <td>First Trust Mid Cap Value AlphaDEX Fund</td>\n",
       "      <td>FNK</td>\n",
       "      <td>et</td>\n",
       "    </tr>\n",
       "    <tr>\n",
       "      <th>2605</th>\n",
       "      <td>2019-03-18</td>\n",
       "      <td>2304</td>\n",
       "      <td>True</td>\n",
       "      <td>Eaton Vance Senior Income Trust</td>\n",
       "      <td>EVF</td>\n",
       "      <td>cs</td>\n",
       "    </tr>\n",
       "  </tbody>\n",
       "</table>\n",
       "</div>"
      ],
      "text/plain": [
       "            date iexId  isEnabled                                     name  \\\n",
       "3576  2019-03-18  3097       True         Hallmark Financial Services Inc.   \n",
       "4222  2019-03-18  8250       True            Intra-Cellular Therapies Inc.   \n",
       "2658  2019-03-18  2349       True              iShares MSCI United Kingdom   \n",
       "2993  2019-03-18  2589       True  First Trust Mid Cap Value AlphaDEX Fund   \n",
       "2605  2019-03-18  2304       True          Eaton Vance Senior Income Trust   \n",
       "\n",
       "     symbol type  \n",
       "3576   HALL   cs  \n",
       "4222   ITCI   cs  \n",
       "2658    EWU  N/A  \n",
       "2993    FNK   et  \n",
       "2605    EVF   cs  "
      ]
     },
     "execution_count": 3,
     "metadata": {},
     "output_type": "execute_result"
    }
   ],
   "source": [
    "x=iex.refdata.get_symbols() #list of dicts with ticker symbols, names of all stocks in IEX database\n",
    "\n",
    "df_ticker=pd.DataFrame(x) #To a dataframe\n",
    "df_ticker.sample(5) #view of 5  random stocks"
   ]
  },
  {
   "cell_type": "code",
   "execution_count": 4,
   "metadata": {},
   "outputs": [
    {
     "data": {
      "text/html": [
       "<div>\n",
       "<style scoped>\n",
       "    .dataframe tbody tr th:only-of-type {\n",
       "        vertical-align: middle;\n",
       "    }\n",
       "\n",
       "    .dataframe tbody tr th {\n",
       "        vertical-align: top;\n",
       "    }\n",
       "\n",
       "    .dataframe thead th {\n",
       "        text-align: right;\n",
       "    }\n",
       "</style>\n",
       "<table border=\"1\" class=\"dataframe\">\n",
       "  <thead>\n",
       "    <tr style=\"text-align: right;\">\n",
       "      <th></th>\n",
       "      <th>date</th>\n",
       "      <th>iexId</th>\n",
       "      <th>isEnabled</th>\n",
       "      <th>name</th>\n",
       "      <th>symbol</th>\n",
       "      <th>type</th>\n",
       "    </tr>\n",
       "  </thead>\n",
       "  <tbody>\n",
       "    <tr>\n",
       "      <th>13</th>\n",
       "      <td>2019-03-18</td>\n",
       "      <td>11</td>\n",
       "      <td>True</td>\n",
       "      <td>Apple Inc.</td>\n",
       "      <td>AAPL</td>\n",
       "      <td>cs</td>\n",
       "    </tr>\n",
       "  </tbody>\n",
       "</table>\n",
       "</div>"
      ],
      "text/plain": [
       "          date iexId  isEnabled        name symbol type\n",
       "13  2019-03-18    11       True  Apple Inc.   AAPL   cs"
      ]
     },
     "execution_count": 4,
     "metadata": {},
     "output_type": "execute_result"
    }
   ],
   "source": [
    "df_ticker.loc[df_ticker['name'] == 'Apple Inc.']"
   ]
  },
  {
   "cell_type": "code",
   "execution_count": 5,
   "metadata": {},
   "outputs": [
    {
     "data": {
      "text/plain": [
       "['A', 'AA', 'AAAU', 'AABA', 'AAC']"
      ]
     },
     "execution_count": 5,
     "metadata": {},
     "output_type": "execute_result"
    }
   ],
   "source": [
    "tickers= list(df_ticker['symbol']) # tickers for 100 random stocks #.loc[df_ticker['isEnabled']==True] .sample(100, random_state=10)\n",
    "tickers[0:5]"
   ]
  },
  {
   "cell_type": "code",
   "execution_count": 6,
   "metadata": {},
   "outputs": [],
   "source": [
    "#Initing different containers for the first ticker\n",
    "\n",
    "sector={} #empty dict for sectors for each ticker\n",
    "\n",
    "stock=Stock(tickers[0])\n",
    "sect=stock.get_book()['quote']['sector']\n",
    "sector.update({tickers[0] : sect})\n",
    "\n",
    "df_close=pd.DataFrame(iex.stocks.get_historical_data(tickers[0], start='2015-01-02', end='2019-01-02', output_format='pandas')['close'])\n",
    "df_close=df_close.rename(columns = {'close' : tickers[0]})"
   ]
  },
  {
   "cell_type": "code",
   "execution_count": 7,
   "metadata": {},
   "outputs": [
    {
     "name": "stderr",
     "output_type": "stream",
     "text": [
      "  6%|████▍                                                                        | 496/8714 [11:29<2:55:07,  1.28s/it]"
     ]
    },
    {
     "name": "stdout",
     "output_type": "stream",
     "text": [
      "ARNC- does not exist\n"
     ]
    },
    {
     "name": "stderr",
     "output_type": "stream",
     "text": [
      "  9%|███████                                                                      | 801/8714 [18:38<3:12:16,  1.46s/it]"
     ]
    },
    {
     "name": "stdout",
     "output_type": "stream",
     "text": [
      "BFL does not exist\n"
     ]
    },
    {
     "name": "stderr",
     "output_type": "stream",
     "text": [
      " 15%|███████████▊                                                                | 1348/8714 [31:10<2:45:19,  1.35s/it]"
     ]
    },
    {
     "name": "stdout",
     "output_type": "stream",
     "text": [
      "CHAC+ does not exist\n"
     ]
    },
    {
     "name": "stderr",
     "output_type": "stream",
     "text": [
      " 25%|██████████████████▊                                                         | 2159/8714 [50:27<3:12:29,  1.76s/it]"
     ]
    },
    {
     "name": "stdout",
     "output_type": "stream",
     "text": [
      "DTLA- does not exist\n"
     ]
    },
    {
     "name": "stderr",
     "output_type": "stream",
     "text": [
      " 38%|████████████████████████████                                              | 3311/8714 [1:18:03<2:08:16,  1.42s/it]"
     ]
    },
    {
     "name": "stdout",
     "output_type": "stream",
     "text": [
      "GIG^ does not exist\n"
     ]
    },
    {
     "name": "stderr",
     "output_type": "stream",
     "text": [
      " 43%|███████████████████████████████▍                                          | 3709/8714 [1:27:30<2:05:53,  1.51s/it]"
     ]
    },
    {
     "name": "stdout",
     "output_type": "stream",
     "text": [
      "HLM- does not exist\n"
     ]
    },
    {
     "name": "stderr",
     "output_type": "stream",
     "text": [
      " 53%|███████████████████████████████████████▏                                  | 4608/8714 [1:48:58<1:54:15,  1.67s/it]"
     ]
    },
    {
     "name": "stdout",
     "output_type": "stream",
     "text": [
      "KSU- does not exist\n"
     ]
    },
    {
     "name": "stderr",
     "output_type": "stream",
     "text": [
      " 60%|████████████████████████████████████████████▍                             | 5231/8714 [2:04:21<1:49:38,  1.89s/it]"
     ]
    },
    {
     "name": "stdout",
     "output_type": "stream",
     "text": [
      "MTB- does not exist\n"
     ]
    },
    {
     "name": "stderr",
     "output_type": "stream",
     "text": [
      " 60%|████████████████████████████████████████████▌                             | 5249/8714 [2:04:47<1:27:10,  1.51s/it]"
     ]
    },
    {
     "name": "stdout",
     "output_type": "stream",
     "text": [
      "MTL- does not exist\n"
     ]
    },
    {
     "name": "stderr",
     "output_type": "stream",
     "text": [
      " 65%|████████████████████████████████████████████████▎                         | 5682/8714 [2:15:31<1:19:03,  1.56s/it]"
     ]
    },
    {
     "name": "stdout",
     "output_type": "stream",
     "text": [
      "NONE does not exist\n"
     ]
    },
    {
     "name": "stderr",
     "output_type": "stream",
     "text": [
      " 73%|█████████████████████████████████████████████████████▊                    | 6339/8714 [2:31:37<1:01:08,  1.54s/it]"
     ]
    },
    {
     "name": "stdout",
     "output_type": "stream",
     "text": [
      "PUK- does not exist\n"
     ]
    },
    {
     "name": "stderr",
     "output_type": "stream",
     "text": [
      " 76%|█████████████████████████████████████████████████████████▉                  | 6645/8714 [2:39:02<42:55,  1.24s/it]"
     ]
    },
    {
     "name": "stdout",
     "output_type": "stream",
     "text": [
      "RMPL- does not exist\n"
     ]
    },
    {
     "name": "stderr",
     "output_type": "stream",
     "text": [
      " 90%|████████████████████████████████████████████████████████████████████▌       | 7857/8714 [3:09:23<28:12,  1.98s/it]"
     ]
    },
    {
     "name": "stdout",
     "output_type": "stream",
     "text": [
      "TY- does not exist\n"
     ]
    },
    {
     "name": "stderr",
     "output_type": "stream",
     "text": [
      "100%|███████████████████████████████████████████████████████████████████████████▋| 8675/8714 [3:30:15<00:59,  1.53s/it]"
     ]
    },
    {
     "name": "stdout",
     "output_type": "stream",
     "text": [
      "ZNWAA does not exist\n"
     ]
    },
    {
     "name": "stderr",
     "output_type": "stream",
     "text": [
      "100%|███████████████████████████████████████████████████████████████████████████▊| 8696/8714 [3:30:45<00:25,  1.40s/it]"
     ]
    },
    {
     "name": "stdout",
     "output_type": "stream",
     "text": [
      "BTCUSDT does not exist\n"
     ]
    },
    {
     "name": "stderr",
     "output_type": "stream",
     "text": [
      "100%|███████████████████████████████████████████████████████████████████████████▊| 8697/8714 [3:30:46<00:22,  1.32s/it]"
     ]
    },
    {
     "name": "stdout",
     "output_type": "stream",
     "text": [
      "EOSUSDT does not exist\n"
     ]
    },
    {
     "name": "stderr",
     "output_type": "stream",
     "text": [
      "100%|███████████████████████████████████████████████████████████████████████████▊| 8698/8714 [3:30:47<00:19,  1.21s/it]"
     ]
    },
    {
     "name": "stdout",
     "output_type": "stream",
     "text": [
      "ETHUSDT does not exist\n"
     ]
    },
    {
     "name": "stderr",
     "output_type": "stream",
     "text": [
      "100%|███████████████████████████████████████████████████████████████████████████▊| 8699/8714 [3:30:48<00:17,  1.14s/it]"
     ]
    },
    {
     "name": "stdout",
     "output_type": "stream",
     "text": [
      "BNBUSDT does not exist\n"
     ]
    },
    {
     "name": "stderr",
     "output_type": "stream",
     "text": [
      "100%|███████████████████████████████████████████████████████████████████████████▉| 8700/8714 [3:30:49<00:15,  1.09s/it]"
     ]
    },
    {
     "name": "stdout",
     "output_type": "stream",
     "text": [
      "ONTUSDT does not exist\n"
     ]
    },
    {
     "name": "stderr",
     "output_type": "stream",
     "text": [
      "100%|███████████████████████████████████████████████████████████████████████████▉| 8701/8714 [3:30:50<00:13,  1.06s/it]"
     ]
    },
    {
     "name": "stdout",
     "output_type": "stream",
     "text": [
      "BCCUSDT does not exist\n"
     ]
    },
    {
     "name": "stderr",
     "output_type": "stream",
     "text": [
      "100%|███████████████████████████████████████████████████████████████████████████▉| 8702/8714 [3:30:51<00:13,  1.10s/it]"
     ]
    },
    {
     "name": "stdout",
     "output_type": "stream",
     "text": [
      "ADAUSDT does not exist\n"
     ]
    },
    {
     "name": "stderr",
     "output_type": "stream",
     "text": [
      "100%|███████████████████████████████████████████████████████████████████████████▉| 8703/8714 [3:30:52<00:11,  1.06s/it]"
     ]
    },
    {
     "name": "stdout",
     "output_type": "stream",
     "text": [
      "XRPUSDT does not exist\n"
     ]
    },
    {
     "name": "stderr",
     "output_type": "stream",
     "text": [
      "100%|███████████████████████████████████████████████████████████████████████████▉| 8704/8714 [3:30:54<00:11,  1.20s/it]"
     ]
    },
    {
     "name": "stdout",
     "output_type": "stream",
     "text": [
      "TUSDUSDT does not exist\n"
     ]
    },
    {
     "name": "stderr",
     "output_type": "stream",
     "text": [
      "100%|███████████████████████████████████████████████████████████████████████████▉| 8705/8714 [3:30:55<00:11,  1.25s/it]"
     ]
    },
    {
     "name": "stdout",
     "output_type": "stream",
     "text": [
      "TRXUSDT does not exist\n"
     ]
    },
    {
     "name": "stderr",
     "output_type": "stream",
     "text": [
      "100%|███████████████████████████████████████████████████████████████████████████▉| 8706/8714 [3:30:56<00:09,  1.16s/it]"
     ]
    },
    {
     "name": "stdout",
     "output_type": "stream",
     "text": [
      "LTCUSDT does not exist\n"
     ]
    },
    {
     "name": "stderr",
     "output_type": "stream",
     "text": [
      "100%|███████████████████████████████████████████████████████████████████████████▉| 8707/8714 [3:30:57<00:07,  1.13s/it]"
     ]
    },
    {
     "name": "stdout",
     "output_type": "stream",
     "text": [
      "ETCUSDT does not exist\n"
     ]
    },
    {
     "name": "stderr",
     "output_type": "stream",
     "text": [
      "100%|███████████████████████████████████████████████████████████████████████████▉| 8708/8714 [3:30:58<00:06,  1.14s/it]"
     ]
    },
    {
     "name": "stdout",
     "output_type": "stream",
     "text": [
      "IOTAUSDT does not exist\n"
     ]
    },
    {
     "name": "stderr",
     "output_type": "stream",
     "text": [
      "100%|███████████████████████████████████████████████████████████████████████████▉| 8709/8714 [3:30:59<00:05,  1.10s/it]"
     ]
    },
    {
     "name": "stdout",
     "output_type": "stream",
     "text": [
      "ICXUSDT does not exist\n"
     ]
    },
    {
     "name": "stderr",
     "output_type": "stream",
     "text": [
      "100%|███████████████████████████████████████████████████████████████████████████▉| 8710/8714 [3:31:01<00:04,  1.09s/it]"
     ]
    },
    {
     "name": "stdout",
     "output_type": "stream",
     "text": [
      "NEOUSDT does not exist\n"
     ]
    },
    {
     "name": "stderr",
     "output_type": "stream",
     "text": [
      "100%|███████████████████████████████████████████████████████████████████████████▉| 8711/8714 [3:31:01<00:03,  1.05s/it]"
     ]
    },
    {
     "name": "stdout",
     "output_type": "stream",
     "text": [
      "VENUSDT does not exist\n"
     ]
    },
    {
     "name": "stderr",
     "output_type": "stream",
     "text": [
      "100%|███████████████████████████████████████████████████████████████████████████▉| 8712/8714 [3:31:02<00:02,  1.02s/it]"
     ]
    },
    {
     "name": "stdout",
     "output_type": "stream",
     "text": [
      "XLMUSDT does not exist\n"
     ]
    },
    {
     "name": "stderr",
     "output_type": "stream",
     "text": [
      "100%|███████████████████████████████████████████████████████████████████████████▉| 8713/8714 [3:31:03<00:01,  1.03s/it]"
     ]
    },
    {
     "name": "stdout",
     "output_type": "stream",
     "text": [
      "QTUMUSDT does not exist\n"
     ]
    },
    {
     "name": "stderr",
     "output_type": "stream",
     "text": []
    }
   ],
   "source": [
    "remove_stocks=[] #container for stocks that have tickers, but do not have historical data available\n",
    "\n",
    "for i in tqdm(tickers[1:], leave=False): #runtime is ~3-4 hours?\n",
    "    \n",
    "    #Retrieving sector for each ticker\n",
    "    try: \n",
    "        stock=Stock(i) #turning ticker i into iex.Stock object\n",
    "        sect=stock.get_book()['quote']['sector'] #extracting sector from books\n",
    "        sector.update({i : sect}) #appending to dict\n",
    "    except:\n",
    "        remove_stocks.append(i)\n",
    "        \n",
    "        \n",
    "    #Creating df with close prices for each ticker\n",
    "    try: \n",
    "        test=iex.stocks.get_historical_data(i, start='2015-01-02', end='2019-01-02', output_format='pandas')['close'] #returns a series\n",
    "        test_df=pd.DataFrame(test)\n",
    "        test_df=test_df.rename(columns = {'close' : i})\n",
    "        \n",
    "        #Final df with close prices with stock as a col\n",
    "        df_close = pd.merge(df_close, test_df, how='left', left_index=True, right_index=True)\n",
    "    except:\n",
    "        remove_stocks.append(i)\n",
    "\n"
   ]
  },
  {
   "cell_type": "code",
   "execution_count": 8,
   "metadata": {},
   "outputs": [],
   "source": [
    "#Turning SECTOR dict into series then dataframe:\n",
    "x=pd.Series(sector)\n",
    "df_sect=pd.DataFrame(x)\n",
    "df_sect=df_sect.rename(columns={0 : 'sector'}) #renaming col\n",
    "\n",
    "#Merging onto df_ticker\n",
    "df_ticker=pd.merge(df_ticker, df_sect, how='left',  left_on=df_ticker['symbol'], right_index=True)"
   ]
  },
  {
   "cell_type": "code",
   "execution_count": 19,
   "metadata": {},
   "outputs": [
    {
     "data": {
      "text/html": [
       "<div>\n",
       "<style scoped>\n",
       "    .dataframe tbody tr th:only-of-type {\n",
       "        vertical-align: middle;\n",
       "    }\n",
       "\n",
       "    .dataframe tbody tr th {\n",
       "        vertical-align: top;\n",
       "    }\n",
       "\n",
       "    .dataframe thead th {\n",
       "        text-align: right;\n",
       "    }\n",
       "</style>\n",
       "<table border=\"1\" class=\"dataframe\">\n",
       "  <thead>\n",
       "    <tr style=\"text-align: right;\">\n",
       "      <th></th>\n",
       "      <th>date</th>\n",
       "      <th>iexId</th>\n",
       "      <th>isEnabled</th>\n",
       "      <th>name</th>\n",
       "      <th>symbol</th>\n",
       "      <th>type</th>\n",
       "      <th>sector</th>\n",
       "    </tr>\n",
       "  </thead>\n",
       "  <tbody>\n",
       "    <tr>\n",
       "      <th>0</th>\n",
       "      <td>2019-03-18</td>\n",
       "      <td>2</td>\n",
       "      <td>True</td>\n",
       "      <td>Agilent Technologies Inc.</td>\n",
       "      <td>A</td>\n",
       "      <td>cs</td>\n",
       "      <td>Healthcare</td>\n",
       "    </tr>\n",
       "    <tr>\n",
       "      <th>1</th>\n",
       "      <td>2019-03-18</td>\n",
       "      <td>12042</td>\n",
       "      <td>True</td>\n",
       "      <td>Alcoa Corporation</td>\n",
       "      <td>AA</td>\n",
       "      <td>cs</td>\n",
       "      <td>Basic Materials</td>\n",
       "    </tr>\n",
       "    <tr>\n",
       "      <th>2</th>\n",
       "      <td>2019-03-18</td>\n",
       "      <td>14924</td>\n",
       "      <td>True</td>\n",
       "      <td>Perth Mint Physical Gold</td>\n",
       "      <td>AAAU</td>\n",
       "      <td>NaN</td>\n",
       "      <td>NaN</td>\n",
       "    </tr>\n",
       "    <tr>\n",
       "      <th>3</th>\n",
       "      <td>2019-03-18</td>\n",
       "      <td>7653</td>\n",
       "      <td>True</td>\n",
       "      <td>Altaba Inc.</td>\n",
       "      <td>AABA</td>\n",
       "      <td>cs</td>\n",
       "      <td>Financial Services</td>\n",
       "    </tr>\n",
       "    <tr>\n",
       "      <th>4</th>\n",
       "      <td>2019-03-18</td>\n",
       "      <td>9169</td>\n",
       "      <td>True</td>\n",
       "      <td>AAC Holdings Inc.</td>\n",
       "      <td>AAC</td>\n",
       "      <td>cs</td>\n",
       "      <td>Healthcare</td>\n",
       "    </tr>\n",
       "  </tbody>\n",
       "</table>\n",
       "</div>"
      ],
      "text/plain": [
       "         date  iexId  isEnabled                       name symbol type  \\\n",
       "0  2019-03-18      2       True  Agilent Technologies Inc.      A   cs   \n",
       "1  2019-03-18  12042       True          Alcoa Corporation     AA   cs   \n",
       "2  2019-03-18  14924       True   Perth Mint Physical Gold   AAAU  NaN   \n",
       "3  2019-03-18   7653       True                Altaba Inc.   AABA   cs   \n",
       "4  2019-03-18   9169       True          AAC Holdings Inc.    AAC   cs   \n",
       "\n",
       "               sector  \n",
       "0          Healthcare  \n",
       "1     Basic Materials  \n",
       "2                 NaN  \n",
       "3  Financial Services  \n",
       "4          Healthcare  "
      ]
     },
     "execution_count": 19,
     "metadata": {},
     "output_type": "execute_result"
    }
   ],
   "source": [
    "df_ticker.head()"
   ]
  },
  {
   "cell_type": "code",
   "execution_count": 16,
   "metadata": {},
   "outputs": [],
   "source": [
    "#exporting\n",
    "#df_close.to_csv('df_close.csv', sep=';', index=True)\n",
    "#df_ticker.to_csv('df_ticker.csv', sep=';', index=True)"
   ]
  },
  {
   "cell_type": "markdown",
   "metadata": {},
   "source": [
    "## Data manipulation"
   ]
  },
  {
   "cell_type": "code",
   "execution_count": 13,
   "metadata": {},
   "outputs": [],
   "source": [
    "df_close=pd.read_csv('df_close.csv', sep=';', index_col=0)\n",
    "df_ticker=pd.read_csv('df_ticker.csv', sep=';', index_col=0)"
   ]
  },
  {
   "cell_type": "code",
   "execution_count": 14,
   "metadata": {},
   "outputs": [],
   "source": [
    "#Simple returns dataframe\n",
    "df_simple=df_close.copy().pct_change(1)"
   ]
  },
  {
   "cell_type": "code",
   "execution_count": 15,
   "metadata": {},
   "outputs": [
    {
     "data": {
      "text/html": [
       "<div>\n",
       "<style scoped>\n",
       "    .dataframe tbody tr th:only-of-type {\n",
       "        vertical-align: middle;\n",
       "    }\n",
       "\n",
       "    .dataframe tbody tr th {\n",
       "        vertical-align: top;\n",
       "    }\n",
       "\n",
       "    .dataframe thead th {\n",
       "        text-align: right;\n",
       "    }\n",
       "</style>\n",
       "<table border=\"1\" class=\"dataframe\">\n",
       "  <thead>\n",
       "    <tr style=\"text-align: right;\">\n",
       "      <th></th>\n",
       "      <th>A</th>\n",
       "      <th>AA</th>\n",
       "      <th>AAAU</th>\n",
       "      <th>AABA</th>\n",
       "      <th>AAC</th>\n",
       "      <th>AADR</th>\n",
       "      <th>AAL</th>\n",
       "      <th>AAMC</th>\n",
       "      <th>AAME</th>\n",
       "      <th>AAN</th>\n",
       "      <th>...</th>\n",
       "      <th>ZUO</th>\n",
       "      <th>ZVV</th>\n",
       "      <th>ZVVV</th>\n",
       "      <th>ZVZZT</th>\n",
       "      <th>ZWZZT</th>\n",
       "      <th>ZXIET</th>\n",
       "      <th>ZXZZT</th>\n",
       "      <th>ZYME</th>\n",
       "      <th>ZYNE</th>\n",
       "      <th>ZYXI</th>\n",
       "    </tr>\n",
       "    <tr>\n",
       "      <th>date</th>\n",
       "      <th></th>\n",
       "      <th></th>\n",
       "      <th></th>\n",
       "      <th></th>\n",
       "      <th></th>\n",
       "      <th></th>\n",
       "      <th></th>\n",
       "      <th></th>\n",
       "      <th></th>\n",
       "      <th></th>\n",
       "      <th></th>\n",
       "      <th></th>\n",
       "      <th></th>\n",
       "      <th></th>\n",
       "      <th></th>\n",
       "      <th></th>\n",
       "      <th></th>\n",
       "      <th></th>\n",
       "      <th></th>\n",
       "      <th></th>\n",
       "      <th></th>\n",
       "    </tr>\n",
       "  </thead>\n",
       "  <tbody>\n",
       "    <tr>\n",
       "      <th>2015-01-02</th>\n",
       "      <td>NaN</td>\n",
       "      <td>NaN</td>\n",
       "      <td>NaN</td>\n",
       "      <td>NaN</td>\n",
       "      <td>NaN</td>\n",
       "      <td>NaN</td>\n",
       "      <td>NaN</td>\n",
       "      <td>NaN</td>\n",
       "      <td>NaN</td>\n",
       "      <td>NaN</td>\n",
       "      <td>...</td>\n",
       "      <td>NaN</td>\n",
       "      <td>NaN</td>\n",
       "      <td>NaN</td>\n",
       "      <td>NaN</td>\n",
       "      <td>NaN</td>\n",
       "      <td>NaN</td>\n",
       "      <td>NaN</td>\n",
       "      <td>NaN</td>\n",
       "      <td>NaN</td>\n",
       "      <td>NaN</td>\n",
       "    </tr>\n",
       "    <tr>\n",
       "      <th>2015-01-05</th>\n",
       "      <td>-0.018737</td>\n",
       "      <td>NaN</td>\n",
       "      <td>NaN</td>\n",
       "      <td>-0.020730</td>\n",
       "      <td>-0.015889</td>\n",
       "      <td>-0.012228</td>\n",
       "      <td>-0.000649</td>\n",
       "      <td>0.041842</td>\n",
       "      <td>-0.004963</td>\n",
       "      <td>-0.003920</td>\n",
       "      <td>...</td>\n",
       "      <td>NaN</td>\n",
       "      <td>0.0</td>\n",
       "      <td>NaN</td>\n",
       "      <td>0.003996</td>\n",
       "      <td>0.641791</td>\n",
       "      <td>NaN</td>\n",
       "      <td>-0.933088</td>\n",
       "      <td>NaN</td>\n",
       "      <td>NaN</td>\n",
       "      <td>-0.111667</td>\n",
       "    </tr>\n",
       "    <tr>\n",
       "      <th>2015-01-06</th>\n",
       "      <td>-0.015579</td>\n",
       "      <td>NaN</td>\n",
       "      <td>NaN</td>\n",
       "      <td>0.001628</td>\n",
       "      <td>-0.011773</td>\n",
       "      <td>-0.008358</td>\n",
       "      <td>-0.015499</td>\n",
       "      <td>-0.037756</td>\n",
       "      <td>-0.022421</td>\n",
       "      <td>-0.037379</td>\n",
       "      <td>...</td>\n",
       "      <td>NaN</td>\n",
       "      <td>0.0</td>\n",
       "      <td>NaN</td>\n",
       "      <td>-0.442289</td>\n",
       "      <td>-0.119091</td>\n",
       "      <td>NaN</td>\n",
       "      <td>9990.208791</td>\n",
       "      <td>NaN</td>\n",
       "      <td>NaN</td>\n",
       "      <td>0.000000</td>\n",
       "    </tr>\n",
       "    <tr>\n",
       "      <th>2015-01-07</th>\n",
       "      <td>0.013273</td>\n",
       "      <td>NaN</td>\n",
       "      <td>NaN</td>\n",
       "      <td>-0.012599</td>\n",
       "      <td>-0.025187</td>\n",
       "      <td>0.000000</td>\n",
       "      <td>-0.000565</td>\n",
       "      <td>0.006128</td>\n",
       "      <td>0.000000</td>\n",
       "      <td>0.030313</td>\n",
       "      <td>...</td>\n",
       "      <td>NaN</td>\n",
       "      <td>0.0</td>\n",
       "      <td>NaN</td>\n",
       "      <td>0.072257</td>\n",
       "      <td>-0.276574</td>\n",
       "      <td>NaN</td>\n",
       "      <td>-0.000121</td>\n",
       "      <td>NaN</td>\n",
       "      <td>NaN</td>\n",
       "      <td>-0.062539</td>\n",
       "    </tr>\n",
       "    <tr>\n",
       "      <th>2015-01-08</th>\n",
       "      <td>0.029975</td>\n",
       "      <td>NaN</td>\n",
       "      <td>NaN</td>\n",
       "      <td>0.033752</td>\n",
       "      <td>0.025489</td>\n",
       "      <td>0.015622</td>\n",
       "      <td>0.012263</td>\n",
       "      <td>0.038908</td>\n",
       "      <td>0.007654</td>\n",
       "      <td>0.016198</td>\n",
       "      <td>...</td>\n",
       "      <td>NaN</td>\n",
       "      <td>0.0</td>\n",
       "      <td>NaN</td>\n",
       "      <td>0.046589</td>\n",
       "      <td>0.000000</td>\n",
       "      <td>NaN</td>\n",
       "      <td>-0.998108</td>\n",
       "      <td>NaN</td>\n",
       "      <td>NaN</td>\n",
       "      <td>0.000000</td>\n",
       "    </tr>\n",
       "  </tbody>\n",
       "</table>\n",
       "<p>5 rows × 8683 columns</p>\n",
       "</div>"
      ],
      "text/plain": [
       "                   A  AA  AAAU      AABA       AAC      AADR       AAL  \\\n",
       "date                                                                     \n",
       "2015-01-02       NaN NaN   NaN       NaN       NaN       NaN       NaN   \n",
       "2015-01-05 -0.018737 NaN   NaN -0.020730 -0.015889 -0.012228 -0.000649   \n",
       "2015-01-06 -0.015579 NaN   NaN  0.001628 -0.011773 -0.008358 -0.015499   \n",
       "2015-01-07  0.013273 NaN   NaN -0.012599 -0.025187  0.000000 -0.000565   \n",
       "2015-01-08  0.029975 NaN   NaN  0.033752  0.025489  0.015622  0.012263   \n",
       "\n",
       "                AAMC      AAME       AAN    ...     ZUO  ZVV  ZVVV     ZVZZT  \\\n",
       "date                                        ...                                \n",
       "2015-01-02       NaN       NaN       NaN    ...     NaN  NaN   NaN       NaN   \n",
       "2015-01-05  0.041842 -0.004963 -0.003920    ...     NaN  0.0   NaN  0.003996   \n",
       "2015-01-06 -0.037756 -0.022421 -0.037379    ...     NaN  0.0   NaN -0.442289   \n",
       "2015-01-07  0.006128  0.000000  0.030313    ...     NaN  0.0   NaN  0.072257   \n",
       "2015-01-08  0.038908  0.007654  0.016198    ...     NaN  0.0   NaN  0.046589   \n",
       "\n",
       "               ZWZZT  ZXIET        ZXZZT  ZYME  ZYNE      ZYXI  \n",
       "date                                                            \n",
       "2015-01-02       NaN    NaN          NaN   NaN   NaN       NaN  \n",
       "2015-01-05  0.641791    NaN    -0.933088   NaN   NaN -0.111667  \n",
       "2015-01-06 -0.119091    NaN  9990.208791   NaN   NaN  0.000000  \n",
       "2015-01-07 -0.276574    NaN    -0.000121   NaN   NaN -0.062539  \n",
       "2015-01-08  0.000000    NaN    -0.998108   NaN   NaN  0.000000  \n",
       "\n",
       "[5 rows x 8683 columns]"
      ]
     },
     "execution_count": 15,
     "metadata": {},
     "output_type": "execute_result"
    }
   ],
   "source": [
    "df_simple.head()"
   ]
  },
  {
   "cell_type": "code",
   "execution_count": 16,
   "metadata": {},
   "outputs": [],
   "source": [
    "# cc returns dataframe\n",
    "df_cc=df_simple.copy()\n",
    "df_cc +=1\n",
    "df_cc=df_cc.copy().apply(np.log)"
   ]
  },
  {
   "cell_type": "code",
   "execution_count": 17,
   "metadata": {},
   "outputs": [
    {
     "data": {
      "text/plain": [
       "(1007, 8683)"
      ]
     },
     "execution_count": 17,
     "metadata": {},
     "output_type": "execute_result"
    }
   ],
   "source": [
    "df_cc.shape #days and number of stocks"
   ]
  },
  {
   "cell_type": "markdown",
   "metadata": {},
   "source": [
    "## Summary statistics (Mazzi?)"
   ]
  },
  {
   "cell_type": "markdown",
   "metadata": {},
   "source": [
    "#### Simple daily returns and cc daily returns\n",
    "simple returns: $R_t=\\frac{P_t}{P_{t-1}}-1$\n",
    "\n",
    "cc returns: $r_t=log\\left(\\frac{P_t}{P_{t-1}}\\right)$\n",
    "\n",
    "Whick implies: $r_t=log(1+R_t)$\n",
    "\n",
    "\n",
    "Plot cc vs. simple to illustrate"
   ]
  },
  {
   "cell_type": "code",
   "execution_count": null,
   "metadata": {},
   "outputs": [],
   "source": []
  },
  {
   "cell_type": "markdown",
   "metadata": {},
   "source": [
    "## Descriptive plots (Sofie?)"
   ]
  },
  {
   "cell_type": "code",
   "execution_count": null,
   "metadata": {},
   "outputs": [],
   "source": []
  },
  {
   "cell_type": "markdown",
   "metadata": {},
   "source": [
    "## Interactive plot (Sofie + Waldemar?)"
   ]
  },
  {
   "cell_type": "markdown",
   "metadata": {},
   "source": [
    "Need some installs: https://github.com/matplotlib/jupyter-matplotlib\n",
    "\n",
    "`pip install ipympl`\n",
    "\n",
    "`# If using JupyterLab`\n",
    "\n",
    "`# Install nodejs: https://nodejs.org/en/download/`\n",
    "\n",
    "`jupyter labextension install @jupyter-widgets/jupyterlab-manager`\n",
    "\n",
    "`jupyter labextension install jupyter-matplotlib`\n"
   ]
  },
  {
   "cell_type": "markdown",
   "metadata": {},
   "source": [
    "#### Content\n",
    "1. Interactive plot with close price (from df_close) with slider for date, dropdown for ticker (multiple stock selection?)\n",
    "1. Interactive plot with returns (either from df_simple or df_cc) with slider for date, dropdown for ticker\n",
    "1. Interactive plot with indicies for sectors (need to create df) with slider for date, dropdown for sector (multiple selection allowed) ? (WALDEMAR)"
   ]
  },
  {
   "cell_type": "code",
   "execution_count": 23,
   "metadata": {},
   "outputs": [
    {
     "data": {
      "application/vnd.jupyter.widget-view+json": {
       "model_id": "30cab8bbbec6453db71ea22c09c23ca9",
       "version_major": 2,
       "version_minor": 0
      },
      "text/plain": [
       "FigureCanvasNbAgg()"
      ]
     },
     "metadata": {},
     "output_type": "display_data"
    },
    {
     "data": {
      "text/plain": [
       "[<matplotlib.lines.Line2D at 0x1c44eef8048>]"
      ]
     },
     "execution_count": 23,
     "metadata": {},
     "output_type": "execute_result"
    }
   ],
   "source": [
    "import matplotlib.pyplot as plt\n",
    "%matplotlib widget\n",
    "\n",
    "#plt.figure()\n",
    "#x = [1,2,3]\n",
    "#y = [4,5,6]\n",
    "#plt.plot(x,y)\n",
    "\n",
    "\n",
    "plt.plot(df_close.sample(1, axis=1)) #Plotting random stock's closing price"
   ]
  },
  {
   "cell_type": "markdown",
   "metadata": {},
   "source": [
    "### "
   ]
  },
  {
   "cell_type": "code",
   "execution_count": null,
   "metadata": {},
   "outputs": [],
   "source": []
  }
 ],
 "metadata": {
  "kernelspec": {
   "display_name": "Python 3",
   "language": "python",
   "name": "python3"
  },
  "language_info": {
   "codemirror_mode": {
    "name": "ipython",
    "version": 3
   },
   "file_extension": ".py",
   "mimetype": "text/x-python",
   "name": "python",
   "nbconvert_exporter": "python",
   "pygments_lexer": "ipython3",
   "version": "3.7.0"
  }
 },
 "nbformat": 4,
 "nbformat_minor": 2
}
