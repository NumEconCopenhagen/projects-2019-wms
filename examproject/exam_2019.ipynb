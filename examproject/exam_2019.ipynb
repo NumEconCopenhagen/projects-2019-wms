{
 "cells": [
  {
   "cell_type": "code",
   "execution_count": 27,
   "metadata": {},
   "outputs": [],
   "source": [
    "import numpy as np\n",
    "import numpy as np\n",
    "import scipy as sp\n",
    "from scipy import linalg\n",
    "from scipy import optimize\n",
    "from scipy import interpolate\n",
    "import sympy as sm\n",
    "\n",
    "%matplotlib inline\n",
    "import matplotlib.pyplot as plt"
   ]
  },
  {
   "cell_type": "markdown",
   "metadata": {},
   "source": [
    "# 1. Human capital accumulation (See problem set 7)"
   ]
  },
  {
   "cell_type": "markdown",
   "metadata": {},
   "source": [
    "Consider a worker living in **two periods**, $t \\in \\{1,2\\}$. \n",
    "\n",
    "In each period she decides whether to **work ($l_t = 1$) or not ($l_t = 0$)**. \n",
    "\n",
    "She can *not* borrow or save and thus **consumes all of her income** in each period. "
   ]
  },
  {
   "cell_type": "markdown",
   "metadata": {},
   "source": [
    "If she **works** her **consumption** becomes:\n",
    "\n",
    "$$c_t = w h_t l_t\\,\\,\\text{if}\\,\\,l_t=1$$\n",
    "\n",
    "where $w$ is **the wage rate** and $h_t$ is her **human capital**. \n",
    "\n",
    "If she does **not work** her consumption becomes:\n",
    "\n",
    "$$c_t = b\\,\\,\\text{if}\\,\\,l_t=0$$\n",
    "\n",
    "where $b$ is the **unemployment benefits**."
   ]
  },
  {
   "cell_type": "markdown",
   "metadata": {},
   "source": [
    "Her **utility of consumption** is: \n",
    "\n",
    "$$ \\frac{c_t^{1-\\rho}}{1-\\rho} $$\n",
    "\n",
    "Her **disutility of working** is:\n",
    "\n",
    "$$ \\gamma l_t $$"
   ]
  },
  {
   "cell_type": "markdown",
   "metadata": {},
   "source": [
    "From period 1 to period 2, she **accumulates human capital** according to:\n",
    "\n",
    "$$ h_2 = h_1 + l_1 + \n",
    "\\begin{cases}\n",
    "0 & \\text{with prob. }0.5 \\\\\n",
    "\\Delta & \\text{with prob. }0.5 \n",
    "\\end{cases} \\\\\n",
    "$$\n",
    "\n",
    "where $\\Delta$ is a **stochastic experience gain**."
   ]
  },
  {
   "cell_type": "markdown",
   "metadata": {},
   "source": [
    "In the **second period** the worker thus solves:\n",
    "\n",
    "$$\n",
    "\\begin{eqnarray*}\n",
    "v_{2}(h_{2}) & = &\\max_{l_{2}} \\frac{c_2^{1-\\rho}}{1-\\rho} - \\gamma l_2\n",
    "\\\\ & \\text{s.t.} & \\\\\n",
    "c_{2}& = & w h_2 l_2 \\\\\n",
    "l_{2}& \\in &\\{0,1\\}\n",
    "\\end{eqnarray*}\n",
    "$$"
   ]
  },
  {
   "cell_type": "markdown",
   "metadata": {},
   "source": [
    "In the **first period** the worker thus solves:\n",
    "\n",
    "$$\n",
    "\\begin{eqnarray*}\n",
    "v_{1}(h_{1}) &=& \\max_{l_{1}} \\frac{c_1^{1-\\rho}}{1-\\rho} - \\gamma l_1 + \\beta\\mathbb{E}_{1}\\left[v_2(h_2)\\right]\n",
    "\\\\ & \\text{s.t.} & \\\\\n",
    "c_1 &=& w h_1 l_1 \\\\\n",
    "h_2 &=& h_1 + l_1 + \\begin{cases}\n",
    "0 & \\text{with prob. }0.5\\\\\n",
    "\\Delta & \\text{with prob. }0.5 \n",
    "\\end{cases}\\\\\n",
    "l_{1} &\\in& \\{0,1\\}\\\\\n",
    "\\end{eqnarray*}\n",
    "$$\n",
    "\n",
    "where $\\beta$ is the **discount factor** and $\\mathbb{E}_{1}\\left[v_2(h_2)\\right]$ is the **expected value of living in period two**."
   ]
  },
  {
   "cell_type": "markdown",
   "metadata": {},
   "source": [
    "The **parameters** of the model are:"
   ]
  },
  {
   "cell_type": "code",
   "execution_count": 87,
   "metadata": {},
   "outputs": [],
   "source": [
    "rho = 2\n",
    "beta = 0.96\n",
    "gamma = 0.1\n",
    "w = 2\n",
    "b = 1\n",
    "Delta = 0.1"
   ]
  },
  {
   "cell_type": "markdown",
   "metadata": {},
   "source": [
    "The **relevant levels of human capital** are:"
   ]
  },
  {
   "cell_type": "code",
   "execution_count": 88,
   "metadata": {},
   "outputs": [],
   "source": [
    "h_vec = np.linspace(0.1,1.5,100) "
   ]
  },
  {
   "cell_type": "markdown",
   "metadata": {},
   "source": [
    "**Define initial functions**"
   ]
  },
  {
   "cell_type": "code",
   "execution_count": 89,
   "metadata": {},
   "outputs": [],
   "source": [
    "# define utility of consumtion\n",
    "def utility(c, rho):\n",
    "    return c**(1-rho)/(1-rho)\n",
    "\n",
    "# define disutility from working \n",
    "def disutility(gamma, l):\n",
    "    return gamma*l\n",
    "\n",
    "# define period 2\n",
    "def v2(c2, rho, gamma, l2):\n",
    "    return utility(c2,rho) - disutility(gamma, l2)\n",
    "\n",
    "# define human capital in period 1\n",
    "def v1(c1, h1, rho, gamma, beta, Delta, v2_interp, l1):\n",
    "    \n",
    "    # case 1: v2 if low h2\n",
    "    h2_low = h1 + l1\n",
    "    v2_low = v2_interp([h2_low])[0]\n",
    "    \n",
    "    # case 2: v2 if high h2\n",
    "    h2_high = h1 + l1 + Delta\n",
    "    v2_high = v2_interp([h2_high])[0]\n",
    "    \n",
    "    # expected value\n",
    "    v2 = 0.5*v2_low + 0.5*v2_high\n",
    "    \n",
    "    #return result\n",
    "    return utility(c1,rho) - disutility(gamma, l1) + beta*v2\n"
   ]
  },
  {
   "cell_type": "markdown",
   "metadata": {},
   "source": [
    "**Question 1:** Solve the model in period 2 and illustrate the solution (including labor supply as a function of human capital). "
   ]
  },
  {
   "cell_type": "code",
   "execution_count": 90,
   "metadata": {},
   "outputs": [],
   "source": [
    "# Define the functions to solve the model in period two\n",
    "\n",
    "def get_solution_period_two(rho, gamma, Delta, l2 = 1):\n",
    "    \n",
    "    # first we define the grids'\n",
    "    h2_vec = np.linspace(0.1,1.5,100)\n",
    "    v2_vec = np.empty(100) # this is just empty for now \n",
    "    c2_vec = np.empty(100) # this is just empty for now \n",
    "   \n",
    "    \n",
    "    #next, we solve the model for each h2 value in the grid above\n",
    "    for i, h2 in enumerate(h2_vec):\n",
    "        \n",
    "        # The objective to solve\n",
    "        objective = lambda c2: -v2(c2, rho, gamma, l2)\n",
    "        \n",
    "        # define an initial value to optimize\n",
    "        x0 = h2/2\n",
    "        \n",
    "        #Optimize (by minimizing) and store the result\n",
    "        result = optimize.minimize_scalar(objective, x0, method='bounded',bounds=[0.1, h2]) #Here the bounds are the min in h_vec linspace\n",
    "        \n",
    "        #Save the results\n",
    "        v2_vec[i] = -result.fun\n",
    "        c2_vec[i] = result.x\n",
    "        \n",
    "    return h2_vec,v2_vec,c2_vec"
   ]
  },
  {
   "cell_type": "code",
   "execution_count": 91,
   "metadata": {},
   "outputs": [],
   "source": [
    "# Solving the model \n",
    "\n",
    "h2_vec,v2_vec,c2_vec = get_solution_period_two(rho, gamma, Delta, l2 = 1)\n",
    "       \n",
    "# Construct interpolator\n",
    "v2_interp = interpolate.RegularGridInterpolator((h2_vec,), v2_vec,\n",
    "                                                bounds_error=False,fill_value=None)\n"
   ]
  },
  {
   "cell_type": "code",
   "execution_count": 92,
   "metadata": {},
   "outputs": [
    {
     "data": {
      "text/plain": [
       "Text(0, 0.5, '$c_2$')"
      ]
     },
     "execution_count": 92,
     "metadata": {},
     "output_type": "execute_result"
    },
    {
     "data": {
      "image/png": "[encoded data removed]",
      "text/plain": [
       "<Figure size 432x288 with 1 Axes>"
      ]
     },
     "metadata": {
      "needs_background": "light"
     },
     "output_type": "display_data"
    }
   ],
   "source": [
    "# plot result \n",
    "\n",
    "# c. plot\n",
    "fig = plt.figure()\n",
    "ax = fig.add_subplot(1,1,1)\n",
    "ax.plot(h2_vec,c2_vec)\n",
    "ax.grid()\n",
    "ax.set_xlabel('$h_2$')\n",
    "ax.set_ylabel('$c_2$')\n",
    "#ax.set_title('consumption function in period 1')\n",
    "#ax.set_xlim([0,4])\n",
    "#ax.set_ylim([0,2.5]);"
   ]
  },
  {
   "cell_type": "markdown",
   "metadata": {},
   "source": [
    "**Question 2:** Solve the model in period 1 and illustrate the solution (including labor supply as a function of human capital). "
   ]
  },
  {
   "cell_type": "code",
   "execution_count": 93,
   "metadata": {},
   "outputs": [],
   "source": [
    "# Define the functions to solve the model\n",
    "\n",
    "def get_solution_period_one(rho, gamma, Delta, v1, v2_interp, l1):\n",
    "    \n",
    "    # first we define the grids'\n",
    "    h1_vec = np.linspace(0.1,1.5,100)\n",
    "    v1_vec = np.empty(100) # this is just empty for now \n",
    "    c1_vec = np.empty(100) # this is just empty for now \n",
    "   \n",
    "    \n",
    "    #next, we solve the model for each h2 value in the grid above\n",
    "    for i, h1 in enumerate(h1_vec):\n",
    "        \n",
    "        # The objective to solve\n",
    "        objective = lambda c1: -v1(c1, h1, rho, gamma, beta, Delta, v2_interp, l1)\n",
    "        \n",
    "        # define an initial value to optimize\n",
    "        x0 = h1/2\n",
    "        \n",
    "        #Optimize (by minimizing) and store the result\n",
    "        result = optimize.minimize_scalar(objective, x0, method='bounded',bounds=[0.1, h1]) #Here the bounds are the min in h_vec linspace\n",
    "        \n",
    "        #Save the results\n",
    "        v1_vec[i] = -result.fun\n",
    "        c1_vec[i] = result.x\n",
    "        \n",
    "    return h1_vec,v1_vec,c1_vec"
   ]
  },
  {
   "cell_type": "code",
   "execution_count": 94,
   "metadata": {},
   "outputs": [],
   "source": [
    "# solve period one \n",
    "\n",
    "h1_vec,v1_vec,c1_vec = get_solution_period_one(rho, gamma, Delta, v1, v2_interp, l1 = 0)"
   ]
  },
  {
   "cell_type": "code",
   "execution_count": 95,
   "metadata": {},
   "outputs": [
    {
     "data": {
      "text/plain": [
       "Text(0, 0.5, '$c_1$')"
      ]
     },
     "execution_count": 95,
     "metadata": {},
     "output_type": "execute_result"
    },
    {
     "data": {
      "image/png": "[encoded data removed]",
      "text/plain": [
       "<Figure size 432x288 with 1 Axes>"
      ]
     },
     "metadata": {
      "needs_background": "light"
     },
     "output_type": "display_data"
    }
   ],
   "source": [
    "# c. plot\n",
    "fig = plt.figure()\n",
    "ax = fig.add_subplot(1,1,1)\n",
    "ax.plot(h1_vec,c1_vec)\n",
    "ax.grid()\n",
    "ax.set_xlabel('$h_1$')\n",
    "ax.set_ylabel('$c_1$')\n",
    "#ax.set_title('consumption function in period 1')\n",
    "#ax.set_xlim([0,4])\n",
    "#ax.set_ylim([0,2.5]);"
   ]
  },
  {
   "cell_type": "markdown",
   "metadata": {},
   "source": [
    "**Question 3:** Will the worker never work if her potential wage income is lower than the unemployment benefits she can get? Explain and illustrate why or why not."
   ]
  },
  {
   "cell_type": "markdown",
   "metadata": {},
   "source": [
    "Ansver: The worker will only work if she gets utility from working and not disutility from working. She will only work if gamma < 0."
   ]
  },
  {
   "cell_type": "markdown",
   "metadata": {},
   "source": [
    "# 2. AS-AD model"
   ]
  },
  {
   "cell_type": "markdown",
   "metadata": {},
   "source": [
    "Consider the following **AS-AD model**. The **goods market equilibrium** is given by\n",
    "\n",
    "$$ y_{t} = -\\alpha r_{t} + v_{t} $$\n",
    "\n",
    "where $y_{t}$ is the **output gap**, $r_{t}$ is the **ex ante real interest** and $v_{t}$ is a **demand disturbance**. "
   ]
  },
  {
   "cell_type": "markdown",
   "metadata": {},
   "source": [
    "The central bank's **Taylor rule** is\n",
    "\n",
    "$$ i_{t} = \\pi_{t+1}^{e} + h \\pi_{t} + b y_{t}$$\n",
    "\n",
    "where $i_{t}$ is the **nominal interest rate**, $\\pi_{t}$ is the **inflation gap**, and $\\pi_{t+1}^{e}$ is the **expected inflation gap**. "
   ]
  },
  {
   "cell_type": "markdown",
   "metadata": {},
   "source": [
    "The **ex ante real interest rate** is given by \n",
    "\n",
    "$$ r_{t} = i_{t} - \\pi_{t+1}^{e} $$"
   ]
  },
  {
   "cell_type": "markdown",
   "metadata": {},
   "source": [
    "Together, the above implies that the **AD-curve** is\n",
    "\n",
    "$$ \\pi_{t} = \\frac{1}{h\\alpha}\\left[v_{t} - (1+b\\alpha)y_{t}\\right]$$"
   ]
  },
  {
   "cell_type": "markdown",
   "metadata": {},
   "source": [
    "Further, assume that the **short-run supply curve (SRAS)** is given by\n",
    "\n",
    "$$ \\pi_{t} = \\pi_{t}^{e} + \\gamma y_{t} + s_{t}$$\n",
    "\n",
    "where $s_t$ is a **supply disturbance**."
   ]
  },
  {
   "cell_type": "markdown",
   "metadata": {},
   "source": [
    "**Inflation expectations are adaptive** and given by\n",
    "\n",
    "$$ \\pi_{t}^{e} = \\phi\\pi_{t-1}^{e} + (1-\\phi)\\pi_{t-1}$$"
   ]
  },
  {
   "cell_type": "markdown",
   "metadata": {},
   "source": [
    "Together, this implies that the **SRAS-curve** can also be written as\n",
    "\n",
    "$$ \\pi_{t} = \\pi_{t-1} + \\gamma y_{t} - \\phi\\gamma y_{t-1} + s_{t} - \\phi s_{t-1} $$"
   ]
  },
  {
   "cell_type": "markdown",
   "metadata": {},
   "source": [
    "The **parameters** of the model are:"
   ]
  },
  {
   "cell_type": "code",
   "execution_count": 4,
   "metadata": {},
   "outputs": [],
   "source": [
    "par = {}\n",
    "\n",
    "par['alpha'] = 5.76\n",
    "par['h'] = 0.5\n",
    "par['b'] = 0.5\n",
    "par['phi'] = 0\n",
    "par['gamma'] = 0.075"
   ]
  },
  {
   "cell_type": "markdown",
   "metadata": {},
   "source": [
    "**Question 1:** Use the ``sympy`` module to solve for the equilibrium values of output, $y_t$, and inflation, $\\pi_t$, (where AD = SRAS) given the parameters ($\\alpha$, $h$, $b$, $\\alpha$, $\\gamma$) and $y_{t-1}$ , $\\pi_{t-1}$, $v_t$, $s_t$, and $s_{t-1}$."
   ]
  },
  {
   "cell_type": "code",
   "execution_count": null,
   "metadata": {},
   "outputs": [],
   "source": []
  },
  {
   "cell_type": "markdown",
   "metadata": {},
   "source": [
    "\n",
    "**Question 2:** Find and illustrate the equilibrium when $y_{t-1} = \\pi_{t-1} = v_t = s_t = s_{t-1} = 0$. Illustrate how the equilibrium changes when instead $v_t = 0.1$."
   ]
  },
  {
   "cell_type": "markdown",
   "metadata": {},
   "source": [
    "**Persistent disturbances:** Now, additionaly, assume that both the demand and the supply disturbances are AR(1) processes\n",
    "\n",
    "$$ v_{t} = \\delta v_{t-1} + x_{t} $$\n",
    "$$ s_{t} = \\omega s_{t-1} + c_{t} $$\n",
    "\n",
    "where $x_{t}$ is a **demand shock**, and $c_t$ is a **supply shock**. The **autoregressive parameters** are:"
   ]
  },
  {
   "cell_type": "code",
   "execution_count": 5,
   "metadata": {},
   "outputs": [],
   "source": [
    "par['delta'] = 0.80\n",
    "par['omega'] = 0.15"
   ]
  },
  {
   "cell_type": "markdown",
   "metadata": {},
   "source": [
    "**Question 3:** Starting from $y_{-1} = \\pi_{-1} = s_{-1} = 0$, how does the economy evolve for $x_0 = 0.1$, $x_t = 0, \\forall t > 0$ and $c_t = 0, \\forall t \\geq 0$?"
   ]
  },
  {
   "cell_type": "markdown",
   "metadata": {},
   "source": [
    "**Stochastic shocks:** Now, additionally, assume that $x_t$ and $c_t$ are stochastic and normally distributed\n",
    "\n",
    "$$ x_{t}\\sim\\mathcal{N}(0,\\sigma_{x}^{2}) $$\n",
    "$$ c_{t}\\sim\\mathcal{N}(0,\\sigma_{c}^{2}) $$\n",
    "\n",
    "The **standard deviations of the shocks** are:"
   ]
  },
  {
   "cell_type": "code",
   "execution_count": 6,
   "metadata": {},
   "outputs": [],
   "source": [
    "par['sigma_x'] = 3.492\n",
    "par['sigma_c'] = 0.2"
   ]
  },
  {
   "cell_type": "markdown",
   "metadata": {},
   "source": [
    "**Question 4:** Simulate the AS-AD model for 1,000 periods. Calculate the following five statistics:\n",
    "\n",
    "1. Variance of $y_t$, $var(y_t)$\n",
    "2. Variance of $\\pi_t$, $var(\\pi_t)$\n",
    "3. Correlation between $y_t$ and $\\pi_t$, $corr(y_t,\\pi_t)$\n",
    "4. Auto-correlation between $y_t$ and $y_{t-1}$, $corr(y_t,y_{t-1})$\n",
    "5. Auto-correlation between $\\pi_t$ and $\\pi_{t-1}$, $corr(\\pi_t,\\pi_{t-1})$"
   ]
  },
  {
   "cell_type": "markdown",
   "metadata": {},
   "source": [
    "**Question 5:** Plot how the correlation between $y_t$ and $\\pi_t$ changes with $\\phi$. Use a numerical optimizer or root finder to choose $\\phi\\in(0,1)$ such that the simulated correlation between $y_t$ and $\\pi_t$ comes close to 0.31. "
   ]
  },
  {
   "cell_type": "markdown",
   "metadata": {},
   "source": [
    "**Quesiton 6:** Use a numerical optimizer to choose $\\sigma_x>0$, $\\sigma_c>0$ and $\\phi\\in(0,1)$ to make the simulated statistics as close as possible to US business cycle data where:\n",
    "\n",
    "1. $var(y_t) = 1.64$\n",
    "2. $var(\\pi_t) = 0.21$\n",
    "3. $corr(y_t,\\pi_t) = 0.31$\n",
    "4. $corr(y_t,y_{t-1}) = 0.84$\n",
    "5. $corr(\\pi_t,\\pi_{t-1}) = 0.48$"
   ]
  },
  {
   "cell_type": "markdown",
   "metadata": {},
   "source": [
    "# 3. Exchange economy (Problem set 2)"
   ]
  },
  {
   "cell_type": "markdown",
   "metadata": {},
   "source": [
    "Consider an **exchange economy** with\n",
    "\n",
    "1. 3 goods, $(x_1,x_2,x_3)$\n",
    "2. $N$ consumers indexed by \\\\( j \\in \\{1,2,\\dots,N\\} \\\\)\n",
    "3. Preferences are Cobb-Douglas with log-normally distributed coefficients\n",
    "\n",
    "    $$ \\begin{eqnarray*}\n",
    "    u^{j}(x_{1},x_{2},x_{3}) &=& \n",
    "    \\left(x_{1}^{\\beta_{1}^{j}}x_{2}^{\\beta_{2}^{j}}x_{3}^{\\beta_{3}^{j}}\\right)^{\\gamma}\\\\\n",
    "     &  & \\,\\,\\,\\beta_{i}^{j}=\\frac{\\alpha_{i}^{j}}{\\alpha_{1}^{j}+\\alpha_{2}^{j}+\\alpha_{3}^{j}} \\\\\n",
    "     &  & \\,\\,\\,\\boldsymbol{\\alpha}^{j}=(\\alpha_{1}^{j},\\alpha_{2}^{j},\\alpha_{3}^{j}) \\\\ \n",
    "     &  & \\,\\,\\,\\log(\\boldsymbol{\\alpha}^j) \\sim \\mathcal{N}(\\mu,\\Sigma) \\\\\n",
    "    \\end{eqnarray*} $$\n",
    "\n",
    "4. Endowments are exponentially distributed,\n",
    "\n",
    "$$\n",
    "\\begin{eqnarray*}\n",
    "\\boldsymbol{e}^{j} &=& (e_{1}^{j},e_{2}^{j},e_{3}^{j}) \\\\\n",
    " &  & e_i^j \\sim f, f(z;\\zeta) =  1/\\zeta \\exp(-z/\\zeta)\n",
    "\\end{eqnarray*}\n",
    "$$"
   ]
  },
  {
   "cell_type": "markdown",
   "metadata": {},
   "source": [
    "Let $p_3 = 1$ be the **numeraire**. The implied **demand functions** are:\n",
    "\n",
    "$$\n",
    "\\begin{eqnarray*}\n",
    "x_{i}^{\\star j}(p_{1},p_{2},\\boldsymbol{e}^{j})&=&\\beta^{j}_i\\frac{I^j}{p_{i}} \\\\\n",
    "\\end{eqnarray*}\n",
    "$$\n",
    "\n",
    "where consumer $j$'s income is\n",
    "\n",
    "$$I^j = p_1 e_1^j + p_2 e_2^j +p_3 e_3^j$$"
   ]
  },
  {
   "cell_type": "markdown",
   "metadata": {},
   "source": [
    "The **parameters** and **random preferences and endowments** are given by:"
   ]
  },
  {
   "cell_type": "code",
   "execution_count": 271,
   "metadata": {},
   "outputs": [],
   "source": [
    "# a. parameters\n",
    "N = 50000\n",
    "mu = np.array([3,2,1])\n",
    "Sigma = np.array([[0.25, 0, 0], [0, 0.25, 0], [0, 0, 0.25]])\n",
    "gamma = 0.8\n",
    "zeta = 1\n",
    "\n",
    "# b. random draws\n",
    "seed = 1986\n",
    "np.random.seed(seed)\n",
    "\n",
    "# preferences\n",
    "alphas = np.exp(np.random.multivariate_normal(mu, Sigma, size=N))\n",
    "betas = alphas/np.reshape(np.sum(alphas,axis=1),(N,1))\n",
    "\n",
    "# endowments\n",
    "e1 = np.random.exponential(zeta,size=N)\n",
    "e2 = np.random.exponential(zeta,size=N)\n",
    "e3 = np.random.exponential(zeta,size=N)"
   ]
  },
  {
   "cell_type": "markdown",
   "metadata": {},
   "source": [
    "**Question 1:** Plot the histograms of the budget shares for each good across agents."
   ]
  },
  {
   "cell_type": "code",
   "execution_count": 272,
   "metadata": {},
   "outputs": [
    {
     "data": {
      "text/plain": [
       "<matplotlib.legend.Legend at 0x131b2b3a58>"
      ]
     },
     "execution_count": 272,
     "metadata": {},
     "output_type": "execute_result"
    },
    {
     "data": {
      "image/png": "[encoded data removed]",
      "text/plain": [
       "<Figure size 432x288 with 1 Axes>"
      ]
     },
     "metadata": {
      "needs_background": "light"
     },
     "output_type": "display_data"
    }
   ],
   "source": [
    "# Histogram of the budget shares for each of the three goods\n",
    "colors = ['red', 'blue', 'green'] # define colors\n",
    "plt.hist(betas, bins = 10, color=colors, label=['Good 1', 'Good 2', 'Good 3']) #create histogram from array of betas\n",
    "plt.title('Budget shares for each good across agents') # title\n",
    "plt.xlabel('Budget share') #xlabel\n",
    "plt.ylabel('Number of consumers') #ylabel\n",
    "plt.legend() # add legend"
   ]
  },
  {
   "cell_type": "markdown",
   "metadata": {},
   "source": [
    "We see that good number one has the highest budget shares, which indicates that this is the most valuable good. <br>\n",
    "Further good three has the lowest budget shares."
   ]
  },
  {
   "cell_type": "markdown",
   "metadata": {},
   "source": [
    "\n",
    "Consider the **excess demand functions:**\n",
    "\n",
    "$$ z_i(p_1,p_2) = \\sum_{j=1}^N x_{i}^{\\star j}(p_{1},p_{2},\\boldsymbol{e}^{j}) - e_i^j$$\n",
    "\n",
    "**Question 2:** Plot the excess demand functions."
   ]
  },
  {
   "cell_type": "code",
   "execution_count": 273,
   "metadata": {},
   "outputs": [],
   "source": [
    "# Save the values of beta1, beta2, beta3 across agents respectively\n",
    "betas_good_one = [x[0] for x in betas]\n",
    "betas_good_two = [x[1] for x in betas]\n",
    "betas_good_three = [x[2] for x in betas]"
   ]
  },
  {
   "cell_type": "code",
   "execution_count": 274,
   "metadata": {},
   "outputs": [],
   "source": [
    "#Define demand function for each good\n",
    "\n",
    "def demand_func(betas,p1,p2,p3,e1,e2,e3, good):\n",
    "    if good == 1:\n",
    "        betas_good_one = [x[0] for x in betas]\n",
    "        I = p1*e1+p2*e2+p3*e3\n",
    "        return betas_good_one*I/p1\n",
    "    if good == 2:\n",
    "        betas_good_two = [x[1] for x in betas]\n",
    "        I = p1*e1+p2*e2+p3*e3\n",
    "        return betas_good_two*I/p2\n",
    "\n",
    "    if good == 3:\n",
    "        betas_good_three = [x[2] for x in betas]\n",
    "        I = p1*e1+p2*e2+p3*e3\n",
    "        return betas_good_three*I/p3"
   ]
  },
  {
   "cell_type": "code",
   "execution_count": 275,
   "metadata": {},
   "outputs": [],
   "source": [
    "# Define excess demand function for each good \n",
    "def excess_demand_func(alphas,p1,p2, p3,e1,e2, e3, good):\n",
    "    \n",
    "    # a. demand\n",
    "    demand = np.sum(demand_func(betas,p1,p2,p3,e1,e2,e3, good))\n",
    "    \n",
    "    # b. supply (depend on the good)\n",
    "    if good == 1:\n",
    "        supply = np.sum(e1)\n",
    "    if good == 2:\n",
    "        supply = np.sum(e2)\n",
    "    if good == 3:\n",
    "        supply = np.sum(e3) \n",
    "    \n",
    "    # c. excess demand\n",
    "    excess_demand = demand-supply\n",
    "    \n",
    "    return excess_demand"
   ]
  },
  {
   "cell_type": "code",
   "execution_count": 276,
   "metadata": {},
   "outputs": [
    {
     "name": "stderr",
     "output_type": "stream",
     "text": [
      "/anaconda3/lib/python3.7/site-packages/ipykernel_launcher.py:7: RuntimeWarning: divide by zero encountered in true_divide\n",
      "  import sys\n",
      "/anaconda3/lib/python3.7/site-packages/ipykernel_launcher.py:11: RuntimeWarning: divide by zero encountered in true_divide\n",
      "  # This is added back by InteractiveShellApp.init_path()\n",
      "/anaconda3/lib/python3.7/site-packages/ipykernel_launcher.py:16: RuntimeWarning: divide by zero encountered in true_divide\n",
      "  app.launch_new_instance()\n"
     ]
    }
   ],
   "source": [
    "# plot the excess demand function \n",
    "\n",
    "# create x values\n",
    "prices_good_one = prices_good_two = prices_good_three = np.linspace(0,2,18)\n",
    "\n",
    "# create inital values and empty lists\n",
    "excess_demand_good_one = []\n",
    "excess_demand_good_two = [] \n",
    "excess_demand_good_three = [] \n",
    "p1 = 1\n",
    "p2 = 1\n",
    "p3 = 1\n",
    "\n",
    "# Obtain the excess demand for each good\n",
    "for num in prices_good_one:\n",
    "    excess_demand_good_one.append(excess_demand_func(alphas,num,p2,p3,e1,e2,e3, good = 1))\n",
    "    \n",
    "for num in prices_good_two:\n",
    "    excess_demand_good_two.append(excess_demand_func(alphas,p1, num,p3,e1,e2,e3, good = 2))\n",
    "    \n",
    "for num in prices_good_three:\n",
    "    excess_demand_good_three.append(excess_demand_func(alphas,p1,p2,num,e1,e2,e3, good = 3))"
   ]
  },
  {
   "cell_type": "code",
   "execution_count": 277,
   "metadata": {},
   "outputs": [
    {
     "data": {
      "image/png": "[encoded data removed]",
      "text/plain": [
       "<Figure size 432x288 with 1 Axes>"
      ]
     },
     "metadata": {
      "needs_background": "light"
     },
     "output_type": "display_data"
    }
   ],
   "source": [
    "# plot the result\n",
    "\n",
    "plt.plot(prices_good_one, excess_demand_good_one, label = 'Good one')\n",
    "plt.plot(prices_good_one, excess_demand_good_two, label = 'Good two')\n",
    "plt.plot(prices_good_one, excess_demand_good_three, label = 'Good three')\n",
    "plt.legend() # set legend\n",
    "plt.title('Excess demand functions') # title\n",
    "plt.xlabel('Price of the respective good (the other goods are set to one)') #xlabel\n",
    "plt.ylabel('Excess demand') #ylabel\n",
    "plt.show()"
   ]
  },
  {
   "cell_type": "markdown",
   "metadata": {},
   "source": [
    "**Quesiton 3:** Find the Walras-equilibrium prices, $(p_1,p_2)$, where both excess demands are (approximately) zero, e.g. by using the following tâtonnement process:\n",
    "\n",
    "1. Guess on $p_1 > 0$, $p_2 > 0$ and choose tolerance $\\epsilon > 0$ and adjustment aggressivity parameter, $\\kappa > 0$.\n",
    "2. Calculate $z_1(p_1,p_2)$ and $z_2(p_1,p_2)$.\n",
    "3. If $|z_1| < \\epsilon$ and $|z_2| < \\epsilon$ then stop.\n",
    "4. Else set $p_1 = p_1 + \\kappa \\frac{z_1}{N}$ and $p_2 = p_2 + \\kappa \\frac{z_2}{N}$ and return to step 2."
   ]
  },
  {
   "cell_type": "code",
   "execution_count": 278,
   "metadata": {},
   "outputs": [],
   "source": [
    "def find_equilibrium(betas,p1,p2, p3,e1,e2, e3,kappa=0.5,eps=1e-8,maxiter=700):\n",
    "    \n",
    "    t = 0\n",
    "    while True:\n",
    "\n",
    "        # a. step 1: excess demand\n",
    "        Z1 = excess_demand_good_1_func(betas,p1,p2,p3,e1,e2,e3)\n",
    "        Z2 = excess_demand_good_2_func(betas,p1,p2,p3,e1,e2,e3)\n",
    "        \n",
    "        # b: step 2: stop?\n",
    "        if  (np.abs(Z1) < eps and np.abs(Z2) < eps) or t >= maxiter:\n",
    "            print(f'{t:3d}: p1 = {p1:12.8f} -> excess demand -> {Z1:14.8f}')\n",
    "            print(f'{t:3d}: p2 = {p2:12.8f} -> excess demand -> {Z1:14.8f}')\n",
    "            break    \n",
    "    \n",
    "        # c. step 3: update p1\n",
    "        p1 = p1 + kappa*Z1/betas.size\n",
    "        p2 = p2 + kappa*Z2/betas.size\n",
    "            \n",
    "        # d. step 4: return \n",
    "        if t < 5 or t%25 == 0:\n",
    "            print(f'{t:3d}: p1 = {p1:12.8f} -> excess demand -> {Z1:14.8f}')\n",
    "            print(f'{t:3d}: p2 = {p2:12.8f} -> excess demand -> {Z2:14.8f}')\n",
    "        elif t == 5:\n",
    "            print('   ...')\n",
    "            \n",
    "        t += 1    \n",
    "\n",
    "    return p1, p2"
   ]
  },
  {
   "cell_type": "code",
   "execution_count": 279,
   "metadata": {},
   "outputs": [
    {
     "name": "stdout",
     "output_type": "stream",
     "text": [
      "  0: p1 =   1.37973738 -> excess demand -> -6078.78547887\n",
      "  0: p2 =   0.97973738 -> excess demand -> -6078.78547887\n",
      "  1: p1 =   1.36072543 -> excess demand -> -5703.58688816\n",
      "  1: p2 =   0.96072543 -> excess demand -> -5703.58688816\n",
      "  2: p1 =   1.34293491 -> excess demand -> -5337.15508587\n",
      "  2: p2 =   0.94293491 -> excess demand -> -5337.15508587\n",
      "  3: p1 =   1.32633197 -> excess demand -> -4980.88210779\n",
      "  3: p2 =   0.92633197 -> excess demand -> -4980.88210779\n",
      "  4: p1 =   1.31087848 -> excess demand -> -4636.04661785\n",
      "  4: p2 =   0.91087848 -> excess demand -> -4636.04661785\n",
      "   ...\n",
      " 25: p1 =   1.16728913 -> excess demand ->  -642.43316291\n",
      " 25: p2 =   0.76728913 -> excess demand ->  -642.43316291\n",
      " 50: p1 =   1.15010462 -> excess demand ->   -39.17243132\n",
      " 50: p2 =   0.75010462 -> excess demand ->   -39.17243132\n",
      " 75: p1 =   1.14908447 -> excess demand ->    -2.27040386\n",
      " 75: p2 =   0.74908447 -> excess demand ->    -2.27040386\n",
      "100: p1 =   1.14902544 -> excess demand ->    -0.13119037\n",
      "100: p2 =   0.74902544 -> excess demand ->    -0.13119037\n",
      "125: p1 =   1.14902203 -> excess demand ->    -0.00757921\n",
      "125: p2 =   0.74902203 -> excess demand ->    -0.00757921\n",
      "150: p1 =   1.14902183 -> excess demand ->    -0.00043787\n",
      "150: p2 =   0.74902183 -> excess demand ->    -0.00043787\n",
      "175: p1 =   1.14902182 -> excess demand ->    -0.00002530\n",
      "175: p2 =   0.74902182 -> excess demand ->    -0.00002530\n",
      "200: p1 =   1.14902182 -> excess demand ->    -0.00000146\n",
      "200: p2 =   0.74902182 -> excess demand ->    -0.00000146\n",
      "225: p1 =   1.14902182 -> excess demand ->    -0.00000008\n",
      "225: p2 =   0.74902182 -> excess demand ->    -0.00000008\n",
      "244: p1 =   1.14902182 -> excess demand ->    -0.00000001\n",
      "244: p2 =   0.74902182 -> excess demand ->    -0.00000001\n"
     ]
    }
   ],
   "source": [
    "# Set initial values\n",
    "p1 = 1.4\n",
    "p2 = 1\n",
    "p3 = 1\n",
    "kappa = 0.5\n",
    "eps = 1e-8\n",
    "p1,p2 = find_equilibrium(betas,p1,p2, p3,e1,e2, e3,kappa=kappa,eps=eps)"
   ]
  },
  {
   "cell_type": "markdown",
   "metadata": {},
   "source": [
    "**Question 4:** Plot the distribution of utility in the Walras-equilibrium and calculate its mean and variance."
   ]
  },
  {
   "cell_type": "code",
   "execution_count": 280,
   "metadata": {},
   "outputs": [],
   "source": [
    "# Define utility function\n",
    "\n",
    "def utility(p1,p2,p3, e1,e2, e3 ,betas, gamma):\n",
    "    \n",
    "    # retrive the demands for each good\n",
    "    x1 = demand_good_1_func(betas,p1,p2,p3,e1,e2,e3)\n",
    "    x2 = demand_good_2_func(betas,p1,p2,p3,e1,e2,e3)\n",
    "    x3 = demand_good_3_func(betas,p1,p2,p3,e1,e2,e3)\n",
    "    \n",
    "    # save the beta values\n",
    "    betas_good_one = np.array([x[0] for x in betas])\n",
    "    betas_good_two = np.array([x[1] for x in betas])\n",
    "    betas_good_three = np.array([x[2] for x in betas])\n",
    "    \n",
    "    # return the utility for each consumer\n",
    "    return ((x1**betas_good_one)*(x2**betas_good_two)*(x3**betas_good_three))**gamma\n",
    "    "
   ]
  },
  {
   "cell_type": "code",
   "execution_count": 281,
   "metadata": {},
   "outputs": [],
   "source": [
    "# Set values. Here p1 and p2 is equal to the optimal value from question 3.\n",
    "# p3 is set to one\n",
    "\n",
    "p1 = 1.14686375\n",
    "p2 = 0.74686375\n",
    "p3 = 1"
   ]
  },
  {
   "cell_type": "code",
   "execution_count": 282,
   "metadata": {},
   "outputs": [],
   "source": [
    "utility_result = utility(p1,p2,p3, e1,e2, e3,betas, gamma)"
   ]
  },
  {
   "cell_type": "code",
   "execution_count": 283,
   "metadata": {},
   "outputs": [
    {
     "data": {
      "text/plain": [
       "Text(0, 0.5, 'Number of consumers')"
      ]
     },
     "execution_count": 283,
     "metadata": {},
     "output_type": "execute_result"
    },
    {
     "data": {
      "image/png": "[encoded data removed]",
      "text/plain": [
       "<Figure size 432x288 with 1 Axes>"
      ]
     },
     "metadata": {
      "needs_background": "light"
     },
     "output_type": "display_data"
    }
   ],
   "source": [
    "# plot the results\n",
    "plt.hist(utility_result, bins = 10) # Set the number of bins to 10\n",
    "plt.title('Distribution of utility') # title\n",
    "plt.xlabel('Utility') #xlabel\n",
    "plt.ylabel('Number of consumers') #ylabel"
   ]
  },
  {
   "cell_type": "markdown",
   "metadata": {},
   "source": [
    "**Question 5:** Find the Walras-equilibrium prices if instead all endowments were distributed equally. Discuss the implied changes in the distribution of utility. Does the value of $\\gamma$ play a role for your conclusions?"
   ]
  },
  {
   "cell_type": "code",
   "execution_count": 284,
   "metadata": {},
   "outputs": [],
   "source": [
    "# set endowment for each good to one\n",
    "e1 = e2 = e3 = np.full((50000), 1)"
   ]
  },
  {
   "cell_type": "code",
   "execution_count": 285,
   "metadata": {},
   "outputs": [],
   "source": [
    "# Set values. Here p1 and p2 is equal to the optimal value from question 3.\n",
    "# p3 is set to one\n",
    "\n",
    "p1 = 1.14686375\n",
    "p2 = 0.74686375\n",
    "p3 = 1"
   ]
  },
  {
   "cell_type": "code",
   "execution_count": 313,
   "metadata": {},
   "outputs": [],
   "source": [
    "utility_result_new = utility(p1,p2,p3, e1,e2, e3,betas, gamma)\n",
    "utility_result_new_gamma_high = utility(p1,p2,p3, e1,e2, e3,betas, gamma = 2)"
   ]
  },
  {
   "cell_type": "code",
   "execution_count": 316,
   "metadata": {},
   "outputs": [
    {
     "data": {
      "text/plain": [
       "<matplotlib.legend.Legend at 0x131c10e780>"
      ]
     },
     "execution_count": 316,
     "metadata": {},
     "output_type": "execute_result"
    },
    {
     "data": {
      "image/png": "[encoded data removed]",
      "text/plain": [
       "<Figure size 432x288 with 1 Axes>"
      ]
     },
     "metadata": {
      "needs_background": "light"
     },
     "output_type": "display_data"
    }
   ],
   "source": [
    "# plot the results\n",
    "plt.hist(utility_result, bins = 10, alpha = 0.6, label = 'unequal initial endowment, , gamma = 0.8') # Set the number of bins to 10\n",
    "plt.hist(utility_result_new, bins = 10, alpha = 1, color = 'red', label = 'equal initial endowment, gamma = 0.8') # Set the number of bins to 10\n",
    "plt.hist(utility_result_new_gamma_high, bins = 10, alpha = 0.6, color = 'green', label = 'equal initial endowment, gamma = 2') # Set the number of bins to 10\n",
    "\n",
    "plt.title('Distribution of utility') # title\n",
    "plt.xlabel('Utility') #xlabel\n",
    "plt.ylabel('Number of consumers') #ylabel\n",
    "plt.ylim([0,30000])\n",
    "plt.legend() # add legend"
   ]
  },
  {
   "cell_type": "markdown",
   "metadata": {},
   "source": [
    "Result: "
   ]
  }
 ],
 "metadata": {
  "kernelspec": {
   "display_name": "Python 3",
   "language": "python",
   "name": "python3"
  },
  "language_info": {
   "codemirror_mode": {
    "name": "ipython",
    "version": 3
   },
   "file_extension": ".py",
   "mimetype": "text/x-python",
   "name": "python",
   "nbconvert_exporter": "python",
   "pygments_lexer": "ipython3",
   "version": "3.7.1"
  },
  "toc-autonumbering": false
 },
 "nbformat": 4,
 "nbformat_minor": 2
}
