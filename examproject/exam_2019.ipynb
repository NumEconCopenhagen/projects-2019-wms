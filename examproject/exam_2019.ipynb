{
 "cells": [
  {
   "cell_type": "code",
   "execution_count": 1,
   "metadata": {},
   "outputs": [],
   "source": [
    "import numpy as np\n",
    "import numpy as np\n",
    "import scipy as sp\n",
    "from scipy import linalg\n",
    "from scipy import optimize\n",
    "from scipy import interpolate\n",
    "import sympy as sm\n",
    "\n",
    "import pandas as pd\n",
    "%matplotlib inline\n",
    "import matplotlib.pyplot as plt"
   ]
  },
  {
   "cell_type": "markdown",
   "metadata": {},
   "source": [
    "# 1. Human capital accumulation"
   ]
  },
  {
   "cell_type": "markdown",
   "metadata": {},
   "source": [
    "Consider a worker living in **two periods**, $t \\in \\{1,2\\}$. \n",
    "\n",
    "In each period she decides whether to **work ($l_t = 1$) or not ($l_t = 0$)**. \n",
    "\n",
    "She can *not* borrow or save and thus **consumes all of her income** in each period. "
   ]
  },
  {
   "cell_type": "markdown",
   "metadata": {},
   "source": [
    "If she **works** her **consumption** becomes:\n",
    "\n",
    "$$c_t = w h_t l_t\\,\\,\\text{if}\\,\\,l_t=1$$\n",
    "\n",
    "where $w$ is **the wage rate** and $h_t$ is her **human capital**. \n",
    "\n",
    "If she does **not work** her consumption becomes:\n",
    "\n",
    "$$c_t = b\\,\\,\\text{if}\\,\\,l_t=0$$\n",
    "\n",
    "where $b$ is the **unemployment benefits**."
   ]
  },
  {
   "cell_type": "markdown",
   "metadata": {},
   "source": [
    "Her **utility of consumption** is: \n",
    "\n",
    "$$ \\frac{c_t^{1-\\rho}}{1-\\rho} $$\n",
    "\n",
    "Her **disutility of working** is:\n",
    "\n",
    "$$ \\gamma l_t $$"
   ]
  },
  {
   "cell_type": "markdown",
   "metadata": {},
   "source": [
    "From period 1 to period 2, she **accumulates human capital** according to:\n",
    "\n",
    "$$ h_2 = h_1 + l_1 + \n",
    "\\begin{cases}\n",
    "0 & \\text{with prob. }0.5 \\\\\n",
    "\\Delta & \\text{with prob. }0.5 \n",
    "\\end{cases} \\\\\n",
    "$$\n",
    "\n",
    "where $\\Delta$ is a **stochastic experience gain**."
   ]
  },
  {
   "cell_type": "markdown",
   "metadata": {},
   "source": [
    "In the **second period** the worker thus solves:\n",
    "\n",
    "$$\n",
    "\\begin{eqnarray*}\n",
    "v_{2}(h_{2}) & = &\\max_{l_{2}} \\frac{c_2^{1-\\rho}}{1-\\rho} - \\gamma l_2\n",
    "\\\\ & \\text{s.t.} & \\\\\n",
    "c_{2}& = & w h_2 l_2 \\\\\n",
    "l_{2}& \\in &\\{0,1\\}\n",
    "\\end{eqnarray*}\n",
    "$$"
   ]
  },
  {
   "cell_type": "markdown",
   "metadata": {},
   "source": [
    "In the **first period** the worker thus solves:\n",
    "\n",
    "$$\n",
    "\\begin{eqnarray*}\n",
    "v_{1}(h_{1}) &=& \\max_{l_{1}} \\frac{c_1^{1-\\rho}}{1-\\rho} - \\gamma l_1 + \\beta\\mathbb{E}_{1}\\left[v_2(h_2)\\right]\n",
    "\\\\ & \\text{s.t.} & \\\\\n",
    "c_1 &=& w h_1 l_1 \\\\\n",
    "h_2 &=& h_1 + l_1 + \\begin{cases}\n",
    "0 & \\text{with prob. }0.5\\\\\n",
    "\\Delta & \\text{with prob. }0.5 \n",
    "\\end{cases}\\\\\n",
    "l_{1} &\\in& \\{0,1\\}\\\\\n",
    "\\end{eqnarray*}\n",
    "$$\n",
    "\n",
    "where $\\beta$ is the **discount factor** and $\\mathbb{E}_{1}\\left[v_2(h_2)\\right]$ is the **expected value of living in period two**."
   ]
  },
  {
   "cell_type": "markdown",
   "metadata": {},
   "source": [
    "The **parameters** of the model are:"
   ]
  },
  {
   "cell_type": "code",
   "execution_count": 2,
   "metadata": {},
   "outputs": [],
   "source": [
    "rho = 2 # Notice that this is a very high value of rho\n",
    "beta = 0.96\n",
    "gamma = 0.1\n",
    "w = 2\n",
    "b = 1\n",
    "Delta = 0.1"
   ]
  },
  {
   "cell_type": "markdown",
   "metadata": {},
   "source": [
    "The **relevant levels of human capital** are:"
   ]
  },
  {
   "cell_type": "code",
   "execution_count": 3,
   "metadata": {},
   "outputs": [],
   "source": [
    "h_vec = np.linspace(0.1,1.5,100) "
   ]
  },
  {
   "cell_type": "markdown",
   "metadata": {},
   "source": [
    "**Question 1:** Solve the model in period 2 and illustrate the solution (including labor supply as a function of human capital). "
   ]
  },
  {
   "cell_type": "markdown",
   "metadata": {},
   "source": [
    "#### Answer:"
   ]
  },
  {
   "cell_type": "markdown",
   "metadata": {},
   "source": [
    "**Define initial functions**"
   ]
  },
  {
   "cell_type": "code",
   "execution_count": 4,
   "metadata": {},
   "outputs": [],
   "source": [
    "# Define utility of consumtion as a function for later use\n",
    "def utility(c, rho):\n",
    "    return (c**(1-rho))/(1-rho)\n",
    "\n",
    "# Define disutility of working for later use \n",
    "def disutility(gamma, l):\n",
    "    return gamma*l\n",
    "\n",
    "# Define period 2 total utility as a function of rho, gamma, w, b, h2 and l2.\n",
    "def v2(rho, gamma, w, b, h2, l2):     \n",
    "    \n",
    "    # Include the constraint for c1 in the function\n",
    "    if l2 == 1:\n",
    "        c2 = w*h2*l2\n",
    "    else:\n",
    "        c2 = b\n",
    "    return utility(c2,rho) - disutility(gamma, l2) # return total utility\n",
    "\n",
    "# Define total utility in period 1 as a function of rho, gamma, beta, Delta, v2_interp, w, b, h1 and l1\n",
    "def v1(rho, gamma, beta, Delta, v2_interp, w, b, h1, l1):\n",
    "    \n",
    "    # Include the constraint for c1 in the function\n",
    "    if l1 == 1:\n",
    "        c1 = w*h1*l1\n",
    "    else:\n",
    "        c1 = b\n",
    "    \n",
    "    # Include the different cases of capital accumulation\n",
    "    # Case 1: v2 if low h2\n",
    "    h2_low = h1 + l1\n",
    "    v2_low = v2_interp([h2_low])[0]\n",
    "    \n",
    "    # Case 2: v2 if high h2\n",
    "    h2_high = h1 + l1 + Delta\n",
    "    v2_high = v2_interp([h2_high])[0]\n",
    "    \n",
    "    # Calculating the expected value\n",
    "    v2 = 0.5*v2_low + 0.5*v2_high\n",
    "    \n",
    "    # Return total utility in period one\n",
    "    return utility(c1,rho) - disutility(gamma, l1) + beta*v2\n"
   ]
  },
  {
   "cell_type": "markdown",
   "metadata": {},
   "source": [
    "**Solving the model in period 2**"
   ]
  },
  {
   "cell_type": "code",
   "execution_count": 5,
   "metadata": {},
   "outputs": [],
   "source": [
    "# Define the function to solve the model in period two\n",
    "\n",
    "def get_solution_period_two(rho, gamma, Delta, w, b):\n",
    "    \n",
    "    # First we define the grids'. We need the result as a 1*100 vector\n",
    "    h2_vec = np.linspace(0.1,1.5,100) # Pre-defined vector space\n",
    "    v2_vec = np.empty(100) # This is just empty for now \n",
    "    l2_vec = np.empty(100) # This is just empty for now \n",
    "    v2_vec_b = np.empty(100) # to plot the solution with l = 0\n",
    "    \n",
    "    # Next, we solve the model for each h2 value in the grid above (all the defined possible values of human capital)\n",
    "    for i, h2 in enumerate(h2_vec):\n",
    "        \n",
    "        # As she decide to work or not to work, we set up an if statement. \n",
    "        # She will only work if utility from working is higher than utility from not working.\n",
    "        \n",
    "        if v2(rho, gamma, w, b, h2, l2 = 1) > v2(rho, gamma, w, b, h2, l2 = 0): \n",
    "            v2_vec[i] = v2(rho, gamma, w, b, h2, l2 = 1) # Calculate utility when working and save it in v2_vec[i]\n",
    "            l2_vec[i] = 1 # save l2 = 1 to l2_vec[i]\n",
    "        else:\n",
    "            v2_vec[i] = v2(rho, gamma, w, b, h2, l2 = 0) # Calculate utility when not working and save it in v2_vec[i]\n",
    "            l2_vec[i] = 0 # save l2 = 0 to l2_vec[i]\n",
    "        v2_vec_b[i] = v2(rho, gamma, w, b, h2, l2 = 0) # Get the results for l = 0 and c = b\n",
    "        \n",
    "    return h2_vec,v2_vec,l2_vec, v2_vec_b # return the three result vectors"
   ]
  },
  {
   "cell_type": "code",
   "execution_count": 6,
   "metadata": {},
   "outputs": [],
   "source": [
    "# Solving the model and saving the results\n",
    "h2_vec,v2_vec,l2_vec, v2_vec_b = get_solution_period_two(rho, gamma, Delta, w, b) \n",
    "       \n",
    "# Construct interpolator to use when calculating v1\n",
    "v2_interp = interpolate.RegularGridInterpolator((h2_vec,), v2_vec, bounds_error=False,fill_value=None)\n"
   ]
  },
  {
   "cell_type": "markdown",
   "metadata": {},
   "source": [
    "We have now solved the model for period 2. Next we plot the results."
   ]
  },
  {
   "cell_type": "markdown",
   "metadata": {},
   "source": [
    "#### Plot: Labor supply as a function of human capital"
   ]
  },
  {
   "cell_type": "code",
   "execution_count": 7,
   "metadata": {},
   "outputs": [
    {
     "data": {
      "image/png": "[encoded data removed]",
      "text/plain": [
       "<Figure size 432x288 with 1 Axes>"
      ]
     },
     "metadata": {
      "needs_background": "light"
     },
     "output_type": "display_data"
    }
   ],
   "source": [
    "# Plot labor supply as a function of human capital\n",
    "\n",
    "fig = plt.figure()\n",
    "ax = fig.add_subplot(1,1,1)\n",
    "ax.plot(h2_vec,l2_vec)\n",
    "#ax.grid() \n",
    "ax.set_xlabel('Human capital level in period 2 ($h_2$)') # \n",
    "ax.set_ylabel('Labor supply in period 2 ($l_2$)')\n",
    "ax.set_title('Labor supply in period 2 as a function of human capital')\n",
    "ax.set_ylim([-0.1,1.1]); "
   ]
  },
  {
   "cell_type": "markdown",
   "metadata": {},
   "source": [
    "From the plot showed above we see that: \n",
    "1. The worker will supply zero labor ($l_2 = 0$) in period 2 for human capital levels below 0.57\n",
    "1. The worker will supply full labor ($l_2 = 1$) in period 2 for human capital levels above 0.57"
   ]
  },
  {
   "cell_type": "markdown",
   "metadata": {},
   "source": [
    "#### Plot: Utility as a function of labor supply"
   ]
  },
  {
   "cell_type": "code",
   "execution_count": 8,
   "metadata": {},
   "outputs": [
    {
     "data": {
      "text/plain": [
       "Text(0.5, 1.0, 'Utility in period 2 by human capital')"
      ]
     },
     "execution_count": 8,
     "metadata": {},
     "output_type": "execute_result"
    },
    {
     "data": {
      "image/png": "[encoded data removed]",
      "text/plain": [
       "<Figure size 432x288 with 1 Axes>"
      ]
     },
     "metadata": {
      "needs_background": "light"
     },
     "output_type": "display_data"
    }
   ],
   "source": [
    "# Plot labor supply as a function of human capital\n",
    "\n",
    "fig = plt.figure()\n",
    "ax = fig.add_subplot(1,1,1)\n",
    "ax.plot(h2_vec,v2_vec, label = 'Utility')\n",
    "ax.plot(h2_vec,v2_vec_b, linestyle= ':', label = 'Utility when c = b')\n",
    "#ax.grid() \n",
    "ax.legend()\n",
    "ax.set_xlabel('Human capital in period 2 ($h_2$)') # \n",
    "ax.set_ylabel('Utility in period 2 ($v_2$)')\n",
    "ax.set_title('Utility in period 2 by human capital')"
   ]
  },
  {
   "cell_type": "markdown",
   "metadata": {},
   "source": [
    "Above is the utility in period 2 plottet against different human capital levels. <br>\n",
    "This result clearly illustrates the trade-off the worker faces, as she:\n",
    "1. gets a higher consumption when supplying labor, but\n",
    "1. at the same time gets disutility from working\n",
    "\n",
    "The worker supplies zero labor up for human capital levels below 0.57 as this maximizes her utility in period two.   <br>\n",
    "Here, human capital can be seen as productivity meassured on a scale from 0 to 1.5. <br> \n",
    "For human capital levels above 0.57 she supplies full labor as this maximizes her utility. <br>\n",
    "Notice that the obtained utility is below zero for all values of human capital. This is primary due to the high value of $\\rho$ in the denominator, but utility is still rising in with consumption.\n",
    "\n",
    "Notice that utility when $c=b$ is when she does not work, i.e.  $l_2=0$"
   ]
  },
  {
   "cell_type": "markdown",
   "metadata": {},
   "source": [
    "**Question 2:** Solve the model in period 1 and illustrate the solution (including labor supply as a function of human capital). "
   ]
  },
  {
   "cell_type": "code",
   "execution_count": 9,
   "metadata": {},
   "outputs": [],
   "source": [
    "# Define the functions to solve the model\n",
    "\n",
    "def get_solution_period_one(rho, gamma, beta, Delta, v2_interp, w, b):\n",
    "    \n",
    "    # first we define the grids'\n",
    "    h1_vec = np.linspace(0.1,1.5,100)\n",
    "    v1_vec = np.empty(100) # this is just empty for now \n",
    "    l1_vec = np.empty(100) # this is just empty for now \n",
    "    v1_vec_b = np.empty(100)\n",
    "    v1_vec_util1 = np.empty(100)\n",
    "    \n",
    "    #next, we solve the model for each h2 value in the grid above\n",
    "    for i, h1 in enumerate(h1_vec):\n",
    "        if v1(rho, gamma, beta, Delta, v2_interp, w, b, h1, l1=1) > v1(rho, gamma, beta, Delta, v2_interp, w, b, h1, l1=0): \n",
    "            v1_vec[i] = v1(rho, gamma, beta, Delta, v2_interp, h1, w, b, l1 = 1)\n",
    "            l1_vec[i] = 1\n",
    "            v1_vec_util1[i] = utility(c = w*h1*1, rho = rho) - disutility(gamma, l = 1)\n",
    "        else: \n",
    "            v1_vec[i] = v1(rho, gamma, beta, Delta, v2_interp, h1, w, b, l1 = 0)\n",
    "            l1_vec[i] = 0\n",
    "            v1_vec_util1[i] = utility(c = b, rho = rho)\n",
    "            \n",
    "        v1_vec_b[i] = utility(c = b, rho = rho)\n",
    "        \n",
    "    return h1_vec,v1_vec,l1_vec, v1_vec_b, v1_vec_util1"
   ]
  },
  {
   "cell_type": "code",
   "execution_count": 10,
   "metadata": {},
   "outputs": [],
   "source": [
    "# solve period one \n",
    "h1_vec,v1_vec,l1_vec, v1_vec_b, v1_vec_util1 = get_solution_period_one(rho, gamma, beta, Delta, v2_interp, w, b)"
   ]
  },
  {
   "cell_type": "markdown",
   "metadata": {},
   "source": [
    "#### Plot: Labor supply as a function of human capital"
   ]
  },
  {
   "cell_type": "code",
   "execution_count": 11,
   "metadata": {},
   "outputs": [
    {
     "data": {
      "text/plain": [
       "Text(0.5, 1.0, 'Labor supply in period 1 as a function of human capital')"
      ]
     },
     "execution_count": 11,
     "metadata": {},
     "output_type": "execute_result"
    },
    {
     "data": {
      "image/png": "[encoded data removed]",
      "text/plain": [
       "<Figure size 432x288 with 1 Axes>"
      ]
     },
     "metadata": {
      "needs_background": "light"
     },
     "output_type": "display_data"
    }
   ],
   "source": [
    "# c. plot\n",
    "fig = plt.figure()\n",
    "ax = fig.add_subplot(1,1,1)\n",
    "ax.plot(h1_vec,l1_vec)\n",
    "#ax.grid()\n",
    "ax.set_xlabel('Human capital level in period 1 ($h_1$)') \n",
    "ax.set_ylabel('Labor supply in period 1 ($l_1$)')\n",
    "ax.set_title('Labor supply in period 1 as a function of human capital')"
   ]
  },
  {
   "cell_type": "markdown",
   "metadata": {},
   "source": [
    "From the results showed above we see that: \n",
    "1. The worker will supply zero labor ($l_1 = 0$) for human capital levels below 0.35\n",
    "1. The worker will supply full labor ($l_1 = 1$) for human capital levels above 0.35"
   ]
  },
  {
   "cell_type": "markdown",
   "metadata": {},
   "source": [
    "#### Plot: Utility as a function of labor supply"
   ]
  },
  {
   "cell_type": "code",
   "execution_count": 12,
   "metadata": {},
   "outputs": [
    {
     "data": {
      "text/plain": [
       "<matplotlib.legend.Legend at 0x2a7d33a56d8>"
      ]
     },
     "execution_count": 12,
     "metadata": {},
     "output_type": "execute_result"
    },
    {
     "data": {
      "image/png": "[encoded data removed]",
      "text/plain": [
       "<Figure size 432x288 with 1 Axes>"
      ]
     },
     "metadata": {
      "needs_background": "light"
     },
     "output_type": "display_data"
    }
   ],
   "source": [
    "# Plot labor supply as a function of human capital\n",
    "\n",
    "fig = plt.figure()\n",
    "ax = fig.add_subplot(1,1,1)\n",
    "ax.plot(h1_vec,v1_vec_util1, label = 'Utility')\n",
    "ax.plot(h1_vec,v1_vec_b, linestyle= ':', label = 'Utility when c = b')\n",
    "#ax.grid() \n",
    "ax.set_xlabel('Human capital in period 1 ($h_1$)') # \n",
    "ax.set_ylabel('Utility in period 1 ($v_1$)')\n",
    "ax.set_title('Utility in period 1 by human capital')\n",
    "ax.legend()"
   ]
  },
  {
   "cell_type": "markdown",
   "metadata": {},
   "source": [
    "**Question 3:** Will the worker never work if her potential wage income is lower than the unemployment benefits she can get? Explain and illustrate why or why not."
   ]
  },
  {
   "cell_type": "markdown",
   "metadata": {},
   "source": [
    "This can be answered by looking at the two periods as a game solved by backwards induction.\n",
    "1. In period two she would never supply labor if her potential wage ($wh_2l_2$) is below the unemployment benefits (b) as this is the last period and no more capital accumulation will take place after this period as this is a two period model.\n",
    "1. In period 1, she will optimize utility with respect to labor where she takes in mind the expected value of utility of period 2.\n",
    "\n",
    "Given this she will be willing to supply labor in period 1 even if her potentional wage in period 1 is lower than the unemployment benefits ($wh_1l_1<b$). Which happens when human capital levels below $h_1 < \\frac{b}{wl_1} = 0.5$ <br>\n",
    "She will be willing to supply labor at these levels because of the possibility of gain (more hunam capital accummutation) in period 2. \n"
   ]
  },
  {
   "cell_type": "markdown",
   "metadata": {},
   "source": [
    "See the figure above for the illustration."
   ]
  },
  {
   "cell_type": "markdown",
   "metadata": {},
   "source": [
    "Basically, period 1 is about balancing a trade-off between:\n",
    "1. Consumption today, and\n",
    "1. more capital accumulation and thereby consumption in the furture. <br>"
   ]
  },
  {
   "cell_type": "markdown",
   "metadata": {},
   "source": [
    "For high enough values of expected utility in period 2, she chooses to work even if her potential wage income is lower than the unemployment benefits she can get in period 1.\n",
    "In our case with she will work start working at a human capital rate at $0.35$ in period 1 earning a potentional wage of $wh_1l_1=2*0.35*1 = 0.7$ even though the outside option is $b=1$."
   ]
  },
  {
   "cell_type": "markdown",
   "metadata": {},
   "source": [
    "# 2. AS-AD model"
   ]
  },
  {
   "cell_type": "markdown",
   "metadata": {},
   "source": [
    "Consider the following **AS-AD model**. The **goods market equilibrium** is given by\n",
    "\n",
    "$$ y_{t} = -\\alpha r_{t} + v_{t} $$\n",
    "\n",
    "where $y_{t}$ is the **output gap**, $r_{t}$ is the **ex ante real interest** and $v_{t}$ is a **demand disturbance**. "
   ]
  },
  {
   "cell_type": "markdown",
   "metadata": {},
   "source": [
    "The central bank's **Taylor rule** is\n",
    "\n",
    "$$ i_{t} = \\pi_{t+1}^{e} + h \\pi_{t} + b y_{t}$$\n",
    "\n",
    "where $i_{t}$ is the **nominal interest rate**, $\\pi_{t}$ is the **inflation gap**, and $\\pi_{t+1}^{e}$ is the **expected inflation gap**. "
   ]
  },
  {
   "cell_type": "markdown",
   "metadata": {},
   "source": [
    "The **ex ante real interest rate** is given by \n",
    "\n",
    "$$ r_{t} = i_{t} - \\pi_{t+1}^{e} $$"
   ]
  },
  {
   "cell_type": "markdown",
   "metadata": {},
   "source": [
    "Together, the above implies that the **AD-curve** is\n",
    "\n",
    "$$ \\pi_{t} = \\frac{1}{h\\alpha}\\left[v_{t} - (1+b\\alpha)y_{t}\\right]$$"
   ]
  },
  {
   "cell_type": "markdown",
   "metadata": {},
   "source": [
    "Further, assume that the **short-run supply curve (SRAS)** is given by\n",
    "\n",
    "$$ \\pi_{t} = \\pi_{t}^{e} + \\gamma y_{t} + s_{t}$$\n",
    "\n",
    "where $s_t$ is a **supply disturbance**."
   ]
  },
  {
   "cell_type": "markdown",
   "metadata": {},
   "source": [
    "**Inflation expectations are adaptive** and given by\n",
    "\n",
    "$$ \\pi_{t}^{e} = \\phi\\pi_{t-1}^{e} + (1-\\phi)\\pi_{t-1}$$"
   ]
  },
  {
   "cell_type": "markdown",
   "metadata": {},
   "source": [
    "Together, this implies that the **SRAS-curve** can also be written as\n",
    "\n",
    "$$ \\pi_{t} = \\pi_{t-1} + \\gamma y_{t} - \\phi\\gamma y_{t-1} + s_{t} - \\phi s_{t-1} $$"
   ]
  },
  {
   "cell_type": "markdown",
   "metadata": {},
   "source": [
    "The **parameters** of the model are:"
   ]
  },
  {
   "cell_type": "code",
   "execution_count": 13,
   "metadata": {},
   "outputs": [],
   "source": [
    "par = {}\n",
    "\n",
    "par['alpha'] = 5.76\n",
    "par['h'] = 0.5\n",
    "par['b'] = 0.5\n",
    "par['phi'] = 0\n",
    "par['gamma'] = 0.075"
   ]
  },
  {
   "cell_type": "markdown",
   "metadata": {},
   "source": [
    "**Question 1:** Use the ``sympy`` module to solve for the equilibrium values of output, $y_t$, and inflation, $\\pi_t$, (where AD = SRAS) given the parameters ($\\alpha$, $h$, $b$, $\\alpha$, $\\gamma$) and $y_{t-1}$ , $\\pi_{t-1}$, $v_t$, $s_t$, and $s_{t-1}$."
   ]
  },
  {
   "cell_type": "markdown",
   "metadata": {},
   "source": [
    "##### Import relevant packages"
   ]
  },
  {
   "cell_type": "code",
   "execution_count": 14,
   "metadata": {},
   "outputs": [],
   "source": [
    "import numpy as np\n",
    "from scipy import linalg\n",
    "from scipy import optimize\n",
    "import sympy as sm\n",
    "\n",
    "sm.init_printing(use_unicode=True) # for pretty printing"
   ]
  },
  {
   "cell_type": "markdown",
   "metadata": {},
   "source": [
    "##### Define the parameters and the functions"
   ]
  },
  {
   "cell_type": "code",
   "execution_count": 15,
   "metadata": {},
   "outputs": [],
   "source": [
    "# Define the parameters and the functions\n",
    "pi = sm.symbols('pi')\n",
    "gamma = par['gamma']\n",
    "phi = par['phi']\n",
    "y = sm.symbols('y')\n",
    "y_lag = sm.symbols('y_lag')\n",
    "pi_lag = sm.symbols('pi_lag')\n",
    "s = sm.symbols('s')\n",
    "s_lag = sm.symbols('s_lag')\n",
    "alpha = par['alpha']\n",
    "h = par['h']\n",
    "b = par['b']\n",
    "v = sm.symbols('v')"
   ]
  },
  {
   "cell_type": "markdown",
   "metadata": {},
   "source": [
    "##### Define AD and SRAS\n",
    "We now define AD and SRAS as stated in the problem."
   ]
  },
  {
   "cell_type": "code",
   "execution_count": 16,
   "metadata": {},
   "outputs": [
    {
     "name": "stdout",
     "output_type": "stream",
     "text": [
      "AD: \n"
     ]
    },
    {
     "data": {
      "image/png": "[encoded data removed]",
      "text/latex": [
       "$$0.347222222222222 v - 1.34722222222222 y$$"
      ],
      "text/plain": [
       "0.347222222222222⋅v - 1.34722222222222⋅y"
      ]
     },
     "execution_count": 16,
     "metadata": {},
     "output_type": "execute_result"
    }
   ],
   "source": [
    "AD = (1/(h*alpha))*(v-(1+(b*alpha))*y)\n",
    "\n",
    "print('AD: ')\n",
    "AD"
   ]
  },
  {
   "cell_type": "code",
   "execution_count": 17,
   "metadata": {},
   "outputs": [
    {
     "name": "stdout",
     "output_type": "stream",
     "text": [
      "SRAS: \n"
     ]
    },
    {
     "data": {
      "image/png": "[encoded data removed]",
      "text/latex": [
       "$$\\pi_{lag} + s + 0.075 y$$"
      ],
      "text/plain": [
       "π_lag + s + 0.075⋅y"
      ]
     },
     "execution_count": 17,
     "metadata": {},
     "output_type": "execute_result"
    }
   ],
   "source": [
    "SRAS = pi_lag+gamma*y-phi*gamma*y_lag+s-phi*s_lag\n",
    "\n",
    "print('SRAS: ')\n",
    "SRAS"
   ]
  },
  {
   "cell_type": "markdown",
   "metadata": {},
   "source": [
    "Next we wish to sole the equation where AD = SRAS and get the equilibrium values for output and inflation in period t.<br>\n",
    "This is done by using the solve function in sympy. First a equation \"eq\" is defined as AD = SRAS.  <br>\n",
    "Next, the equation is solved with respect to y using the solve function in sympy. <br> \n",
    "The result is an equation illustrating how the output gap in period t depends on $\\pi_{t-1}$, $s_t$ and $v_t$."
   ]
  },
  {
   "cell_type": "code",
   "execution_count": 18,
   "metadata": {},
   "outputs": [
    {
     "name": "stdout",
     "output_type": "stream",
     "text": [
      "Output gap in period t is:\n"
     ]
    },
    {
     "data": {
      "image/png": "[encoded data removed]",
      "text/latex": [
       "$$- 0.703125 \\pi_{lag} - 0.703125 s + 0.244140625 v$$"
      ],
      "text/plain": [
       "-0.703125⋅π_lag - 0.703125⋅s + 0.244140625⋅v"
      ]
     },
     "execution_count": 18,
     "metadata": {},
     "output_type": "execute_result"
    }
   ],
   "source": [
    "# solve that equation where the SRAS-curve is equal to the AD-curve \n",
    "eq = sm.Eq(AD,SRAS)\n",
    "y_eq = sm.solve(eq,y)[0]\n",
    "print('Output gap in period t is:')\n",
    "y_eq"
   ]
  },
  {
   "cell_type": "markdown",
   "metadata": {},
   "source": [
    "To get the equilibrium values for inflation we insert the equilibrium of output obtained above into the SRAS function and solve for inflation."
   ]
  },
  {
   "cell_type": "code",
   "execution_count": 19,
   "metadata": {},
   "outputs": [
    {
     "name": "stdout",
     "output_type": "stream",
     "text": [
      "Inflation gap in period t is:\n"
     ]
    },
    {
     "data": {
      "image/png": "[encoded data removed]",
      "text/latex": [
       "$$\\pi_{lag} + s + 0.075 y$$"
      ],
      "text/plain": [
       "π_lag + s + 0.075⋅y"
      ]
     },
     "execution_count": 19,
     "metadata": {},
     "output_type": "execute_result"
    }
   ],
   "source": [
    "# insert for y_eq in pi to get equilibrium phi\n",
    "\n",
    "pi_eq = sm.Eq(pi,SRAS)\n",
    "pi_eq = sm.solve(pi_eq, pi)[0]\n",
    "print('Inflation gap in period t is:')\n",
    "pi_eq "
   ]
  },
  {
   "cell_type": "markdown",
   "metadata": {},
   "source": [
    "\n",
    "**Question 2:** Find and illustrate the equilibrium when $y_{t-1} = \\pi_{t-1} = v_t = s_t = s_{t-1} = 0$. Illustrate how the equilibrium changes when instead $v_t = 0.1$."
   ]
  },
  {
   "cell_type": "markdown",
   "metadata": {},
   "source": [
    "First we define a lambdify function for both output and inflation. <br>\n",
    "This gives us the opportunity to later specify the values according to the parameter specification given in the problem. "
   ]
  },
  {
   "cell_type": "code",
   "execution_count": 20,
   "metadata": {},
   "outputs": [],
   "source": [
    "#Lambdifying the solutions:\n",
    "y_eq_func = sm.lambdify((pi_lag, s, v), y_eq)\n",
    "pi_eq_func = sm.lambdify((pi_lag, s, y), pi_eq)"
   ]
  },
  {
   "cell_type": "markdown",
   "metadata": {},
   "source": [
    "##### With no demand disturbance in period t: $v_t=0$"
   ]
  },
  {
   "cell_type": "markdown",
   "metadata": {},
   "source": [
    "Next we calculate the equilibrium values for output and inflation in period t without demand disturbance $v_t=0$"
   ]
  },
  {
   "cell_type": "code",
   "execution_count": 21,
   "metadata": {},
   "outputs": [],
   "source": [
    "# specify the parameter v\n",
    "v = 0"
   ]
  },
  {
   "cell_type": "code",
   "execution_count": 22,
   "metadata": {},
   "outputs": [
    {
     "name": "stdout",
     "output_type": "stream",
     "text": [
      "Equilibrium output gap in period t with no demand disturbance:\n"
     ]
    },
    {
     "data": {
      "image/png": "[encoded data removed]",
      "text/latex": [
       "$$0.0$$"
      ],
      "text/plain": [
       "0.0"
      ]
     },
     "execution_count": 22,
     "metadata": {},
     "output_type": "execute_result"
    }
   ],
   "source": [
    "# calculate output in period t with no demand disturbance \n",
    "print('Equilibrium output gap in period t with no demand disturbance:')\n",
    "y_eq_func(0, s = 0, v = v)"
   ]
  },
  {
   "cell_type": "code",
   "execution_count": 23,
   "metadata": {},
   "outputs": [
    {
     "name": "stdout",
     "output_type": "stream",
     "text": [
      "Equilibrium for inflation in period t with no demand disturbance:\n"
     ]
    },
    {
     "data": {
      "image/png": "[encoded data removed]",
      "text/latex": [
       "$$0.0$$"
      ],
      "text/plain": [
       "0.0"
      ]
     },
     "execution_count": 23,
     "metadata": {},
     "output_type": "execute_result"
    }
   ],
   "source": [
    "# calculate inflation in period t with no demand disturbance \n",
    "print('Equilibrium for inflation in period t with no demand disturbance:')\n",
    "pi_eq_func(0, s = 0, y = y_eq_func(0, s = 0, v = v))"
   ]
  },
  {
   "cell_type": "markdown",
   "metadata": {},
   "source": [
    "Result: With no demand disturbance in period t and the the parameter values $y_{t-1} = \\pi_{t-1} = v_t = s_t = s_{t-1} = 0$ the equilibrium values for output gap and inflation gap in period t are both zero. This indicates that the economy is at its target levels. "
   ]
  },
  {
   "cell_type": "markdown",
   "metadata": {},
   "source": [
    "##### With demand disturbance in period t: $v_t=0.1$"
   ]
  },
  {
   "cell_type": "markdown",
   "metadata": {},
   "source": [
    "Now we change the parameter value of $v_t = 0.1$ and then we calculate the equilibrium values again"
   ]
  },
  {
   "cell_type": "code",
   "execution_count": 24,
   "metadata": {},
   "outputs": [],
   "source": [
    "# Change the value of v_t\n",
    "v = 0.1"
   ]
  },
  {
   "cell_type": "code",
   "execution_count": 25,
   "metadata": {},
   "outputs": [
    {
     "name": "stdout",
     "output_type": "stream",
     "text": [
      "The equilibrium output in period t with demand disturbance:\n"
     ]
    },
    {
     "data": {
      "image/png": "[encoded data removed]",
      "text/latex": [
       "$$0.0244$$"
      ],
      "text/plain": [
       "0.0244"
      ]
     },
     "execution_count": 25,
     "metadata": {},
     "output_type": "execute_result"
    }
   ],
   "source": [
    "# calculate output in period t with demand disturbance \n",
    "print('The equilibrium output in period t with demand disturbance:')\n",
    "round(y_eq_func(0, s = 0, v = v), 4)"
   ]
  },
  {
   "cell_type": "code",
   "execution_count": 26,
   "metadata": {},
   "outputs": [
    {
     "name": "stdout",
     "output_type": "stream",
     "text": [
      "The equilibrium inflation in period t with demand disturbance:\n"
     ]
    },
    {
     "data": {
      "image/png": "[encoded data removed]",
      "text/latex": [
       "$$0.0018$$"
      ],
      "text/plain": [
       "0.0018"
      ]
     },
     "execution_count": 26,
     "metadata": {},
     "output_type": "execute_result"
    }
   ],
   "source": [
    "# calculate output in period t with demand disturbance \n",
    "print('The equilibrium inflation in period t with demand disturbance:')\n",
    "round(pi_eq_func(0, s = 0, y = y_eq_func(0, s = 0, v = v)), 4)"
   ]
  },
  {
   "cell_type": "markdown",
   "metadata": {},
   "source": [
    "Result: With demand disturbance in period t at $v_t=0.1$ the economy faces both output gap and inflation gap. \n"
   ]
  },
  {
   "cell_type": "markdown",
   "metadata": {},
   "source": [
    "Illustrating:"
   ]
  },
  {
   "cell_type": "code",
   "execution_count": 27,
   "metadata": {},
   "outputs": [],
   "source": [
    "#Two period simulation\n",
    "v = [0, 0.1]\n",
    "t = range(1, len(v)+1)\n",
    "\n",
    "output = np.empty(len(t))\n",
    "inflation = np.empty(len(t))\n",
    "\n",
    "for i, v in enumerate(v):\n",
    "    output[i] = y_eq_func(pi_lag = 0, s = 0, v = v)\n",
    "    inflation[i] = pi_eq_func(pi_lag = 0, s = 0, y = y_eq_func(pi_lag = 0, s = 0, v = v))\n"
   ]
  },
  {
   "cell_type": "code",
   "execution_count": 28,
   "metadata": {},
   "outputs": [
    {
     "data": {
      "image/png": "[encoded data removed]",
      "text/plain": [
       "<Figure size 720x360 with 1 Axes>"
      ]
     },
     "metadata": {
      "needs_background": "light"
     },
     "output_type": "display_data"
    }
   ],
   "source": [
    "fig = plt.figure(figsize= (10,5))\n",
    "ax = fig.add_subplot(1,1,1)\n",
    "ax.plot(t, output, label = 'Output gap', alpha = 0.5)\n",
    "ax.plot(t, inflation, linestyle= ':', label = 'Inflation gap', color='red')\n",
    "#ax.grid() \n",
    "ax.legend()\n",
    "ax.set_xlabel('t') # \n",
    "ax.set_ylabel('$y_t, \\pi_t$')\n",
    "ax.set_title('Equilibrium when $v_{t=1}=0$ and $v_{t=2}=0.1$')\n",
    "plt.xticks(t)\n",
    "plt.show()"
   ]
  },
  {
   "cell_type": "markdown",
   "metadata": {},
   "source": [
    "We see how a positive demand disturbance in period $t=2$ creates higher output and higher inflation in that period."
   ]
  },
  {
   "cell_type": "markdown",
   "metadata": {},
   "source": [
    "**Persistent disturbances:** Now, additionaly, assume that both the demand and the supply disturbances are AR(1) processes\n",
    "\n",
    "$$ v_{t} = \\delta v_{t-1} + x_{t} $$\n",
    "$$ s_{t} = \\omega s_{t-1} + c_{t} $$\n",
    "\n",
    "where $x_{t}$ is a **demand shock**, and $c_t$ is a **supply shock**. The **autoregressive parameters** are:"
   ]
  },
  {
   "cell_type": "code",
   "execution_count": 29,
   "metadata": {},
   "outputs": [],
   "source": [
    "par['delta'] = 0.80\n",
    "par['omega'] = 0.15\n",
    "\n",
    "delta = par['delta']\n",
    "omega = par['omega']"
   ]
  },
  {
   "cell_type": "markdown",
   "metadata": {},
   "source": [
    "**Question 3:** Starting from $y_{-1} = \\pi_{-1} = s_{-1} = 0$, how does the economy evolve for $x_0 = 0.1$, $x_t = 0, \\forall t > 0$ and $c_t = 0, \\forall t \\geq 0$?"
   ]
  },
  {
   "cell_type": "markdown",
   "metadata": {},
   "source": [
    "To see how the economy evolves after experiencing a postive demand shock in period 0, whereafter the economy returns to a state of no shocks we simulate output gab and inflation gap over 150 periods.\n",
    "We start by defining the period, and the functions for supply and demand shocks. Then, output gap and inflation gap is calculated for each period given the parameters in the respective period. Lastly, the results are illustrated."
   ]
  },
  {
   "cell_type": "code",
   "execution_count": 30,
   "metadata": {},
   "outputs": [],
   "source": [
    "# Set pretty print off\n",
    "sm.init_printing(pretty_print=False)"
   ]
  },
  {
   "cell_type": "code",
   "execution_count": 31,
   "metadata": {},
   "outputs": [],
   "source": [
    "# Range to simulate over\n",
    "t = range(0, 150, 1)"
   ]
  },
  {
   "cell_type": "code",
   "execution_count": 32,
   "metadata": {},
   "outputs": [],
   "source": [
    "# Define the demand shocks\n",
    "x = [0 for i in t]\n",
    "x[0] = 0.1 #demand shock in first period"
   ]
  },
  {
   "cell_type": "code",
   "execution_count": 33,
   "metadata": {},
   "outputs": [],
   "source": [
    "# Define supply shocks\n",
    "c = [0 for i in t]"
   ]
  },
  {
   "cell_type": "code",
   "execution_count": 34,
   "metadata": {},
   "outputs": [],
   "source": [
    "# Define demand and supply disturbances\n",
    "v = [delta*0+x[0]] #initialisation of v_0\n",
    "s = [omega*0+c[0]] # initialisation of s_0\n",
    "\n",
    "\n",
    "# append the values for disturbance to the list\n",
    "for i in range(1, max(t)+1):\n",
    "    v.append(delta*v[i-1]+x[i])\n",
    "    s.append(omega*s[i-1]+c[i])"
   ]
  },
  {
   "cell_type": "code",
   "execution_count": 35,
   "metadata": {},
   "outputs": [],
   "source": [
    "# Caltulate the output and inflation for each period given the values for v and s\n",
    "output = [0] #initial period\n",
    "inflation = [0] #initial period\n",
    "\n",
    "for i, j, k in zip(v, s, range(0, 149)): #Running our functions for 149 periods\n",
    "    output.append(y_eq_func(pi_lag = inflation[k], s = j, v = i))\n",
    "    inflation.append(pi_eq_func(pi_lag = inflation[k], s = j, y = y_eq_func(pi_lag = inflation[k], s = j, v = i)))"
   ]
  },
  {
   "cell_type": "code",
   "execution_count": 36,
   "metadata": {},
   "outputs": [
    {
     "data": {
      "image/png": "[encoded data removed]",
      "text/plain": [
       "<Figure size 720x360 with 1 Axes>"
      ]
     },
     "metadata": {
      "needs_background": "light"
     },
     "output_type": "display_data"
    }
   ],
   "source": [
    "# Plot the results \n",
    "fig = plt.figure(figsize= (10,5))\n",
    "ax = fig.add_subplot(1,1,1)\n",
    "ax.plot(t, output, label = 'Output gap', alpha=0.7)\n",
    "ax.plot(t, inflation, linestyle= ':', label = 'Inflation gap', color='red')\n",
    "#ax.grid() \n",
    "ax.legend()\n",
    "ax.set_xlabel('period') # \n",
    "ax.set_ylabel('$y_t, \\pi_t$')\n",
    "ax.set_title('Output and inflation gap for 150 periods')\n",
    "plt.xticks(range(0, 151, 50))\n",
    "plt.show()"
   ]
  },
  {
   "cell_type": "markdown",
   "metadata": {},
   "source": [
    "In the plot we see how the economy evoles after experiencing a positiv demand disturbance in period zero. <br>\n",
    "In period one the economy react to the demand disturbance which increases the output gap and also inflation. When the central bank realises this, they increase the nominal interest rate which has the effect of minimizing the output gab and thereby the upturn. As no the demand disturbance is present in the following period the output the output gap ends up getting negative. As time passes the economy converge back to normal with zero inflation and output gap."
   ]
  },
  {
   "cell_type": "markdown",
   "metadata": {},
   "source": [
    "**Stochastic shocks:** Now, additionally, assume that $x_t$ and $c_t$ are stochastic and normally distributed\n",
    "\n",
    "$$ x_{t}\\sim\\mathcal{N}(0,\\sigma_{x}^{2}) $$\n",
    "$$ c_{t}\\sim\\mathcal{N}(0,\\sigma_{c}^{2}) $$\n",
    "\n",
    "The **standard deviations of the shocks** are:"
   ]
  },
  {
   "cell_type": "code",
   "execution_count": 37,
   "metadata": {},
   "outputs": [],
   "source": [
    "par['sigma_x'] = 3.492\n",
    "par['sigma_c'] = 0.2\n",
    "\n",
    "sigma_x = par['sigma_x']\n",
    "sigma_c = par['sigma_c']"
   ]
  },
  {
   "cell_type": "markdown",
   "metadata": {},
   "source": [
    "**Question 4:** Simulate the AS-AD model for 1,000 periods. Calculate the following five statistics:\n",
    "\n",
    "1. Variance of $y_t$, $var(y_t)$\n",
    "2. Variance of $\\pi_t$, $var(\\pi_t)$\n",
    "3. Correlation between $y_t$ and $\\pi_t$, $corr(y_t,\\pi_t)$\n",
    "4. Auto-correlation between $y_t$ and $y_{t-1}$, $corr(y_t,y_{t-1})$\n",
    "5. Auto-correlation between $\\pi_t$ and $\\pi_{t-1}$, $corr(\\pi_t,\\pi_{t-1})$"
   ]
  },
  {
   "cell_type": "markdown",
   "metadata": {},
   "source": [
    "We need define a simulation function - one which takes in $\\sigma_x$, $\\sigma_c$ and $\\phi$ so we can use it for question 4 and 5.\n",
    "\n",
    "First, we need to solve the model with these parameters as choice inputs with same procedure as before:"
   ]
  },
  {
   "cell_type": "code",
   "execution_count": 38,
   "metadata": {},
   "outputs": [],
   "source": [
    "# Define the parameters\n",
    "pi = sm.symbols('pi')\n",
    "gamma = par['gamma']\n",
    "phi = sm.symbols('phi')\n",
    "y = sm.symbols('y')\n",
    "y_lag = sm.symbols('y_lag')\n",
    "pi_lag = sm.symbols('pi_lag')\n",
    "s = sm.symbols('s')\n",
    "s_lag = sm.symbols('s_lag')\n",
    "alpha = par['alpha']\n",
    "h = par['h']\n",
    "b = par['b']\n",
    "v = sm.symbols('v')"
   ]
  },
  {
   "cell_type": "code",
   "execution_count": 39,
   "metadata": {},
   "outputs": [
    {
     "name": "stdout",
     "output_type": "stream",
     "text": [
      "Output gap is period t is:\n"
     ]
    },
    {
     "data": {
      "text/plain": [
       "0.703125*phi*s_lag + 0.052734375*phi*y_lag - 0.703125*pi_lag - 0.703125*s + 0.244140625*v"
      ]
     },
     "execution_count": 39,
     "metadata": {},
     "output_type": "execute_result"
    }
   ],
   "source": [
    "AD = (1/(h*alpha))*(v-(1+(b*alpha))*y)\n",
    "SRAS = pi_lag+gamma*y-phi*gamma*y_lag+s-phi*s_lag\n",
    "\n",
    "# solve that equation where the SRAS-curve is equal to the AD-curve \n",
    "eq = sm.Eq(AD,SRAS)\n",
    "y_eq = sm.solve(eq,y)[0]\n",
    "print('Output gap is period t is:')\n",
    "y_eq"
   ]
  },
  {
   "cell_type": "code",
   "execution_count": 40,
   "metadata": {},
   "outputs": [
    {
     "name": "stdout",
     "output_type": "stream",
     "text": [
      "Inflation gap in period t is:\n"
     ]
    },
    {
     "data": {
      "text/plain": [
       "-phi*s_lag - 0.075*phi*y_lag + pi_lag + s + 0.075*y"
      ]
     },
     "execution_count": 40,
     "metadata": {},
     "output_type": "execute_result"
    }
   ],
   "source": [
    "# insert for y_eq in pi to get equilibrium phi\n",
    "\n",
    "pi_eq = sm.Eq(pi,SRAS)\n",
    "pi_eq = sm.solve(pi_eq, pi)[0]\n",
    "print('Inflation gap in period t is:')\n",
    "pi_eq "
   ]
  },
  {
   "cell_type": "code",
   "execution_count": 41,
   "metadata": {},
   "outputs": [],
   "source": [
    "#Lambdifying the solutions:\n",
    "y_eq_func = sm.lambdify((pi_lag, s, v, phi, s_lag, y_lag), y_eq)\n",
    "pi_eq_func = sm.lambdify((pi_lag, s, y, phi, s_lag, y_lag), pi_eq)"
   ]
  },
  {
   "cell_type": "markdown",
   "metadata": {},
   "source": [
    "Now, we can contruct a simulation function for a 1000 periods which returns the five statistics:\n",
    "1. Variance of $y_t$, $var(y_t)$\n",
    "2. Variance of $\\pi_t$, $var(\\pi_t)$\n",
    "3. Correlation between $y_t$ and $\\pi_t$, $corr(y_t,\\pi_t)$\n",
    "4. Auto-correlation between $y_t$ and $y_{t-1}$, $corr(y_t,y_{t-1})$\n",
    "5. Auto-correlation between $\\pi_t$ and $\\pi_{t-1}$, $corr(\\pi_t,\\pi_{t-1})$"
   ]
  },
  {
   "cell_type": "markdown",
   "metadata": {},
   "source": [
    "General simulation function which takes in $\\sigma_x$, $\\sigma_c$ and $\\phi$ as parameters. It outputs the output gap and inflation gap for 1000 periods as well as there desired summary statistics listed above."
   ]
  },
  {
   "cell_type": "code",
   "execution_count": 42,
   "metadata": {},
   "outputs": [],
   "source": [
    "def simulate(sigma_x, sigma_c, phi):\n",
    "    #Range to simulate over\n",
    "    t = range(0, 1000, 1)\n",
    "    \n",
    "    #Seed - need this in order to use the function over multiple samples for changed parameters\n",
    "    np.random.seed(32)\n",
    "    #Demand shocks    \n",
    "    x = [np.random.normal(0, sigma_x) for i in t]\n",
    "    \n",
    "    #Supply shocks\n",
    "    c = [np.random.normal(0, sigma_c) for i in t]\n",
    "    \n",
    "    # Demand and supply disturbances\n",
    "    v = [delta*0+x[0]] #initialisation of v_0\n",
    "    s = [omega*0+c[0]] # initialisation of s_0\n",
    "\n",
    "    # Get full list of v and s for all 1000 periods.\n",
    "    for i in range(1, max(t)+1):\n",
    "        v.append(delta*v[i-1]+x[i])\n",
    "        s.append(omega*s[i-1]+c[i])\n",
    "        \n",
    "    output = [0] #initialisation of output gap\n",
    "    inflation = [0] #initialisation of inflation gap\n",
    "\n",
    "    # Get full list of output and inflation for all 1000 periods.\n",
    "    for i, j, k in zip(v, s, range(0, 999)):\n",
    "        output.append(y_eq_func(pi_lag = inflation[k], s = j, v = i, phi = phi, s_lag = s[k], y_lag = output[k]))\n",
    "        inflation.append(pi_eq_func(pi_lag = inflation[k], s = j,\n",
    "                                    y = y_eq_func(pi_lag = inflation[k], s = j, v = i, phi = phi, s_lag = s[k], y_lag = output[k]),\n",
    "                                    phi = phi, s_lag = s[k], y_lag = output[k]))\n",
    "     \n",
    "    # Define autocorrelation function\n",
    "    def autocorr(x, t=1):\n",
    "        return np.corrcoef(np.array([x[:-t], x[t:]]))\n",
    "    \n",
    "    # Calculate the relevant statistics\n",
    "    var_output = np.var(output)\n",
    "    var_inflation = np.var(inflation)\n",
    "    corr_output_inflation = np.corrcoef(output, inflation)[1][0]\n",
    "    acf_output = autocorr(output)[1][0]\n",
    "    acf_inflation = autocorr(inflation)[1][0]\n",
    "    \n",
    "    # Return the output, inflation and the calculated statistics\n",
    "    return output, inflation, var_output, var_inflation, corr_output_inflation, acf_output, acf_inflation"
   ]
  },
  {
   "cell_type": "markdown",
   "metadata": {},
   "source": [
    "We use the function above to obtain the output and inflation for all 1000 periods."
   ]
  },
  {
   "cell_type": "code",
   "execution_count": 43,
   "metadata": {},
   "outputs": [],
   "source": [
    "output = simulate(sigma_x=3.492, sigma_c=0.2, phi = 0.1)[0]\n",
    "inflation = simulate(sigma_x=3.492, sigma_c=0.2, phi = 0.1)[1]\n",
    "\n",
    "# Create a list with periods. This is used as the x-axis\n",
    "t = range(0, 1000, 1)"
   ]
  },
  {
   "cell_type": "markdown",
   "metadata": {},
   "source": [
    "Plotting the evolution of the economy for 1000 periods:"
   ]
  },
  {
   "cell_type": "code",
   "execution_count": 44,
   "metadata": {},
   "outputs": [
    {
     "data": {
      "image/png": "[encoded data removed]",
      "text/plain": [
       "<Figure size 720x360 with 1 Axes>"
      ]
     },
     "metadata": {
      "needs_background": "light"
     },
     "output_type": "display_data"
    }
   ],
   "source": [
    "fig = plt.figure(figsize= (10,5))\n",
    "ax = fig.add_subplot(1,1,1)\n",
    "ax.plot(t, output, label = 'Output gap', alpha=0.7)\n",
    "ax.plot(t, inflation, linestyle= ':', label = 'Inflation gap', color='red')\n",
    "#ax.grid() \n",
    "ax.legend()\n",
    "ax.set_xlabel('t') # \n",
    "ax.set_ylabel('$y_t, \\pi_t$')\n",
    "ax.set_title('Output and inflation gap for 1000 periods with $\\phi=0.1$')\n",
    "plt.xticks(range(0, 1001, 100))\n",
    "plt.show()"
   ]
  },
  {
   "cell_type": "markdown",
   "metadata": {},
   "source": [
    "In the plot above output gap and inflation gab across the 1000 periods are plotted. The data shows a stationary process which indicate the business cycles in the economy. "
   ]
  },
  {
   "cell_type": "markdown",
   "metadata": {},
   "source": [
    "The function also returns the desired summary statistics:"
   ]
  },
  {
   "cell_type": "code",
   "execution_count": 45,
   "metadata": {},
   "outputs": [
    {
     "name": "stdout",
     "output_type": "stream",
     "text": [
      "Variance of output: 1.767\n",
      "Variance of inflation: 1.1469\n",
      "Correlation between output and inflation: -0.1771\n",
      "Auto-correlation output: 0.7611\n",
      "Auto-correlation inflation: 0.9841\n"
     ]
    }
   ],
   "source": [
    "print('Variance of output: '+ str(round(simulate(sigma_x=3.492, sigma_c=0.2, phi = 0.1)[2], 4)))\n",
    "print('Variance of inflation: '+ str(round(simulate(sigma_x=3.492, sigma_c=0.2, phi = 0.1)[3], 4)))\n",
    "print('Correlation between output and inflation: '+ str(round(simulate(sigma_x=3.492, sigma_c=0.2, phi = 0.1)[4],4)))\n",
    "print('Auto-correlation output: '+ str(round(simulate(sigma_x=3.492, sigma_c=0.2, phi = 0.1)[5], 4)))\n",
    "print('Auto-correlation inflation: '+ str(round(simulate(sigma_x=3.492, sigma_c=0.2, phi = 0.1)[6], 4)))"
   ]
  },
  {
   "cell_type": "markdown",
   "metadata": {},
   "source": [
    "**Question 5:** Plot how the correlation between $y_t$ and $\\pi_t$ changes with $\\phi$. Use a numerical optimizer or root finder to choose $\\phi\\in(0,1)$ such that the simulated correlation between $y_t$ and $\\pi_t$ comes close to 0.31. "
   ]
  },
  {
   "cell_type": "markdown",
   "metadata": {},
   "source": [
    "We use our simulation function to loop over certain values in the interval for $\\phi\\in(0,1)$ and plot the correlation between output gap and inflation gap."
   ]
  },
  {
   "cell_type": "code",
   "execution_count": 46,
   "metadata": {},
   "outputs": [],
   "source": [
    "# retrive the correlation output\n",
    "corr_output_inflation = [] #container for correlation output\n",
    "phi_range = np.linspace(0,1,21) #20 steps in the range of 0 to 1 for phi\n",
    "\n",
    "for i in phi_range:\n",
    "    corr_output_inflation.append(simulate(sigma_x = 3.492, sigma_c = 0.2, phi = i)[4])"
   ]
  },
  {
   "cell_type": "code",
   "execution_count": 47,
   "metadata": {},
   "outputs": [
    {
     "data": {
      "image/png": "[encoded data removed]",
      "text/plain": [
       "<Figure size 720x360 with 1 Axes>"
      ]
     },
     "metadata": {
      "needs_background": "light"
     },
     "output_type": "display_data"
    }
   ],
   "source": [
    "# plot the results\n",
    "fig = plt.figure(figsize= (10,5))\n",
    "ax = fig.add_subplot(1,1,1)\n",
    "ax.plot(phi_range, corr_output_inflation, label = '$corr(y_t,\\pi_t)$', alpha=0.7)\n",
    "#ax.grid() \n",
    "ax.legend()\n",
    "ax.set_xlabel('$\\phi$')  \n",
    "ax.set_ylabel('$corr(y_t,\\pi_t)$')\n",
    "ax.set_title('$corr(y_t,\\pi_t)$ as a function of $\\phi$')\n",
    "#plt.xticks(range(0, , 10))\n",
    "plt.axhline(y=0.31, color = 'black', linewidth = 1, linestyle =':', label = '$corr(y_t,\\pi_t)=0.31$')\n",
    "plt.legend()\n",
    "plt.show()"
   ]
  },
  {
   "cell_type": "markdown",
   "metadata": {},
   "source": [
    "The figure gives a pretty good indication of what value of $\\phi$ results in $corr(y_t,\\pi_t)=0.31$. It looks like the value is somewhere between $\\phi=0.85$ and $\\phi=0.95$.\n",
    "\n",
    "However, in order to get a better estimate, we can to use numerical optimization. Alternatively, we could use naive brute force by increasing the steps plotted in the range for $\\phi$ in the plot above."
   ]
  },
  {
   "cell_type": "markdown",
   "metadata": {},
   "source": [
    "First, we need to change our simulation function slightly, so it only outputs the squared difference between the correlation and the target of 0.31 - this means that we can simply minimize the function (with lower bound of 0) - where the output then implies that $corr(y_t,\\pi_t)=0.31$."
   ]
  },
  {
   "cell_type": "code",
   "execution_count": 48,
   "metadata": {},
   "outputs": [],
   "source": [
    "# We create the function for numerical optimization\n",
    "def simulate_corr(phi, sigma_x=3.492, sigma_c=0.2, target = 0.31):\n",
    "    #Range to simulate over\n",
    "    t = range(0, 1000, 1)\n",
    "    \n",
    "    #Seed - need this in order to use the function over multiple samples for changed parameters\n",
    "    np.random.seed(32)\n",
    "    #Demand shocks    \n",
    "    x = [np.random.normal(0, sigma_x) for i in t]\n",
    "    \n",
    "    #Supply shocks\n",
    "    c = [np.random.normal(0, sigma_c) for i in t]\n",
    "    \n",
    "    # Demand and supply disturbances\n",
    "    v = [delta*0+x[0]] #initialisation of v_0\n",
    "    s = [omega*0+c[0]] # initialisation of s_0\n",
    "\n",
    "    for i in range(1, max(t)+1):\n",
    "        v.append(delta*v[i-1]+x[i])\n",
    "        s.append(omega*s[i-1]+c[i])\n",
    "        \n",
    "    output = [0]\n",
    "    inflation = [0]\n",
    "\n",
    "    for i, j, k in zip(v, s, range(0, 999)):\n",
    "        output.append(y_eq_func(pi_lag = inflation[k], s = j, v = i, phi = phi, s_lag = s[k], y_lag = output[k]))\n",
    "        inflation.append(pi_eq_func(pi_lag = inflation[k], s = j,\n",
    "                                    y =y_eq_func(pi_lag = inflation[k], s = j, v = i, phi = phi, s_lag = s[k], y_lag = output[k]),\n",
    "                                    phi = phi, s_lag = s[k], y_lag = output[k]))\n",
    "    # Define autocorrelation   \n",
    "    def autocorr(x, t=1):\n",
    "        return np.corrcoef(np.array([x[:-t], x[t:]]))\n",
    "    \n",
    "    corr_output_inflation = np.corrcoef(output, inflation)[1][0]\n",
    "    diff_corr_target = (corr_output_inflation - target)**2 #squared difference\n",
    "\n",
    "    \n",
    "    return diff_corr_target"
   ]
  },
  {
   "cell_type": "markdown",
   "metadata": {},
   "source": [
    "We can now simply minimize `simulate_corr` to get the $\\phi$ that results in $corr(y_t,\\pi_t)=0.31$.\n",
    "\n",
    "We could set the bound to [0.85, 0.95] using the information from the plot above, but we just plug in the entire range of $\\phi$, [0, 1]"
   ]
  },
  {
   "cell_type": "code",
   "execution_count": 49,
   "metadata": {},
   "outputs": [],
   "source": [
    "x = lambda phi: simulate_corr(phi) #objective function\n",
    "phi_opt = optimize.minimize_scalar(x, method='bounded', bounds=[0,1]) #bounded scalar minimizer"
   ]
  },
  {
   "cell_type": "code",
   "execution_count": 50,
   "metadata": {},
   "outputs": [
    {
     "name": "stdout",
     "output_type": "stream",
     "text": [
      "If phi is 0.9269193789605168 then:\n",
      "Correlation between output and inflation: 0.3100015824294274\n"
     ]
    }
   ],
   "source": [
    "print('If phi is ' + str(phi_opt.x) + ' then:')\n",
    "print('Correlation between output and inflation: '+ str(simulate(sigma_x=3.492, sigma_c=0.2, phi = phi_opt.x)[4]))"
   ]
  },
  {
   "cell_type": "markdown",
   "metadata": {},
   "source": [
    "As we can see, our numerical optimizer finds that a $\\phi=0.9269$ yielding $corr(y_t,\\pi_t)=0.31$ - so our minimizer does a very good job."
   ]
  },
  {
   "cell_type": "markdown",
   "metadata": {},
   "source": [
    "**Quesiton 6:** Use a numerical optimizer to choose $\\sigma_x>0$, $\\sigma_c>0$ and $\\phi\\in(0,1)$ to make the simulated statistics as close as possible to US business cycle data where:\n",
    "\n",
    "1. $var(y_t) = 1.64$\n",
    "2. $var(\\pi_t) = 0.21$\n",
    "3. $corr(y_t,\\pi_t) = 0.31$\n",
    "4. $corr(y_t,y_{t-1}) = 0.84$\n",
    "5. $corr(\\pi_t,\\pi_{t-1}) = 0.48$"
   ]
  },
  {
   "cell_type": "markdown",
   "metadata": {},
   "source": [
    "We can use a similar approach as in problem 5 - however, now we have 3 inputs, $\\phi$, $\\sigma_x$, $\\sigma_c$ and, to start with, 5 outputs in the form of the listed summary statistics.\n",
    "\n",
    "In order to be able to reduce the problem to a scalar problem, we can consider minimizing the sum of the squared differences for the given summary statistics. Redefining the function:"
   ]
  },
  {
   "cell_type": "code",
   "execution_count": 51,
   "metadata": {},
   "outputs": [],
   "source": [
    "def simulate_full(vector):\n",
    "    #Takes in a vector with: (phi, sigma_x, sigma_c)\n",
    "    \n",
    "    #Range to simulate over\n",
    "    t = range(0, 1000, 1)\n",
    "    \n",
    "    #Seed - need this in order to use the function over multiple samples for changed parameters\n",
    "    np.random.seed(32)\n",
    "    #Demand shocks    \n",
    "    x = [np.random.normal(0, vector[1]) for i in t]\n",
    "    \n",
    "    #Supply shocks\n",
    "    c = [np.random.normal(0, vector[2]) for i in t]\n",
    "    \n",
    "    # Demand and supply disturbances\n",
    "    v = [delta*0+x[0]] #initialisation of v_0\n",
    "    s = [omega*0+c[0]] # initialisation of s_0\n",
    "\n",
    "    for i in range(1, max(t)+1):\n",
    "        v.append(delta*v[i-1]+x[i])\n",
    "        s.append(omega*s[i-1]+c[i])\n",
    "        \n",
    "    output = [0]\n",
    "    inflation = [0]\n",
    "\n",
    "    for i, j, k in zip(v, s, range(0, 999)):\n",
    "        output.append(y_eq_func(pi_lag = inflation[k], s = j, v = i, phi = vector[0], s_lag = s[k], y_lag = output[k]))\n",
    "        inflation.append(pi_eq_func(pi_lag = inflation[k], s = j,\n",
    "                                    y =y_eq_func(pi_lag = inflation[k], s = j, v = i, phi = vector[0], s_lag = s[k], y_lag = output[k]),\n",
    "                                    phi = vector[0], s_lag = s[k], y_lag = output[k]))\n",
    "    # Define autocorrelation    \n",
    "    def autocorr(x, t=1):\n",
    "        return np.corrcoef(np.array([x[:-t], x[t:]]))\n",
    "    \n",
    "    #Summary stats\n",
    "    var_output = np.var(output)\n",
    "    var_inflation = np.var(inflation)\n",
    "    corr_output_inflation = np.corrcoef(output, inflation)[1][0]\n",
    "    acf_output = autocorr(output)[1][0]\n",
    "    acf_inflation = autocorr(inflation)[1][0]\n",
    "    \n",
    "    #Targets\n",
    "    targets = [1.64, 0.21, 0.31, 0.84, 0.48]\n",
    "    \n",
    "    #Squared differences\n",
    "    diff_output = (var_output - targets[0])**2\n",
    "    diff_inflation = (var_inflation - targets[1])**2\n",
    "    diff_corr_target = (corr_output_inflation - targets[2])**2 #squared difference\n",
    "    diff_acf_output = (acf_output - targets[3])**2\n",
    "    diff_acf_inflation = (acf_inflation - targets[4])**2\n",
    "    \n",
    "    #Sum of squared differences\n",
    "    diff_sumsq = sum([diff_output, diff_inflation, diff_corr_target, diff_acf_output, diff_acf_inflation])\n",
    "    \n",
    "    return diff_sumsq"
   ]
  },
  {
   "cell_type": "code",
   "execution_count": 52,
   "metadata": {},
   "outputs": [],
   "source": [
    "x = lambda test: simulate_full(test) #objective function\n",
    "guess = (0.92, 3.492, 0.2) # initial guess\n",
    "targets = [1.64, 0.21, 0.31, 0.84, 0.48] # for printing\n",
    "\n",
    "# define bounds\n",
    "phi_bounds = (0,1) \n",
    "sigmax_bounds = (0,100) #100 aribitrarily chosen\n",
    "sigmac_bounds = (0,100) #100 arbitrarily chosen\n",
    "bounds = (phi_bounds, sigmax_bounds, sigmac_bounds)"
   ]
  },
  {
   "cell_type": "markdown",
   "metadata": {},
   "source": [
    "We now solve the problem with `scipy`'s `minimize`. We use the method algorithm of `L-BFGS-B` as it allows for different bounds for each input:"
   ]
  },
  {
   "cell_type": "code",
   "execution_count": 53,
   "metadata": {},
   "outputs": [],
   "source": [
    "vector_opt = optimize.minimize(x, x0 = guess, method='L-BFGS-B', bounds=bounds, options={'maxiter': 30000}) #bounded minimizer"
   ]
  },
  {
   "cell_type": "code",
   "execution_count": 54,
   "metadata": {},
   "outputs": [
    {
     "data": {
      "text/plain": [
       "array([0.97849296, 3.3082438 , 0.46550038])"
      ]
     },
     "execution_count": 54,
     "metadata": {},
     "output_type": "execute_result"
    }
   ],
   "source": [
    "vector_opt.x"
   ]
  },
  {
   "cell_type": "markdown",
   "metadata": {},
   "source": [
    "Thus, our optimizer finds that:\n",
    "\n",
    "- $\\phi=0.97849522$\n",
    "- $\\sigma_x=3.30824228$\n",
    "- $\\sigma_c=0.46553124$\n",
    "\n",
    "Which results in the following summary statistics (along with the desired targets):"
   ]
  },
  {
   "cell_type": "code",
   "execution_count": 55,
   "metadata": {},
   "outputs": [
    {
     "name": "stdout",
     "output_type": "stream",
     "text": [
      "Variance of output: 1.6447353392443536 with a target of: 1.64\n",
      "Variance of inflation: 0.04808497873266865 with a target of: 0.21\n",
      "Correlation between output and inflation: 0.34928884466747434 with a target of: 0.31\n",
      "Auto-correlation output: 0.7855961216485245 with a target of: 0.84\n",
      "Auto-correlation inflation: 0.9590748207432906 with a target of: 0.48\n"
     ]
    }
   ],
   "source": [
    "print('Variance of output: '+ str(simulate(sigma_x=vector_opt.x[1], sigma_c=vector_opt.x[2], phi=vector_opt.x[0])[2]) +\n",
    "      ' with a target of: ' + str(targets[0]))\n",
    "print('Variance of inflation: '+ str(simulate(sigma_x=vector_opt.x[1], sigma_c=vector_opt.x[2], phi=vector_opt.x[0])[3]) +\n",
    "      ' with a target of: ' + str(targets[1]))\n",
    "print('Correlation between output and inflation: '+ str(simulate(sigma_x=vector_opt.x[1], sigma_c=vector_opt.x[2], phi=vector_opt.x[0])[4]) + \n",
    "      ' with a target of: ' + str(targets[2]))\n",
    "print('Auto-correlation output: '+ str(simulate(sigma_x=vector_opt.x[1], sigma_c=vector_opt.x[2], phi=vector_opt.x[0])[5]) + \n",
    "      ' with a target of: ' + str(targets[3]))\n",
    "print('Auto-correlation inflation: '+ str(simulate(sigma_x=vector_opt.x[1], sigma_c=vector_opt.x[2], phi=vector_opt.x[0])[6]) + \n",
    "      ' with a target of: ' + str(targets[4]))"
   ]
  },
  {
   "cell_type": "markdown",
   "metadata": {},
   "source": [
    "As we can see, our optimizer does well for some of the targets and not so well for others.\n",
    "\n",
    "It is very precise for the variance of output, $var(y_t)$, and somewhat close for correlation between output and inflation, $corr(y_t,\\pi_t)$, and for the auto-correlation of output, $corr(y_t,y_{t-1})$.\n",
    "\n",
    "Our optimizer does somewhat poorly for the variance of inflation, $var(\\pi_t)$, and for the auto-correlation of inflation, $corr(\\pi_t,\\pi_{t-1})$.\n",
    "\n",
    "Our approach of minimizing the sum of squared differences to the targets clearly has its limitations as we are minimizing a single output, the sum, which affects how precise our optimizer can be."
   ]
  },
  {
   "cell_type": "markdown",
   "metadata": {},
   "source": [
    "This also shows how our model may not be able to generate the empirical data - thus, some of the theoretical assumptions in the model may be wrong and should be examined."
   ]
  },
  {
   "cell_type": "markdown",
   "metadata": {},
   "source": [
    "# 3. Exchange economy"
   ]
  },
  {
   "cell_type": "markdown",
   "metadata": {},
   "source": [
    "Consider an **exchange economy** with\n",
    "\n",
    "1. 3 goods, $(x_1,x_2,x_3)$\n",
    "2. $N$ consumers indexed by \\\\( j \\in \\{1,2,\\dots,N\\} \\\\)\n",
    "3. Preferences are Cobb-Douglas with log-normally distributed coefficients\n",
    "\n",
    "    $$ \\begin{eqnarray*}\n",
    "    u^{j}(x_{1},x_{2},x_{3}) &=& \n",
    "    \\left(x_{1}^{\\beta_{1}^{j}}x_{2}^{\\beta_{2}^{j}}x_{3}^{\\beta_{3}^{j}}\\right)^{\\gamma}\\\\\n",
    "     &  & \\,\\,\\,\\beta_{i}^{j}=\\frac{\\alpha_{i}^{j}}{\\alpha_{1}^{j}+\\alpha_{2}^{j}+\\alpha_{3}^{j}} \\\\\n",
    "     &  & \\,\\,\\,\\boldsymbol{\\alpha}^{j}=(\\alpha_{1}^{j},\\alpha_{2}^{j},\\alpha_{3}^{j}) \\\\ \n",
    "     &  & \\,\\,\\,\\log(\\boldsymbol{\\alpha}^j) \\sim \\mathcal{N}(\\mu,\\Sigma) \\\\\n",
    "    \\end{eqnarray*} $$\n",
    "\n",
    "4. Endowments are exponentially distributed,\n",
    "\n",
    "$$\n",
    "\\begin{eqnarray*}\n",
    "\\boldsymbol{e}^{j} &=& (e_{1}^{j},e_{2}^{j},e_{3}^{j}) \\\\\n",
    " &  & e_i^j \\sim f, f(z;\\zeta) =  1/\\zeta \\exp(-z/\\zeta)\n",
    "\\end{eqnarray*}\n",
    "$$"
   ]
  },
  {
   "cell_type": "markdown",
   "metadata": {},
   "source": [
    "Let $p_3 = 1$ be the **numeraire**. The implied **demand functions** are:\n",
    "\n",
    "$$\n",
    "\\begin{eqnarray*}\n",
    "x_{i}^{\\star j}(p_{1},p_{2},\\boldsymbol{e}^{j})&=&\\beta^{j}_i\\frac{I^j}{p_{i}} \\\\\n",
    "\\end{eqnarray*}\n",
    "$$\n",
    "\n",
    "where consumer $j$'s income is\n",
    "\n",
    "$$I^j = p_1 e_1^j + p_2 e_2^j +p_3 e_3^j$$"
   ]
  },
  {
   "cell_type": "markdown",
   "metadata": {},
   "source": [
    "The **parameters** and **random preferences and endowments** are given by:"
   ]
  },
  {
   "cell_type": "code",
   "execution_count": 56,
   "metadata": {},
   "outputs": [],
   "source": [
    "# a. parameters\n",
    "N = 50000\n",
    "mu = np.array([3,2,1])\n",
    "Sigma = np.array([[0.25, 0, 0], [0, 0.25, 0], [0, 0, 0.25]])\n",
    "gamma = 0.8\n",
    "zeta = 1\n",
    "\n",
    "# b. random draws\n",
    "seed = 1986\n",
    "np.random.seed(seed)\n",
    "\n",
    "# preferences\n",
    "alphas = np.exp(np.random.multivariate_normal(mu, Sigma, size=N))\n",
    "betas = alphas/np.reshape(np.sum(alphas,axis=1),(N,1))\n",
    "\n",
    "# endowments\n",
    "e1 = np.random.exponential(zeta,size=N)\n",
    "e2 = np.random.exponential(zeta,size=N)\n",
    "e3 = np.random.exponential(zeta,size=N)"
   ]
  },
  {
   "cell_type": "markdown",
   "metadata": {},
   "source": [
    "**Question 1:** Plot the histograms of the budget shares for each good across agents."
   ]
  },
  {
   "cell_type": "markdown",
   "metadata": {},
   "source": [
    "In an economy where the consumers have Cobb Douglas preferences are the budget shares for each good reprecented by the subscript values in the utility fuction (Here the beta values). The distribution of the budget shares are plottet below. "
   ]
  },
  {
   "cell_type": "code",
   "execution_count": 57,
   "metadata": {},
   "outputs": [
    {
     "data": {
      "text/plain": [
       "<matplotlib.legend.Legend at 0x2a7d3c40748>"
      ]
     },
     "execution_count": 57,
     "metadata": {},
     "output_type": "execute_result"
    },
    {
     "data": {
      "image/png": "[encoded data removed]",
      "text/plain": [
       "<Figure size 432x288 with 1 Axes>"
      ]
     },
     "metadata": {
      "needs_background": "light"
     },
     "output_type": "display_data"
    }
   ],
   "source": [
    "# Histogram of the budget shares for each of the three goods\n",
    "colors = ['red', 'blue', 'green'] # define colors\n",
    "plt.hist(betas, bins = 10, color=colors, label=['Good 1', 'Good 2', 'Good 3']) #create histogram from array of betas\n",
    "plt.title('Budget shares for each good across agents') # title\n",
    "plt.xlabel('Budget share') #xlabel\n",
    "plt.ylabel('Number of consumers') #ylabel\n",
    "plt.legend() # add legend"
   ]
  },
  {
   "cell_type": "markdown",
   "metadata": {},
   "source": [
    "We see that good number one has the highest budget shares, which indicates that this is the most valuable good. <br>\n",
    "Further good three has the lowest budget shares."
   ]
  },
  {
   "cell_type": "markdown",
   "metadata": {},
   "source": [
    "\n",
    "Consider the **excess demand functions:**\n",
    "\n",
    "$$ z_i(p_1,p_2) = \\sum_{j=1}^N x_{i}^{\\star j}(p_{1},p_{2},\\boldsymbol{e}^{j}) - e_i^j$$\n",
    "\n",
    "**Question 2:** Plot the excess demand functions."
   ]
  },
  {
   "cell_type": "markdown",
   "metadata": {},
   "source": [
    "The excess demand function of a good is given by the difference between demand and supply for that good as a function of price. <br>\n",
    "First, the demand of each good is calculated as a function of price and endowments. The demand is calculated as: \n",
    "\\begin{eqnarray*}\n",
    "x_{i}^{\\star j}(p_{1},p_{2},\\boldsymbol{e}^{j})&=&\\beta^{j}_i\\frac{I^j}{p_{i}} \\\\\n",
    "\\end{eqnarray*}\n",
    "\n",
    "where $I_j$ is the sum product of the individual prices and endowment. <br> \n",
    "For each problem $p_3$ is the numeraire.\n"
   ]
  },
  {
   "cell_type": "markdown",
   "metadata": {},
   "source": [
    "##### Calculate the demand"
   ]
  },
  {
   "cell_type": "code",
   "execution_count": 58,
   "metadata": {},
   "outputs": [],
   "source": [
    "# Save the values of beta1, beta2, beta3 across agents respectively\n",
    "betas_good_one = [x[0] for x in betas]\n",
    "betas_good_two = [x[1] for x in betas]\n",
    "betas_good_three = [x[2] for x in betas]"
   ]
  },
  {
   "cell_type": "code",
   "execution_count": 59,
   "metadata": {},
   "outputs": [],
   "source": [
    "#Define demand function for each good\n",
    "\n",
    "def demand_func(betas,p1,p2,p3,e1,e2,e3, good):\n",
    "    if good == 1:\n",
    "        betas_good_one = [x[0] for x in betas]\n",
    "        I = p1*e1+p2*e2+p3*e3\n",
    "        return betas_good_one*I/p1\n",
    "    if good == 2:\n",
    "        betas_good_two = [x[1] for x in betas]\n",
    "        I = p1*e1+p2*e2+p3*e3\n",
    "        return betas_good_two*I/p2\n",
    "\n",
    "    if good == 3:\n",
    "        betas_good_three = [x[2] for x in betas]\n",
    "        I = p1*e1+p2*e2+p3*e3\n",
    "        return betas_good_three*I/p3"
   ]
  },
  {
   "cell_type": "markdown",
   "metadata": {},
   "source": [
    "##### Calculate the excess demand"
   ]
  },
  {
   "cell_type": "markdown",
   "metadata": {},
   "source": [
    "Next, the excess demand function is defined. We have decided to calculate excess demand for each good.<br>\n",
    "Supply is for each good the sum of the endowments of that good. "
   ]
  },
  {
   "cell_type": "code",
   "execution_count": 60,
   "metadata": {},
   "outputs": [],
   "source": [
    "# Define excess demand function for each good \n",
    "def excess_demand_func(betas,p1,p2, p3,e1,e2, e3, good):\n",
    "    \n",
    "    # calculate demand\n",
    "    demand = np.sum(demand_func(betas,p1,p2,p3,e1,e2,e3, good))\n",
    "    \n",
    "    # calculate supply (depend on the good)\n",
    "    if good == 1:\n",
    "        supply = np.sum(e1)\n",
    "    if good == 2:\n",
    "        supply = np.sum(e2)\n",
    "    if good == 3:\n",
    "        supply = np.sum(e3) \n",
    "    \n",
    "    # Calculate excess demand for that good\n",
    "    excess_demand = demand-supply\n",
    "    \n",
    "    return excess_demand"
   ]
  },
  {
   "cell_type": "markdown",
   "metadata": {},
   "source": [
    "##### Obtain the excess demand results as a function of price for each good\n"
   ]
  },
  {
   "cell_type": "code",
   "execution_count": 61,
   "metadata": {},
   "outputs": [],
   "source": [
    "# Create price values\n",
    "prices_good_one = np.linspace(0.1,2,50)\n",
    "prices_good_two = np.linspace(0.1,2,50)\n",
    "prices_good_three = np.linspace(0.1,2,50)\n",
    "\n",
    "# Create inital values and empty lists\n",
    "excess_demand_good_one = []\n",
    "excess_demand_good_two = [] \n",
    "excess_demand_good_three = [] \n",
    "p1 = 1\n",
    "p2 = 1\n",
    "p3 = 1\n",
    "\n",
    "# Obtain the excess demand for each good\n",
    "for num in prices_good_one:\n",
    "    excess_demand_good_one.append(excess_demand_func(alphas,num,p2,p3,e1,e2,e3, good = 1))\n",
    "    \n",
    "for num in prices_good_two:\n",
    "    excess_demand_good_two.append(excess_demand_func(alphas,p1, num,p3,e1,e2,e3, good = 2))\n",
    "    \n",
    "for num in prices_good_three:\n",
    "    excess_demand_good_three.append(excess_demand_func(alphas,p1,p2,num,e1,e2,e3, good = 3))"
   ]
  },
  {
   "cell_type": "markdown",
   "metadata": {},
   "source": [
    "#### Plot the results"
   ]
  },
  {
   "cell_type": "code",
   "execution_count": 62,
   "metadata": {},
   "outputs": [
    {
     "data": {
      "image/png": "[encoded data removed]",
      "text/plain": [
       "<Figure size 432x288 with 1 Axes>"
      ]
     },
     "metadata": {
      "needs_background": "light"
     },
     "output_type": "display_data"
    }
   ],
   "source": [
    "plt.plot(prices_good_one, excess_demand_good_one, label = 'Good one')\n",
    "plt.plot(prices_good_one, excess_demand_good_two, label = 'Good two')\n",
    "plt.plot(prices_good_one, excess_demand_good_three, label = 'Good three')\n",
    "plt.legend() # set legend\n",
    "plt.title('Excess demand functions') # title\n",
    "plt.xlabel('Price of the good') #xlabel\n",
    "plt.ylabel('Excess demand') #ylabel\n",
    "plt.show()"
   ]
  },
  {
   "cell_type": "markdown",
   "metadata": {},
   "source": [
    "From the plot above we see that as the price increases excess demand decreases and converges to zero. <br> \n",
    "The excess demand for good one is permanently above the excess demand function for the other goods. This indicates again that this is the most valueable good as for low prices the good is in high demand leading to a positive excess demand. "
   ]
  },
  {
   "cell_type": "markdown",
   "metadata": {},
   "source": [
    "**Quesiton 3:** Find the Walras-equilibrium prices, $(p_1,p_2)$, where both excess demands are (approximately) zero, e.g. by using the following tâtonnement process:\n",
    "\n",
    "1. Guess on $p_1 > 0$, $p_2 > 0$ and choose tolerance $\\epsilon > 0$ and adjustment aggressivity parameter, $\\kappa > 0$.\n",
    "2. Calculate $z_1(p_1,p_2)$ and $z_2(p_1,p_2)$.\n",
    "3. If $|z_1| < \\epsilon$ and $|z_2| < \\epsilon$ then stop.\n",
    "4. Else set $p_1 = p_1 + \\kappa \\frac{z_1}{N}$ and $p_2 = p_2 + \\kappa \\frac{z_2}{N}$ and return to step 2."
   ]
  },
  {
   "cell_type": "markdown",
   "metadata": {},
   "source": [
    "##### Define function to find the Walras-equilibrium prices"
   ]
  },
  {
   "cell_type": "code",
   "execution_count": 63,
   "metadata": {},
   "outputs": [],
   "source": [
    "def find_equilibrium(betas,p1,p2, p3,e1,e2, e3,kappa=0.5,eps=1e-8,maxiter=700):\n",
    "    \n",
    "    t = 0\n",
    "    while True:\n",
    "\n",
    "        # Obtain excess demand for each good. \n",
    "        Z1 = excess_demand_func(betas,p1,p2,p3,e1,e2,e3, good=1)\n",
    "        Z2 = excess_demand_func(betas,p1,p2,p3,e1,e2,e3, good=2)\n",
    "        \n",
    "        # decide whether to stop or not. \n",
    "        # Stop if excess demand for both goods are below the tolorence parameter epsilon or if we have iterated 700 times.\n",
    "        if  (np.abs(Z1) < eps and np.abs(Z2) < eps) or t >= maxiter:\n",
    "            \n",
    "            # Print the results\n",
    "            print(f'{t:3d}: p1 = {p1:12.8f} -> excess demand -> {Z1:14.8f}')\n",
    "            print(f'{t:3d}: p2 = {p2:12.8f} -> excess demand -> {Z1:14.8f}')\n",
    "            break    \n",
    "    \n",
    "        # If it isn't time to stop the loop we update the prices.\n",
    "        p1 = p1 + kappa*Z1/betas.size\n",
    "        p2 = p2 + kappa*Z2/betas.size\n",
    "            \n",
    "        # Print the result for every 500 iteration\n",
    "        if t < 5 or t%500 == 0:\n",
    "            print(f'{t:3d}: p1 = {p1:12.8f} -> excess demand -> {Z1:14.8f}')\n",
    "            print(f'{t:3d}: p2 = {p2:12.8f} -> excess demand -> {Z2:14.8f}')\n",
    "        elif t == 5:\n",
    "            print('   ...')\n",
    "            \n",
    "        t += 1    \n",
    "    # Return the equilibrium prices\n",
    "    return p1, p2"
   ]
  },
  {
   "cell_type": "code",
   "execution_count": 64,
   "metadata": {},
   "outputs": [],
   "source": [
    "# Set initial values\n",
    "p1 = 1.4\n",
    "p2 = 1\n",
    "p3 = 1\n",
    "kappa = 0.5\n",
    "eps = 1e-8"
   ]
  },
  {
   "cell_type": "markdown",
   "metadata": {},
   "source": [
    "##### Find the Walras-equilibrium prices"
   ]
  },
  {
   "cell_type": "code",
   "execution_count": 65,
   "metadata": {},
   "outputs": [
    {
     "name": "stdout",
     "output_type": "stream",
     "text": [
      "  0: p1 =   1.49325771 -> excess demand -> 27977.31151752\n",
      "  0: p2 =   0.98042969 -> excess demand -> -5871.09387963\n",
      "  1: p1 =   1.57558304 -> excess demand -> 24697.60142099\n",
      "  1: p2 =   0.96700230 -> excess demand -> -4028.21677019\n",
      "  2: p1 =   1.64959307 -> excess demand -> 22203.00932944\n",
      "  2: p2 =   0.95874692 -> excess demand -> -2476.61367276\n",
      "  3: p1 =   1.71708236 -> excess demand -> 20246.78537572\n",
      "  3: p2 =   0.95478989 -> excess demand -> -1187.10793340\n",
      "  4: p1 =   1.77933678 -> excess demand -> 18676.32752883\n",
      "  4: p2 =   0.95435766 -> excess demand ->  -129.66932494\n",
      "   ...\n",
      "500: p1 =   5.94264332 -> excess demand ->   547.26133912\n",
      "500: p2 =   2.41238683 -> excess demand ->   204.35075863\n",
      "1000: p1 =   6.37848343 -> excess demand ->   103.94545783\n",
      "1000: p2 =   2.57506780 -> excess demand ->    38.78427813\n",
      "1500: p1 =   6.46606991 -> excess demand ->    22.04418563\n",
      "1500: p2 =   2.60774596 -> excess demand ->     8.22404840\n",
      "2000: p1 =   6.48484430 -> excess demand ->     4.77532962\n",
      "2000: p2 =   2.61475005 -> excess demand ->     1.78148718\n",
      "2500: p1 =   6.48892053 -> excess demand ->     1.03913570\n",
      "2500: p2 =   2.61627072 -> excess demand ->     0.38765819\n",
      "3000: p1 =   6.48980797 -> excess demand ->     0.22634237\n",
      "3000: p2 =   2.61660179 -> excess demand ->     0.08443879\n",
      "3500: p1 =   6.49000129 -> excess demand ->     0.04931191\n",
      "3500: p2 =   2.61667391 -> excess demand ->     0.01839619\n",
      "4000: p1 =   6.49004341 -> excess demand ->     0.01074380\n",
      "4000: p2 =   2.61668962 -> excess demand ->     0.00400806\n",
      "4500: p1 =   6.49005259 -> excess demand ->     0.00234082\n",
      "4500: p2 =   2.61669305 -> excess demand ->     0.00087326\n",
      "5000: p1 =   6.49005459 -> excess demand ->     0.00051001\n",
      "5000: p2 =   2.61669379 -> excess demand ->     0.00051001\n"
     ]
    }
   ],
   "source": [
    "p1,p2 = find_equilibrium(betas,p1,p2, p3,e1,e2, e3,kappa=kappa,eps=eps, maxiter=5000)"
   ]
  },
  {
   "cell_type": "markdown",
   "metadata": {},
   "source": [
    "From the results obtained above we find the equilirium prices to be: <br>\n",
    "$p_1$ = 6.5 resulting in an excess demand og 0.0005 <br>\n",
    "$p_2$ = 2.6 resulting in an excess demand og 0.0005 <br>\n",
    "    \n",
    "As good one is the most valuable good the price of this good will be the highest in the exchange economy. <br>\n",
    "The posivtive excess demand (demand > supply ) will push up the price of the good for the market to clear."
   ]
  },
  {
   "cell_type": "markdown",
   "metadata": {},
   "source": [
    "**Question 4:** Plot the distribution of utility in the Walras-equilibrium and calculate its mean and variance."
   ]
  },
  {
   "cell_type": "markdown",
   "metadata": {},
   "source": [
    "##### Define utility function"
   ]
  },
  {
   "cell_type": "code",
   "execution_count": 66,
   "metadata": {},
   "outputs": [],
   "source": [
    "# Define utility function\n",
    "\n",
    "def utility(p1,p2,p3, e1,e2, e3 ,betas, gamma):\n",
    "    \n",
    "    # retrive the demands for each good\n",
    "    x1 = demand_func(betas,p1,p2,p3,e1,e2,e3, good = 1)\n",
    "    x2 = demand_func(betas,p1,p2,p3,e1,e2,e3, good = 2)\n",
    "    x3 = demand_func(betas,p1,p2,p3,e1,e2,e3, good = 3)\n",
    "    \n",
    "    # save the beta values\n",
    "    betas_good_one = np.array([x[0] for x in betas])\n",
    "    betas_good_two = np.array([x[1] for x in betas])\n",
    "    betas_good_three = np.array([x[2] for x in betas])\n",
    "    \n",
    "    # Return the utility\n",
    "    return ((x1**betas_good_one)*(x2**betas_good_two)*(x3**betas_good_three))**gamma\n",
    "    "
   ]
  },
  {
   "cell_type": "code",
   "execution_count": 67,
   "metadata": {},
   "outputs": [],
   "source": [
    "# Set values. Here p1 and p2 is equal to the optimal value from question 3.\n",
    "# p3 is set to one\n",
    "\n",
    "p1 = 6.49005459\n",
    "p2 = 2.61669379\n",
    "p3 = 1"
   ]
  },
  {
   "cell_type": "markdown",
   "metadata": {},
   "source": [
    "##### Calculate utility"
   ]
  },
  {
   "cell_type": "code",
   "execution_count": 68,
   "metadata": {},
   "outputs": [],
   "source": [
    "utility_result = utility(p1,p2,p3, e1,e2, e3,betas, gamma)"
   ]
  },
  {
   "cell_type": "markdown",
   "metadata": {},
   "source": [
    "##### Plot the results"
   ]
  },
  {
   "cell_type": "code",
   "execution_count": 69,
   "metadata": {},
   "outputs": [
    {
     "data": {
      "text/plain": [
       "Text(0, 0.5, 'Number of consumers')"
      ]
     },
     "execution_count": 69,
     "metadata": {},
     "output_type": "execute_result"
    },
    {
     "data": {
      "image/png": "[encoded data removed]",
      "text/plain": [
       "<Figure size 432x288 with 1 Axes>"
      ]
     },
     "metadata": {
      "needs_background": "light"
     },
     "output_type": "display_data"
    }
   ],
   "source": [
    "# plot the results\n",
    "plt.hist(utility_result, bins = 10) # Set the number of bins to 10\n",
    "plt.title('Distribution of utility') # title\n",
    "plt.xlabel('Utility') #xlabel\n",
    "plt.ylabel('Number of consumers') #ylabel"
   ]
  },
  {
   "cell_type": "markdown",
   "metadata": {},
   "source": [
    "##### Calculate the mean and variance "
   ]
  },
  {
   "cell_type": "code",
   "execution_count": 70,
   "metadata": {},
   "outputs": [
    {
     "data": {
      "text/plain": [
       "1.0102"
      ]
     },
     "execution_count": 70,
     "metadata": {},
     "output_type": "execute_result"
    }
   ],
   "source": [
    "round(np.mean(utility_result),4)"
   ]
  },
  {
   "cell_type": "code",
   "execution_count": 71,
   "metadata": {},
   "outputs": [
    {
     "data": {
      "text/plain": [
       "0.3173"
      ]
     },
     "execution_count": 71,
     "metadata": {},
     "output_type": "execute_result"
    }
   ],
   "source": [
    "round(np.var(utility_result),4)"
   ]
  },
  {
   "cell_type": "code",
   "execution_count": 72,
   "metadata": {},
   "outputs": [
    {
     "data": {
      "text/plain": [
       "4.9756"
      ]
     },
     "execution_count": 72,
     "metadata": {},
     "output_type": "execute_result"
    }
   ],
   "source": [
    "round(np.max(utility_result),4)"
   ]
  },
  {
   "cell_type": "markdown",
   "metadata": {},
   "source": [
    "Result: We see that the distribution of utility for the 50,000 comsumers is right skewed indicating that few consumers get a high utility in the economy. <br>\n",
    "The mean utility across agents is 1 and the variance is 0.37. The consumer with the highest utility in the economy has an utility of 4.9."
   ]
  },
  {
   "cell_type": "markdown",
   "metadata": {},
   "source": [
    "**Question 5:** Find the Walras-equilibrium prices if instead all endowments were distributed equally. Discuss the implied changes in the distribution of utility. Does the value of $\\gamma$ play a role for your conclusions?"
   ]
  },
  {
   "cell_type": "markdown",
   "metadata": {},
   "source": [
    "To do this we first redefine the initial endowments to be 1 for each good across agents. "
   ]
  },
  {
   "cell_type": "code",
   "execution_count": 73,
   "metadata": {},
   "outputs": [],
   "source": [
    "# set endowment for each good to one\n",
    "e1 = np.full((50000), 1)\n",
    "e2 = np.full((50000), 1)\n",
    "e3 = np.full((50000), 1)"
   ]
  },
  {
   "cell_type": "markdown",
   "metadata": {},
   "source": [
    "##### Find the Walras-equilibrium prices"
   ]
  },
  {
   "cell_type": "markdown",
   "metadata": {},
   "source": [
    "We set the initial values as before and calculate the results"
   ]
  },
  {
   "cell_type": "code",
   "execution_count": 74,
   "metadata": {},
   "outputs": [
    {
     "name": "stdout",
     "output_type": "stream",
     "text": [
      "  0: p1 =   1.15447461 -> excess demand -> 46342.38231311\n",
      "  0: p2 =   0.96238207 -> excess demand -> -11285.37923794\n",
      "  1: p1 =   1.27681425 -> excess demand -> 36701.89180348\n",
      "  1: p2 =   0.93503166 -> excess demand -> -8205.12175724\n",
      "  2: p1 =   1.37942619 -> excess demand -> 30783.58235341\n",
      "  2: p2 =   0.91612636 -> excess demand -> -5671.59158295\n",
      "  3: p1 =   1.46850305 -> excess demand -> 26723.05727736\n",
      "  3: p2 =   0.90420068 -> excess demand -> -3577.70395339\n",
      "  4: p1 =   1.54769091 -> excess demand -> 23756.35856651\n",
      "  4: p2 =   0.89798628 -> excess demand -> -1864.31922195\n",
      "   ...\n",
      "500: p1 =   5.90581490 -> excess demand ->   546.60532994\n",
      "500: p2 =   2.38938044 -> excess demand ->   203.43292534\n",
      "1000: p1 =   6.33863256 -> excess demand ->   102.24930655\n",
      "1000: p2 =   2.55040114 -> excess demand ->    38.02585271\n",
      "1500: p1 =   6.42431037 -> excess demand ->    21.36383323\n",
      "1500: p2 =   2.58226204 -> excess demand ->     7.94402241\n",
      "2000: p1 =   6.44240187 -> excess demand ->     4.55841778\n",
      "2000: p2 =   2.58898917 -> excess demand ->     1.69497618\n",
      "2500: p1 =   6.44627059 -> excess demand ->     0.97691773\n",
      "2500: p2 =   2.59042769 -> excess demand ->     0.36324944\n",
      "3000: p1 =   6.44710008 -> excess demand ->     0.20956046\n",
      "3000: p2 =   2.59073612 -> excess demand ->     0.07792122\n",
      "3500: p1 =   6.44727804 -> excess demand ->     0.04496225\n",
      "3500: p2 =   2.59080229 -> excess demand ->     0.01671839\n",
      "4000: p1 =   6.44731622 -> excess demand ->     0.00964729\n",
      "4000: p2 =   2.59081649 -> excess demand ->     0.00358717\n",
      "4500: p1 =   6.44732441 -> excess demand ->     0.00206998\n",
      "4500: p2 =   2.59081953 -> excess demand ->     0.00076969\n",
      "5000: p1 =   6.44732617 -> excess demand ->     0.00044415\n",
      "5000: p2 =   2.59082019 -> excess demand ->     0.00044415\n"
     ]
    }
   ],
   "source": [
    "# Set initial values\n",
    "p1 = 1\n",
    "p2 = 1\n",
    "p3 = 1\n",
    "kappa = 0.5\n",
    "eps = 1e-8\n",
    "p1,p2 = find_equilibrium(betas,p1,p2, p3,e1,e2, e3,kappa=kappa,eps=eps, maxiter=5000)"
   ]
  },
  {
   "cell_type": "markdown",
   "metadata": {},
   "source": [
    "From the results obtained above we find the equilirium prices to be: <br>\n",
    "$p_1$ = 6.4 resulting in an excess demand og 0.0004 <br>\n",
    "$p_2$ = 2.6 resulting in an excess demand og 0.0004 <br>\n",
    "    \n",
    "The equilibrium prices are the same after creating equal initial endowment for all consumers."
   ]
  },
  {
   "cell_type": "markdown",
   "metadata": {},
   "source": [
    "##### Calculate utility with the new equal initial endowments"
   ]
  },
  {
   "cell_type": "markdown",
   "metadata": {},
   "source": [
    "To see how $\\gamma$ plays a role we calculate the utility for $\\gamma = 0.8$ and $\\gamma = 2$"
   ]
  },
  {
   "cell_type": "code",
   "execution_count": 77,
   "metadata": {},
   "outputs": [],
   "source": [
    "# Define the equilibrium prices\n",
    "\n",
    "p1 = 6.44732617\n",
    "p2 = 2.59082019\n",
    "p3 = 1"
   ]
  },
  {
   "cell_type": "code",
   "execution_count": 78,
   "metadata": {},
   "outputs": [],
   "source": [
    "# Calculate the results for  gamma = 0.8 and gamma = 2 respectively\n",
    "utility_result_new = utility(p1,p2,p3, e1,e2, e3,betas, gamma)\n",
    "utility_result_new_gamma_high = utility(p1,p2,p3, e1,e2, e3,betas, gamma = 2)"
   ]
  },
  {
   "cell_type": "markdown",
   "metadata": {},
   "source": [
    "##### Plot the results"
   ]
  },
  {
   "cell_type": "code",
   "execution_count": 79,
   "metadata": {},
   "outputs": [
    {
     "data": {
      "text/plain": [
       "<matplotlib.legend.Legend at 0x2a7d5369470>"
      ]
     },
     "execution_count": 79,
     "metadata": {},
     "output_type": "execute_result"
    },
    {
     "data": {
      "image/png": "[encoded data removed]",
      "text/plain": [
       "<Figure size 432x288 with 1 Axes>"
      ]
     },
     "metadata": {
      "needs_background": "light"
     },
     "output_type": "display_data"
    }
   ],
   "source": [
    "# plot the results\n",
    "plt.hist(utility_result, bins = 10, alpha = 0.6, label = 'unequal initial endowment, , gamma = 0.8') # Set the number of bins to 10\n",
    "plt.hist(utility_result_new, bins = 10, alpha = 1, color = 'red', label = 'equal initial endowment, gamma = 0.8') # Set the number of bins to 10\n",
    "plt.hist(utility_result_new_gamma_high, bins = 10, alpha = 0.6, color = 'green', label = 'equal initial endowment, gamma = 2') # Set the number of bins to 10\n",
    "\n",
    "plt.title('Distribution of utility') # title\n",
    "plt.xlabel('Utility') #xlabel\n",
    "plt.ylabel('Number of consumers') #ylabel\n",
    "plt.ylim([0,30000])\n",
    "plt.legend() # add legend"
   ]
  },
  {
   "cell_type": "markdown",
   "metadata": {},
   "source": [
    "First, we see that inforcing equal inital endowment decreasing the variance of the distibution. <br>\n",
    "With equal endowment all consumers are secured an utility of at least one. <br>\n",
    "By increating gamma the variance of the distribution increases."
   ]
  }
 ],
 "metadata": {
  "kernelspec": {
   "display_name": "Python 3",
   "language": "python",
   "name": "python3"
  },
  "language_info": {
   "codemirror_mode": {
    "name": "ipython",
    "version": 3
   },
   "file_extension": ".py",
   "mimetype": "text/x-python",
   "name": "python",
   "nbconvert_exporter": "python",
   "pygments_lexer": "ipython3",
   "version": "3.7.1"
  },
  "toc-autonumbering": false
 },
 "nbformat": 4,
 "nbformat_minor": 2
}
