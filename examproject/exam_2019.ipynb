{
 "cells": [
  {
   "cell_type": "code",
   "execution_count": 251,
   "metadata": {},
   "outputs": [],
   "source": [
    "import numpy as np\n",
    "import numpy as np\n",
    "import scipy as sp\n",
    "from scipy import linalg\n",
    "from scipy import optimize\n",
    "from scipy import interpolate\n",
    "import sympy as sm\n",
    "\n",
    "import pandas as pd\n",
    "%matplotlib inline\n",
    "import matplotlib.pyplot as plt"
   ]
  },
  {
   "cell_type": "markdown",
   "metadata": {},
   "source": [
    "# 1. Human capital accumulation (See problem set 7)"
   ]
  },
  {
   "cell_type": "markdown",
   "metadata": {},
   "source": [
    "Consider a worker living in **two periods**, $t \\in \\{1,2\\}$. \n",
    "\n",
    "In each period she decides whether to **work ($l_t = 1$) or not ($l_t = 0$)**. \n",
    "\n",
    "She can *not* borrow or save and thus **consumes all of her income** in each period. "
   ]
  },
  {
   "cell_type": "markdown",
   "metadata": {},
   "source": [
    "If she **works** her **consumption** becomes:\n",
    "\n",
    "$$c_t = w h_t l_t\\,\\,\\text{if}\\,\\,l_t=1$$\n",
    "\n",
    "where $w$ is **the wage rate** and $h_t$ is her **human capital**. \n",
    "\n",
    "If she does **not work** her consumption becomes:\n",
    "\n",
    "$$c_t = b\\,\\,\\text{if}\\,\\,l_t=0$$\n",
    "\n",
    "where $b$ is the **unemployment benefits**."
   ]
  },
  {
   "cell_type": "markdown",
   "metadata": {},
   "source": [
    "Her **utility of consumption** is: \n",
    "\n",
    "$$ \\frac{c_t^{1-\\rho}}{1-\\rho} $$\n",
    "\n",
    "Her **disutility of working** is:\n",
    "\n",
    "$$ \\gamma l_t $$"
   ]
  },
  {
   "cell_type": "markdown",
   "metadata": {},
   "source": [
    "From period 1 to period 2, she **accumulates human capital** according to:\n",
    "\n",
    "$$ h_2 = h_1 + l_1 + \n",
    "\\begin{cases}\n",
    "0 & \\text{with prob. }0.5 \\\\\n",
    "\\Delta & \\text{with prob. }0.5 \n",
    "\\end{cases} \\\\\n",
    "$$\n",
    "\n",
    "where $\\Delta$ is a **stochastic experience gain**."
   ]
  },
  {
   "cell_type": "markdown",
   "metadata": {},
   "source": [
    "In the **second period** the worker thus solves:\n",
    "\n",
    "$$\n",
    "\\begin{eqnarray*}\n",
    "v_{2}(h_{2}) & = &\\max_{l_{2}} \\frac{c_2^{1-\\rho}}{1-\\rho} - \\gamma l_2\n",
    "\\\\ & \\text{s.t.} & \\\\\n",
    "c_{2}& = & w h_2 l_2 \\\\\n",
    "l_{2}& \\in &\\{0,1\\}\n",
    "\\end{eqnarray*}\n",
    "$$"
   ]
  },
  {
   "cell_type": "markdown",
   "metadata": {},
   "source": [
    "In the **first period** the worker thus solves:\n",
    "\n",
    "$$\n",
    "\\begin{eqnarray*}\n",
    "v_{1}(h_{1}) &=& \\max_{l_{1}} \\frac{c_1^{1-\\rho}}{1-\\rho} - \\gamma l_1 + \\beta\\mathbb{E}_{1}\\left[v_2(h_2)\\right]\n",
    "\\\\ & \\text{s.t.} & \\\\\n",
    "c_1 &=& w h_1 l_1 \\\\\n",
    "h_2 &=& h_1 + l_1 + \\begin{cases}\n",
    "0 & \\text{with prob. }0.5\\\\\n",
    "\\Delta & \\text{with prob. }0.5 \n",
    "\\end{cases}\\\\\n",
    "l_{1} &\\in& \\{0,1\\}\\\\\n",
    "\\end{eqnarray*}\n",
    "$$\n",
    "\n",
    "where $\\beta$ is the **discount factor** and $\\mathbb{E}_{1}\\left[v_2(h_2)\\right]$ is the **expected value of living in period two**."
   ]
  },
  {
   "cell_type": "markdown",
   "metadata": {},
   "source": [
    "The **parameters** of the model are:"
   ]
  },
  {
   "cell_type": "code",
   "execution_count": 3,
   "metadata": {},
   "outputs": [],
   "source": [
    "rho = 2 # Notice that this is a very high value of rho\n",
    "beta = 0.96\n",
    "gamma = 0.1\n",
    "w = 2\n",
    "b = 1\n",
    "Delta = 0.1"
   ]
  },
  {
   "cell_type": "markdown",
   "metadata": {},
   "source": [
    "The **relevant levels of human capital** are:"
   ]
  },
  {
   "cell_type": "code",
   "execution_count": 4,
   "metadata": {},
   "outputs": [],
   "source": [
    "h_vec = np.linspace(0.1,1.5,100) "
   ]
  },
  {
   "cell_type": "markdown",
   "metadata": {},
   "source": [
    "**Question 1:** Solve the model in period 2 and illustrate the solution (including labor supply as a function of human capital). "
   ]
  },
  {
   "cell_type": "markdown",
   "metadata": {},
   "source": [
    "#### Answer:"
   ]
  },
  {
   "cell_type": "markdown",
   "metadata": {},
   "source": [
    "**Define initial functions**"
   ]
  },
  {
   "cell_type": "code",
   "execution_count": 5,
   "metadata": {},
   "outputs": [],
   "source": [
    "# Define utility of consumtion as a function for later use\n",
    "def utility(c, rho):\n",
    "    return (c**(1-rho))/(1-rho)\n",
    "\n",
    "# Define disutility of working for later use \n",
    "def disutility(gamma, l):\n",
    "    return gamma*l\n",
    "\n",
    "# Define period 2 total utility as a function of rho, gamma, w, b, h2 and l2.\n",
    "def v2(rho, gamma, w, b, h2, l2):     \n",
    "    \n",
    "    # Include the constraint for c1 in the function\n",
    "    if l2 == 1:\n",
    "        c2 = w*h2*l2\n",
    "    else:\n",
    "        c2 = b\n",
    "    return utility(c2,rho) - disutility(gamma, l2) # return total utility\n",
    "\n",
    "# Define total utility in period 1 as a function of rho, gamma, beta, Delta, v2_interp, w, b, h1 and l1\n",
    "def v1(rho, gamma, beta, Delta, v2_interp, w, b, h1, l1):\n",
    "    \n",
    "    # Include the constraint for c1 in the function\n",
    "    if l1 == 1:\n",
    "        c1 = w*h1*l1\n",
    "    else:\n",
    "        c1 = b\n",
    "    \n",
    "    # Include the different cases of capital accumulation\n",
    "    # Case 1: v2 if low h2\n",
    "    h2_low = h1 + l1\n",
    "    v2_low = v2_interp([h2_low])[0]\n",
    "    \n",
    "    # Case 2: v2 if high h2\n",
    "    h2_high = h1 + l1 + Delta\n",
    "    v2_high = v2_interp([h2_high])[0]\n",
    "    \n",
    "    # Calculating the expected value\n",
    "    v2 = 0.5*v2_low + 0.5*v2_high\n",
    "    \n",
    "    # Return total utility in period one\n",
    "    return utility(c1,rho) - disutility(gamma, l1) + beta*v2\n"
   ]
  },
  {
   "cell_type": "markdown",
   "metadata": {},
   "source": [
    "**Solving the model in period 2**"
   ]
  },
  {
   "cell_type": "code",
   "execution_count": 6,
   "metadata": {},
   "outputs": [],
   "source": [
    "# Define the function to solve the model in period two\n",
    "\n",
    "def get_solution_period_two(rho, gamma, Delta, w, b):\n",
    "    \n",
    "    # First we define the grids'. We need the result as a 1*100 vector\n",
    "    h2_vec = np.linspace(0.1,1.5,100) # Pre-defined vector space\n",
    "    v2_vec = np.empty(100) # This is just empty for now \n",
    "    l2_vec = np.empty(100) # This is just empty for now \n",
    "    v2_vec_b = np.empty(100) # to plot the solution with l = 0\n",
    "    \n",
    "    # Next, we solve the model for each h2 value in the grid above (all the defined possible values of human capital)\n",
    "    for i, h2 in enumerate(h2_vec):\n",
    "        \n",
    "        # As she decide to work or not to work, we set up an if statement. \n",
    "        # She will only work if utility from working is higher than utility from not working.\n",
    "        \n",
    "        if v2(rho, gamma, w, b, h2, l2 = 1) > v2(rho, gamma, w, b, h2, l2 = 0): \n",
    "            v2_vec[i] = v2(rho, gamma, w, b, h2, l2 = 1) # Calculate utility when working and save it in v2_vec[i]\n",
    "            l2_vec[i] = 1 # save l2 = 1 to l2_vec[i]\n",
    "        else:\n",
    "            v2_vec[i] = v2(rho, gamma, w, b, h2, l2 = 0) # Calculate utility when not working and save it in v2_vec[i]\n",
    "            l2_vec[i] = 0 # save l2 = 0 to l2_vec[i]\n",
    "        v2_vec_b[i] = v2(rho, gamma, w, b, h2, l2 = 0) # Get the results for l = 0 and c = b\n",
    "        \n",
    "    return h2_vec,v2_vec,l2_vec, v2_vec_b # return the three result vectors"
   ]
  },
  {
   "cell_type": "code",
   "execution_count": 7,
   "metadata": {},
   "outputs": [],
   "source": [
    "# Solving the model and saving the results\n",
    "h2_vec,v2_vec,l2_vec, v2_vec_b = get_solution_period_two(rho, gamma, Delta, w, b) \n",
    "       \n",
    "# Construct interpolator to use when calculating v1\n",
    "v2_interp = interpolate.RegularGridInterpolator((h2_vec,), v2_vec, bounds_error=False,fill_value=None)\n"
   ]
  },
  {
   "cell_type": "markdown",
   "metadata": {},
   "source": [
    "We have now solved the model for period 2. Next we plot the results."
   ]
  },
  {
   "cell_type": "markdown",
   "metadata": {},
   "source": [
    "#### Plot: Labor supply as a function of human capital"
   ]
  },
  {
   "cell_type": "code",
   "execution_count": 8,
   "metadata": {},
   "outputs": [
    {
     "data": {
      "image/png": "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\n",
      "text/plain": [
       "<Figure size 432x288 with 1 Axes>"
      ]
     },
     "metadata": {
      "needs_background": "light"
     },
     "output_type": "display_data"
    }
   ],
   "source": [
    "# Plot labor supply as a function of human capital\n",
    "\n",
    "fig = plt.figure()\n",
    "ax = fig.add_subplot(1,1,1)\n",
    "ax.plot(h2_vec,l2_vec)\n",
    "#ax.grid() \n",
    "ax.set_xlabel('Human capital level in period 2 ($h_2$)') # \n",
    "ax.set_ylabel('Labor supply in period 2 ($l_2$)')\n",
    "ax.set_title('Labor supply in period 2 as a function of human capital')\n",
    "ax.set_ylim([-0.1,1.1]); "
   ]
  },
  {
   "cell_type": "markdown",
   "metadata": {},
   "source": [
    "From the plot we see that: \n",
    "1. The worker will supply zero labor ($l_2 = 0$) in period 2 for human capital levels below 0.57\n",
    "1. The worker will supply full labor ($l_2 = 1$) in period 2 for human capital levels equal to or above 0.57"
   ]
  },
  {
   "cell_type": "markdown",
   "metadata": {},
   "source": [
    "#### Plot: Utility as a function of labor supply"
   ]
  },
  {
   "cell_type": "code",
   "execution_count": 9,
   "metadata": {},
   "outputs": [
    {
     "data": {
      "text/plain": [
       "Text(0.5, 1.0, 'Utility in period 2 by human capital')"
      ]
     },
     "execution_count": 9,
     "metadata": {},
     "output_type": "execute_result"
    },
    {
     "data": {
      "image/png": "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\n",
      "text/plain": [
       "<Figure size 432x288 with 1 Axes>"
      ]
     },
     "metadata": {
      "needs_background": "light"
     },
     "output_type": "display_data"
    }
   ],
   "source": [
    "# Plot labor supply as a function of human capital\n",
    "\n",
    "fig = plt.figure()\n",
    "ax = fig.add_subplot(1,1,1)\n",
    "ax.plot(h2_vec,v2_vec, label = 'Utility')\n",
    "ax.plot(h2_vec,v2_vec_b, linestyle= ':', label = 'Utility when c = b')\n",
    "#ax.grid() \n",
    "ax.legend()\n",
    "ax.set_xlabel('Human capital in period 2 ($h_2$)') # \n",
    "ax.set_ylabel('Utility in period 2 ($v_2$)')\n",
    "ax.set_title('Utility in period 2 by human capital')"
   ]
  },
  {
   "cell_type": "markdown",
   "metadata": {},
   "source": [
    "In the figure is the utility in period 2 plottet against different human capital levels. <br>\n",
    "This result illustrates the trade-off the worker faces when maximizing utility with respect to labor, as she:\n",
    "1. potentially gets a higher consumption when supplying labor, but\n",
    "1. at the same time gets disutility from working\n",
    "\n",
    "The worker supplies zero labor up for human capital levels below 0.57 as this maximizes her utility in period two.   <br>\n",
    "Here, human capital can be seen as productivity meassured on a scale from 0 to 1.5. <br> \n",
    "For human capital levels above 0.57 she supplies full labor as this maximizes her utility. <br>\n",
    "Notice that the obtained utility is below zero for all values of human capital. This is primary due to the high value of $\\rho$ in the denominator.\n",
    "\n",
    "Notice that utility when $c=b$ is when she does not work, i.e.  $l_2=0$"
   ]
  },
  {
   "cell_type": "markdown",
   "metadata": {},
   "source": [
    "**Question 2:** Solve the model in period 1 and illustrate the solution (including labor supply as a function of human capital). "
   ]
  },
  {
   "cell_type": "code",
   "execution_count": 10,
   "metadata": {},
   "outputs": [],
   "source": [
    "# Define the functions to solve the model\n",
    "\n",
    "def get_solution_period_one(rho, gamma, beta, Delta, v2_interp, w, b):\n",
    "    \n",
    "    # first we define the grids'\n",
    "    h1_vec = np.linspace(0.1,1.5,100)\n",
    "    v1_vec = np.empty(100) # this is just empty for now \n",
    "    l1_vec = np.empty(100) # this is just empty for now \n",
    "    v1_vec_b = np.empty(100)\n",
    "    v1_vec_util1 = np.empty(100)\n",
    "    \n",
    "    #next, we solve the model for each h2 value in the grid above\n",
    "    for i, h1 in enumerate(h1_vec):\n",
    "        if v1(rho, gamma, beta, Delta, v2_interp, w, b, h1, l1=1) > v1(rho, gamma, beta, Delta, v2_interp, w, b, h1, l1=0): \n",
    "            v1_vec[i] = v1(rho, gamma, beta, Delta, v2_interp, h1, w, b, l1 = 1)\n",
    "            l1_vec[i] = 1\n",
    "            v1_vec_util1[i] = utility(c = w*h1*1, rho = rho) - disutility(gamma, l = 1)\n",
    "        else: \n",
    "            v1_vec[i] = v1(rho, gamma, beta, Delta, v2_interp, h1, w, b, l1 = 0)\n",
    "            l1_vec[i] = 0\n",
    "            v1_vec_util1[i] = utility(c = b, rho = rho)\n",
    "            \n",
    "        v1_vec_b[i] = utility(c = b, rho = rho)\n",
    "        \n",
    "    return h1_vec,v1_vec,l1_vec, v1_vec_b, v1_vec_util1"
   ]
  },
  {
   "cell_type": "code",
   "execution_count": 11,
   "metadata": {},
   "outputs": [],
   "source": [
    "# solve period one \n",
    "h1_vec,v1_vec,l1_vec, v1_vec_b, v1_vec_util1 = get_solution_period_one(rho, gamma, beta, Delta, v2_interp, w, b)"
   ]
  },
  {
   "cell_type": "markdown",
   "metadata": {},
   "source": [
    "#### Plot: Labor supply as a function of human capital"
   ]
  },
  {
   "cell_type": "code",
   "execution_count": 12,
   "metadata": {},
   "outputs": [
    {
     "data": {
      "text/plain": [
       "Text(0.5, 1.0, 'Labor supply in period 1 as a function of human capital')"
      ]
     },
     "execution_count": 12,
     "metadata": {},
     "output_type": "execute_result"
    },
    {
     "data": {
      "image/png": "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\n",
      "text/plain": [
       "<Figure size 432x288 with 1 Axes>"
      ]
     },
     "metadata": {
      "needs_background": "light"
     },
     "output_type": "display_data"
    }
   ],
   "source": [
    "# c. plot\n",
    "fig = plt.figure()\n",
    "ax = fig.add_subplot(1,1,1)\n",
    "ax.plot(h1_vec,l1_vec)\n",
    "#ax.grid()\n",
    "ax.set_xlabel('Human capital level in period 1 ($h_1$)') \n",
    "ax.set_ylabel('Labor supply in period 1 ($l_1$)')\n",
    "ax.set_title('Labor supply in period 1 as a function of human capital')"
   ]
  },
  {
   "cell_type": "markdown",
   "metadata": {},
   "source": [
    "From the results showed above we see that: \n",
    "1. The worker will supply zero labor ($l_1 = 0$) for human capital levels below 0.35\n",
    "1. The worker will supply full labor ($l_1 = 1$) for human capital levels above 0.35"
   ]
  },
  {
   "cell_type": "markdown",
   "metadata": {},
   "source": [
    "#### Plot: Utility as a function of labor supply"
   ]
  },
  {
   "cell_type": "code",
   "execution_count": 13,
   "metadata": {},
   "outputs": [
    {
     "data": {
      "text/plain": [
       "<matplotlib.legend.Legend at 0x285924bbf60>"
      ]
     },
     "execution_count": 13,
     "metadata": {},
     "output_type": "execute_result"
    },
    {
     "data": {
      "image/png": "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\n",
      "text/plain": [
       "<Figure size 432x288 with 1 Axes>"
      ]
     },
     "metadata": {
      "needs_background": "light"
     },
     "output_type": "display_data"
    }
   ],
   "source": [
    "# Plot labor supply as a function of human capital\n",
    "\n",
    "fig = plt.figure()\n",
    "ax = fig.add_subplot(1,1,1)\n",
    "ax.plot(h1_vec,v1_vec_util1, label = 'Utility')\n",
    "ax.plot(h1_vec,v1_vec_b, linestyle= ':', label = 'Utility when c = b')\n",
    "#ax.grid() \n",
    "ax.set_xlabel('Human capital in period 1 ($h_1$)') # \n",
    "ax.set_ylabel('Utility in period 1 ($v_1$)')\n",
    "ax.set_title('Utility in period 1 by human capital')\n",
    "ax.legend()"
   ]
  },
  {
   "cell_type": "markdown",
   "metadata": {},
   "source": [
    "**Question 3:** Will the worker never work if her potential wage income is lower than the unemployment benefits she can get? Explain and illustrate why or why not."
   ]
  },
  {
   "cell_type": "markdown",
   "metadata": {},
   "source": [
    "This can be answered by looking at the two periods as a game solved by backwards induction.\n",
   ]
  },
  {
   "cell_type": "markdown",
   "source": [
    "See the figure above for the illustration."
   ]
  },
  {
   "cell_type": "markdown",
   "metadata": {},
   "source": [
    "Basically, period 1 is about balancing a trade-off between:\n",
    "1. Consumption today, and\n",
    "1. more capital accumulation and thereby consumption in the furture. <br>"
   ]
  },
  {
   "cell_type": "markdown",
   "metadata": {},
   "source": [
    "For high enough values of expected utility in period 2, she chooses to work even if her potential wage income is lower than the unemployment benefits she can get in period 1.\n",
    "In our case with she will work start working at a human capital rate at $0.35$ in period 1 earning a potentional wage of $wh_1l_1=2*0.35*1 = 0.7$ even though the outside option is $b=1$."
   ]
  },
  {
   "cell_type": "markdown",
   "metadata": {},
   "source": [
    "# 2. AS-AD model"
   ]
  },
  {
   "cell_type": "markdown",
   "metadata": {},
   "source": [
    "Consider the following **AS-AD model**. The **goods market equilibrium** is given by\n",
    "\n",
    "$$ y_{t} = -\\alpha r_{t} + v_{t} $$\n",
    "\n",
    "where $y_{t}$ is the **output gap**, $r_{t}$ is the **ex ante real interest** and $v_{t}$ is a **demand disturbance**. "
   ]
  },
  {
   "cell_type": "markdown",
   "metadata": {},
   "source": [
    "The central bank's **Taylor rule** is\n",
    "\n",
    "$$ i_{t} = \\pi_{t+1}^{e} + h \\pi_{t} + b y_{t}$$\n",
    "\n",
    "where $i_{t}$ is the **nominal interest rate**, $\\pi_{t}$ is the **inflation gap**, and $\\pi_{t+1}^{e}$ is the **expected inflation gap**. "
   ]
  },
  {
   "cell_type": "markdown",
   "metadata": {},
   "source": [
    "The **ex ante real interest rate** is given by \n",
    "\n",
    "$$ r_{t} = i_{t} - \\pi_{t+1}^{e} $$"
   ]
  },
  {
   "cell_type": "markdown",
   "metadata": {},
   "source": [
    "Together, the above implies that the **AD-curve** is\n",
    "\n",
    "$$ \\pi_{t} = \\frac{1}{h\\alpha}\\left[v_{t} - (1+b\\alpha)y_{t}\\right]$$"
   ]
  },
  {
   "cell_type": "markdown",
   "metadata": {},
   "source": [
    "Further, assume that the **short-run supply curve (SRAS)** is given by\n",
    "\n",
    "$$ \\pi_{t} = \\pi_{t}^{e} + \\gamma y_{t} + s_{t}$$\n",
    "\n",
    "where $s_t$ is a **supply disturbance**."
   ]
  },
  {
   "cell_type": "markdown",
   "metadata": {},
   "source": [
    "**Inflation expectations are adaptive** and given by\n",
    "\n",
    "$$ \\pi_{t}^{e} = \\phi\\pi_{t-1}^{e} + (1-\\phi)\\pi_{t-1}$$"
   ]
  },
  {
   "cell_type": "markdown",
   "metadata": {},
   "source": [
    "Together, this implies that the **SRAS-curve** can also be written as\n",
    "\n",
    "$$ \\pi_{t} = \\pi_{t-1} + \\gamma y_{t} - \\phi\\gamma y_{t-1} + s_{t} - \\phi s_{t-1} $$"
   ]
  },
  {
   "cell_type": "markdown",
   "metadata": {},
   "source": [
    "The **parameters** of the model are:"
   ]
  },
  {
   "cell_type": "code",
   "execution_count": 269,
   "metadata": {},
   "outputs": [],
   "source": [
    "par = {}\n",
    "\n",
    "par['alpha'] = 5.76\n",
    "par['h'] = 0.5\n",
    "par['b'] = 0.5\n",
    "par['phi'] = 0\n",
    "par['gamma'] = 0.075"
   ]
  },
  {
   "cell_type": "markdown",
   "metadata": {},
   "source": [
    "**Question 1:** Use the ``sympy`` module to solve for the equilibrium values of output, $y_t$, and inflation, $\\pi_t$, (where AD = SRAS) given the parameters ($\\alpha$, $h$, $b$, $\\alpha$, $\\gamma$) and $y_{t-1}$ , $\\pi_{t-1}$, $v_t$, $s_t$, and $s_{t-1}$."
   ]
  },
  {
   "cell_type": "code",
   "execution_count": 270,
   "metadata": {},
   "outputs": [],
   "source": [
    "import numpy as np\n",
    "from scipy import linalg\n",
    "from scipy import optimize\n",
    "import sympy as sm\n",
    "\n",
    "sm.init_printing(use_unicode=True) # for pretty printing"
   ]
  },
  {
   "cell_type": "code",
   "execution_count": 271,
   "metadata": {},
   "outputs": [],
   "source": [
    "# Define the parameters and the functions\n",
    "pi = sm.symbols('pi')\n",
    "gamma = par['gamma']\n",
    "phi = par['phi']\n",
    "y = sm.symbols('y')\n",
    "y_lag = sm.symbols('y_lag')\n",
    "pi_lag = sm.symbols('pi_lag')\n",
    "s = sm.symbols('s')\n",
    "s_lag = sm.symbols('s_lag')\n",
    "alpha = par['alpha']\n",
    "h = par['h']\n",
    "b = par['b']\n",
    "v = sm.symbols('v')"
   ]
  },
  {
   "cell_type": "code",
   "execution_count": 264,
   "metadata": {},
   "outputs": [
    {
     "name": "stdout",
     "output_type": "stream",
     "text": [
      "Output gap is period t is:\n"
     ]
    },
    {
     "data": {
      "image/png": "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\n",
      "text/latex": [
       "$$- 0.703125 \\pi_{lag} - 0.703125 s + 0.244140625 v$$"
      ],
      "text/plain": [
       "-0.703125⋅π_lag - 0.703125⋅s + 0.244140625⋅v"
      ]
     },
     "execution_count": 264,
     "metadata": {},
     "output_type": "execute_result"
    }
   ],
   "source": [
    "AD = (1/(h*alpha))*(v-(1+(b*alpha))*y)\n",
    "SRAS = pi_lag+gamma*y-phi*gamma*y_lag+s-phi*s_lag\n",
    "\n",
    "# solve that equation where the SRAS-curve is equal to the AD-curve \n",
    "eq = sm.Eq(AD,SRAS)\n",
    "y_eq = sm.solve(eq,y)[0]\n",
    "print('Output gap is period t is:')\n",
    "y_eq"
   ]
  },
  {
   "cell_type": "code",
   "execution_count": 265,
   "metadata": {},
   "outputs": [
    {
     "name": "stdout",
     "output_type": "stream",
     "text": [
      "Inflation gap in period t is:\n"
     ]
    },
    {
     "data": {
      "image/png": "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\n",
      "text/latex": [
       "$$\\pi_{lag} + s + 0.075 y$$"
      ],
      "text/plain": [
       "π_lag + s + 0.075⋅y"
      ]
     },
     "execution_count": 265,
     "metadata": {},
     "output_type": "execute_result"
    }
   ],
   "source": [
    "# insert for y_eq in pi to get equilibrium phi\n",
    "\n",
    "pi_eq = sm.Eq(pi,SRAS)\n",
    "pi_eq = sm.solve(pi_eq, pi)[0]\n",
    "print('Inflation gap in period t is:')\n",
    "pi_eq "
   ]
  },
  {
   "cell_type": "markdown",
   "metadata": {},
   "source": [
    "\n",
    "**Question 2:** Find and illustrate the equilibrium when $y_{t-1} = \\pi_{t-1} = v_t = s_t = s_{t-1} = 0$. Illustrate how the equilibrium changes when instead $v_t = 0.1$."
   ]
  },
  {
   "cell_type": "code",
   "execution_count": 266,
   "metadata": {},
   "outputs": [],
   "source": [
    "#Lambdifying the solutions:\n",
    "y_eq_func = sm.lambdify((pi_lag, s, v), y_eq)\n",
    "pi_eq_func = sm.lambdify((pi_lag, s, y), pi_eq)"
   ]
  },
  {
   "cell_type": "markdown",
   "metadata": {},
   "source": [
    "Period 1 without shock:"
   ]
  },
  {
   "cell_type": "code",
   "execution_count": 210,
   "metadata": {},
   "outputs": [],
   "source": [
    "v = 0"
   ]
  },
  {
   "cell_type": "code",
   "execution_count": 211,
   "metadata": {},
   "outputs": [
    {
     "data": {
      "image/png": "iVBORw0KGgoAAAANSUhEUgAAACEAAAASCAYAAADVCrdsAAAABHNCSVQICAgIfAhkiAAAAQtJREFUSInt1L0uREEYxvEfiYawPloSceLjEtTux3VQCZ2KW9BS6NyDpbAaohQfCYXVzMbsseeYOTayhad5MvO+7z9PMpmXEdUijnCHN3Swj7m/YhV4QBcn2MV5OF9iISNAY9ZpaNou3e+F+8OMEI1YK6F4g/FSbRrPeMFUQoAsVtywFfwMH6XBJ1xgEpsJIbJYcYj14FcV4OvgawkhslhxiFbwx4rB3v1sQogsVvm96jQWvJsxk8SKQ/TStQzWTKmvTlmsOEQ7eNWbrwaveudYjVmFn7/Vq7Qv+itW7oIpsIGJIbD6oPGq3fG1atu+r9pOqC0PgdWnJRzjHu+4xQHmB/TWhchl/Ws09AlCUmedySlDMwAAAABJRU5ErkJggg==\n",
      "text/latex": [
       "$$0.0$$"
      ],
      "text/plain": [
       "0.0"
      ]
     },
     "execution_count": 211,
     "metadata": {},
     "output_type": "execute_result"
    }
   ],
   "source": [
    "y_eq_func(pi_lag = 0, s = 0, v = v)"
   ]
  },
  {
   "cell_type": "code",
   "execution_count": 215,
   "metadata": {},
   "outputs": [
    {
     "data": {
      "image/png": "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\n",
      "text/latex": [
       "$$0.0018310546875$$"
      ],
      "text/plain": [
       "0.0018310546875"
      ]
     },
     "execution_count": 215,
     "metadata": {},
     "output_type": "execute_result"
    }
   ],
   "source": [
    "pi_eq_func(pi_lag = 0, s = 0, y = y_eq_func(pi_lag = 0, s = 0, v = v))"
   ]
  },
  {
   "cell_type": "markdown",
   "metadata": {},
   "source": [
    "Period 2 with postive shock:"
   ]
  },
  {
   "cell_type": "code",
   "execution_count": 213,
   "metadata": {},
   "outputs": [],
   "source": [
    "v = 0.1"
   ]
  },
  {
   "cell_type": "code",
   "execution_count": 214,
   "metadata": {},
   "outputs": [
    {
     "data": {
      "image/png": "iVBORw0KGgoAAAANSUhEUgAAAJMAAAASCAYAAABfCexoAAAABHNCSVQICAgIfAhkiAAABIJJREFUaIHt2VmoVVUYB/CfQ6M4ZBQ9JGliAxlRkE2kN00fkiBL39KKDKRIowJDM24RJQ1i+ZJBGWj0UFG9lFpmmQ1khNFgWekpQhMttWuZTfaw1uEet3ufPZx7e4jzh83ad61vOv/7reFbmzba6EWcjKexDQdQw2Ic14u2jsdMvIRvsB97sR43om9Bf9NxMD4ze0hnKpbgHfwS5VYUtF02rqrcX4oXsT3qbcdqXNEgU5XjWkPsyefHZkGNxI4o+DIW4s3495cxoKIoY2tW7N+GZ/GgQOqe2P8C+uT4GxbluxRPpiI6G+NYFzYpn0xF46rK/d1RZieW4QE8iQ14qEGuKse1KNOZ8tyZERNYFQ3fmuhfFPufaKbcgq3xuNLhs+MkfB/lr2niqw/ewLd4WLFkKqpzGUZF+Q7lkqlMXFW4nxbHXsfAlPEjGt6rclyLTymcGg1uTXE4EPvwKwb8x7bmRVtLmsjMwT8YK8yYIslURadDuWQq6qMKX32xJfafUDCeLDTjuKZgMjUGPj62qwUCGtGFd3EsLixgtydt/RnbvzLGzxS2hMewroC9qjplUcZHFb4uxgi8it2YjLlCAl9UMtY8jo/CtULSzRFW635Jof4N76fHdnOGwa8xCadhTU5wPWWrP2bE95UZ48uFZXpeTkyt6JRFWR9V+Do/tjvwMc5O6KwTioedBWJtxjFhK1ye6NuKG/B2vaNxZRoc270ZBuv9Q3KC60lbCzFamH2rUsbvwbm4XqhOiqCKTlmU9VGFrxNjOwvH4HJhSxwtcDUWzxfwncfxMkwQEmqAkLRLMRyv4Zy6YNGSm+6T/sESOq3Ymo07hEpmesr4GGHWP4r3C/qtolMWveEjja9+DWNThRVrHz7HFPyAcZpveXkcw71CVbkDv+EzIYEXCUncWRdsTKZ69g+WjkEJuWZo1dYtwlnjC2F//jkxXt9GNmNBgXiq6pRFVR9V+Nod2y34JCG/X/cqMybDZh7HeahXl2PTBmcKmb80Q7leuk4o4KgVW7fFsU91L+VJDJF9kZZ8Fregk0SH5tVcVR9V+Lo69m3I0KlfRdyVMlaE4zwMijZ+r3c0HsDXxnaSsGI1VhUDcYmQ8R8UcFTV1lxhD9+IidiVYf8AnsoYO084r6zHV7q3mio6ZVHVRxW+1gnV1ygciT8S/kbHtpboL8pxHurb55YsgbIXZyNxhkMvx6raWhD7P8LQrAALoFO5zylldDpU+5xSxEeVS8sVcez+RP9EISH3OPTQXpbjszLkThEqzIMaqtX+CaGb8R4eF5bUTbhA2FM3Y35Cfk00PMLhM6CMretwH/4WvoHNTvkBNTyT0t/buCo+hIqGMCvrseyS81mhIMpyD7dHmfnC2eVD4f8xReDyJiGhqMbxNGGbXCtcBXQJC8hkHC1UgI80+1HDhHJwu7B0ficc1NIytCZk5/AWbXXKP2O81SzoFFs9tTLlxVbrwbjKcF/HUGH12hp1fsIrDr8QzvsdaRyPw3NCtbdHuNzcKXy+mSH/e2kbbbTRRhtt/F/wL9K4/zUsmKUiAAAAAElFTkSuQmCC\n",
      "text/latex": [
       "$$0.0244140625$$"
      ],
      "text/plain": [
       "0.0244140625"
      ]
     },
     "execution_count": 214,
     "metadata": {},
     "output_type": "execute_result"
    }
   ],
   "source": [
    "y_eq_func(pi_lag = 0, s = 0, v = v)"
   ]
  },
  {
   "cell_type": "code",
   "execution_count": 81,
   "metadata": {},
   "outputs": [
    {
     "data": {
      "image/png": "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\n",
      "text/latex": [
       "$$0.0018310546875$$"
      ],
      "text/plain": [
       "0.0018310546875"
      ]
     },
     "execution_count": 81,
     "metadata": {},
     "output_type": "execute_result"
    }
   ],
   "source": [
    "pi_eq_func(pi_lag = 0, s = 0, y = y_eq_func(pi_lag = 0, s = 0, v = v))"
   ]
  },
  {
   "cell_type": "markdown",
   "metadata": {},
   "source": [
    "Illustrating:"
   ]
  },
  {
   "cell_type": "code",
   "execution_count": 217,
   "metadata": {},
   "outputs": [],
   "source": [
    "v = [0, 0.1]\n",
    "t = range(1, len(v)+1)\n",
    "\n",
    "output = np.empty(len(t))\n",
    "inflation = np.empty(len(t))\n",
    "\n",
    "for i, v in enumerate(v):\n",
    "    output[i] = y_eq_func(pi_lag = 0, s = 0, v = v)\n",
    "    inflation[i] = pi_eq_func(pi_lag = 0, s = 0, y = y_eq_func(pi_lag = 0, s = 0, v = v))\n"
   ]
  },
  {
   "cell_type": "code",
   "execution_count": 218,
   "metadata": {},
   "outputs": [
    {
     "data": {
      "image/png": "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\n",
      "text/plain": [
       "<Figure size 720x360 with 1 Axes>"
      ]
     },
     "metadata": {
      "needs_background": "light"
     },
     "output_type": "display_data"
    }
   ],
   "source": [
    "fig = plt.figure(figsize= (10,5))\n",
    "ax = fig.add_subplot(1,1,1)\n",
    "ax.plot(t, output, label = 'Output gap', alpha = 0.5)\n",
    "ax.plot(t, inflation, linestyle= ':', label = 'Inflation gap', color='red')\n",
    "#ax.grid() \n",
    "ax.legend()\n",
    "ax.set_xlabel('t') # \n",
    "ax.set_ylabel('$y_t, \\pi_t$')\n",
    "ax.set_title('Equilibrium when $v_{t=1}=0$ and $v_{t=2}=0.1$')\n",
    "plt.xticks(t)\n",
    "plt.show()"
   ]
  },
  {
   "cell_type": "markdown",
   "metadata": {},
   "source": [
    "We see how a positive demand disturbance in period $t=2$ creates higher output and higher inflation in that period."
   ]
  },
  {
   "cell_type": "markdown",
   "metadata": {},
   "source": [
    "**Persistent disturbances:** Now, additionaly, assume that both the demand and the supply disturbances are AR(1) processes\n",
    "\n",
    "$$ v_{t} = \\delta v_{t-1} + x_{t} $$\n",
    "$$ s_{t} = \\omega s_{t-1} + c_{t} $$\n",
    "\n",
    "where $x_{t}$ is a **demand shock**, and $c_t$ is a **supply shock**. The **autoregressive parameters** are:"
   ]
  },
  {
   "cell_type": "code",
   "execution_count": 219,
   "metadata": {},
   "outputs": [],
   "source": [
    "par['delta'] = 0.80\n",
    "par['omega'] = 0.15\n",
    "\n",
    "delta = par['delta']\n",
    "omega = par['omega']"
   ]
  },
  {
   "cell_type": "markdown",
   "metadata": {},
   "source": [
    "**Question 3:** Starting from $y_{-1} = \\pi_{-1} = s_{-1} = 0$, how does the economy evolve for $x_0 = 0.1$, $x_t = 0, \\forall t > 0$ and $c_t = 0, \\forall t \\geq 0$?"
   ]
  },
  {
   "cell_type": "code",
   "execution_count": 300,
   "metadata": {},
   "outputs": [],
   "source": [
    "#Pretty print off\n",
    "sm.init_printing(pretty_print=False)"
   ]
  },
  {
   "cell_type": "code",
   "execution_count": 221,
   "metadata": {},
   "outputs": [],
   "source": [
    "#Range to simulate over\n",
    "t = range(0, 1000, 1)"
   ]
  },
  {
   "cell_type": "code",
   "execution_count": 222,
   "metadata": {},
   "outputs": [],
   "source": [
    "#Demand shocks\n",
    "x = [0 for i in t]\n",
    "x[0] = 0.1"
   ]
  },
  {
   "cell_type": "code",
   "execution_count": 223,
   "metadata": {},
   "outputs": [],
   "source": [
    "#Supply shocks\n",
    "c = [0 for i in t]"
   ]
  },
  {
   "cell_type": "code",
   "execution_count": 224,
   "metadata": {},
   "outputs": [],
   "source": [
    "# Demand and supply disturbances\n",
    "v = [delta*0+x[0]] #initialisation of v_0\n",
    "s = [omega*0+c[0]] # initialisation of s_0\n",
    "\n",
    "\n",
    "\n",
    "for i in range(1, max(t)+1):\n",
    "    v.append(delta*v[i-1]+x[i])\n",
    "    s.append(omega*s[i-1]+c[i])"
   ]
  },
  {
   "cell_type": "code",
   "execution_count": 225,
   "metadata": {},
   "outputs": [],
   "source": [
    "output = [0]\n",
    "inflation = [0]\n",
    "\n",
    "for i, j, k in zip(v, s, range(0, 999)):\n",
    "    output.append(y_eq_func(pi_lag = inflation[k], s = j, v = i))\n",
    "    inflation.append(pi_eq_func(pi_lag = inflation[k], s = j, y = y_eq_func(pi_lag = inflation[k], s = j, v = i)))"
   ]
  },
  {
   "cell_type": "code",
   "execution_count": 226,
   "metadata": {},
   "outputs": [
    {
     "data": {
      "image/png": "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\n",
      "text/plain": [
       "<Figure size 720x360 with 1 Axes>"
      ]
     },
     "metadata": {
      "needs_background": "light"
     },
     "output_type": "display_data"
    }
   ],
   "source": [
    "fig = plt.figure(figsize= (10,5))\n",
    "ax = fig.add_subplot(1,1,1)\n",
    "ax.plot(t, output, label = 'Output gap', alpha=0.7)\n",
    "ax.plot(t, inflation, linestyle= ':', label = 'Inflation gap', color='red')\n",
    "#ax.grid() \n",
    "ax.legend()\n",
    "ax.set_xlabel('t') # \n",
    "ax.set_ylabel('$y_t, \\pi_t$')\n",
    "ax.set_title('Output and inflation gap for 1000 periods')\n",
    "plt.xticks(range(0, 1000, 100))\n",
    "plt.show()"
   ]
  },
  {
   "cell_type": "markdown",
   "metadata": {},
   "source": [
    "bla bla"
   ]
  },
  {
   "cell_type": "markdown",
   "metadata": {},
   "source": [
    "**Stochastic shocks:** Now, additionally, assume that $x_t$ and $c_t$ are stochastic and normally distributed\n",
    "\n",
    "$$ x_{t}\\sim\\mathcal{N}(0,\\sigma_{x}^{2}) $$\n",
    "$$ c_{t}\\sim\\mathcal{N}(0,\\sigma_{c}^{2}) $$\n",
    "\n",
    "The **standard deviations of the shocks** are:"
   ]
  },
  {
   "cell_type": "code",
   "execution_count": 227,
   "metadata": {},
   "outputs": [],
   "source": [
    "par['sigma_x'] = 3.492\n",
    "par['sigma_c'] = 0.2\n",
    "\n",
    "sigma_x = par['sigma_x']\n",
    "sigma_c = par['sigma_c']"
   ]
  },
  {
   "cell_type": "markdown",
   "metadata": {},
   "source": [
    "**Question 4:** Simulate the AS-AD model for 1,000 periods. Calculate the following five statistics:\n",
    "\n",
    "1. Variance of $y_t$, $var(y_t)$\n",
    "2. Variance of $\\pi_t$, $var(\\pi_t)$\n",
    "3. Correlation between $y_t$ and $\\pi_t$, $corr(y_t,\\pi_t)$\n",
    "4. Auto-correlation between $y_t$ and $y_{t-1}$, $corr(y_t,y_{t-1})$\n",
    "5. Auto-correlation between $\\pi_t$ and $\\pi_{t-1}$, $corr(\\pi_t,\\pi_{t-1})$"
   ]
  },
  {
   "cell_type": "code",
   "execution_count": 237,
   "metadata": {},
   "outputs": [],
   "source": [
    "#Range to simulate over\n",
    "t = range(0, 1000, 1)"
   ]
  },
  {
   "cell_type": "code",
   "execution_count": 238,
   "metadata": {},
   "outputs": [],
   "source": [
    "#Demand shocks\n",
    "x = [np.random.normal(0, sigma_x) for i in t]"
   ]
  },
  {
   "cell_type": "code",
   "execution_count": 239,
   "metadata": {},
   "outputs": [],
   "source": [
    "#Supply shocks\n",
    "c = [np.random.normal(0, sigma_c) for i in t]"
   ]
  },
  {
   "cell_type": "code",
   "execution_count": 240,
   "metadata": {},
   "outputs": [],
   "source": [
    "# Demand and supply disturbances\n",
    "v = [delta*0+x[0]] #initialisation of v_0\n",
    "s = [omega*0+c[0]] # initialisation of s_0\n",
    "\n",
    "\n",
    "\n",
    "for i in range(1, max(t)+1):\n",
    "    v.append(delta*v[i-1]+x[i])\n",
    "    s.append(omega*s[i-1]+c[i])"
   ]
  },
  {
   "cell_type": "code",
   "execution_count": 241,
   "metadata": {},
   "outputs": [],
   "source": [
    "output = [0]\n",
    "inflation = [0]\n",
    "\n",
    "for i, j, k in zip(v, s, range(0, 999)):\n",
    "    output.append(y_eq_func(pi_lag = inflation[k], s = j, v = i))\n",
    "    inflation.append(pi_eq_func(pi_lag = inflation[k], s = j, y = y_eq_func(pi_lag = inflation[k], s = j, v = i)))"
   ]
  },
  {
   "cell_type": "code",
   "execution_count": 242,
   "metadata": {},
   "outputs": [
    {
     "data": {
      "image/png": "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\n",
      "text/plain": [
       "<Figure size 720x360 with 1 Axes>"
      ]
     },
     "metadata": {
      "needs_background": "light"
     },
     "output_type": "display_data"
    }
   ],
   "source": [
    "fig = plt.figure(figsize= (10,5))\n",
    "ax = fig.add_subplot(1,1,1)\n",
    "ax.plot(t, output, label = 'Output gap', alpha=0.7)\n",
    "ax.plot(t, inflation, linestyle= ':', label = 'Inflation gap', color='red')\n",
    "#ax.grid() \n",
    "ax.legend()\n",
    "ax.set_xlabel('t') # \n",
    "ax.set_ylabel('$y_t, \\pi_t$')\n",
    "ax.set_title('Output and inflation gap for 1000 periods')\n",
    "plt.xticks(range(0, 1000, 100))\n",
    "plt.show()"
   ]
  },
  {
   "cell_type": "code",
   "execution_count": 246,
   "metadata": {},
   "outputs": [
    {
     "data": {
      "text/plain": [
       "2.1475918628146156"
      ]
     },
     "execution_count": 246,
     "metadata": {},
     "output_type": "execute_result"
    }
   ],
   "source": [
    "np.var(output)"
   ]
  },
  {
   "cell_type": "code",
   "execution_count": 247,
   "metadata": {},
   "outputs": [
    {
     "data": {
      "text/plain": [
       "1.2562385915991174"
      ]
     },
     "execution_count": 247,
     "metadata": {},
     "output_type": "execute_result"
    }
   ],
   "source": [
    "np.var(inflation)"
   ]
  },
  {
   "cell_type": "code",
   "execution_count": 250,
   "metadata": {},
   "outputs": [
    {
     "data": {
      "text/plain": [
       "-0.21684963200248752"
      ]
     },
     "execution_count": 250,
     "metadata": {},
     "output_type": "execute_result"
    }
   ],
   "source": [
    "np.corrcoef(output, inflation)[1][0]"
   ]
  },
  {
   "cell_type": "code",
   "execution_count": 252,
   "metadata": {},
   "outputs": [],
   "source": [
    "def autocorr(x, t=1):\n",
    "    return np.corrcoef(np.array([x[:-t], x[t:]]))"
   ]
  },
  {
   "cell_type": "code",
   "execution_count": 254,
   "metadata": {},
   "outputs": [
    {
     "data": {
      "text/plain": [
       "0.7953827531400962"
      ]
     },
     "execution_count": 254,
     "metadata": {},
     "output_type": "execute_result"
    }
   ],
   "source": [
    "autocorr(output)[1][0]"
   ]
  },
  {
   "cell_type": "code",
   "execution_count": 255,
   "metadata": {},
   "outputs": [
    {
     "data": {
      "text/plain": [
       "0.9821858591159114"
      ]
     },
     "execution_count": 255,
     "metadata": {},
     "output_type": "execute_result"
    }
   ],
   "source": [
    "autocorr(inflation)[1][0]"
   ]
  },
  {
   "cell_type": "markdown",
   "metadata": {},
   "source": [
    "**Question 5:** Plot how the correlation between $y_t$ and $\\pi_t$ changes with $\\phi$. Use a numerical optimizer or root finder to choose $\\phi\\in(0,1)$ such that the simulated correlation between $y_t$ and $\\pi_t$ comes close to 0.31. "
   ]
  },
  {
   "cell_type": "code",
   "execution_count": 284,
   "metadata": {},
   "outputs": [],
   "source": [
    "# Define the parameters and the functions\n",
    "pi = sm.symbols('pi')\n",
    "gamma = par['gamma']\n",
    "phi = sm.symbols('phi')\n",
    "y = sm.symbols('y')\n",
    "y_lag = sm.symbols('y_lag')\n",
    "pi_lag = sm.symbols('pi_lag')\n",
    "s = sm.symbols('s')\n",
    "s_lag = sm.symbols('s_lag')\n",
    "alpha = par['alpha']\n",
    "h = par['h']\n",
    "b = par['b']\n",
    "v = sm.symbols('v')"
   ]
  },
  {
   "cell_type": "code",
   "execution_count": 293,
   "metadata": {},
   "outputs": [
    {
     "name": "stdout",
     "output_type": "stream",
     "text": [
      "Output gap is period t is:\n"
     ]
    },
    {
     "data": {
      "image/png": "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\n",
      "text/latex": [
       "$$0.703125 \\phi s_{lag} + 0.052734375 \\phi y_{lag} - 0.703125 \\pi_{lag} - 0.703125 s + 0.244140625 v$$"
      ],
      "text/plain": [
       "0.703125⋅φ⋅s_lag + 0.052734375⋅φ⋅y_lag - 0.703125⋅π_lag - 0.703125⋅s + 0.24414\n",
       "0625⋅v"
      ]
     },
     "execution_count": 293,
     "metadata": {},
     "output_type": "execute_result"
    }
   ],
   "source": [
    "AD = (1/(h*alpha))*(v-(1+(b*alpha))*y)\n",
    "SRAS = pi_lag+gamma*y-phi*gamma*y_lag+s-phi*s_lag\n",
    "\n",
    "# solve that equation where the SRAS-curve is equal to the AD-curve \n",
    "eq = sm.Eq(AD,SRAS)\n",
    "y_eq = sm.solve(eq,y)[0]\n",
    "print('Output gap is period t is:')\n",
    "y_eq"
   ]
  },
  {
   "cell_type": "code",
   "execution_count": 294,
   "metadata": {},
   "outputs": [
    {
     "name": "stdout",
     "output_type": "stream",
     "text": [
      "Inflation gap in period t is:\n"
     ]
    },
    {
     "data": {
      "image/png": "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\n",
      "text/latex": [
       "$$- \\phi s_{lag} - 0.075 \\phi y_{lag} + \\pi_{lag} + s + 0.075 y$$"
      ],
      "text/plain": [
       "-φ⋅s_lag - 0.075⋅φ⋅y_lag + π_lag + s + 0.075⋅y"
      ]
     },
     "execution_count": 294,
     "metadata": {},
     "output_type": "execute_result"
    }
   ],
   "source": [
    "# insert for y_eq in pi to get equilibrium phi\n",
    "\n",
    "pi_eq = sm.Eq(pi,SRAS)\n",
    "pi_eq = sm.solve(pi_eq, pi)[0]\n",
    "print('Inflation gap in period t is:')\n",
    "pi_eq "
   ]
  },
  {
   "cell_type": "code",
   "execution_count": 295,
   "metadata": {},
   "outputs": [],
   "source": [
    "#Lambdifying the solutions:\n",
    "y_eq_func = sm.lambdify((pi_lag, s, v, phi, s_lag, y_lag), y_eq)\n",
    "pi_eq_func = sm.lambdify((pi_lag, s, y, phi, s_lag, y_lag), pi_eq)"
   ]
  },
  {
   "cell_type": "code",
   "execution_count": 237,
   "metadata": {},
   "outputs": [],
   "source": [
    "#Range to simulate over\n",
    "t = range(0, 1000, 1)"
   ]
  },
  {
   "cell_type": "code",
   "execution_count": 238,
   "metadata": {},
   "outputs": [],
   "source": [
    "#Demand shocks\n",
    "x = [np.random.normal(0, sigma_x) for i in t]"
   ]
  },
  {
   "cell_type": "code",
   "execution_count": 239,
   "metadata": {},
   "outputs": [],
   "source": [
    "#Supply shocks\n",
    "c = [np.random.normal(0, sigma_c) for i in t]"
   ]
  },
  {
   "cell_type": "code",
   "execution_count": 240,
   "metadata": {},
   "outputs": [],
   "source": [
    "# Demand and supply disturbances\n",
    "v = [delta*0+x[0]] #initialisation of v_0\n",
    "s = [omega*0+c[0]] # initialisation of s_0\n",
    "\n",
    "for i in range(1, max(t)+1):\n",
    "    v.append(delta*v[i-1]+x[i])\n",
    "    s.append(omega*s[i-1]+c[i])"
   ]
  },
  {
   "cell_type": "code",
   "execution_count": 241,
   "metadata": {},
   "outputs": [],
   "source": [
    "output = [0]\n",
    "inflation = [0]\n",
    "\n",
    "for i, j, k in zip(v, s, range(0, 999)):\n",
    "    output.append(y_eq_func(pi_lag = inflation[k], s = j, v = i))\n",
    "    inflation.append(pi_eq_func(pi_lag = inflation[k], s = j, y = y_eq_func(pi_lag = inflation[k], s = j, v = i)))"
   ]
  },
  {
   "cell_type": "code",
   "execution_count": 309,
   "metadata": {},
   "outputs": [],
   "source": [
    "def simulate(sigma_x, sigma_c, phi):\n",
    "    #Range to simulate over\n",
    "    t = range(0, 1000, 1)\n",
    "    \n",
    "    #Demand shocks\n",
    "    x = [np.random.normal(0, sigma_x) for i in t]\n",
    "    \n",
    "    #Supply shocks\n",
    "    c = [np.random.normal(0, sigma_c) for i in t]\n",
    "    \n",
    "    # Demand and supply disturbances\n",
    "    v = [delta*0+x[0]] #initialisation of v_0\n",
    "    s = [omega*0+c[0]] # initialisation of s_0\n",
    "\n",
    "    for i in range(1, max(t)+1):\n",
    "        v.append(delta*v[i-1]+x[i])\n",
    "        s.append(omega*s[i-1]+c[i])\n",
    "        \n",
    "    output = [0]\n",
    "    inflation = [0]\n",
    "\n",
    "    for i, j, k in zip(v, s, range(0, 999)):\n",
    "        output.append(y_eq_func(pi_lag = inflation[k], s = j, v = i, phi = phi, s_lag = s[k], y_lag = output[k]))\n",
    "        inflation.append(pi_eq_func(pi_lag = inflation[k], s = j,\n",
    "                                    y =y_eq_func(pi_lag = inflation[k], s = j, v = i, phi = phi, s_lag = s[k], y_lag = output[k]),\n",
    "                                    phi = phi, s_lag = s[k], y_lag = output[k]))\n",
    "        \n",
    "    def autocorr(x, t=1):\n",
    "        return np.corrcoef(np.array([x[:-t], x[t:]]))\n",
    "    \n",
    "    var_output = np.var(output)\n",
    "    var_inflation = np.var(inflation)\n",
    "    corr_output_inflation = np.corrcoef(output, inflation)[1][0]\n",
    "    acf_output = autocorr(output)[1][0]\n",
    "    acf_inflation = autocorr(inflation)[1][0]\n",
    "    \n",
    "    return var_output, var_inflation, corr_output_inflation, acf_output, acf_inflation"
   ]
  },
  {
   "cell_type": "code",
   "execution_count": 322,
   "metadata": {},
   "outputs": [
    {
     "data": {
      "text/plain": [
       "-0.11829434991961624"
      ]
     },
     "execution_count": 322,
     "metadata": {},
     "output_type": "execute_result"
    }
   ],
   "source": [
    "simulate(sigma_x = 3.492, sigma_c = 0.2, phi = 0.5)[2]"
   ]
  },
  {
   "cell_type": "code",
   "execution_count": 341,
   "metadata": {},
   "outputs": [],
   "source": [
    "corr_output_inflation = []\n",
    "phi_range = np.linspace(0,1,11)\n",
    "\n",
    "for i in phi_range:\n",
    "    corr_output_inflation.append(simulate(sigma_x = 3.492, sigma_c = 0.2, phi = i)[2])"
   ]
  },
  {
   "cell_type": "code",
   "execution_count": 351,
   "metadata": {},
   "outputs": [
    {
     "data": {
      "image/png": "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\n",
      "text/plain": [
       "<Figure size 720x360 with 1 Axes>"
      ]
     },
     "metadata": {
      "needs_background": "light"
     },
     "output_type": "display_data"
    }
   ],
   "source": [
    "fig = plt.figure(figsize= (10,5))\n",
    "ax = fig.add_subplot(1,1,1)\n",
    "ax.plot(phi_range, corr_output_inflation, label = '$corr(y_t,\\pi_t)$', alpha=0.7)\n",
    "#ax.grid() \n",
    "ax.legend()\n",
    "ax.set_xlabel('$\\phi$')  \n",
    "ax.set_ylabel('$corr(y_t,\\pi_t)$')\n",
    "ax.set_title('title')\n",
    "#plt.xticks(range(0, 1.1))\n",
    "plt.show()"
   ]
  },
  {
   "cell_type": "code",
   "execution_count": 350,
   "metadata": {},
   "outputs": [
    {
     "ename": "TypeError",
     "evalue": "simulate() missing 1 required positional argument: 'phi'",
     "output_type": "error",
     "traceback": [
      "\u001b[1;31m---------------------------------------------------------------------------\u001b[0m",
      "\u001b[1;31mTypeError\u001b[0m                                 Traceback (most recent call last)",
      "\u001b[1;32m<ipython-input-350-f4219125e6f6>\u001b[0m in \u001b[0;36m<module>\u001b[1;34m\u001b[0m\n\u001b[0;32m      1\u001b[0m \u001b[0mx0\u001b[0m \u001b[1;33m=\u001b[0m \u001b[0mnp\u001b[0m\u001b[1;33m.\u001b[0m\u001b[0marray\u001b[0m\u001b[1;33m(\u001b[0m\u001b[1;33m[\u001b[0m\u001b[1;36m0.5\u001b[0m\u001b[1;33m,\u001b[0m \u001b[1;36m0.5\u001b[0m\u001b[1;33m,\u001b[0m \u001b[1;36m0.5\u001b[0m\u001b[1;33m]\u001b[0m\u001b[1;33m)\u001b[0m\u001b[1;33m\u001b[0m\u001b[1;33m\u001b[0m\u001b[0m\n\u001b[1;32m----> 2\u001b[1;33m \u001b[0moptimize\u001b[0m\u001b[1;33m.\u001b[0m\u001b[0mminimize\u001b[0m\u001b[1;33m(\u001b[0m\u001b[0msimulate\u001b[0m\u001b[1;33m(\u001b[0m\u001b[0msigma_x\u001b[0m \u001b[1;33m=\u001b[0m \u001b[1;36m3.492\u001b[0m\u001b[1;33m,\u001b[0m \u001b[0msigma_c\u001b[0m \u001b[1;33m=\u001b[0m \u001b[1;36m0.2\u001b[0m\u001b[1;33m)\u001b[0m\u001b[1;33m,\u001b[0m \u001b[0mx0\u001b[0m\u001b[1;33m=\u001b[0m\u001b[0mx0\u001b[0m\u001b[1;33m)\u001b[0m\u001b[1;33m\u001b[0m\u001b[1;33m\u001b[0m\u001b[0m\n\u001b[0m",
      "\u001b[1;31mTypeError\u001b[0m: simulate() missing 1 required positional argument: 'phi'"
     ]
    }
   ],
   "source": [
    "x0 = np.array([0.5, 0.5, 0.5])\n",
    "optimize.minimize(simulate(sigma_x = 3.492, sigma_c = 0.2), x0=x0, )"
   ]
  },
  {
   "cell_type": "markdown",
   "metadata": {},
   "source": [
    "**Quesiton 6:** Use a numerical optimizer to choose $\\sigma_x>0$, $\\sigma_c>0$ and $\\phi\\in(0,1)$ to make the simulated statistics as close as possible to US business cycle data where:\n",
    "\n",
    "1. $var(y_t) = 1.64$\n",
    "2. $var(\\pi_t) = 0.21$\n",
    "3. $corr(y_t,\\pi_t) = 0.31$\n",
    "4. $corr(y_t,y_{t-1}) = 0.84$\n",
    "5. $corr(\\pi_t,\\pi_{t-1}) = 0.48$"
   ]
  },
  {
   "cell_type": "code",
   "execution_count": null,
   "metadata": {},
   "outputs": [],
   "source": []
  },
  {
   "cell_type": "markdown",
   "metadata": {},
   "source": [
    "# 3. Exchange economy (Problem set 2)"
   ]
  },
  {
   "cell_type": "markdown",
   "metadata": {},
   "source": [
    "Consider an **exchange economy** with\n",
    "\n",
    "1. 3 goods, $(x_1,x_2,x_3)$\n",
    "2. $N$ consumers indexed by \\\\( j \\in \\{1,2,\\dots,N\\} \\\\)\n",
    "3. Preferences are Cobb-Douglas with log-normally distributed coefficients\n",
    "\n",
    "    $$ \\begin{eqnarray*}\n",
    "    u^{j}(x_{1},x_{2},x_{3}) &=& \n",
    "    \\left(x_{1}^{\\beta_{1}^{j}}x_{2}^{\\beta_{2}^{j}}x_{3}^{\\beta_{3}^{j}}\\right)^{\\gamma}\\\\\n",
    "     &  & \\,\\,\\,\\beta_{i}^{j}=\\frac{\\alpha_{i}^{j}}{\\alpha_{1}^{j}+\\alpha_{2}^{j}+\\alpha_{3}^{j}} \\\\\n",
    "     &  & \\,\\,\\,\\boldsymbol{\\alpha}^{j}=(\\alpha_{1}^{j},\\alpha_{2}^{j},\\alpha_{3}^{j}) \\\\ \n",
    "     &  & \\,\\,\\,\\log(\\boldsymbol{\\alpha}^j) \\sim \\mathcal{N}(\\mu,\\Sigma) \\\\\n",
    "    \\end{eqnarray*} $$\n",
    "\n",
    "4. Endowments are exponentially distributed,\n",
    "\n",
    "$$\n",
    "\\begin{eqnarray*}\n",
    "\\boldsymbol{e}^{j} &=& (e_{1}^{j},e_{2}^{j},e_{3}^{j}) \\\\\n",
    " &  & e_i^j \\sim f, f(z;\\zeta) =  1/\\zeta \\exp(-z/\\zeta)\n",
    "\\end{eqnarray*}\n",
    "$$"
   ]
  },
  {
   "cell_type": "markdown",
   "metadata": {},
   "source": [
    "Let $p_3 = 1$ be the **numeraire**. The implied **demand functions** are:\n",
    "\n",
    "$$\n",
    "\\begin{eqnarray*}\n",
    "x_{i}^{\\star j}(p_{1},p_{2},\\boldsymbol{e}^{j})&=&\\beta^{j}_i\\frac{I^j}{p_{i}} \\\\\n",
    "\\end{eqnarray*}\n",
    "$$\n",
    "\n",
    "where consumer $j$'s income is\n",
    "\n",
    "$$I^j = p_1 e_1^j + p_2 e_2^j +p_3 e_3^j$$"
   ]
  },
  {
   "cell_type": "markdown",
   "metadata": {},
   "source": [
    "The **parameters** and **random preferences and endowments** are given by:"
   ]
  },
  {
   "cell_type": "code",
   "execution_count": 60,
   "metadata": {},
   "outputs": [],
   "source": [
    "# a. parameters\n",
    "N = 50000\n",
    "mu = np.array([3,2,1])\n",
    "Sigma = np.array([[0.25, 0, 0], [0, 0.25, 0], [0, 0, 0.25]])\n",
    "gamma = 0.8\n",
    "zeta = 1\n",
    "\n",
    "# b. random draws\n",
    "seed = 1986\n",
    "np.random.seed(seed)\n",
    "\n",
    "# preferences\n",
    "alphas = np.exp(np.random.multivariate_normal(mu, Sigma, size=N))\n",
    "betas = alphas/np.reshape(np.sum(alphas,axis=1),(N,1))\n",
    "\n",
    "# endowments\n",
    "e1 = np.random.exponential(zeta,size=N)\n",
    "e2 = np.random.exponential(zeta,size=N)\n",
    "e3 = np.random.exponential(zeta,size=N)"
   ]
  },
  {
   "cell_type": "markdown",
   "metadata": {},
   "source": [
    "**Question 1:** Plot the histograms of the budget shares for each good across agents."
   ]
  },
  {
   "cell_type": "code",
   "execution_count": 61,
   "metadata": {},
   "outputs": [
    {
     "data": {
      "text/plain": [
       "<matplotlib.legend.Legend at 0x131bae5f28>"
      ]
     },
     "execution_count": 61,
     "metadata": {},
     "output_type": "execute_result"
    },
    {
     "data": {
      "image/png": "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\n",
      "text/plain": [
       "<Figure size 432x288 with 1 Axes>"
      ]
     },
     "metadata": {
      "needs_background": "light"
     },
     "output_type": "display_data"
    }
   ],
   "source": [
    "# Histogram of the budget shares for each of the three goods\n",
    "\n",
    "colors = ['red', 'blue', 'green'] # define colors\n",
    "plt.hist(betas, bins = 10, color=colors, label=['Good 1', 'Good 2', 'Good 3']) #create histogram from array of betas\n",
    "plt.title('Budget shares for each good across agents') # title\n",
    "plt.xlabel('Budget share') #xlabel\n",
    "plt.ylabel('Number of consumers') #ylabel\n",
    "plt.legend() # add legend"
   ]
  },
  {
   "cell_type": "markdown",
   "metadata": {},
   "source": [
    "##### Retrieve the mean budget share for each good"
   ]
  },
  {
   "cell_type": "code",
   "execution_count": 72,
   "metadata": {},
   "outputs": [],
   "source": [
    "# Save the values of beta1, beta2, beta3 across agents respectively\n",
    "betas_good_one = [x[0] for x in betas]\n",
    "betas_good_two = [x[1] for x in betas]\n",
    "betas_good_three = [x[2] for x in betas]"
   ]
  },
  {
   "cell_type": "code",
   "execution_count": 68,
   "metadata": {},
   "outputs": [
    {
     "data": {
      "text/plain": [
       "0.64"
      ]
     },
     "execution_count": 68,
     "metadata": {},
     "output_type": "execute_result"
    }
   ],
   "source": [
    "round(np.mean(betas_good_one), 2)"
   ]
  },
  {
   "cell_type": "code",
   "execution_count": 69,
   "metadata": {},
   "outputs": [
    {
     "data": {
      "text/plain": [
       "0.26"
      ]
     },
     "execution_count": 69,
     "metadata": {},
     "output_type": "execute_result"
    }
   ],
   "source": [
    "round(np.mean(betas_good_two), 2)"
   ]
  },
  {
   "cell_type": "code",
   "execution_count": 70,
   "metadata": {},
   "outputs": [
    {
     "data": {
      "text/plain": [
       "0.1"
      ]
     },
     "execution_count": 70,
     "metadata": {},
     "output_type": "execute_result"
    }
   ],
   "source": [
    "round(np.mean(betas_good_three), 2)"
   ]
  },
  {
   "cell_type": "markdown",
   "metadata": {},
   "source": [
    "In the figure above are the distribution of budget shares plotted. For each consumer this refers to there betas. <br>\n",
    "Good one has the highest mean budget share of 0.64. This indicates that on average the consumer will use 64% percent of her income on good number one. <br>\n",
    "The mean budget share of good two is 0.26 and lastly the mean budget share of good three is 0.1."
   ]
  },
  {
   "cell_type": "markdown",
   "metadata": {},
   "source": [
    "\n",
    "Consider the **excess demand functions:**\n",
    "\n",
    "$$ z_i(p_1,p_2) = \\sum_{j=1}^N x_{i}^{\\star j}(p_{1},p_{2},\\boldsymbol{e}^{j}) - e_i^j$$\n",
    "\n",
    "**Question 2:** Plot the excess demand functions."
   ]
  },
  {
   "cell_type": "code",
   "execution_count": 74,
   "metadata": {},
   "outputs": [],
   "source": [
    "# Define demand function for each good\n",
    "# We have here set p3 = 1 (numeraire)\n",
    "\n",
    "def demand_func(betas,p1,p2,e1,e2,e3, good, p3 = 1):\n",
    "    if good == 1:\n",
    "        betas_good_one = [x[0] for x in betas]\n",
    "        I = p1*e1+p2*e2+p3*e3\n",
    "        return betas_good_one*I/p1 \n",
    "    if good == 2:\n",
    "        betas_good_two = [x[1] for x in betas]\n",
    "        I = p1*e1+p2*e2+p3*e3\n",
    "        return betas_good_two*I/p2\n",
    "\n",
    "    if good == 3:\n",
    "        betas_good_three = [x[2] for x in betas]\n",
    "        I = p1*e1+p2*e2+p3*e3\n",
    "        return betas_good_three*I/p3"
   ]
  },
  {
   "cell_type": "code",
   "execution_count": 79,
   "metadata": {},
   "outputs": [],
   "source": [
    "# Define excess demand function for each good \n",
    "def excess_demand_func(alphas,p1,p2, e1,e2, e3, good, p3 = 1):\n",
    "    \n",
    "    # a. demand\n",
    "    demand = np.sum(demand_func(betas,p1,p2,e1,e2,e3, good, p3 = 1))\n",
    "    \n",
    "    # b. supply (depend on the good)\n",
    "    if good == 1:\n",
    "        supply = np.sum(e1)\n",
    "    if good == 2:\n",
    "        supply = np.sum(e2)\n",
    "    if good == 3:\n",
    "        supply = np.sum(e3) \n",
    "    \n",
    "    # c. excess demand\n",
    "    excess_demand = demand-supply\n",
    "    \n",
    "    return excess_demand"
   ]
  },
  {
   "cell_type": "code",
   "execution_count": 82,
   "metadata": {},
   "outputs": [
    {
     "name": "stderr",
     "output_type": "stream",
     "text": [
      "/anaconda3/lib/python3.7/site-packages/ipykernel_launcher.py:7: RuntimeWarning: divide by zero encountered in true_divide\n",
      "  import sys\n",
      "/anaconda3/lib/python3.7/site-packages/ipykernel_launcher.py:11: RuntimeWarning: divide by zero encountered in true_divide\n",
      "  # This is added back by InteractiveShellApp.init_path()\n"
     ]
    }
   ],
   "source": [
    "# plot the excess demand function \n",
    "\n",
    "# create x values\n",
    "prices_good_one = np.linspace(0,10,18)\n",
    "prices_good_two = np.linspace(0,10,18)\n",
    "prices_good_three = np.linspace(0,10,18)\n",
    "\n",
    "# create inital values and empty lists\n",
    "excess_demand_good_one = []\n",
    "excess_demand_good_two = [] \n",
    "excess_demand_good_three = [] \n",
    "p1 = 1\n",
    "p2 = 1\n",
    "p3 = 1\n",
    "\n",
    "# Obtain the excess demand for each good\n",
    "for num in prices_good_one:\n",
    "    excess_demand_good_one.append(excess_demand_func(alphas,num,p2,e1,e2,e3, good = 1, p3 = 1))\n",
    "    \n",
    "for num in prices_good_two:\n",
    "    excess_demand_good_two.append(excess_demand_func(alphas,p1, num,e1,e2,e3, good = 2,  p3 = 1))\n",
    "    \n",
    "for num in prices_good_three:\n",
    "    excess_demand_good_three.append(excess_demand_func(alphas,p1,p2,e1,e2,e3, good = 3,  p3 = num))"
   ]
  },
  {
   "cell_type": "code",
   "execution_count": 83,
   "metadata": {},
   "outputs": [
    {
     "data": {
      "image/png": "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\n",
      "text/plain": [
       "<Figure size 432x288 with 1 Axes>"
      ]
     },
     "metadata": {
      "needs_background": "light"
     },
     "output_type": "display_data"
    }
   ],
   "source": [
    "# plot the result\n",
    "\n",
    "plt.plot(prices_good_one, excess_demand_good_one, label = 'Good one')\n",
    "plt.plot(prices_good_one, excess_demand_good_two, label = 'Good two')\n",
    "plt.plot(prices_good_one, excess_demand_good_three, label = 'Good three')\n",
    "plt.legend() # set legend\n",
    "plt.title('Excess demand functions') # title\n",
    "plt.xlabel('Price of the respective good (the other goods are set to one)') #xlabel\n",
    "plt.ylabel('Excess demand') #ylabel\n",
    "plt.show()"
   ]
  },
  {
   "cell_type": "markdown",
   "metadata": {},
   "source": [
    "**Quesiton 3:** Find the Walras-equilibrium prices, $(p_1,p_2)$, where both excess demands are (approximately) zero, e.g. by using the following tâtonnement process:\n",
    "\n",
    "1. Guess on $p_1 > 0$, $p_2 > 0$ and choose tolerance $\\epsilon > 0$ and adjustment aggressivity parameter, $\\kappa > 0$.\n",
    "2. Calculate $z_1(p_1,p_2)$ and $z_2(p_1,p_2)$.\n",
    "3. If $|z_1| < \\epsilon$ and $|z_2| < \\epsilon$ then stop.\n",
    "4. Else set $p_1 = p_1 + \\kappa \\frac{z_1}{N}$ and $p_2 = p_2 + \\kappa \\frac{z_2}{N}$ and return to step 2."
   ]
  },
  {
   "cell_type": "code",
   "execution_count": 278,
   "metadata": {},
   "outputs": [],
   "source": [
    "def find_equilibrium(betas,p1,p2, p3,e1,e2, e3,kappa=0.5,eps=1e-8,maxiter=700):\n",
    "    \n",
    "    t = 0\n",
    "    while True:\n",
    "\n",
    "        # a. step 1: excess demand\n",
    "        Z1 = excess_demand_good_1_func(betas,p1,p2,p3,e1,e2,e3)\n",
    "        Z2 = excess_demand_good_2_func(betas,p1,p2,p3,e1,e2,e3)\n",
    "        \n",
    "        # b: step 2: stop?\n",
    "        if  (np.abs(Z1) < eps and np.abs(Z2) < eps) or t >= maxiter:\n",
    "            print(f'{t:3d}: p1 = {p1:12.8f} -> excess demand -> {Z1:14.8f}')\n",
    "            print(f'{t:3d}: p2 = {p2:12.8f} -> excess demand -> {Z1:14.8f}')\n",
    "            break    \n",
    "    \n",
    "        # c. step 3: update p1\n",
    "        p1 = p1 + kappa*Z1/betas.size\n",
    "        p2 = p2 + kappa*Z2/betas.size\n",
    "            \n",
    "        # d. step 4: return \n",
    "        if t < 5 or t%25 == 0:\n",
    "            print(f'{t:3d}: p1 = {p1:12.8f} -> excess demand -> {Z1:14.8f}')\n",
    "            print(f'{t:3d}: p2 = {p2:12.8f} -> excess demand -> {Z2:14.8f}')\n",
    "        elif t == 5:\n",
    "            print('   ...')\n",
    "            \n",
    "        t += 1    \n",
    "\n",
    "    return p1, p2"
   ]
  },
  {
   "cell_type": "code",
   "execution_count": 279,
   "metadata": {},
   "outputs": [
    {
     "name": "stdout",
     "output_type": "stream",
     "text": [
      "  0: p1 =   1.37973738 -> excess demand -> -6078.78547887\n",
      "  0: p2 =   0.97973738 -> excess demand -> -6078.78547887\n",
      "  1: p1 =   1.36072543 -> excess demand -> -5703.58688816\n",
      "  1: p2 =   0.96072543 -> excess demand -> -5703.58688816\n",
      "  2: p1 =   1.34293491 -> excess demand -> -5337.15508587\n",
      "  2: p2 =   0.94293491 -> excess demand -> -5337.15508587\n",
      "  3: p1 =   1.32633197 -> excess demand -> -4980.88210779\n",
      "  3: p2 =   0.92633197 -> excess demand -> -4980.88210779\n",
      "  4: p1 =   1.31087848 -> excess demand -> -4636.04661785\n",
      "  4: p2 =   0.91087848 -> excess demand -> -4636.04661785\n",
      "   ...\n",
      " 25: p1 =   1.16728913 -> excess demand ->  -642.43316291\n",
      " 25: p2 =   0.76728913 -> excess demand ->  -642.43316291\n",
      " 50: p1 =   1.15010462 -> excess demand ->   -39.17243132\n",
      " 50: p2 =   0.75010462 -> excess demand ->   -39.17243132\n",
      " 75: p1 =   1.14908447 -> excess demand ->    -2.27040386\n",
      " 75: p2 =   0.74908447 -> excess demand ->    -2.27040386\n",
      "100: p1 =   1.14902544 -> excess demand ->    -0.13119037\n",
      "100: p2 =   0.74902544 -> excess demand ->    -0.13119037\n",
      "125: p1 =   1.14902203 -> excess demand ->    -0.00757921\n",
      "125: p2 =   0.74902203 -> excess demand ->    -0.00757921\n",
      "150: p1 =   1.14902183 -> excess demand ->    -0.00043787\n",
      "150: p2 =   0.74902183 -> excess demand ->    -0.00043787\n",
      "175: p1 =   1.14902182 -> excess demand ->    -0.00002530\n",
      "175: p2 =   0.74902182 -> excess demand ->    -0.00002530\n",
      "200: p1 =   1.14902182 -> excess demand ->    -0.00000146\n",
      "200: p2 =   0.74902182 -> excess demand ->    -0.00000146\n",
      "225: p1 =   1.14902182 -> excess demand ->    -0.00000008\n",
      "225: p2 =   0.74902182 -> excess demand ->    -0.00000008\n",
      "244: p1 =   1.14902182 -> excess demand ->    -0.00000001\n",
      "244: p2 =   0.74902182 -> excess demand ->    -0.00000001\n"
     ]
    }
   ],
   "source": [
    "# Set initial values\n",
    "p1 = 1.4\n",
    "p2 = 1\n",
    "p3 = 1\n",
    "kappa = 0.5\n",
    "eps = 1e-8\n",
    "p1,p2 = find_equilibrium(betas,p1,p2, p3,e1,e2, e3,kappa=kappa,eps=eps)"
   ]
  },
  {
   "cell_type": "markdown",
   "metadata": {},
   "source": [
    "**Question 4:** Plot the distribution of utility in the Walras-equilibrium and calculate its mean and variance."
   ]
  },
  {
   "cell_type": "code",
   "execution_count": 280,
   "metadata": {},
   "outputs": [],
   "source": [
    "# Define utility function\n",
    "\n",
    "def utility(p1,p2,p3, e1,e2, e3 ,betas, gamma):\n",
    "    \n",
    "    # retrive the demands for each good\n",
    "    x1 = demand_good_1_func(betas,p1,p2,p3,e1,e2,e3)\n",
    "    x2 = demand_good_2_func(betas,p1,p2,p3,e1,e2,e3)\n",
    "    x3 = demand_good_3_func(betas,p1,p2,p3,e1,e2,e3)\n",
    "    \n",
    "    # save the beta values\n",
    "    betas_good_one = np.array([x[0] for x in betas])\n",
    "    betas_good_two = np.array([x[1] for x in betas])\n",
    "    betas_good_three = np.array([x[2] for x in betas])\n",
    "    \n",
    "    # return the utility for each consumer\n",
    "    return ((x1**betas_good_one)*(x2**betas_good_two)*(x3**betas_good_three))**gamma\n",
    "    "
   ]
  },
  {
   "cell_type": "code",
   "execution_count": 281,
   "metadata": {},
   "outputs": [],
   "source": [
    "# Set values. Here p1 and p2 is equal to the optimal value from question 3.\n",
    "# p3 is set to one\n",
    "\n",
    "p1 = 1.14686375\n",
    "p2 = 0.74686375\n",
    "p3 = 1"
   ]
  },
  {
   "cell_type": "code",
   "execution_count": 282,
   "metadata": {},
   "outputs": [],
   "source": [
    "utility_result = utility(p1,p2,p3, e1,e2, e3,betas, gamma)"
   ]
  },
  {
   "cell_type": "code",
   "execution_count": 283,
   "metadata": {},
   "outputs": [
    {
     "data": {
      "text/plain": [
       "Text(0, 0.5, 'Number of consumers')"
      ]
     },
     "execution_count": 283,
     "metadata": {},
     "output_type": "execute_result"
    },
    {
     "data": {
      "image/png": "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\n",
      "text/plain": [
       "<Figure size 432x288 with 1 Axes>"
      ]
     },
     "metadata": {
      "needs_background": "light"
     },
     "output_type": "display_data"
    }
   ],
   "source": [
    "# plot the results\n",
    "plt.hist(utility_result, bins = 10) # Set the number of bins to 10\n",
    "plt.title('Distribution of utility') # title\n",
    "plt.xlabel('Utility') #xlabel\n",
    "plt.ylabel('Number of consumers') #ylabel"
   ]
  },
  {
   "cell_type": "markdown",
   "metadata": {},
   "source": [
    "**Question 5:** Find the Walras-equilibrium prices if instead all endowments were distributed equally. Discuss the implied changes in the distribution of utility. Does the value of $\\gamma$ play a role for your conclusions?"
   ]
  },
  {
   "cell_type": "code",
   "execution_count": 284,
   "metadata": {},
   "outputs": [],
   "source": [
    "# set endowment for each good to one\n",
    "e1 = e2 = e3 = np.full((50000), 1)"
   ]
  },
  {
   "cell_type": "code",
   "execution_count": 285,
   "metadata": {},
   "outputs": [],
   "source": [
    "# Set values. Here p1 and p2 is equal to the optimal value from question 3.\n",
    "# p3 is set to one\n",
    "\n",
    "p1 = 1.14686375\n",
    "p2 = 0.74686375\n",
    "p3 = 1"
   ]
  },
  {
   "cell_type": "code",
   "execution_count": 313,
   "metadata": {},
   "outputs": [],
   "source": [
    "utility_result_new = utility(p1,p2,p3, e1,e2, e3,betas, gamma)\n",
    "utility_result_new_gamma_high = utility(p1,p2,p3, e1,e2, e3,betas, gamma = 2)"
   ]
  },
  {
   "cell_type": "code",
   "execution_count": 316,
   "metadata": {},
   "outputs": [
    {
     "data": {
      "text/plain": [
       "<matplotlib.legend.Legend at 0x131c10e780>"
      ]
     },
     "execution_count": 316,
     "metadata": {},
     "output_type": "execute_result"
    },
    {
     "data": {
      "image/png": "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\n",
      "text/plain": [
       "<Figure size 432x288 with 1 Axes>"
      ]
     },
     "metadata": {
      "needs_background": "light"
     },
     "output_type": "display_data"
    }
   ],
   "source": [
    "# plot the results\n",
    "plt.hist(utility_result, bins = 10, alpha = 0.6, label = 'unequal initial endowment, , gamma = 0.8') # Set the number of bins to 10\n",
    "plt.hist(utility_result_new, bins = 10, alpha = 1, color = 'red', label = 'equal initial endowment, gamma = 0.8') # Set the number of bins to 10\n",
    "plt.hist(utility_result_new_gamma_high, bins = 10, alpha = 0.6, color = 'green', label = 'equal initial endowment, gamma = 2') # Set the number of bins to 10\n",
    "\n",
    "plt.title('Distribution of utility') # title\n",
    "plt.xlabel('Utility') #xlabel\n",
    "plt.ylabel('Number of consumers') #ylabel\n",
    "plt.ylim([0,30000])\n",
    "plt.legend() # add legend"
   ]
  },
  {
   "cell_type": "markdown",
   "metadata": {},
   "source": [
    "Result: "
   ]
  }
 ],
 "metadata": {
  "kernelspec": {
   "display_name": "Python 3",
   "language": "python",
   "name": "python3"
  },
  "language_info": {
   "codemirror_mode": {
    "name": "ipython",
    "version": 3
   },
   "file_extension": ".py",
   "mimetype": "text/x-python",
   "name": "python",
   "nbconvert_exporter": "python",
   "pygments_lexer": "ipython3",
   "version": "3.7.1"
  },
  "toc-autonumbering": false
 },
 "nbformat": 4,
 "nbformat_minor": 2
}
