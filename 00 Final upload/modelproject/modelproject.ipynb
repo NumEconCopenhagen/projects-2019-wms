{
 "cells": [
  {
   "cell_type": "markdown",
   "metadata": {},
   "source": [
    "#### Imports"
   ]
  },
  {
   "cell_type": "code",
   "execution_count": 1,
   "metadata": {},
   "outputs": [],
   "source": [
    "#Imports\n",
    "import pandas as pd\n",
    "import numpy as np\n",
    "import random\n",
    "import matplotlib.pyplot as plt\n",
    "#import seaborn as sns\n",
    "\n",
    "import sympy as sm\n",
    "import scipy as sp\n",
    "from scipy import linalg\n",
    "from scipy import optimize, arange\n",
    "from scipy import interpolate\n",
    "\n",
    "\n",
    "from functions import price, cost, profit, rnd\n",
    "\n",
    "%load_ext autoreload\n",
    "%autoreload 2"
   ]
  },
  {
   "cell_type": "markdown",
   "metadata": {
    "toc-hr-collapsed": false
   },
   "source": [
    "# Introduction - Cournot Competition"
   ]
  },
  {
   "cell_type": "markdown",
   "metadata": {},
   "source": [
    "## The general setup"
   ]
  },
  {
   "cell_type": "markdown",
   "metadata": {},
   "source": [
    "$N\\geq2$ firms compete in an industry with a homogenous good, where each firm maximises their own profits by choosing a quantity to produce (the production) taking the production from other firms as given."
   ]
  },
  {
   "cell_type": "markdown",
   "metadata": {},
   "source": [
    "The inverse aggregate market demand for the homogenous good is assumed to be downwards sloping and linear:\n",
    "$$\n",
    "P=\\max\\{a-bQ,0\\}\n",
    "$$\n",
    "Where $P$ is the price for the homogenous good and $a,b>0$ are parameters that reflect the demand of consumers. $Q$ is the industry output, defined as the sum of all $N$ individual firms' production:\n",
    "$$\n",
    "Q=\\sum_{i=1}^N q_i\n",
    "$$\n",
    "\n",
    "It can be helpful for notation purposes to define the sum of all other firms' production from the point of view of firm $i$ as:\n",
    "$$\n",
    "Q_{-i}=Q-q_i\n",
    "$$\n",
    "\n",
    "Firms are not necesarrily homogenous in their costs - rather, firms may have assymmetric marginal costs $c_i>0$ with no capacity constraints. Thus, each firms maximises profit by choosing production level:"
   ]
  },
  {
   "cell_type": "markdown",
   "metadata": {},
   "source": [
    "$$\n",
    "\\max_{q_i}\\pi_i=Pq_i-c_iq_i\\Leftrightarrow \\max_{q_i}\\pi_i=(a-b(Q_{-i}+q_i)-c_iq_i\n",
    "$$\n",
    "s.t.\n",
    "$$\n",
    "q_i\\geq 0\n",
    "$$\n",
    "$$\n",
    "a,b,c_i> 0\n",
    "$$"
   ]
  },
  {
   "cell_type": "markdown",
   "metadata": {},
   "source": [
    "Where firms are $i=1,...,N$"
   ]
  },
  {
   "cell_type": "markdown",
   "metadata": {},
   "source": [
    "This is a classic Industrial Organisation problem, where firms act strategically, taking the actions of other firms into account. \n",
    "\n",
    "Specifically, this means that in order to solve model, we must:\n",
    "- Find the best response function for each individual firm (i.e. what quantity will the firm produce as a function of the other firms' production)\n",
    "- Find the equilibrium, where all firms have no incentive to deviate - i.e. they are best-responding to each other."
   ]
  },
  {
   "cell_type": "markdown",
   "metadata": {},
   "source": [
    "## The simple case - $N=2$"
   ]
  },
  {
   "cell_type": "markdown",
   "metadata": {},
   "source": [
    "In order to build up our general purpose function, we start off with the simple case, where $N=2$, which means that inverse demand is (using supscripts $i$ and $j$):\n",
    "$$\n",
    "P=\\max\\{a-b(q_i+q_j), 0\\}\n",
    "$$\n",
    "\n",
    "And the individual firm's maxmisation problem:"
   ]
  },
  {
   "cell_type": "markdown",
   "metadata": {},
   "source": [
    "$$\n",
    "\\max_{q_i}\\pi_i=(a-b(q_i+q_j)-c_iq_i\n",
    "$$\n",
    "s.t.\n",
    "$$\n",
    "q_i\\geq 0\n",
    "$$\n",
    "$$\n",
    "a,b,c_i> 0\n",
    "$$"
   ]
  },
  {
   "cell_type": "markdown",
   "metadata": {
    "toc-hr-collapsed": false
   },
   "source": [
    "### Defining functions"
   ]
  },
  {
   "cell_type": "markdown",
   "metadata": {},
   "source": [
    "First, we define the relevant inverse demand (also called price) function, cost function and profit functions - these functions are symmetric across firms (only input needs to be changed).\n",
    "\n",
    "The functions are included in the `functions.py` module."
   ]
  },
  {
   "cell_type": "markdown",
   "metadata": {},
   "source": [
    "First, we'll just show off the simple functions for some random parameters:"
   ]
  },
  {
   "cell_type": "code",
   "execution_count": 2,
   "metadata": {},
   "outputs": [],
   "source": [
    "#Initializing some random values for the parameters\n",
    "a = 100\n",
    "b = 1\n",
    "c1 = 1\n",
    "c2 = 3\n",
    "q1 = 35\n",
    "q2 = 25"
   ]
  },
  {
   "cell_type": "code",
   "execution_count": 3,
   "metadata": {},
   "outputs": [
    {
     "data": {
      "text/plain": [
       "35"
      ]
     },
     "execution_count": 3,
     "metadata": {},
     "output_type": "execute_result"
    }
   ],
   "source": [
    "cost(q1, c1)"
   ]
  },
  {
   "cell_type": "code",
   "execution_count": 4,
   "metadata": {},
   "outputs": [
    {
     "data": {
      "text/plain": [
       "75"
      ]
     },
     "execution_count": 4,
     "metadata": {},
     "output_type": "execute_result"
    }
   ],
   "source": [
    "cost(q2, c2)"
   ]
  },
  {
   "cell_type": "code",
   "execution_count": 5,
   "metadata": {},
   "outputs": [
    {
     "data": {
      "text/plain": [
       "40"
      ]
     },
     "execution_count": 5,
     "metadata": {},
     "output_type": "execute_result"
    }
   ],
   "source": [
    "price(q1, q2, a, b)"
   ]
  },
  {
   "cell_type": "code",
   "execution_count": 6,
   "metadata": {},
   "outputs": [
    {
     "data": {
      "text/plain": [
       "1365"
      ]
     },
     "execution_count": 6,
     "metadata": {},
     "output_type": "execute_result"
    }
   ],
   "source": [
    "profit(q1, q2, a, b, c1)"
   ]
  },
  {
   "cell_type": "code",
   "execution_count": 7,
   "metadata": {},
   "outputs": [
    {
     "data": {
      "text/plain": [
       "1295"
      ]
     },
     "execution_count": 7,
     "metadata": {},
     "output_type": "execute_result"
    }
   ],
   "source": [
    "profit(q1, q2, a, b, c2)"
   ]
  },
  {
   "cell_type": "markdown",
   "metadata": {},
   "source": [
    "#### Best reponse function"
   ]
  },
  {
   "cell_type": "markdown",
   "metadata": {},
   "source": [
    "Our first problem is to find the best response function - to do this, we minimise the negative `profit` function (i.e. maximising the profit) by choosing a best response quantity produced for given levels of production from the other firm. \n",
    "\n",
    "To do this, we use the `optimize.fminbound` from `scipy`. We use this function as we want to bound the production of firms as we do wish to have unrealistic solutions with e.g. negative quantities produced."
   ]
  },
  {
   "cell_type": "code",
   "execution_count": 8,
   "metadata": {},
   "outputs": [],
   "source": [
    "from functions import best_response"
   ]
  },
  {
   "cell_type": "markdown",
   "metadata": {},
   "source": [
    "We now have a given firms best response to any level of production from the other firm, given the firms' own costs - let's see isolated examples for firm 1:"
   ]
  },
  {
   "cell_type": "code",
   "execution_count": 9,
   "metadata": {},
   "outputs": [
    {
     "name": "stdout",
     "output_type": "stream",
     "text": [
      "Firm 1's best response to firm 2's production, 25, is a production of 37\n",
      "Firm 1's best response to firm 2's production, 50, is a production of 24\n"
     ]
    }
   ],
   "source": [
    "#Some random parameter choices\n",
    "a = 100\n",
    "b = 1\n",
    "c1 = 1\n",
    "q2 = 25\n",
    "\n",
    "\n",
    "print(\"Firm 1's best response to firm 2's production, \" + str(q2) + \", is a production of \" + str(\"{:.0f}\".format(best_response(q2, c1, a, b))))\n",
    "\n",
    "#Changing firm 2's production to see response from firm 1\n",
    "q2 = 50\n",
    "\n",
    "print(\"Firm 1's best response to firm 2's production, \" + str(q2) + \", is a production of \" + str(\"{:.0f}\".format(best_response(q2, c1, a, b))))"
   ]
  },
  {
   "cell_type": "markdown",
   "metadata": {},
   "source": [
    "We can plot the best response function, i.e. quantity produced as response to the other firms' production, for some given parameters:\n"
   ]
  },
  {
   "cell_type": "code",
   "execution_count": 10,
   "metadata": {},
   "outputs": [],
   "source": [
    "from functions import best_reponse_plot"
   ]
  },
  {
   "cell_type": "code",
   "execution_count": 11,
   "metadata": {},
   "outputs": [
    {
     "data": {
      "image/png": "[encoded data removed]",
      "text/plain": [
       "<Figure size 432x288 with 1 Axes>"
      ]
     },
     "metadata": {
      "needs_background": "light"
     },
     "output_type": "display_data"
    }
   ],
   "source": [
    "a = 125\n",
    "b = 4.5\n",
    "c1 = 1\n",
    "\n",
    "best_reponse_plot(a, b, c1)"
   ]
  },
  {
   "cell_type": "markdown",
   "metadata": {},
   "source": [
    "The plot shows that firm 1 will, for the given parameters, produce between 0 and 14 units depending on firm 2's production. If firm 2 produces around $30$ units, then firm 1 will not enter market - hence the kink in the best response function."
   ]
  },
  {
   "cell_type": "markdown",
   "metadata": {},
   "source": [
    "In order to check the validity of the numerical optimization, we will just contrast and compare to the analytical solution - first, we quickly define the analytical solution and plot functions:"
   ]
  },
  {
   "cell_type": "code",
   "execution_count": 12,
   "metadata": {},
   "outputs": [],
   "source": [
    "def analytical_BR(q2, c1, a, b):\n",
    "    BR=max((a-b*q2-c1)/(2*b), 0) #solution found by taking the FOC of the profit function\n",
    "    return BR\n"
   ]
  },
  {
   "cell_type": "code",
   "execution_count": 13,
   "metadata": {},
   "outputs": [],
   "source": [
    "def best_reponse_plot_Analytical(a, b, c1):\n",
    "    range_q2 = arange(0, a, 0.01)\n",
    "    range_q1 = [analytical_BR(q2, c1, a, b) for q2 in range_q2]\n",
    "    \n",
    "    plt.plot(range_q1, range_q2)\n",
    "    plt.xlabel(\"best response q1\")\n",
    "    plt.ylabel('q2')\n",
    "    plt.title(\"Firm 1's best response to firm 2 - analytical\")"
   ]
  },
  {
   "cell_type": "markdown",
   "metadata": {},
   "source": [
    "Numerical vs. analytical solution"
   ]
  },
  {
   "cell_type": "code",
   "execution_count": 14,
   "metadata": {},
   "outputs": [
    {
     "data": {
      "text/plain": [
       "Text(0.5, 1.0, 'Analytical')"
      ]
     },
     "execution_count": 14,
     "metadata": {},
     "output_type": "execute_result"
    },
    {
     "data": {
      "image/png": "[encoded data removed]",
      "text/plain": [
       "<Figure size 432x288 with 2 Axes>"
      ]
     },
     "metadata": {
      "needs_background": "light"
     },
     "output_type": "display_data"
    }
   ],
   "source": [
    "#Numerical vs. analytical solution\n",
    "a = 125\n",
    "b = 1.7\n",
    "c1 = 2.5\n",
    "\n",
    "#Numerical\n",
    "plt.subplot(1, 2, 1)\n",
    "best_reponse_plot(a, b, c1)\n",
    "plt.title('Numerical')\n",
    "\n",
    "#Analyltical\n",
    "plt.subplot(1, 2, 2)\n",
    "best_reponse_plot_Analytical(a, b, c1)\n",
    "plt.title(\"Analytical\")"
   ]
  },
  {
   "cell_type": "markdown",
   "metadata": {},
   "source": [
    "We can see that our numerical solution mirrors the analytical solution, so we are headed in the right direction."
   ]
  },
  {
   "cell_type": "markdown",
   "metadata": {
    "toc-hr-collapsed": false
   },
   "source": [
    "### Equilibrium"
   ]
  },
  {
   "cell_type": "markdown",
   "metadata": {},
   "source": [
    "In order to find the equilibrium, we need to find a solution, where both firms are best responding to each other - i.e. a Nash equilibrium, where there are no incentives to deviate.\n",
    "\n",
    "We do this by defining a help function, which find a fixed point - i.e. a point where $q - \\text{best_response}(\\cdot)=0$, which means that the current production is equal to the best response. This help function can be used in `scipy`'s `fsolve` module from which we can find our equilibrium production for both firms in equilibrium.\n"
   ]
  },
  {
   "cell_type": "code",
   "execution_count": 15,
   "metadata": {},
   "outputs": [],
   "source": [
    "from functions import help_br, production_eq"
   ]
  },
  {
   "cell_type": "markdown",
   "metadata": {},
   "source": [
    "The equilibrium production function, `production_eq`, takes in as arguments the following:\n",
    "- a list or array of costs for each firm\n",
    "- An initial guess for `fsolve` module solutions - usually set to no production for both firms i.e. [0,0]\n",
    "- Values for the demand parameters, $a$ and $b$\n",
    "\n",
    "It then returns an array with the production for each firm."
   ]
  },
  {
   "cell_type": "code",
   "execution_count": 16,
   "metadata": {},
   "outputs": [],
   "source": [
    "#Some parameters\n",
    "initial_guess = [0,0] #to solve the equilibrium\n",
    "c = [10,4] #costs for each firm\n",
    "a = 217\n",
    "b = 2.7\n"
   ]
  },
  {
   "cell_type": "code",
   "execution_count": 17,
   "metadata": {},
   "outputs": [
    {
     "data": {
      "text/plain": [
       "array([24.81481481, 27.03703704])"
      ]
     },
     "execution_count": 17,
     "metadata": {},
     "output_type": "execute_result"
    }
   ],
   "source": [
    "#Production for each firm corresponding to the costs defined by c\n",
    "production_eq(c, initial_guess, a, b)"
   ]
  },
  {
   "cell_type": "markdown",
   "metadata": {},
   "source": [
    "If we utilize all of our functions together in the function `summary` combined with some printing of strings, we can print out the results for a given game:"
   ]
  },
  {
   "cell_type": "code",
   "execution_count": 18,
   "metadata": {},
   "outputs": [],
   "source": [
    "from functions import summary"
   ]
  },
  {
   "cell_type": "code",
   "execution_count": 19,
   "metadata": {},
   "outputs": [
    {
     "name": "stdout",
     "output_type": "stream",
     "text": [
      "\n",
      " Industry output is 64 with firm 1 producing 32 units and firm 2 producing 32 units.\n",
      " The equilibrium price per unit becomes 36\n",
      " Firm 1's profit will be 1024 while firm 2's profit will be 1024\n"
     ]
    }
   ],
   "source": [
    "#Some parameters\n",
    "initial_guess = [0,0] #to solve the equilibrium\n",
    "c = [4,4] #costs for each firm - symmetric\n",
    "a = 100\n",
    "b = 1\n",
    "\n",
    "#Prints out summary of the Cournot game\n",
    "summary(c, a, b, initial_guess)"
   ]
  },
  {
   "cell_type": "code",
   "execution_count": 20,
   "metadata": {},
   "outputs": [
    {
     "name": "stdout",
     "output_type": "stream",
     "text": [
      "\n",
      " Industry output is 60 with firm 1 producing 36 units and firm 2 producing 25 units.\n",
      " The equilibrium price per unit becomes 40\n",
      " Firm 1's profit will be 1272 while firm 2's profit will be 880\n"
     ]
    }
   ],
   "source": [
    "initial_guess = [0,0] #to solve the equilibrium\n",
    "c = [4,15] #costs for each firm - firm 1 is more cost efficient\n",
    "a = 100\n",
    "b = 1\n",
    "\n",
    "#Prints out summary of the Cournot game\n",
    "summary(c, a, b, initial_guess)"
   ]
  },
  {
   "cell_type": "code",
   "execution_count": 21,
   "metadata": {},
   "outputs": [
    {
     "name": "stdout",
     "output_type": "stream",
     "text": [
      "\n",
      " Industry output is 24 with firm 1 producing 14 units and firm 2 producing 10 units.\n",
      " The equilibrium price per unit becomes 40\n",
      " Firm 1's profit will be 509 while firm 2's profit will be 352\n"
     ]
    }
   ],
   "source": [
    "initial_guess = [0,0] #to solve the equilibrium\n",
    "c = [4,15] #costs for each firm - firm 1 is more cost efficient\n",
    "a = 100\n",
    "b = 2.5\n",
    "\n",
    "#Prints out summary of the Cournot game\n",
    "summary(c, a, b, initial_guess)"
   ]
  },
  {
   "cell_type": "markdown",
   "metadata": {},
   "source": [
    "## The general case for $N\\geq 2$"
   ]
  },
  {
   "cell_type": "markdown",
   "metadata": {},
   "source": [
    "We did not succeed in solving the general version of the model numerically. \n",
    "\n",
    "Thus, we will proceed by showing the properties of the model by utilizing the analytical solution to simulate the general model."
   ]
  },
  {
   "cell_type": "markdown",
   "metadata": {},
   "source": [
    "The analytics solution generators are found in the `functions` module.\n",
    "\n",
    "We import the `sim_general` function, which can simulate the equilibrium of the general Cournot game. The function takes in five arguments:\n",
    "\n",
    "1. $a$ - the parameter reflecting total demand\n",
    "1. $b$ - reflecting consumer's price elasticity\n",
    "1. $N$ - the maximum number of firms in the industry. The actual firms in the industry, $n$, will then be drawn uniformly on the range of $[2,N]$\n",
    "1. c_low - the minimum marginal costs for the firms.\n",
    "1. c_high - the maximum marginal costs for the firms.\n",
    "    - Marginal costs will then be uniformly distributed (continously) from [c_low,c_high]"
   ]
  },
  {
   "cell_type": "code",
   "execution_count": 22,
   "metadata": {},
   "outputs": [],
   "source": [
    "from functions import sim_general"
   ]
  },
  {
   "cell_type": "markdown",
   "metadata": {},
   "source": [
    "See the `functions` module for documentation - the `sim_general` summarises price, quantity, profits and mark-ups for a given simulation."
   ]
  },
  {
   "cell_type": "code",
   "execution_count": 23,
   "metadata": {},
   "outputs": [
    {
     "name": "stdout",
     "output_type": "stream",
     "text": [
      "\n",
      " The industry consists of 41 competiting firms.\n",
      " Industry quantity produced is 333 with an equilibrium price of 9\n",
      " The average profits are 95 with an average mark-up over marginal costs of 3.88\n",
      "\n"
     ]
    },
    {
     "data": {
      "image/png": "[encoded data removed]",
      "text/plain": [
       "<Figure size 432x288 with 1 Axes>"
      ]
     },
     "metadata": {
      "needs_background": "light"
     },
     "output_type": "display_data"
    }
   ],
   "source": [
    "a = 500\n",
    "b = 1.5\n",
    "N = 50 #N>=2\n",
    "c_low = 1\n",
    "c_high = 5\n",
    "\n",
    "sim_general(a, b, N, c_low, c_high)"
   ]
  },
  {
   "cell_type": "markdown",
   "metadata": {
    "toc-hr-collapsed": false
   },
   "source": [
    "### Nested perfect competition"
   ]
  },
  {
   "cell_type": "markdown",
   "metadata": {},
   "source": [
    "We will try and show how perfect competition conditions i.e. zero profits when the number of firms goes up by simulation.\n",
    "\n",
    "First, we will choose a range of $N$, i.e. the number of firms to simulate over. Then we will generate uniformly distributed costs for each of the firms.\n",
    "\n",
    "Lastly, we will plot how a given reacts and $N$ increases."
   ]
  },
  {
   "cell_type": "code",
   "execution_count": 24,
   "metadata": {},
   "outputs": [],
   "source": [
    "from functions import profit_eq"
   ]
  },
  {
   "cell_type": "markdown",
   "metadata": {},
   "source": [
    "Parameter choices and simulation:"
   ]
  },
  {
   "cell_type": "code",
   "execution_count": 25,
   "metadata": {},
   "outputs": [],
   "source": [
    "n = range(1, 101, 1) # 101 firms\n",
    "\n",
    "c = []\n",
    "for i in range(0, max(n), 1): #Uniformly distributed costs\n",
    "    #c_i = 2\n",
    "    #c.append(c_i)\n",
    "    c_i = random.randint(1, 20)\n",
    "    c.append(c_i)\n",
    "\n",
    "a = 1000\n",
    "b = 10"
   ]
  },
  {
   "cell_type": "markdown",
   "metadata": {},
   "source": [
    "Profits for firm 7 as $N$ increases:"
   ]
  },
  {
   "cell_type": "code",
   "execution_count": 26,
   "metadata": {},
   "outputs": [],
   "source": [
    "profit_n = [] # Firm\n",
    "for x in n:\n",
    "    profit_n.append(profit_eq(a, b, x, c, 7))    "
   ]
  },
  {
   "cell_type": "markdown",
   "metadata": {},
   "source": [
    "Plot of firm 7's profits:"
   ]
  },
  {
   "cell_type": "code",
   "execution_count": 27,
   "metadata": {},
   "outputs": [
    {
     "data": {
      "text/plain": [
       "Text(0.5, 1.0, \"Firm 1's best response to firm 2\")"
      ]
     },
     "execution_count": 27,
     "metadata": {},
     "output_type": "execute_result"
    },
    {
     "data": {
      "image/png": "[encoded data removed]",
      "text/plain": [
       "<Figure size 432x288 with 1 Axes>"
      ]
     },
     "metadata": {
      "needs_background": "light"
     },
     "output_type": "display_data"
    }
   ],
   "source": [
    "plt.plot(profit_n)\n",
    "plt.xlabel(\"Number of firms, N\")\n",
    "plt.ylabel('Profit for firm 7')\n",
    "plt.title(\"Firm 1's best response to firm 2\")"
   ]
  },
  {
   "cell_type": "markdown",
   "metadata": {},
   "source": [
    "As expected, the more firms that compete, the closer we are to the perfect competition scenario."
   ]
  }
 ],
 "metadata": {
  "kernelspec": {
   "display_name": "Python 3",
   "language": "python",
   "name": "python3"
  },
  "language_info": {
   "codemirror_mode": {
    "name": "ipython",
    "version": 3
   },
   "file_extension": ".py",
   "mimetype": "text/x-python",
   "name": "python",
   "nbconvert_exporter": "python",
   "pygments_lexer": "ipython3",
   "version": "3.7.1"
  },
  "toc-autonumbering": false,
  "toc-showcode": false,
  "toc-showmarkdowntxt": false,
  "toc-showtags": false
 },
 "nbformat": 4,
 "nbformat_minor": 2
}
