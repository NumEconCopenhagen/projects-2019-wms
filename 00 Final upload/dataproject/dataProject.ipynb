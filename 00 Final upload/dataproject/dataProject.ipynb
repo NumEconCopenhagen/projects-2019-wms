{
 "cells": [
  {
   "cell_type": "markdown",
   "metadata": {},
   "source": [
    "## Imports"
   ]
  },
  {
   "cell_type": "code",
   "execution_count": 1,
   "metadata": {},
   "outputs": [],
   "source": [
    "import pandas as pd\n",
    "import numpy as np\n",
    "import iexfinance as iex  #pip install iexfinance\n",
    "from iexfinance.stocks import Stock\n",
    "from datetime import datetime\n",
    "import requests\n",
    "import random\n",
    "import time\n",
    "from bs4 import BeautifulSoup\n",
    "import re\n",
    "from tqdm import tqdm\n",
    "import matplotlib.pyplot as plt"
   ]
  },
  {
   "cell_type": "code",
   "execution_count": 2,
   "metadata": {},
   "outputs": [],
   "source": [
    "%load_ext autoreload\n",
    "%autoreload 2"
   ]
  },
  {
   "cell_type": "markdown",
   "metadata": {},
   "source": [
    "## Data load-in - DO NOT RUN!"
   ]
  },
  {
   "cell_type": "markdown",
   "metadata": {},
   "source": [
    "This sections loads in historical daily price data for stocks in the US using the *IEX* python module.\n",
    "\n",
    "The goal is to calculate daily returns (simple and continuously compounded (cc)) for each stock - and visualize this information in the subsequent sections.\n",
    "\n",
    "**DO NOT RUN THIS SECTION AS IT IS TIME CONSUMING - DATA HAS BEEN ATTACHED**"
   ]
  },
  {
   "cell_type": "markdown",
   "metadata": {},
   "source": [
    "#### Retrieve ticker labels"
   ]
  },
  {
   "cell_type": "code",
   "execution_count": 3,
   "metadata": {},
   "outputs": [
    {
     "data": {
      "text/html": [
       "<div>\n",
       "<style scoped>\n",
       "    .dataframe tbody tr th:only-of-type {\n",
       "        vertical-align: middle;\n",
       "    }\n",
       "\n",
       "    .dataframe tbody tr th {\n",
       "        vertical-align: top;\n",
       "    }\n",
       "\n",
       "    .dataframe thead th {\n",
       "        text-align: right;\n",
       "    }\n",
       "</style>\n",
       "<table border=\"1\" class=\"dataframe\">\n",
       "  <thead>\n",
       "    <tr style=\"text-align: right;\">\n",
       "      <th></th>\n",
       "      <th>date</th>\n",
       "      <th>iexId</th>\n",
       "      <th>isEnabled</th>\n",
       "      <th>name</th>\n",
       "      <th>symbol</th>\n",
       "      <th>type</th>\n",
       "    </tr>\n",
       "  </thead>\n",
       "  <tbody>\n",
       "    <tr>\n",
       "      <th>4920</th>\n",
       "      <td>2019-03-26</td>\n",
       "      <td>8405</td>\n",
       "      <td>True</td>\n",
       "      <td>Moelis &amp; Company Class A</td>\n",
       "      <td>MC</td>\n",
       "      <td>cs</td>\n",
       "    </tr>\n",
       "    <tr>\n",
       "      <th>110</th>\n",
       "      <td>2019-03-26</td>\n",
       "      <td>109</td>\n",
       "      <td>True</td>\n",
       "      <td>Adams Diversified Equity Fund Inc.</td>\n",
       "      <td>ADX</td>\n",
       "      <td>cs</td>\n",
       "    </tr>\n",
       "    <tr>\n",
       "      <th>1491</th>\n",
       "      <td>2019-03-26</td>\n",
       "      <td>13458</td>\n",
       "      <td>True</td>\n",
       "      <td>Colony Capital Inc. 7.125% Series J Cumulative...</td>\n",
       "      <td>CLNY-J</td>\n",
       "      <td>ps</td>\n",
       "    </tr>\n",
       "    <tr>\n",
       "      <th>109</th>\n",
       "      <td>2019-03-26</td>\n",
       "      <td>8910</td>\n",
       "      <td>True</td>\n",
       "      <td>Adverum Biotechnologies Inc.</td>\n",
       "      <td>ADVM</td>\n",
       "      <td>cs</td>\n",
       "    </tr>\n",
       "    <tr>\n",
       "      <th>4685</th>\n",
       "      <td>2019-03-26</td>\n",
       "      <td>1826</td>\n",
       "      <td>True</td>\n",
       "      <td>Leaf Group Ltd.</td>\n",
       "      <td>LEAF</td>\n",
       "      <td>cs</td>\n",
       "    </tr>\n",
       "  </tbody>\n",
       "</table>\n",
       "</div>"
      ],
      "text/plain": [
       "            date  iexId  isEnabled  \\\n",
       "4920  2019-03-26   8405       True   \n",
       "110   2019-03-26    109       True   \n",
       "1491  2019-03-26  13458       True   \n",
       "109   2019-03-26   8910       True   \n",
       "4685  2019-03-26   1826       True   \n",
       "\n",
       "                                                   name  symbol type  \n",
       "4920                           Moelis & Company Class A      MC   cs  \n",
       "110                  Adams Diversified Equity Fund Inc.     ADX   cs  \n",
       "1491  Colony Capital Inc. 7.125% Series J Cumulative...  CLNY-J   ps  \n",
       "109                        Adverum Biotechnologies Inc.    ADVM   cs  \n",
       "4685                                    Leaf Group Ltd.    LEAF   cs  "
      ]
     },
     "execution_count": 3,
     "metadata": {},
     "output_type": "execute_result"
    }
   ],
   "source": [
    "x=iex.refdata.get_symbols() #list of dicts with ticker symbols, names of all stocks in IEX database\n",
    "\n",
    "df_ticker=pd.DataFrame(x) #To a dataframe\n",
    "df_ticker.sample(5) #view of 5  random stocks"
   ]
  },
  {
   "cell_type": "markdown",
   "metadata": {},
   "source": [
    "We print one example by subsetting:"
   ]
  },
  {
   "cell_type": "code",
   "execution_count": 4,
   "metadata": {},
   "outputs": [
    {
     "data": {
      "text/html": [
       "<div>\n",
       "<style scoped>\n",
       "    .dataframe tbody tr th:only-of-type {\n",
       "        vertical-align: middle;\n",
       "    }\n",
       "\n",
       "    .dataframe tbody tr th {\n",
       "        vertical-align: top;\n",
       "    }\n",
       "\n",
       "    .dataframe thead th {\n",
       "        text-align: right;\n",
       "    }\n",
       "</style>\n",
       "<table border=\"1\" class=\"dataframe\">\n",
       "  <thead>\n",
       "    <tr style=\"text-align: right;\">\n",
       "      <th></th>\n",
       "      <th>date</th>\n",
       "      <th>iexId</th>\n",
       "      <th>isEnabled</th>\n",
       "      <th>name</th>\n",
       "      <th>symbol</th>\n",
       "      <th>type</th>\n",
       "    </tr>\n",
       "  </thead>\n",
       "  <tbody>\n",
       "    <tr>\n",
       "      <th>13</th>\n",
       "      <td>2019-03-26</td>\n",
       "      <td>11</td>\n",
       "      <td>True</td>\n",
       "      <td>Apple Inc.</td>\n",
       "      <td>AAPL</td>\n",
       "      <td>cs</td>\n",
       "    </tr>\n",
       "  </tbody>\n",
       "</table>\n",
       "</div>"
      ],
      "text/plain": [
       "          date iexId  isEnabled        name symbol type\n",
       "13  2019-03-26    11       True  Apple Inc.   AAPL   cs"
      ]
     },
     "execution_count": 4,
     "metadata": {},
     "output_type": "execute_result"
    }
   ],
   "source": [
    "df_ticker.loc[df_ticker['name'] == 'Apple Inc.']"
   ]
  },
  {
   "cell_type": "markdown",
   "metadata": {},
   "source": [
    "We print an example of five symbols. "
   ]
  },
  {
   "cell_type": "code",
   "execution_count": 5,
   "metadata": {},
   "outputs": [
    {
     "data": {
      "text/plain": [
       "['A', 'AA', 'AAAU', 'AABA', 'AAC']"
      ]
     },
     "execution_count": 5,
     "metadata": {},
     "output_type": "execute_result"
    }
   ],
   "source": [
    "tickers= list(df_ticker['symbol']) # tickers for 100 random stocks #.loc[df_ticker['isEnabled']==True] .sample(100, random_state=10)\n",
    "tickers[0:5]"
   ]
  },
  {
   "cell_type": "markdown",
   "metadata": {},
   "source": [
    "#### Retrieve the information on close value for all ticker values"
   ]
  },
  {
   "cell_type": "code",
   "execution_count": 6,
   "metadata": {},
   "outputs": [],
   "source": [
    "#Initing different containers for the first ticker\n",
    "\n",
    "sector={} #empty dict for sectors for each ticker\n",
    "\n",
    "stock=Stock(tickers[0])\n",
    "sect=stock.get_book()['quote']['sector']\n",
    "sector.update({tickers[0] : sect})\n",
    "\n",
    "df_close=pd.DataFrame(iex.stocks.get_historical_data(tickers[0], start='2015-01-02', end='2019-01-02', output_format='pandas')['close'])\n",
    "df_close=df_close.rename(columns = {'close' : tickers[0]}) #save all the closing values"
   ]
  },
  {
   "cell_type": "code",
   "execution_count": 4,
   "metadata": {},
   "outputs": [
    {
     "data": {
      "text/html": [
       "<div>\n",
       "<style scoped>\n",
       "    .dataframe tbody tr th:only-of-type {\n",
       "        vertical-align: middle;\n",
       "    }\n",
       "\n",
       "    .dataframe tbody tr th {\n",
       "        vertical-align: top;\n",
       "    }\n",
       "\n",
       "    .dataframe thead th {\n",
       "        text-align: right;\n",
       "    }\n",
       "</style>\n",
       "<table border=\"1\" class=\"dataframe\">\n",
       "  <thead>\n",
       "    <tr style=\"text-align: right;\">\n",
       "      <th></th>\n",
       "      <th>A</th>\n",
       "      <th>AA</th>\n",
       "      <th>AAAU</th>\n",
       "      <th>AABA</th>\n",
       "      <th>AAC</th>\n",
       "      <th>AADR</th>\n",
       "      <th>AAL</th>\n",
       "      <th>AAMC</th>\n",
       "      <th>AAME</th>\n",
       "      <th>AAN</th>\n",
       "      <th>...</th>\n",
       "      <th>ZUO</th>\n",
       "      <th>ZVV</th>\n",
       "      <th>ZVVV</th>\n",
       "      <th>ZVZZT</th>\n",
       "      <th>ZWZZT</th>\n",
       "      <th>ZXIET</th>\n",
       "      <th>ZXZZT</th>\n",
       "      <th>ZYME</th>\n",
       "      <th>ZYNE</th>\n",
       "      <th>ZYXI</th>\n",
       "    </tr>\n",
       "    <tr>\n",
       "      <th>date</th>\n",
       "      <th></th>\n",
       "      <th></th>\n",
       "      <th></th>\n",
       "      <th></th>\n",
       "      <th></th>\n",
       "      <th></th>\n",
       "      <th></th>\n",
       "      <th></th>\n",
       "      <th></th>\n",
       "      <th></th>\n",
       "      <th></th>\n",
       "      <th></th>\n",
       "      <th></th>\n",
       "      <th></th>\n",
       "      <th></th>\n",
       "      <th></th>\n",
       "      <th></th>\n",
       "      <th></th>\n",
       "      <th></th>\n",
       "      <th></th>\n",
       "      <th></th>\n",
       "    </tr>\n",
       "  </thead>\n",
       "  <tbody>\n",
       "    <tr>\n",
       "      <th>2015-01-02</th>\n",
       "      <td>38.9817</td>\n",
       "      <td>NaN</td>\n",
       "      <td>NaN</td>\n",
       "      <td>50.17</td>\n",
       "      <td>30.21</td>\n",
       "      <td>35.6231</td>\n",
       "      <td>51.7647</td>\n",
       "      <td>327.18</td>\n",
       "      <td>3.9490</td>\n",
       "      <td>30.2075</td>\n",
       "      <td>...</td>\n",
       "      <td>NaN</td>\n",
       "      <td>891.0</td>\n",
       "      <td>NaN</td>\n",
       "      <td>10.010</td>\n",
       "      <td>6.70</td>\n",
       "      <td>NaN</td>\n",
       "      <td>1.360</td>\n",
       "      <td>NaN</td>\n",
       "      <td>NaN</td>\n",
       "      <td>0.1800</td>\n",
       "    </tr>\n",
       "    <tr>\n",
       "      <th>2015-01-05</th>\n",
       "      <td>38.2513</td>\n",
       "      <td>NaN</td>\n",
       "      <td>NaN</td>\n",
       "      <td>49.13</td>\n",
       "      <td>29.73</td>\n",
       "      <td>35.1875</td>\n",
       "      <td>51.7311</td>\n",
       "      <td>340.87</td>\n",
       "      <td>3.9294</td>\n",
       "      <td>30.0891</td>\n",
       "      <td>...</td>\n",
       "      <td>NaN</td>\n",
       "      <td>891.0</td>\n",
       "      <td>NaN</td>\n",
       "      <td>10.050</td>\n",
       "      <td>11.00</td>\n",
       "      <td>NaN</td>\n",
       "      <td>0.091</td>\n",
       "      <td>NaN</td>\n",
       "      <td>NaN</td>\n",
       "      <td>0.1599</td>\n",
       "    </tr>\n",
       "    <tr>\n",
       "      <th>2015-01-06</th>\n",
       "      <td>37.6554</td>\n",
       "      <td>NaN</td>\n",
       "      <td>NaN</td>\n",
       "      <td>49.21</td>\n",
       "      <td>29.38</td>\n",
       "      <td>34.8934</td>\n",
       "      <td>50.9293</td>\n",
       "      <td>328.00</td>\n",
       "      <td>3.8413</td>\n",
       "      <td>28.9644</td>\n",
       "      <td>...</td>\n",
       "      <td>NaN</td>\n",
       "      <td>891.0</td>\n",
       "      <td>NaN</td>\n",
       "      <td>5.605</td>\n",
       "      <td>9.69</td>\n",
       "      <td>NaN</td>\n",
       "      <td>909.200</td>\n",
       "      <td>NaN</td>\n",
       "      <td>NaN</td>\n",
       "      <td>NaN</td>\n",
       "    </tr>\n",
       "    <tr>\n",
       "      <th>2015-01-07</th>\n",
       "      <td>38.1552</td>\n",
       "      <td>NaN</td>\n",
       "      <td>NaN</td>\n",
       "      <td>48.59</td>\n",
       "      <td>28.64</td>\n",
       "      <td>34.8934</td>\n",
       "      <td>50.9005</td>\n",
       "      <td>330.01</td>\n",
       "      <td>3.8413</td>\n",
       "      <td>29.8424</td>\n",
       "      <td>...</td>\n",
       "      <td>NaN</td>\n",
       "      <td>891.0</td>\n",
       "      <td>NaN</td>\n",
       "      <td>6.010</td>\n",
       "      <td>7.01</td>\n",
       "      <td>NaN</td>\n",
       "      <td>909.090</td>\n",
       "      <td>NaN</td>\n",
       "      <td>NaN</td>\n",
       "      <td>0.1499</td>\n",
       "    </tr>\n",
       "    <tr>\n",
       "      <th>2015-01-08</th>\n",
       "      <td>39.2989</td>\n",
       "      <td>NaN</td>\n",
       "      <td>NaN</td>\n",
       "      <td>50.23</td>\n",
       "      <td>29.37</td>\n",
       "      <td>35.4385</td>\n",
       "      <td>51.5247</td>\n",
       "      <td>342.85</td>\n",
       "      <td>3.8707</td>\n",
       "      <td>30.3258</td>\n",
       "      <td>...</td>\n",
       "      <td>NaN</td>\n",
       "      <td>891.0</td>\n",
       "      <td>NaN</td>\n",
       "      <td>6.290</td>\n",
       "      <td>7.01</td>\n",
       "      <td>NaN</td>\n",
       "      <td>1.720</td>\n",
       "      <td>NaN</td>\n",
       "      <td>NaN</td>\n",
       "      <td>NaN</td>\n",
       "    </tr>\n",
       "  </tbody>\n",
       "</table>\n",
       "<p>5 rows × 8683 columns</p>\n",
       "</div>"
      ],
      "text/plain": [
       "                  A  AA  AAAU   AABA    AAC     AADR      AAL    AAMC    AAME  \\\n",
       "date                                                                            \n",
       "2015-01-02  38.9817 NaN   NaN  50.17  30.21  35.6231  51.7647  327.18  3.9490   \n",
       "2015-01-05  38.2513 NaN   NaN  49.13  29.73  35.1875  51.7311  340.87  3.9294   \n",
       "2015-01-06  37.6554 NaN   NaN  49.21  29.38  34.8934  50.9293  328.00  3.8413   \n",
       "2015-01-07  38.1552 NaN   NaN  48.59  28.64  34.8934  50.9005  330.01  3.8413   \n",
       "2015-01-08  39.2989 NaN   NaN  50.23  29.37  35.4385  51.5247  342.85  3.8707   \n",
       "\n",
       "                AAN   ...    ZUO    ZVV  ZVVV   ZVZZT  ZWZZT  ZXIET    ZXZZT  \\\n",
       "date                  ...                                                      \n",
       "2015-01-02  30.2075   ...    NaN  891.0   NaN  10.010   6.70    NaN    1.360   \n",
       "2015-01-05  30.0891   ...    NaN  891.0   NaN  10.050  11.00    NaN    0.091   \n",
       "2015-01-06  28.9644   ...    NaN  891.0   NaN   5.605   9.69    NaN  909.200   \n",
       "2015-01-07  29.8424   ...    NaN  891.0   NaN   6.010   7.01    NaN  909.090   \n",
       "2015-01-08  30.3258   ...    NaN  891.0   NaN   6.290   7.01    NaN    1.720   \n",
       "\n",
       "            ZYME  ZYNE    ZYXI  \n",
       "date                            \n",
       "2015-01-02   NaN   NaN  0.1800  \n",
       "2015-01-05   NaN   NaN  0.1599  \n",
       "2015-01-06   NaN   NaN     NaN  \n",
       "2015-01-07   NaN   NaN  0.1499  \n",
       "2015-01-08   NaN   NaN     NaN  \n",
       "\n",
       "[5 rows x 8683 columns]"
      ]
     },
     "execution_count": 4,
     "metadata": {},
     "output_type": "execute_result"
    }
   ],
   "source": [
    "df_close.head()"
   ]
  },
  {
   "cell_type": "markdown",
   "metadata": {},
   "source": [
    "Above we have daily close values for all ticker symbols in the period 2015-01-02 to 2019-01-02. <br>\n",
    "Later we will transform the data frame into a nicer format"
   ]
  },
  {
   "cell_type": "markdown",
   "metadata": {},
   "source": [
    "#### Retrieve the information on sector for all ticker values"
   ]
  },
  {
   "cell_type": "code",
   "execution_count": null,
   "metadata": {},
   "outputs": [
    {
     "name": "stderr",
     "output_type": "stream",
     "text": [
      "  3%|▎         | 250/8722 [08:19<5:31:03,  2.34s/it]"
     ]
    }
   ],
   "source": [
    "remove_stocks=[] #container for stocks that have tickers, but do not have historical data available\n",
    "\n",
    "for i in tqdm(tickers[1:], leave=False): #runtime is ~3-4 hours?\n",
    "    \n",
    "    #Retrieving sector for each ticker\n",
    "    try: \n",
    "        stock=Stock(i) #turning ticker i into iex.Stock object\n",
    "        sect=stock.get_book()['quote']['sector'] #extracting sector from books\n",
    "        sector.update({i : sect}) #appending to dict\n",
    "    except:\n",
    "        remove_stocks.append(i)\n",
    "        \n",
    "        \n",
    "    #Creating df with close prices for each ticker\n",
    "    try: \n",
    "        test=iex.stocks.get_historical_data(i, start='2015-01-02', end='2019-01-02', output_format='pandas')['close'] #returns a series\n",
    "        test_df=pd.DataFrame(test)\n",
    "        test_df=test_df.rename(columns = {'close' : i})\n",
    "        \n",
    "        #Final df with close prices with stock as a col\n",
    "        df_close = pd.merge(df_close, test_df, how='left', left_index=True, right_index=True)\n",
    "    except:\n",
    "        remove_stocks.append(i)\n",
    "\n"
   ]
  },
  {
   "cell_type": "code",
   "execution_count": 8,
   "metadata": {},
   "outputs": [],
   "source": [
    "#Turning SECTOR dict into series then dataframe:\n",
    "x=pd.Series(sector)\n",
    "df_sect=pd.DataFrame(x)\n",
    "df_sect=df_sect.rename(columns={0 : 'sector'}) #renaming col\n",
    "\n",
    "#Merging onto df_ticker\n",
    "df_ticker=pd.merge(df_ticker, df_sect, how='left',  left_on=df_ticker['symbol'], right_index=True)"
   ]
  },
  {
   "cell_type": "code",
   "execution_count": 103,
   "metadata": {},
   "outputs": [
    {
     "data": {
      "text/html": [
       "<div>\n",
       "<style scoped>\n",
       "    .dataframe tbody tr th:only-of-type {\n",
       "        vertical-align: middle;\n",
       "    }\n",
       "\n",
       "    .dataframe tbody tr th {\n",
       "        vertical-align: top;\n",
       "    }\n",
       "\n",
       "    .dataframe thead th {\n",
       "        text-align: right;\n",
       "    }\n",
       "</style>\n",
       "<table border=\"1\" class=\"dataframe\">\n",
       "  <thead>\n",
       "    <tr style=\"text-align: right;\">\n",
       "      <th></th>\n",
       "      <th>date</th>\n",
       "      <th>iexId</th>\n",
       "      <th>isEnabled</th>\n",
       "      <th>name</th>\n",
       "      <th>symbol</th>\n",
       "      <th>type</th>\n",
       "      <th>sector</th>\n",
       "    </tr>\n",
       "  </thead>\n",
       "  <tbody>\n",
       "    <tr>\n",
       "      <th>0</th>\n",
       "      <td>2019-03-18</td>\n",
       "      <td>2</td>\n",
       "      <td>True</td>\n",
       "      <td>Agilent Technologies Inc.</td>\n",
       "      <td>A</td>\n",
       "      <td>cs</td>\n",
       "      <td>Healthcare</td>\n",
       "    </tr>\n",
       "    <tr>\n",
       "      <th>1</th>\n",
       "      <td>2019-03-18</td>\n",
       "      <td>12042</td>\n",
       "      <td>True</td>\n",
       "      <td>Alcoa Corporation</td>\n",
       "      <td>AA</td>\n",
       "      <td>cs</td>\n",
       "      <td>Basic Materials</td>\n",
       "    </tr>\n",
       "    <tr>\n",
       "      <th>2</th>\n",
       "      <td>2019-03-18</td>\n",
       "      <td>14924</td>\n",
       "      <td>True</td>\n",
       "      <td>Perth Mint Physical Gold</td>\n",
       "      <td>AAAU</td>\n",
       "      <td>NaN</td>\n",
       "      <td>NaN</td>\n",
       "    </tr>\n",
       "    <tr>\n",
       "      <th>3</th>\n",
       "      <td>2019-03-18</td>\n",
       "      <td>7653</td>\n",
       "      <td>True</td>\n",
       "      <td>Altaba Inc.</td>\n",
       "      <td>AABA</td>\n",
       "      <td>cs</td>\n",
       "      <td>Financial Services</td>\n",
       "    </tr>\n",
       "    <tr>\n",
       "      <th>4</th>\n",
       "      <td>2019-03-18</td>\n",
       "      <td>9169</td>\n",
       "      <td>True</td>\n",
       "      <td>AAC Holdings Inc.</td>\n",
       "      <td>AAC</td>\n",
       "      <td>cs</td>\n",
       "      <td>Healthcare</td>\n",
       "    </tr>\n",
       "    <tr>\n",
       "      <th>5</th>\n",
       "      <td>2019-03-18</td>\n",
       "      <td>5</td>\n",
       "      <td>True</td>\n",
       "      <td>AdvisorShares Dorsey Wright ADR</td>\n",
       "      <td>AADR</td>\n",
       "      <td>et</td>\n",
       "      <td>NaN</td>\n",
       "    </tr>\n",
       "    <tr>\n",
       "      <th>6</th>\n",
       "      <td>2019-03-18</td>\n",
       "      <td>8148</td>\n",
       "      <td>True</td>\n",
       "      <td>American Airlines Group Inc.</td>\n",
       "      <td>AAL</td>\n",
       "      <td>cs</td>\n",
       "      <td>Industrials</td>\n",
       "    </tr>\n",
       "    <tr>\n",
       "      <th>7</th>\n",
       "      <td>2019-03-18</td>\n",
       "      <td>7760</td>\n",
       "      <td>True</td>\n",
       "      <td>Altisource Asset Management Corp Com</td>\n",
       "      <td>AAMC</td>\n",
       "      <td>cs</td>\n",
       "      <td>Financial Services</td>\n",
       "    </tr>\n",
       "    <tr>\n",
       "      <th>8</th>\n",
       "      <td>2019-03-18</td>\n",
       "      <td>7</td>\n",
       "      <td>True</td>\n",
       "      <td>Atlantic American Corporation</td>\n",
       "      <td>AAME</td>\n",
       "      <td>cs</td>\n",
       "      <td>Financial Services</td>\n",
       "    </tr>\n",
       "    <tr>\n",
       "      <th>9</th>\n",
       "      <td>2019-03-18</td>\n",
       "      <td>8</td>\n",
       "      <td>True</td>\n",
       "      <td>Aaron's Inc.</td>\n",
       "      <td>AAN</td>\n",
       "      <td>cs</td>\n",
       "      <td>Industrials</td>\n",
       "    </tr>\n",
       "    <tr>\n",
       "      <th>10</th>\n",
       "      <td>2019-03-18</td>\n",
       "      <td>7790</td>\n",
       "      <td>True</td>\n",
       "      <td>Applied Optoelectronics Inc.</td>\n",
       "      <td>AAOI</td>\n",
       "      <td>cs</td>\n",
       "      <td>Technology</td>\n",
       "    </tr>\n",
       "    <tr>\n",
       "      <th>11</th>\n",
       "      <td>2019-03-18</td>\n",
       "      <td>9</td>\n",
       "      <td>True</td>\n",
       "      <td>AAON Inc.</td>\n",
       "      <td>AAON</td>\n",
       "      <td>cs</td>\n",
       "      <td>Basic Materials</td>\n",
       "    </tr>\n",
       "    <tr>\n",
       "      <th>12</th>\n",
       "      <td>2019-03-18</td>\n",
       "      <td>10</td>\n",
       "      <td>True</td>\n",
       "      <td>Advance Auto Parts Inc W/I</td>\n",
       "      <td>AAP</td>\n",
       "      <td>cs</td>\n",
       "      <td>Consumer Cyclical</td>\n",
       "    </tr>\n",
       "    <tr>\n",
       "      <th>13</th>\n",
       "      <td>2019-03-18</td>\n",
       "      <td>11</td>\n",
       "      <td>True</td>\n",
       "      <td>Apple Inc.</td>\n",
       "      <td>AAPL</td>\n",
       "      <td>cs</td>\n",
       "      <td>Technology</td>\n",
       "    </tr>\n",
       "    <tr>\n",
       "      <th>14</th>\n",
       "      <td>2019-03-18</td>\n",
       "      <td>12</td>\n",
       "      <td>True</td>\n",
       "      <td>American Assets Trust Inc.</td>\n",
       "      <td>AAT</td>\n",
       "      <td>cs</td>\n",
       "      <td>Real Estate</td>\n",
       "    </tr>\n",
       "    <tr>\n",
       "      <th>15</th>\n",
       "      <td>2019-03-18</td>\n",
       "      <td>13</td>\n",
       "      <td>True</td>\n",
       "      <td>Almaden Minerals Ltd.</td>\n",
       "      <td>AAU</td>\n",
       "      <td>cs</td>\n",
       "      <td>Basic Materials</td>\n",
       "    </tr>\n",
       "    <tr>\n",
       "      <th>16</th>\n",
       "      <td>2019-03-18</td>\n",
       "      <td>15</td>\n",
       "      <td>True</td>\n",
       "      <td>Atlas Air Worldwide Holdings</td>\n",
       "      <td>AAWW</td>\n",
       "      <td>cs</td>\n",
       "      <td>Industrials</td>\n",
       "    </tr>\n",
       "    <tr>\n",
       "      <th>17</th>\n",
       "      <td>2019-03-18</td>\n",
       "      <td>16</td>\n",
       "      <td>True</td>\n",
       "      <td>iShares MSCI All Country Asia ex Japan Index Fund</td>\n",
       "      <td>AAXJ</td>\n",
       "      <td>et</td>\n",
       "      <td>NaN</td>\n",
       "    </tr>\n",
       "    <tr>\n",
       "      <th>18</th>\n",
       "      <td>2019-03-18</td>\n",
       "      <td>6667</td>\n",
       "      <td>True</td>\n",
       "      <td>Axon Enterprise Inc.</td>\n",
       "      <td>AAXN</td>\n",
       "      <td>cs</td>\n",
       "      <td>Industrials</td>\n",
       "    </tr>\n",
       "    <tr>\n",
       "      <th>19</th>\n",
       "      <td>2019-03-18</td>\n",
       "      <td>17</td>\n",
       "      <td>True</td>\n",
       "      <td>AllianceBernstein Holding L.P. Units</td>\n",
       "      <td>AB</td>\n",
       "      <td>cs</td>\n",
       "      <td>Financial Services</td>\n",
       "    </tr>\n",
       "  </tbody>\n",
       "</table>\n",
       "</div>"
      ],
      "text/plain": [
       "          date  iexId  isEnabled  \\\n",
       "0   2019-03-18      2       True   \n",
       "1   2019-03-18  12042       True   \n",
       "2   2019-03-18  14924       True   \n",
       "3   2019-03-18   7653       True   \n",
       "4   2019-03-18   9169       True   \n",
       "5   2019-03-18      5       True   \n",
       "6   2019-03-18   8148       True   \n",
       "7   2019-03-18   7760       True   \n",
       "8   2019-03-18      7       True   \n",
       "9   2019-03-18      8       True   \n",
       "10  2019-03-18   7790       True   \n",
       "11  2019-03-18      9       True   \n",
       "12  2019-03-18     10       True   \n",
       "13  2019-03-18     11       True   \n",
       "14  2019-03-18     12       True   \n",
       "15  2019-03-18     13       True   \n",
       "16  2019-03-18     15       True   \n",
       "17  2019-03-18     16       True   \n",
       "18  2019-03-18   6667       True   \n",
       "19  2019-03-18     17       True   \n",
       "\n",
       "                                                 name symbol type  \\\n",
       "0                           Agilent Technologies Inc.      A   cs   \n",
       "1                                   Alcoa Corporation     AA   cs   \n",
       "2                            Perth Mint Physical Gold   AAAU  NaN   \n",
       "3                                         Altaba Inc.   AABA   cs   \n",
       "4                                   AAC Holdings Inc.    AAC   cs   \n",
       "5                     AdvisorShares Dorsey Wright ADR   AADR   et   \n",
       "6                        American Airlines Group Inc.    AAL   cs   \n",
       "7                Altisource Asset Management Corp Com   AAMC   cs   \n",
       "8                       Atlantic American Corporation   AAME   cs   \n",
       "9                                        Aaron's Inc.    AAN   cs   \n",
       "10                       Applied Optoelectronics Inc.   AAOI   cs   \n",
       "11                                          AAON Inc.   AAON   cs   \n",
       "12                         Advance Auto Parts Inc W/I    AAP   cs   \n",
       "13                                         Apple Inc.   AAPL   cs   \n",
       "14                         American Assets Trust Inc.    AAT   cs   \n",
       "15                              Almaden Minerals Ltd.    AAU   cs   \n",
       "16                       Atlas Air Worldwide Holdings   AAWW   cs   \n",
       "17  iShares MSCI All Country Asia ex Japan Index Fund   AAXJ   et   \n",
       "18                               Axon Enterprise Inc.   AAXN   cs   \n",
       "19               AllianceBernstein Holding L.P. Units     AB   cs   \n",
       "\n",
       "                sector  \n",
       "0           Healthcare  \n",
       "1      Basic Materials  \n",
       "2                  NaN  \n",
       "3   Financial Services  \n",
       "4           Healthcare  \n",
       "5                  NaN  \n",
       "6          Industrials  \n",
       "7   Financial Services  \n",
       "8   Financial Services  \n",
       "9          Industrials  \n",
       "10          Technology  \n",
       "11     Basic Materials  \n",
       "12   Consumer Cyclical  \n",
       "13          Technology  \n",
       "14         Real Estate  \n",
       "15     Basic Materials  \n",
       "16         Industrials  \n",
       "17                 NaN  \n",
       "18         Industrials  \n",
       "19  Financial Services  "
      ]
     },
     "execution_count": 103,
     "metadata": {},
     "output_type": "execute_result"
    }
   ],
   "source": [
    "# print a subset of the results\n",
    "df_ticker.iloc[:20]"
   ]
  },
  {
   "cell_type": "markdown",
   "metadata": {},
   "source": [
    "From the dataframe above we see that the data frame now contains information on sector for each ticker value"
   ]
  },
  {
   "cell_type": "code",
   "execution_count": 16,
   "metadata": {},
   "outputs": [],
   "source": [
    "#exporting\n",
    "#df_close.to_csv('df_close.csv', sep=';', index=True)\n",
    "#df_ticker.to_csv('df_ticker.csv', sep=';', index=True)"
   ]
  },
  {
   "cell_type": "markdown",
   "metadata": {},
   "source": [
    "## Data manipulation - START HERE"
   ]
  },
  {
   "cell_type": "code",
   "execution_count": 3,
   "metadata": {},
   "outputs": [],
   "source": [
    "# load in the data \n",
    "df_close=pd.read_csv('df_close.csv', sep=';', index_col=0)\n",
    "df_ticker=pd.read_csv('df_ticker.csv', sep=';', index_col=0)"
   ]
  },
  {
   "cell_type": "markdown",
   "metadata": {},
   "source": [
    "#### Definition of simple daily returns and cc daily returns\n",
    "Simple returns: $R_t=\\frac{P_t}{P_{t-1}}-1$\n",
    "\n",
    "Continously compounded (cc) returns: $r_t=log\\left(\\frac{P_t}{P_{t-1}}\\right)$\n",
    "\n",
    "Whick implies: $r_t=log(1+R_t)$"
   ]
  },
  {
   "cell_type": "markdown",
   "metadata": {},
   "source": [
    "#### Calculate simple returns: df_simple"
   ]
  },
  {
   "cell_type": "code",
   "execution_count": 4,
   "metadata": {},
   "outputs": [],
   "source": [
    "#Simple returns dataframe\n",
    "df_simple=df_close.copy().pct_change(1)"
   ]
  },
  {
   "cell_type": "code",
   "execution_count": 5,
   "metadata": {},
   "outputs": [
    {
     "data": {
      "text/html": [
       "<div>\n",
       "<style scoped>\n",
       "    .dataframe tbody tr th:only-of-type {\n",
       "        vertical-align: middle;\n",
       "    }\n",
       "\n",
       "    .dataframe tbody tr th {\n",
       "        vertical-align: top;\n",
       "    }\n",
       "\n",
       "    .dataframe thead th {\n",
       "        text-align: right;\n",
       "    }\n",
       "</style>\n",
       "<table border=\"1\" class=\"dataframe\">\n",
       "  <thead>\n",
       "    <tr style=\"text-align: right;\">\n",
       "      <th></th>\n",
       "      <th>A</th>\n",
       "      <th>AA</th>\n",
       "      <th>AAAU</th>\n",
       "      <th>AABA</th>\n",
       "      <th>AAC</th>\n",
       "      <th>AADR</th>\n",
       "      <th>AAL</th>\n",
       "      <th>AAMC</th>\n",
       "      <th>AAME</th>\n",
       "      <th>AAN</th>\n",
       "      <th>...</th>\n",
       "      <th>ZUO</th>\n",
       "      <th>ZVV</th>\n",
       "      <th>ZVVV</th>\n",
       "      <th>ZVZZT</th>\n",
       "      <th>ZWZZT</th>\n",
       "      <th>ZXIET</th>\n",
       "      <th>ZXZZT</th>\n",
       "      <th>ZYME</th>\n",
       "      <th>ZYNE</th>\n",
       "      <th>ZYXI</th>\n",
       "    </tr>\n",
       "    <tr>\n",
       "      <th>date</th>\n",
       "      <th></th>\n",
       "      <th></th>\n",
       "      <th></th>\n",
       "      <th></th>\n",
       "      <th></th>\n",
       "      <th></th>\n",
       "      <th></th>\n",
       "      <th></th>\n",
       "      <th></th>\n",
       "      <th></th>\n",
       "      <th></th>\n",
       "      <th></th>\n",
       "      <th></th>\n",
       "      <th></th>\n",
       "      <th></th>\n",
       "      <th></th>\n",
       "      <th></th>\n",
       "      <th></th>\n",
       "      <th></th>\n",
       "      <th></th>\n",
       "      <th></th>\n",
       "    </tr>\n",
       "  </thead>\n",
       "  <tbody>\n",
       "    <tr>\n",
       "      <th>2018-12-26</th>\n",
       "      <td>0.045795</td>\n",
       "      <td>0.079125</td>\n",
       "      <td>-0.001553</td>\n",
       "      <td>0.039311</td>\n",
       "      <td>0.098684</td>\n",
       "      <td>0.036565</td>\n",
       "      <td>0.086473</td>\n",
       "      <td>0.127273</td>\n",
       "      <td>-0.055745</td>\n",
       "      <td>0.063211</td>\n",
       "      <td>...</td>\n",
       "      <td>0.088631</td>\n",
       "      <td>0.000000</td>\n",
       "      <td>NaN</td>\n",
       "      <td>-0.000997</td>\n",
       "      <td>0.000000</td>\n",
       "      <td>0.0</td>\n",
       "      <td>0.0</td>\n",
       "      <td>0.082130</td>\n",
       "      <td>-0.006803</td>\n",
       "      <td>0.000000</td>\n",
       "    </tr>\n",
       "    <tr>\n",
       "      <th>2018-12-27</th>\n",
       "      <td>0.014343</td>\n",
       "      <td>0.000737</td>\n",
       "      <td>0.006672</td>\n",
       "      <td>0.001209</td>\n",
       "      <td>-0.107784</td>\n",
       "      <td>-0.006026</td>\n",
       "      <td>-0.007742</td>\n",
       "      <td>0.021505</td>\n",
       "      <td>0.057564</td>\n",
       "      <td>-0.010226</td>\n",
       "      <td>...</td>\n",
       "      <td>0.005053</td>\n",
       "      <td>0.000000</td>\n",
       "      <td>NaN</td>\n",
       "      <td>0.000998</td>\n",
       "      <td>0.000000</td>\n",
       "      <td>0.0</td>\n",
       "      <td>0.0</td>\n",
       "      <td>-0.024187</td>\n",
       "      <td>0.010274</td>\n",
       "      <td>-0.022305</td>\n",
       "    </tr>\n",
       "    <tr>\n",
       "      <th>2018-12-28</th>\n",
       "      <td>-0.005368</td>\n",
       "      <td>-0.020619</td>\n",
       "      <td>0.003875</td>\n",
       "      <td>0.006555</td>\n",
       "      <td>-0.053691</td>\n",
       "      <td>0.010076</td>\n",
       "      <td>-0.006553</td>\n",
       "      <td>-0.002368</td>\n",
       "      <td>0.005570</td>\n",
       "      <td>0.010572</td>\n",
       "      <td>...</td>\n",
       "      <td>-0.013966</td>\n",
       "      <td>0.012048</td>\n",
       "      <td>NaN</td>\n",
       "      <td>-0.000997</td>\n",
       "      <td>0.000000</td>\n",
       "      <td>0.0</td>\n",
       "      <td>0.0</td>\n",
       "      <td>0.166667</td>\n",
       "      <td>-0.010169</td>\n",
       "      <td>0.007605</td>\n",
       "    </tr>\n",
       "    <tr>\n",
       "      <th>2018-12-31</th>\n",
       "      <td>0.022741</td>\n",
       "      <td>-0.000752</td>\n",
       "      <td>0.001649</td>\n",
       "      <td>-0.007027</td>\n",
       "      <td>-0.007092</td>\n",
       "      <td>0.002028</td>\n",
       "      <td>0.008796</td>\n",
       "      <td>-0.216829</td>\n",
       "      <td>0.010700</td>\n",
       "      <td>-0.000238</td>\n",
       "      <td>...</td>\n",
       "      <td>0.027762</td>\n",
       "      <td>0.000000</td>\n",
       "      <td>NaN</td>\n",
       "      <td>0.000000</td>\n",
       "      <td>-0.071429</td>\n",
       "      <td>0.0</td>\n",
       "      <td>0.0</td>\n",
       "      <td>0.075458</td>\n",
       "      <td>0.017123</td>\n",
       "      <td>0.109434</td>\n",
       "    </tr>\n",
       "    <tr>\n",
       "      <th>2019-01-02</th>\n",
       "      <td>-0.026238</td>\n",
       "      <td>-0.012792</td>\n",
       "      <td>0.017941</td>\n",
       "      <td>-0.007767</td>\n",
       "      <td>0.164286</td>\n",
       "      <td>0.006489</td>\n",
       "      <td>0.011523</td>\n",
       "      <td>0.010778</td>\n",
       "      <td>0.033753</td>\n",
       "      <td>0.034009</td>\n",
       "      <td>...</td>\n",
       "      <td>0.003308</td>\n",
       "      <td>0.000000</td>\n",
       "      <td>NaN</td>\n",
       "      <td>0.000000</td>\n",
       "      <td>0.000000</td>\n",
       "      <td>0.0</td>\n",
       "      <td>0.0</td>\n",
       "      <td>0.000681</td>\n",
       "      <td>0.252525</td>\n",
       "      <td>-0.017007</td>\n",
       "    </tr>\n",
       "  </tbody>\n",
       "</table>\n",
       "<p>5 rows × 8683 columns</p>\n",
       "</div>"
      ],
      "text/plain": [
       "                   A        AA      AAAU      AABA       AAC      AADR  \\\n",
       "date                                                                     \n",
       "2018-12-26  0.045795  0.079125 -0.001553  0.039311  0.098684  0.036565   \n",
       "2018-12-27  0.014343  0.000737  0.006672  0.001209 -0.107784 -0.006026   \n",
       "2018-12-28 -0.005368 -0.020619  0.003875  0.006555 -0.053691  0.010076   \n",
       "2018-12-31  0.022741 -0.000752  0.001649 -0.007027 -0.007092  0.002028   \n",
       "2019-01-02 -0.026238 -0.012792  0.017941 -0.007767  0.164286  0.006489   \n",
       "\n",
       "                 AAL      AAMC      AAME       AAN    ...          ZUO  \\\n",
       "date                                                  ...                \n",
       "2018-12-26  0.086473  0.127273 -0.055745  0.063211    ...     0.088631   \n",
       "2018-12-27 -0.007742  0.021505  0.057564 -0.010226    ...     0.005053   \n",
       "2018-12-28 -0.006553 -0.002368  0.005570  0.010572    ...    -0.013966   \n",
       "2018-12-31  0.008796 -0.216829  0.010700 -0.000238    ...     0.027762   \n",
       "2019-01-02  0.011523  0.010778  0.033753  0.034009    ...     0.003308   \n",
       "\n",
       "                 ZVV  ZVVV     ZVZZT     ZWZZT  ZXIET  ZXZZT      ZYME  \\\n",
       "date                                                                     \n",
       "2018-12-26  0.000000   NaN -0.000997  0.000000    0.0    0.0  0.082130   \n",
       "2018-12-27  0.000000   NaN  0.000998  0.000000    0.0    0.0 -0.024187   \n",
       "2018-12-28  0.012048   NaN -0.000997  0.000000    0.0    0.0  0.166667   \n",
       "2018-12-31  0.000000   NaN  0.000000 -0.071429    0.0    0.0  0.075458   \n",
       "2019-01-02  0.000000   NaN  0.000000  0.000000    0.0    0.0  0.000681   \n",
       "\n",
       "                ZYNE      ZYXI  \n",
       "date                            \n",
       "2018-12-26 -0.006803  0.000000  \n",
       "2018-12-27  0.010274 -0.022305  \n",
       "2018-12-28 -0.010169  0.007605  \n",
       "2018-12-31  0.017123  0.109434  \n",
       "2019-01-02  0.252525 -0.017007  \n",
       "\n",
       "[5 rows x 8683 columns]"
      ]
     },
     "execution_count": 5,
     "metadata": {},
     "output_type": "execute_result"
    }
   ],
   "source": [
    "df_simple.tail()"
   ]
  },
  {
   "cell_type": "markdown",
   "metadata": {},
   "source": [
    "#### Calculate cc returns: df_cc"
   ]
  },
  {
   "cell_type": "code",
   "execution_count": 6,
   "metadata": {},
   "outputs": [],
   "source": [
    "# cc returns dataframe - see definition above\n",
    "df_cc=df_simple.copy()\n",
    "df_cc +=1\n",
    "df_cc=df_cc.copy().apply(np.log)"
   ]
  },
  {
   "cell_type": "code",
   "execution_count": 7,
   "metadata": {},
   "outputs": [
    {
     "data": {
      "text/plain": [
       "(1007, 8683)"
      ]
     },
     "execution_count": 7,
     "metadata": {},
     "output_type": "execute_result"
    }
   ],
   "source": [
    "df_cc.shape #days and number of stocks"
   ]
  },
  {
   "cell_type": "markdown",
   "metadata": {},
   "source": [
    "#### Prepare data for plots "
   ]
  },
  {
   "cell_type": "markdown",
   "metadata": {},
   "source": [
    "##### Long dataframe with close values"
   ]
  },
  {
   "cell_type": "code",
   "execution_count": 8,
   "metadata": {},
   "outputs": [
    {
     "data": {
      "text/html": [
       "<div>\n",
       "<style scoped>\n",
       "    .dataframe tbody tr th:only-of-type {\n",
       "        vertical-align: middle;\n",
       "    }\n",
       "\n",
       "    .dataframe tbody tr th {\n",
       "        vertical-align: top;\n",
       "    }\n",
       "\n",
       "    .dataframe thead th {\n",
       "        text-align: right;\n",
       "    }\n",
       "</style>\n",
       "<table border=\"1\" class=\"dataframe\">\n",
       "  <thead>\n",
       "    <tr style=\"text-align: right;\">\n",
       "      <th></th>\n",
       "      <th>date</th>\n",
       "      <th>close</th>\n",
       "      <th>symbol</th>\n",
       "      <th>name</th>\n",
       "      <th>sector</th>\n",
       "      <th>year</th>\n",
       "    </tr>\n",
       "  </thead>\n",
       "  <tbody>\n",
       "    <tr>\n",
       "      <th>8743776</th>\n",
       "      <td>2019-01-02</td>\n",
       "      <td>100.00</td>\n",
       "      <td>ZXIET</td>\n",
       "      <td>ZXIET Test Incorporated</td>\n",
       "      <td>NaN</td>\n",
       "      <td>2019</td>\n",
       "    </tr>\n",
       "    <tr>\n",
       "      <th>8743777</th>\n",
       "      <td>2019-01-02</td>\n",
       "      <td>42.89</td>\n",
       "      <td>ZXZZT</td>\n",
       "      <td>NASDAQ TEST STOCK</td>\n",
       "      <td>NaN</td>\n",
       "      <td>2019</td>\n",
       "    </tr>\n",
       "    <tr>\n",
       "      <th>8743778</th>\n",
       "      <td>2019-01-02</td>\n",
       "      <td>14.69</td>\n",
       "      <td>ZYME</td>\n",
       "      <td>Zymeworks Inc.</td>\n",
       "      <td>Healthcare</td>\n",
       "      <td>2019</td>\n",
       "    </tr>\n",
       "    <tr>\n",
       "      <th>8743779</th>\n",
       "      <td>2019-01-02</td>\n",
       "      <td>3.72</td>\n",
       "      <td>ZYNE</td>\n",
       "      <td>Zynerba Pharmaceuticals Inc.</td>\n",
       "      <td>Healthcare</td>\n",
       "      <td>2019</td>\n",
       "    </tr>\n",
       "    <tr>\n",
       "      <th>8743780</th>\n",
       "      <td>2019-01-02</td>\n",
       "      <td>2.89</td>\n",
       "      <td>ZYXI</td>\n",
       "      <td>Zynex Inc.</td>\n",
       "      <td>Healthcare</td>\n",
       "      <td>2019</td>\n",
       "    </tr>\n",
       "  </tbody>\n",
       "</table>\n",
       "</div>"
      ],
      "text/plain": [
       "               date   close symbol                          name      sector  \\\n",
       "8743776  2019-01-02  100.00  ZXIET       ZXIET Test Incorporated         NaN   \n",
       "8743777  2019-01-02   42.89  ZXZZT             NASDAQ TEST STOCK         NaN   \n",
       "8743778  2019-01-02   14.69   ZYME                Zymeworks Inc.  Healthcare   \n",
       "8743779  2019-01-02    3.72   ZYNE  Zynerba Pharmaceuticals Inc.  Healthcare   \n",
       "8743780  2019-01-02    2.89   ZYXI                    Zynex Inc.  Healthcare   \n",
       "\n",
       "         year  \n",
       "8743776  2019  \n",
       "8743777  2019  \n",
       "8743778  2019  \n",
       "8743779  2019  \n",
       "8743780  2019  "
      ]
     },
     "execution_count": 8,
     "metadata": {},
     "output_type": "execute_result"
    }
   ],
   "source": [
    "df_close_long = df_close.transpose() # transposing close data data \n",
    "df_close_long = pd.melt(df_close_long.reset_index() ,id_vars='index',var_name='date', value_name='close') # make data long for later use\n",
    "df_close_long = df_close_long.merge(df_ticker[['symbol', 'name','sector']], how = 'left', left_on = 'index', right_on = 'symbol') # merging on sector\n",
    "df_close_long['year'] = df_close_long['date'].astype(str).str[:4] # Create new column with the year\n",
    "df_close_long = df_close_long.drop(columns=['index'])\n",
    "df_close_long.tail()\n"
   ]
  },
  {
   "cell_type": "markdown",
   "metadata": {},
   "source": [
    "We now have a long data frame where one row refers to one symbols close value on a given date"
   ]
  },
  {
   "cell_type": "markdown",
   "metadata": {},
   "source": [
    "##### Long dataframe with simple return"
   ]
  },
  {
   "cell_type": "code",
   "execution_count": 9,
   "metadata": {},
   "outputs": [
    {
     "data": {
      "text/html": [
       "<div>\n",
       "<style scoped>\n",
       "    .dataframe tbody tr th:only-of-type {\n",
       "        vertical-align: middle;\n",
       "    }\n",
       "\n",
       "    .dataframe tbody tr th {\n",
       "        vertical-align: top;\n",
       "    }\n",
       "\n",
       "    .dataframe thead th {\n",
       "        text-align: right;\n",
       "    }\n",
       "</style>\n",
       "<table border=\"1\" class=\"dataframe\">\n",
       "  <thead>\n",
       "    <tr style=\"text-align: right;\">\n",
       "      <th></th>\n",
       "      <th>date</th>\n",
       "      <th>return</th>\n",
       "      <th>symbol</th>\n",
       "      <th>name</th>\n",
       "      <th>sector</th>\n",
       "      <th>year</th>\n",
       "    </tr>\n",
       "  </thead>\n",
       "  <tbody>\n",
       "    <tr>\n",
       "      <th>8743776</th>\n",
       "      <td>2019-01-02</td>\n",
       "      <td>0.000000</td>\n",
       "      <td>ZXIET</td>\n",
       "      <td>ZXIET Test Incorporated</td>\n",
       "      <td>NaN</td>\n",
       "      <td>2019</td>\n",
       "    </tr>\n",
       "    <tr>\n",
       "      <th>8743777</th>\n",
       "      <td>2019-01-02</td>\n",
       "      <td>0.000000</td>\n",
       "      <td>ZXZZT</td>\n",
       "      <td>NASDAQ TEST STOCK</td>\n",
       "      <td>NaN</td>\n",
       "      <td>2019</td>\n",
       "    </tr>\n",
       "    <tr>\n",
       "      <th>8743778</th>\n",
       "      <td>2019-01-02</td>\n",
       "      <td>0.000681</td>\n",
       "      <td>ZYME</td>\n",
       "      <td>Zymeworks Inc.</td>\n",
       "      <td>Healthcare</td>\n",
       "      <td>2019</td>\n",
       "    </tr>\n",
       "    <tr>\n",
       "      <th>8743779</th>\n",
       "      <td>2019-01-02</td>\n",
       "      <td>0.252525</td>\n",
       "      <td>ZYNE</td>\n",
       "      <td>Zynerba Pharmaceuticals Inc.</td>\n",
       "      <td>Healthcare</td>\n",
       "      <td>2019</td>\n",
       "    </tr>\n",
       "    <tr>\n",
       "      <th>8743780</th>\n",
       "      <td>2019-01-02</td>\n",
       "      <td>-0.017007</td>\n",
       "      <td>ZYXI</td>\n",
       "      <td>Zynex Inc.</td>\n",
       "      <td>Healthcare</td>\n",
       "      <td>2019</td>\n",
       "    </tr>\n",
       "  </tbody>\n",
       "</table>\n",
       "</div>"
      ],
      "text/plain": [
       "               date    return symbol                          name  \\\n",
       "8743776  2019-01-02  0.000000  ZXIET       ZXIET Test Incorporated   \n",
       "8743777  2019-01-02  0.000000  ZXZZT             NASDAQ TEST STOCK   \n",
       "8743778  2019-01-02  0.000681   ZYME                Zymeworks Inc.   \n",
       "8743779  2019-01-02  0.252525   ZYNE  Zynerba Pharmaceuticals Inc.   \n",
       "8743780  2019-01-02 -0.017007   ZYXI                    Zynex Inc.   \n",
       "\n",
       "             sector  year  \n",
       "8743776         NaN  2019  \n",
       "8743777         NaN  2019  \n",
       "8743778  Healthcare  2019  \n",
       "8743779  Healthcare  2019  \n",
       "8743780  Healthcare  2019  "
      ]
     },
     "execution_count": 9,
     "metadata": {},
     "output_type": "execute_result"
    }
   ],
   "source": [
    "df_simple_long = df_simple.transpose() # transposing return data \n",
    "df_simple_long = pd.melt(df_simple_long.reset_index() ,id_vars='index',var_name='date', value_name='return') # make data long for later use\n",
    "df_simple_long = df_simple_long.merge(df_ticker[['symbol', 'name','sector']], how = 'left', left_on = 'index', right_on = 'symbol') # merging on sector\n",
    "df_simple_long['year'] = df_simple_long['date'].astype(str).str[:4] # Create new column with the year\n",
    "df_simple_long = df_simple_long.drop(columns=['index'])\n",
    "df_simple_long.tail()"
   ]
  },
  {
   "cell_type": "markdown",
   "metadata": {},
   "source": [
    "We now have a long data frame where one row refers to one symbols simple return on a given date"
   ]
  },
  {
   "cell_type": "code",
   "execution_count": 10,
   "metadata": {},
   "outputs": [],
   "source": [
    "df_simple_long['return'] = np.where(df_simple_long['return'] >10, np.nan, df_simple_long['return']) # Replacing outliers with np.nan"
   ]
  },
  {
   "cell_type": "markdown",
   "metadata": {},
   "source": [
    "##### Long dataframe with simple return"
   ]
  },
  {
   "cell_type": "code",
   "execution_count": 11,
   "metadata": {},
   "outputs": [
    {
     "data": {
      "text/html": [
       "<div>\n",
       "<style scoped>\n",
       "    .dataframe tbody tr th:only-of-type {\n",
       "        vertical-align: middle;\n",
       "    }\n",
       "\n",
       "    .dataframe tbody tr th {\n",
       "        vertical-align: top;\n",
       "    }\n",
       "\n",
       "    .dataframe thead th {\n",
       "        text-align: right;\n",
       "    }\n",
       "</style>\n",
       "<table border=\"1\" class=\"dataframe\">\n",
       "  <thead>\n",
       "    <tr style=\"text-align: right;\">\n",
       "      <th></th>\n",
       "      <th>date</th>\n",
       "      <th>return</th>\n",
       "      <th>symbol</th>\n",
       "      <th>name</th>\n",
       "      <th>sector</th>\n",
       "      <th>year</th>\n",
       "    </tr>\n",
       "  </thead>\n",
       "  <tbody>\n",
       "    <tr>\n",
       "      <th>8743776</th>\n",
       "      <td>2019-01-02</td>\n",
       "      <td>0.000000</td>\n",
       "      <td>ZXIET</td>\n",
       "      <td>ZXIET Test Incorporated</td>\n",
       "      <td>NaN</td>\n",
       "      <td>2019</td>\n",
       "    </tr>\n",
       "    <tr>\n",
       "      <th>8743777</th>\n",
       "      <td>2019-01-02</td>\n",
       "      <td>0.000000</td>\n",
       "      <td>ZXZZT</td>\n",
       "      <td>NASDAQ TEST STOCK</td>\n",
       "      <td>NaN</td>\n",
       "      <td>2019</td>\n",
       "    </tr>\n",
       "    <tr>\n",
       "      <th>8743778</th>\n",
       "      <td>2019-01-02</td>\n",
       "      <td>0.000681</td>\n",
       "      <td>ZYME</td>\n",
       "      <td>Zymeworks Inc.</td>\n",
       "      <td>Healthcare</td>\n",
       "      <td>2019</td>\n",
       "    </tr>\n",
       "    <tr>\n",
       "      <th>8743779</th>\n",
       "      <td>2019-01-02</td>\n",
       "      <td>0.225162</td>\n",
       "      <td>ZYNE</td>\n",
       "      <td>Zynerba Pharmaceuticals Inc.</td>\n",
       "      <td>Healthcare</td>\n",
       "      <td>2019</td>\n",
       "    </tr>\n",
       "    <tr>\n",
       "      <th>8743780</th>\n",
       "      <td>2019-01-02</td>\n",
       "      <td>-0.017153</td>\n",
       "      <td>ZYXI</td>\n",
       "      <td>Zynex Inc.</td>\n",
       "      <td>Healthcare</td>\n",
       "      <td>2019</td>\n",
       "    </tr>\n",
       "  </tbody>\n",
       "</table>\n",
       "</div>"
      ],
      "text/plain": [
       "               date    return symbol                          name  \\\n",
       "8743776  2019-01-02  0.000000  ZXIET       ZXIET Test Incorporated   \n",
       "8743777  2019-01-02  0.000000  ZXZZT             NASDAQ TEST STOCK   \n",
       "8743778  2019-01-02  0.000681   ZYME                Zymeworks Inc.   \n",
       "8743779  2019-01-02  0.225162   ZYNE  Zynerba Pharmaceuticals Inc.   \n",
       "8743780  2019-01-02 -0.017153   ZYXI                    Zynex Inc.   \n",
       "\n",
       "             sector  year  \n",
       "8743776         NaN  2019  \n",
       "8743777         NaN  2019  \n",
       "8743778  Healthcare  2019  \n",
       "8743779  Healthcare  2019  \n",
       "8743780  Healthcare  2019  "
      ]
     },
     "execution_count": 11,
     "metadata": {},
     "output_type": "execute_result"
    }
   ],
   "source": [
    "df_cc_long = df_cc.transpose() # transposing return data \n",
    "df_cc_long = pd.melt(df_cc_long.reset_index() ,id_vars='index',var_name='date', value_name='return') # make data long for later use\n",
    "df_cc_long = df_cc_long.merge(df_ticker[['symbol', 'name','sector']], how = 'left', left_on = 'index', right_on = 'symbol') # merging on sector\n",
    "df_cc_long['year'] = df_cc_long['date'].astype(str).str[:4] # Create new column with the year\n",
    "df_cc_long = df_cc_long.drop(columns=['index'])\n",
    "df_cc_long.tail()"
   ]
  },
  {
   "cell_type": "markdown",
   "metadata": {},
   "source": [
    "We now have a long data frame where one row refers to one symbols cc return on a given date"
   ]
  },
  {
   "cell_type": "markdown",
   "metadata": {},
   "source": [
    "##### Long dataframe with sector return"
   ]
  },
  {
   "cell_type": "code",
   "execution_count": 12,
   "metadata": {},
   "outputs": [
    {
     "data": {
      "text/html": [
       "<div>\n",
       "<style scoped>\n",
       "    .dataframe tbody tr th:only-of-type {\n",
       "        vertical-align: middle;\n",
       "    }\n",
       "\n",
       "    .dataframe tbody tr th {\n",
       "        vertical-align: top;\n",
       "    }\n",
       "\n",
       "    .dataframe thead th {\n",
       "        text-align: right;\n",
       "    }\n",
       "</style>\n",
       "<table border=\"1\" class=\"dataframe\">\n",
       "  <thead>\n",
       "    <tr style=\"text-align: right;\">\n",
       "      <th></th>\n",
       "      <th>sector</th>\n",
       "      <th>date</th>\n",
       "      <th>return</th>\n",
       "    </tr>\n",
       "  </thead>\n",
       "  <tbody>\n",
       "    <tr>\n",
       "      <th>11072</th>\n",
       "      <td>Healthcare</td>\n",
       "      <td>2019-01-02</td>\n",
       "      <td>0.043698</td>\n",
       "    </tr>\n",
       "    <tr>\n",
       "      <th>11073</th>\n",
       "      <td>Industrials</td>\n",
       "      <td>2019-01-02</td>\n",
       "      <td>0.020293</td>\n",
       "    </tr>\n",
       "    <tr>\n",
       "      <th>11074</th>\n",
       "      <td>Real Estate</td>\n",
       "      <td>2019-01-02</td>\n",
       "      <td>0.003009</td>\n",
       "    </tr>\n",
       "    <tr>\n",
       "      <th>11075</th>\n",
       "      <td>Technology</td>\n",
       "      <td>2019-01-02</td>\n",
       "      <td>0.017717</td>\n",
       "    </tr>\n",
       "    <tr>\n",
       "      <th>11076</th>\n",
       "      <td>Utilities</td>\n",
       "      <td>2019-01-02</td>\n",
       "      <td>-0.001246</td>\n",
       "    </tr>\n",
       "  </tbody>\n",
       "</table>\n",
       "</div>"
      ],
      "text/plain": [
       "            sector        date    return\n",
       "11072   Healthcare  2019-01-02  0.043698\n",
       "11073  Industrials  2019-01-02  0.020293\n",
       "11074  Real Estate  2019-01-02  0.003009\n",
       "11075   Technology  2019-01-02  0.017717\n",
       "11076    Utilities  2019-01-02 -0.001246"
      ]
     },
     "execution_count": 12,
     "metadata": {},
     "output_type": "execute_result"
    }
   ],
   "source": [
    "df_simple_sector_long = df_simple.transpose() # transposing return data\n",
    "df_simple_sector_long = df_simple_sector_long.merge(df_ticker[['symbol', 'name','sector']], how = 'left', left_index = True, right_on = 'symbol') # merging on sector\n",
    "df_simple_sector_long = df_simple_sector_long.groupby(['sector']).mean() #collaspe data by sector\n",
    "df_simple_sector_long = pd.melt(df_simple_sector_long.reset_index() ,id_vars='sector',var_name='date', value_name='return') # make data long for later use\n",
    "df_simple_sector_long.tail()"
   ]
  },
  {
   "cell_type": "markdown",
   "metadata": {},
   "source": [
    "We now have a long data frame where one row refers to one sectors simple return on a given date"
   ]
  },
  {
   "cell_type": "code",
   "execution_count": 13,
   "metadata": {},
   "outputs": [],
   "source": [
    "df_simple_sector_long['return'] = np.where(df_simple_sector_long['return'] >10, np.nan, df_simple_sector_long['return']) # Replacing outliers with np.nan"
   ]
  },
  {
   "cell_type": "markdown",
   "metadata": {},
   "source": [
    "##### Long dataframe with sector close"
   ]
  },
  {
   "cell_type": "code",
   "execution_count": 14,
   "metadata": {},
   "outputs": [
    {
     "data": {
      "text/html": [
       "<div>\n",
       "<style scoped>\n",
       "    .dataframe tbody tr th:only-of-type {\n",
       "        vertical-align: middle;\n",
       "    }\n",
       "\n",
       "    .dataframe tbody tr th {\n",
       "        vertical-align: top;\n",
       "    }\n",
       "\n",
       "    .dataframe thead th {\n",
       "        text-align: right;\n",
       "    }\n",
       "</style>\n",
       "<table border=\"1\" class=\"dataframe\">\n",
       "  <thead>\n",
       "    <tr style=\"text-align: right;\">\n",
       "      <th></th>\n",
       "      <th>sector</th>\n",
       "      <th>date</th>\n",
       "      <th>close</th>\n",
       "    </tr>\n",
       "  </thead>\n",
       "  <tbody>\n",
       "    <tr>\n",
       "      <th>11072</th>\n",
       "      <td>Healthcare</td>\n",
       "      <td>2019-01-02</td>\n",
       "      <td>26.943955</td>\n",
       "    </tr>\n",
       "    <tr>\n",
       "      <th>11073</th>\n",
       "      <td>Industrials</td>\n",
       "      <td>2019-01-02</td>\n",
       "      <td>37.785571</td>\n",
       "    </tr>\n",
       "    <tr>\n",
       "      <th>11074</th>\n",
       "      <td>Real Estate</td>\n",
       "      <td>2019-01-02</td>\n",
       "      <td>32.208635</td>\n",
       "    </tr>\n",
       "    <tr>\n",
       "      <th>11075</th>\n",
       "      <td>Technology</td>\n",
       "      <td>2019-01-02</td>\n",
       "      <td>36.843310</td>\n",
       "    </tr>\n",
       "    <tr>\n",
       "      <th>11076</th>\n",
       "      <td>Utilities</td>\n",
       "      <td>2019-01-02</td>\n",
       "      <td>38.709957</td>\n",
       "    </tr>\n",
       "  </tbody>\n",
       "</table>\n",
       "</div>"
      ],
      "text/plain": [
       "            sector        date      close\n",
       "11072   Healthcare  2019-01-02  26.943955\n",
       "11073  Industrials  2019-01-02  37.785571\n",
       "11074  Real Estate  2019-01-02  32.208635\n",
       "11075   Technology  2019-01-02  36.843310\n",
       "11076    Utilities  2019-01-02  38.709957"
      ]
     },
     "execution_count": 14,
     "metadata": {},
     "output_type": "execute_result"
    }
   ],
   "source": [
    "df_close_sector_long = df_close.transpose() # transposing return data\n",
    "df_close_sector_long = df_close_sector_long.merge(df_ticker[['symbol', 'name','sector']], how = 'left', left_index = True, right_on = 'symbol') # merging on sector\n",
    "df_close_sector_long = df_close_sector_long.groupby(['sector']).mean() #collaspe data by sector\n",
    "df_close_sector_long = pd.melt(df_close_sector_long.reset_index() ,id_vars='sector',var_name='date', value_name='close') # make data long for later use\n",
    "df_close_sector_long.tail()"
   ]
  },
  {
   "cell_type": "markdown",
   "metadata": {},
   "source": [
    "We now have a long data frame where one row refers to one sectors close value on a given date"
   ]
  },
  {
   "cell_type": "markdown",
   "metadata": {},
   "source": [
    "##### Save the result"
   ]
  },
  {
   "cell_type": "code",
   "execution_count": 15,
   "metadata": {},
   "outputs": [],
   "source": [
    "# save the data (they are to large to push to github so we don't upload them)\n",
    "\n",
    "#df_simple.to_csv('df_simple.csv', sep=';', index=True)\n",
    "#df_close_long.to_csv('df_close_long.csv', sep=';', index=True)\n",
    "#df_simple_long.to_csv('df_simple_long.csv', sep=';', index=True)\n"
   ]
  },
  {
   "cell_type": "markdown",
   "metadata": {},
   "source": [
    "## Summary statistics"
   ]
  },
  {
   "cell_type": "markdown",
   "metadata": {},
   "source": [
    "##### Number of symbols"
   ]
  },
  {
   "cell_type": "code",
   "execution_count": 16,
   "metadata": {},
   "outputs": [
    {
     "name": "stdout",
     "output_type": "stream",
     "text": [
      "8715\n"
     ]
    }
   ],
   "source": [
    "print(df_ticker['symbol'].count()) # the data contains 8715 symbols"
   ]
  },
  {
   "cell_type": "markdown",
   "metadata": {},
   "source": [
    "##### Period"
   ]
  },
  {
   "cell_type": "code",
   "execution_count": 17,
   "metadata": {},
   "outputs": [
    {
     "data": {
      "text/plain": [
       "'2015-01-02'"
      ]
     },
     "execution_count": 17,
     "metadata": {},
     "output_type": "execute_result"
    }
   ],
   "source": [
    "df_close_long.date.min() # start period: 2015-01-02"
   ]
  },
  {
   "cell_type": "code",
   "execution_count": 18,
   "metadata": {},
   "outputs": [
    {
     "data": {
      "text/plain": [
       "'2019-01-02'"
      ]
     },
     "execution_count": 18,
     "metadata": {},
     "output_type": "execute_result"
    }
   ],
   "source": [
    "df_close_long.date.max() # end period: 2019-01-02"
   ]
  },
  {
   "cell_type": "markdown",
   "metadata": {},
   "source": [
    "##### Number of observations within each symbol"
   ]
  },
  {
   "cell_type": "code",
   "execution_count": 19,
   "metadata": {},
   "outputs": [
    {
     "name": "stdout",
     "output_type": "stream",
     "text": [
      "symbol\n",
      "A       1007\n",
      "AA      1007\n",
      "AAAU    1007\n",
      "AABA    1007\n",
      "AAC     1007\n",
      "Name: symbol, dtype: int64\n"
     ]
    }
   ],
   "source": [
    "print(df_close_long.groupby('symbol')['symbol'].count()[:5]) # create a frequency table for symbols."
   ]
  },
  {
   "cell_type": "markdown",
   "metadata": {},
   "source": [
    "We see that there is 1007 observations for each symbol"
   ]
  },
  {
   "cell_type": "markdown",
   "metadata": {},
   "source": [
    "## Descriptive plots\n",
    "In this section different descriptive plots are created to examine the data."
   ]
  },
  {
   "cell_type": "markdown",
   "metadata": {},
   "source": [
    "#### Number of tickers by sector"
   ]
  },
  {
   "cell_type": "code",
   "execution_count": 20,
   "metadata": {},
   "outputs": [
    {
     "name": "stdout",
     "output_type": "stream",
     "text": [
      "sector\n",
      "cryptocurrency              18\n",
      "Communication Services     100\n",
      "Utilities                  142\n",
      "Consumer Defensive         219\n",
      "Basic Materials            300\n",
      "Energy                     314\n",
      "Real Estate                459\n",
      "Consumer Cyclical          603\n",
      "Technology                 727\n",
      "Industrials                794\n",
      "Healthcare                 887\n",
      "Financial Services        1539\n",
      "Name: symbol, dtype: int64\n"
     ]
    },
    {
     "data": {
      "image/png": "[encoded data removed]",
      "text/plain": [
       "<Figure size 432x288 with 1 Axes>"
      ]
     },
     "metadata": {
      "needs_background": "light"
     },
     "output_type": "display_data"
    }
   ],
   "source": [
    "sector_freq = df_ticker.groupby('sector')['symbol'].count() # create a frequency table\n",
    "sector_freq = sector_freq.sort_values(ascending=True) #sort the series \n",
    "print(sector_freq)\n",
    "sector_freq.plot.barh(color = 'blue') # plotting the data\n",
    "plt.xlabel('# of tickers')\n",
    "plt.ylabel('Sector')\n",
    "plt.title('# of ticks by sector')\n",
    "plt.show()"
   ]
  },
  {
   "cell_type": "markdown",
   "metadata": {},
   "source": [
    "From the figure above we see that most stocks are within the sector Financial Services (1539). <br>\n",
    "Cryptocurrency is the sector with the lowest amount of stocks (18). This makes sense as cryptocurrency is a very specific area."
   ]
  },
  {
   "cell_type": "markdown",
   "metadata": {},
   "source": [
    "#### Average simple return by sector"
   ]
  },
  {
   "cell_type": "code",
   "execution_count": 21,
   "metadata": {},
   "outputs": [
    {
     "name": "stdout",
     "output_type": "stream",
     "text": [
      "sector\n",
      "Energy                   -0.000021\n",
      "Consumer Cyclical         0.000194\n",
      "Industrials               0.000220\n",
      "Communication Services    0.000232\n",
      "Real Estate               0.000239\n",
      "Financial Services        0.000289\n",
      "Utilities                 0.000324\n",
      "Healthcare                0.000346\n",
      "Consumer Defensive        0.000363\n",
      "Basic Materials           0.000371\n",
      "Technology                0.000504\n",
      "Name: return, dtype: float64\n"
     ]
    },
    {
     "data": {
      "image/png": "[encoded data removed]",
      "text/plain": [
       "<Figure size 432x288 with 1 Axes>"
      ]
     },
     "metadata": {
      "needs_background": "light"
     },
     "output_type": "display_data"
    }
   ],
   "source": [
    "simple_return_sector = df_simple_long.groupby(['sector'])['return'].mean().sort_values(ascending=True) # create a frequency table and sort the series\n",
    "print(simple_return_sector )\n",
    "simple_return_sector.plot.barh( color = 'blue') # plotting the data\n",
    "plt.xlabel('Avg return')\n",
    "plt.ylabel('Sector')\n",
    "plt.title('# Avg return by sector')\n",
    "plt.show()"
   ]
  },
  {
   "cell_type": "markdown",
   "metadata": {},
   "source": [
    "The highest mean return  throughout the period is within the sector: Technology <br>\n",
    "The lowest mean return is Energy. This is further the only sector having a negative mean return"
   ]
  },
  {
   "cell_type": "markdown",
   "metadata": {},
   "source": [
    "#### Average close by sector"
   ]
  },
  {
   "cell_type": "code",
   "execution_count": 22,
   "metadata": {},
   "outputs": [
    {
     "name": "stdout",
     "output_type": "stream",
     "text": [
      "sector\n",
      "Basic Materials              29.082978\n",
      "Real Estate                  31.894816\n",
      "Utilities                    34.811095\n",
      "Communication Services       35.211649\n",
      "Consumer Defensive           41.563237\n",
      "Consumer Cyclical            46.006789\n",
      "Healthcare                   46.933533\n",
      "Technology                   49.575081\n",
      "Financial Services          209.904498\n",
      "Energy                      361.083412\n",
      "Industrials               10077.268044\n",
      "Name: close, dtype: float64\n"
     ]
    },
    {
     "data": {
      "image/png": "[encoded data removed]",
      "text/plain": [
       "<Figure size 432x288 with 1 Axes>"
      ]
     },
     "metadata": {
      "needs_background": "light"
     },
     "output_type": "display_data"
    }
   ],
   "source": [
    "close_sector = df_close_long.groupby(['sector'])['close'].mean().sort_values(ascending=True) # create a frequency table and sort the series\n",
    "print(close_sector ) \n",
    "close_sector .plot.barh( color = 'blue') # plotting the data\n",
    "plt.xlabel('Avg close')\n",
    "plt.ylabel('Sector')\n",
    "plt.title('# Avg Close by Sector')\n",
    "plt.show()"
   ]
  },
  {
   "cell_type": "markdown",
   "metadata": {},
   "source": [
    "The highest mean close throughout the period is within the sector: Industrials. <br> \n",
    "This sector has a much higher mean close value than the other sectors. "
   ]
  },
  {
   "cell_type": "markdown",
   "metadata": {},
   "source": [
    "#### Close for a random ticker in a given period"
   ]
  },
  {
   "cell_type": "code",
   "execution_count": 23,
   "metadata": {},
   "outputs": [],
   "source": [
    "symbol = df_close_long['symbol'].sample(1, axis = 0).values[0]\n",
    "start_date = '2018-01-01'\n",
    "end_date = '2019-01-01'"
   ]
  },
  {
   "cell_type": "code",
   "execution_count": 25,
   "metadata": {},
   "outputs": [
    {
     "name": "stderr",
     "output_type": "stream",
     "text": [
      "C:\\Users\\WSCHUPPLI\\AppData\\Local\\Continuum\\anaconda3\\lib\\site-packages\\ipykernel_launcher.py:2: SettingWithCopyWarning: \n",
      "A value is trying to be set on a copy of a slice from a DataFrame.\n",
      "Try using .loc[row_indexer,col_indexer] = value instead\n",
      "\n",
      "See the caveats in the documentation: http://pandas.pydata.org/pandas-docs/stable/indexing.html#indexing-view-versus-copy\n",
      "  \n"
     ]
    },
    {
     "data": {
      "text/plain": [
       "Text(0.5, 1.0, 'Closing price for random Ticker: GDVD')"
      ]
     },
     "execution_count": 25,
     "metadata": {},
     "output_type": "execute_result"
    },
    {
     "data": {
      "image/png": "[encoded data removed]",
      "text/plain": [
       "<Figure size 432x288 with 1 Axes>"
      ]
     },
     "metadata": {
      "needs_background": "light"
     },
     "output_type": "display_data"
    }
   ],
   "source": [
    "close_plot = df_close_long.loc[df_close_long['symbol'] == symbol]\n",
    "close_plot['date'] = pd.to_datetime(close_plot['date'], format='%Y-%m-%d') # change variable to date\n",
    "close_plot = close_plot.loc[df_close_long['date'] >= start_date]\n",
    "close_plot = close_plot.loc[close_plot['date'] <= end_date]\n",
    "close_plot.plot('date', 'close', kind = 'line')\n",
    "plt.title('Closing price for random Ticker: '+symbol)"
   ]
  },
  {
   "cell_type": "markdown",
   "metadata": {},
   "source": [
    "When plotting the close value for a random ticker (GDVD) in the period 2018-01-01 to 2019-01-01.we see that this stock has had close values fluctuaring around 27 until the october 2018. <br> Since then the close vlaue has been decreasing"
   ]
  },
  {
   "cell_type": "markdown",
   "metadata": {},
   "source": [
    "## Interactive plot"
   ]
  },
  {
   "cell_type": "markdown",
   "metadata": {},
   "source": [
    "In this section interactive plots are created to identify the closing price or return by symbol or sector and period. <br> \n",
    "With interactive plot you can change the values of the chosen parameters to get the result you are most interested in. <br>\n",
    "This can be very helpful when doing an explorative analysis.\n"
   ]
  },
  {
   "cell_type": "markdown",
   "metadata": {},
   "source": [
    "To run interactive plots you need some installs: https://github.com/matplotlib/jupyter-matplotlib\n",
    "\n",
    "`pip install ipympl`\n",
    "\n",
    "`# If using JupyterLab`\n",
    "\n",
    "`# Install nodejs: https://nodejs.org/en/download/`\n",
    "\n",
    "`jupyter labextension install @jupyter-widgets/jupyterlab-manager`\n",
    "\n",
    "`jupyter labextension install jupyter-matplotlib`\n"
   ]
  },
  {
   "cell_type": "code",
   "execution_count": 15,
   "metadata": {},
   "outputs": [],
   "source": [
    "import matplotlib.pyplot as plt\n",
    "import myfunctions\n",
    "import ipywidgets as widgets\n",
    "%matplotlib widget"
   ]
  },
  {
   "cell_type": "markdown",
   "metadata": {},
   "source": [
    "#### Closing price by symbol and period"
   ]
  },
  {
   "cell_type": "code",
   "execution_count": 16,
   "metadata": {},
   "outputs": [],
   "source": [
    "symbol = 'AAPL' # define beginning value\n",
    "\n",
    "# Date slider \n",
    "dates = list(pd.date_range(df_close_long.date.min(), df_close_long.date.max(), freq='D'))\n",
    "options = [(date.strftime(' %d %b %Y '), date) for date in dates]\n",
    "index = (0, len(options)-1)\n",
    "df_close_long['date'] = pd.to_datetime(df_close_long['date'])"
   ]
  },
  {
   "cell_type": "code",
   "execution_count": null,
   "metadata": {},
   "outputs": [],
   "source": [
    "# Create the interactive plot\n",
    "widgets.interact(myfunctions.interactive_plot_symbol, \n",
    "                 dataframe = widgets.fixed(df_close_long),\n",
    "                 symbol = widgets.Dropdown(description='Symbol', options=df_ticker.symbol.unique(), value='AAPL'),\n",
    "                 date=widgets.SelectionRangeSlider(options=options, index=index, description='Dates', layout={'width': '700px'}),\n",
    "                 x = widgets.fixed('date'),\n",
    "                 y = widgets.fixed('close')\n",
    "); "
   ]
  },
  {
   "cell_type": "markdown",
   "metadata": {},
   "source": [
    "#### Return by symbol and period"
   ]
  },
  {
   "cell_type": "code",
   "execution_count": 29,
   "metadata": {},
   "outputs": [],
   "source": [
    "symbol = 'AAPL' # define beginning value\n",
    "\n",
    "# Date slider \n",
    "dates = list(pd.date_range(df_simple_long.date.min(), df_simple_long.date.max(), freq='D'))\n",
    "options = [(date.strftime(' %d %b %Y '), date) for date in dates]\n",
    "index = (0, len(options)-1)\n",
    "df_simple_long['date'] = pd.to_datetime(df_simple_long['date'])"
   ]
  },
  {
   "cell_type": "code",
   "execution_count": 30,
   "metadata": {},
   "outputs": [
    {
     "data": {
      "application/vnd.jupyter.widget-view+json": {
       "model_id": "3ae91f0e791e4dd0b928bec94af00294",
       "version_major": 2,
       "version_minor": 0
      },
      "text/plain": [
       "interactive(children=(Dropdown(description='Symbol', index=13, options=('A', 'AA', 'AAAU', 'AABA', 'AAC', 'AAD…"
      ]
     },
     "metadata": {},
     "output_type": "display_data"
    }
   ],
   "source": [
    "# Create the interactive plot\n",
    "widgets.interact(myfunctions.interactive_plot_symbol, \n",
    "                 dataframe = widgets.fixed(df_simple_long),\n",
    "                 symbol = widgets.Dropdown(description='Symbol', options=df_ticker.symbol.unique(), value='AAPL'),\n",
    "                 date=widgets.SelectionRangeSlider(options=options, index=index, description='Dates', layout={'width': '700px'}),\n",
    "                 x = widgets.fixed('date'),\n",
    "                 y = widgets.fixed('return')\n",
    "); "
   ]
  },
  {
   "cell_type": "markdown",
   "metadata": {},
   "source": [
    "#### Closing price by sector and period"
   ]
  },
  {
   "cell_type": "code",
   "execution_count": 31,
   "metadata": {},
   "outputs": [],
   "source": [
    " # use df_close_sector_long\n",
    "sector = 'Industrials' # define beginning value\n",
    "\n",
    "# Date slider \n",
    "dates = list(pd.date_range(df_close_sector_long.date.min(), df_close_sector_long.date.max(), freq='D'))\n",
    "options = [(date.strftime(' %d %b %Y '), date) for date in dates]\n",
    "index = (0, len(options)-1)\n",
    "df_close_sector_long['date'] = pd.to_datetime(df_close_sector_long['date'])"
   ]
  },
  {
   "cell_type": "code",
   "execution_count": 32,
   "metadata": {},
   "outputs": [
    {
     "data": {
      "application/vnd.jupyter.widget-view+json": {
       "model_id": "4da9ff8616b94d0aa7b74925614ccfd4",
       "version_major": 2,
       "version_minor": 0
      },
      "text/plain": [
       "interactive(children=(Dropdown(description='Sector', index=7, options=('Basic Materials', 'Communication Servi…"
      ]
     },
     "metadata": {},
     "output_type": "display_data"
    }
   ],
   "source": [
    "# Create the interactive plot\n",
    "widgets.interact(myfunctions.interactive_plot_sector, \n",
    "                 dataframe = widgets.fixed(df_close_sector_long),\n",
    "                 sector = widgets.Dropdown(description='Sector', options=df_close_sector_long.sector.unique(), value='Industrials'),\n",
    "                 date=widgets.SelectionRangeSlider(options=options, index=index, description='Dates', layout={'width': '700px'}),\n",
    "                 x = widgets.fixed('date'),\n",
    "                 y = widgets.fixed('close')\n",
    "); "
   ]
  },
  {
   "cell_type": "markdown",
   "metadata": {},
   "source": [
    "#### Return by sector and period"
   ]
  },
  {
   "cell_type": "code",
   "execution_count": 33,
   "metadata": {},
   "outputs": [],
   "source": [
    "sector = 'Industrials' # define beginning value\n",
    "\n",
    "# Date slider \n",
    "dates = list(pd.date_range(df_simple_sector_long.date.min(), df_simple_sector_long.date.max(), freq='D'))\n",
    "options = [(date.strftime(' %d %b %Y '), date) for date in dates]\n",
    "index = (0, len(options)-1)\n",
    "df_simple_sector_long['date'] = pd.to_datetime(df_simple_sector_long['date'])"
   ]
  },
  {
   "cell_type": "code",
   "execution_count": 34,
   "metadata": {},
   "outputs": [
    {
     "data": {
      "application/vnd.jupyter.widget-view+json": {
       "model_id": "d78d99386f684782a1f0752fc88ee723",
       "version_major": 2,
       "version_minor": 0
      },
      "text/plain": [
       "interactive(children=(Dropdown(description='Sector', index=7, options=('Basic Materials', 'Communication Servi…"
      ]
     },
     "metadata": {},
     "output_type": "display_data"
    }
   ],
   "source": [
    "# Create the interactive plot\n",
    "widgets.interact(myfunctions.interactive_plot_sector, \n",
    "                 dataframe = widgets.fixed(df_simple_sector_long),\n",
    "                 sector = widgets.Dropdown(description='Sector', options=df_simple_sector_long.sector.unique(), value='Industrials'),\n",
    "                 date=widgets.SelectionRangeSlider(options=options, index=index, description='Dates', layout={'width': '700px'}),\n",
    "                 x = widgets.fixed('date'),\n",
    "                 y = widgets.fixed('return')\n",
    "); "
   ]
  }
 ],
 "metadata": {
  "kernelspec": {
   "display_name": "Python 3",
   "language": "python",
   "name": "python3"
  },
  "language_info": {
   "codemirror_mode": {
    "name": "ipython",
    "version": 3
   },
   "file_extension": ".py",
   "mimetype": "text/x-python",
   "name": "python",
   "nbconvert_exporter": "python",
   "pygments_lexer": "ipython3",
   "version": "3.7.1"
  }
 },
 "nbformat": 4,
 "nbformat_minor": 2
}
